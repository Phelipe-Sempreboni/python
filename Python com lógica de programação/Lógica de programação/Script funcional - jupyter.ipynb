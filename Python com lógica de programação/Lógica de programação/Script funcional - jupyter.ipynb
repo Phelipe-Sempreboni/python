{
 "cells": [
  {
   "cell_type": "code",
   "execution_count": 30,
   "metadata": {},
   "outputs": [
    {
     "name": "stdout",
     "output_type": "stream",
     "text": [
      "Meu nome é Sempreboni e minha idade é 26 anos\n"
     ]
    }
   ],
   "source": [
    "nome = 'Sempreboni'\n",
    "idade = '26'\n",
    "print(f'Meu nome é {nome} e minha idade é {idade} anos')"
   ]
  },
  {
   "cell_type": "code",
   "execution_count": 34,
   "metadata": {},
   "outputs": [
    {
     "name": "stdout",
     "output_type": "stream",
     "text": [
      "Qual seu nome? Phelipe\n",
      "Olá Phelipe\n"
     ]
    }
   ],
   "source": [
    "def saudacao():\n",
    "    nome = input('Qual seu nome? ')\n",
    "    print(f'Olá {nome}')\n",
    "    \n",
    "saudacao()"
   ]
  },
  {
   "cell_type": "code",
   "execution_count": 37,
   "metadata": {},
   "outputs": [
    {
     "name": "stdout",
     "output_type": "stream",
     "text": [
      "Qual seu primeiro nome? Luiz\n",
      "Qual seu sobrenome? Sempreboni\n",
      "Olá Luiz Sempreboni\n"
     ]
    }
   ],
   "source": [
    "def nome_completo():\n",
    " primeiro_nome = input('Qual seu primeiro nome? ')\n",
    " sobrenome = input('Qual seu sobrenome? ')\n",
    " nome_inteiro = primeiro_nome + ' ' + sobrenome\n",
    " print(f'Olá {nome_inteiro}')\n",
    "\n",
    "nome_completo()"
   ]
  },
  {
   "cell_type": "code",
   "execution_count": 5,
   "metadata": {},
   "outputs": [],
   "source": [
    "nome = 'João'"
   ]
  },
  {
   "cell_type": "code",
   "execution_count": 6,
   "metadata": {},
   "outputs": [],
   "source": [
    "def saudacao_com_parametros(nome_da_pessoa):\n",
    "    print(f'Olá {nome_da_pessoa}')"
   ]
  },
  {
   "cell_type": "code",
   "execution_count": 7,
   "metadata": {},
   "outputs": [
    {
     "name": "stdout",
     "output_type": "stream",
     "text": [
      "Olá João\n"
     ]
    }
   ],
   "source": [
    "saudacao_com_parametros(nome)"
   ]
  },
  {
   "cell_type": "code",
   "execution_count": 31,
   "metadata": {},
   "outputs": [
    {
     "name": "stdout",
     "output_type": "stream",
     "text": [
      "Tem permissão para dirigir\n"
     ]
    }
   ],
   "source": [
    "idade = 19\n",
    "\n",
    "def verifica_se_pode_dirigir_com_parametros(idade):\n",
    "    if idade >= 18:\n",
    "        print('Tem permissão para dirigir')\n",
    "    else:\n",
    "        print('Não tem permissão para dirigir')\n",
    "\n",
    "verifica_se_pode_dirigir_com_parametros(idade)"
   ]
  },
  {
   "cell_type": "code",
   "execution_count": 33,
   "metadata": {},
   "outputs": [
    {
     "name": "stdout",
     "output_type": "stream",
     "text": [
      "Qual sua idade ? 20\n",
      "Tem permissão para dirigir\n"
     ]
    }
   ],
   "source": [
    "def verifica_se_pode_dirigir_sem_parametros():\n",
    "    idade = input ('Qual sua idade ? ')\n",
    "    idade = int(idade)\n",
    "    if idade >= 18:\n",
    "        print('Tem permissão para dirigir')\n",
    "    else:\n",
    "        print('Não tem permissão para dirigir')\n",
    "        \n",
    "verifica_se_pode_dirigir_sem_parametros()"
   ]
  },
  {
   "cell_type": "code",
   "execution_count": 49,
   "metadata": {},
   "outputs": [
    {
     "name": "stdout",
     "output_type": "stream",
     "text": [
      "Insira a distancia percorrida: 100\n",
      "insira o tempo de percurso: 20\n",
      "A velocidade média é 5.0 m/s\n"
     ]
    }
   ],
   "source": [
    "def velocidade_media():\n",
    "    distancia = input ('Insira a distancia percorrida: ')\n",
    "    distancia = float(distancia)\n",
    "    tempo = input ('insira o tempo de percurso: ')\n",
    "    tempo = float(tempo)\n",
    "    calculo = distancia / tempo\n",
    "    print(f'A velocidade média é {calculo} m/s')\n",
    "        \n",
    "velocidade_media()"
   ]
  },
  {
   "cell_type": "code",
   "execution_count": 50,
   "metadata": {},
   "outputs": [
    {
     "name": "stdout",
     "output_type": "stream",
     "text": [
      "Velocidade: 5.0 m/s\n"
     ]
    }
   ],
   "source": [
    "def velocidade(espaco, tempo):\n",
    "    v = espaco / tempo\n",
    "    print(f'Velocidade: {v} m/s')\n",
    "velocidade(100, 20)"
   ]
  },
  {
   "cell_type": "code",
   "execution_count": 52,
   "metadata": {},
   "outputs": [
    {
     "name": "stdout",
     "output_type": "stream",
     "text": [
      "Qual sua idade? 17\n",
      "Calma... espere 1 ano(s) para tirar habilitação\n"
     ]
    }
   ],
   "source": [
    "def habilitacao():\n",
    " idade = input('Qual sua idade? ')\n",
    " idade = int(idade)\n",
    " if idade >= 18:\n",
    "   print('Pode tirar habilitação')\n",
    " else:\n",
    "   tempo = 18 - idade\n",
    "   print(f'Calma... espere {tempo} ano(s) para tirar habilitação')\n",
    "\n",
    "habilitacao()"
   ]
  },
  {
   "cell_type": "code",
   "execution_count": 53,
   "metadata": {},
   "outputs": [
    {
     "data": {
      "text/plain": [
       "22"
      ]
     },
     "execution_count": 53,
     "metadata": {},
     "output_type": "execute_result"
    }
   ],
   "source": [
    "idade = 22\n",
    "idade"
   ]
  },
  {
   "cell_type": "code",
   "execution_count": 54,
   "metadata": {},
   "outputs": [
    {
     "data": {
      "text/plain": [
       "int"
      ]
     },
     "execution_count": 54,
     "metadata": {},
     "output_type": "execute_result"
    }
   ],
   "source": [
    "type(idade)"
   ]
  },
  {
   "cell_type": "code",
   "execution_count": 56,
   "metadata": {},
   "outputs": [
    {
     "data": {
      "text/plain": [
       "str"
      ]
     },
     "execution_count": 56,
     "metadata": {},
     "output_type": "execute_result"
    }
   ],
   "source": [
    "nome = 'Guilherme'\n",
    "type(nome)"
   ]
  },
  {
   "cell_type": "code",
   "execution_count": 58,
   "metadata": {},
   "outputs": [
    {
     "data": {
      "text/plain": [
       "list"
      ]
     },
     "execution_count": 58,
     "metadata": {},
     "output_type": "execute_result"
    }
   ],
   "source": [
    "idades = [18, 22, 15, 50]\n",
    "type(idades)"
   ]
  },
  {
   "cell_type": "code",
   "execution_count": 60,
   "metadata": {},
   "outputs": [
    {
     "data": {
      "text/plain": [
       "15"
      ]
     },
     "execution_count": 60,
     "metadata": {},
     "output_type": "execute_result"
    }
   ],
   "source": [
    "idades[2]"
   ]
  },
  {
   "cell_type": "code",
   "execution_count": 61,
   "metadata": {},
   "outputs": [
    {
     "data": {
      "text/plain": [
       "22"
      ]
     },
     "execution_count": 61,
     "metadata": {},
     "output_type": "execute_result"
    }
   ],
   "source": [
    "idades[1]"
   ]
  },
  {
   "cell_type": "code",
   "execution_count": 64,
   "metadata": {},
   "outputs": [
    {
     "data": {
      "text/plain": [
       "[18, 22, 15]"
      ]
     },
     "execution_count": 64,
     "metadata": {},
     "output_type": "execute_result"
    }
   ],
   "source": [
    "idades[0:3]"
   ]
  },
  {
   "cell_type": "code",
   "execution_count": 66,
   "metadata": {},
   "outputs": [
    {
     "data": {
      "text/plain": [
       "[22, 15, 50]"
      ]
     },
     "execution_count": 66,
     "metadata": {},
     "output_type": "execute_result"
    }
   ],
   "source": [
    "idades[1:]"
   ]
  },
  {
   "cell_type": "code",
   "execution_count": 68,
   "metadata": {},
   "outputs": [
    {
     "data": {
      "text/plain": [
       "50"
      ]
     },
     "execution_count": 68,
     "metadata": {},
     "output_type": "execute_result"
    }
   ],
   "source": [
    "idades[3]"
   ]
  },
  {
   "cell_type": "code",
   "execution_count": 69,
   "metadata": {},
   "outputs": [
    {
     "data": {
      "text/plain": [
       "50"
      ]
     },
     "execution_count": 69,
     "metadata": {},
     "output_type": "execute_result"
    }
   ],
   "source": [
    "idades[-1]"
   ]
  },
  {
   "cell_type": "code",
   "execution_count": 70,
   "metadata": {},
   "outputs": [
    {
     "data": {
      "text/plain": [
       "15"
      ]
     },
     "execution_count": 70,
     "metadata": {},
     "output_type": "execute_result"
    }
   ],
   "source": [
    "idades[-2]"
   ]
  },
  {
   "cell_type": "code",
   "execution_count": 71,
   "metadata": {},
   "outputs": [
    {
     "data": {
      "text/plain": [
       "[18, 22, 15, 50]"
      ]
     },
     "execution_count": 71,
     "metadata": {},
     "output_type": "execute_result"
    }
   ],
   "source": [
    "idades"
   ]
  },
  {
   "cell_type": "code",
   "execution_count": 74,
   "metadata": {},
   "outputs": [
    {
     "name": "stdout",
     "output_type": "stream",
     "text": [
      "18 anos de idade, TEM permissão para dirigir\n",
      "22 anos de idade, TEM permissão para dirigir\n",
      "15 anos NÃO TEM permissão para dirigir\n",
      "50 anos de idade, TEM permissão para dirigir\n"
     ]
    }
   ],
   "source": [
    "#for fora da função\n",
    "\n",
    "def verifica_se_pode_dirigir_com_parametros(idade):\n",
    "    if idade >= 18:\n",
    "        print(f'{idade} anos de idade, TEM permissão para dirigir')\n",
    "    else:\n",
    "        print(f'{idade} anos NÃO TEM permissão para dirigir')\n",
    "for idade in idades:\n",
    "    verifica_se_pode_dirigir_com_parametros(idade)"
   ]
  },
  {
   "cell_type": "code",
   "execution_count": 75,
   "metadata": {},
   "outputs": [
    {
     "name": "stdout",
     "output_type": "stream",
     "text": [
      "18 anos de idade, TEM permissão para dirigir\n",
      "22 anos de idade, TEM permissão para dirigir\n",
      "15 anos NÃO TEM permissão para dirigir\n",
      "50 anos de idade, TEM permissão para dirigir\n"
     ]
    }
   ],
   "source": [
    "def verificar_se_pode_dirigir_dentro_funcao(idades):\n",
    "    for idade in idades:\n",
    "        if idade >= 18:\n",
    "            print(f'{idade} anos de idade, TEM permissão para dirigir')\n",
    "        else:\n",
    "            print(f'{idade} anos NÃO TEM permissão para dirigir')\n",
    "verificar_se_pode_dirigir_dentro_funcao(idades)"
   ]
  },
  {
   "cell_type": "code",
   "execution_count": 78,
   "metadata": {
    "scrolled": true
   },
   "outputs": [
    {
     "data": {
      "text/plain": [
       "False"
      ]
     },
     "execution_count": 78,
     "metadata": {},
     "output_type": "execute_result"
    }
   ],
   "source": [
    "idade = 15\n",
    "idade >=18"
   ]
  },
  {
   "cell_type": "code",
   "execution_count": 80,
   "metadata": {},
   "outputs": [],
   "source": [
    "permissoes = []\n",
    "idades = [20, 14, 40]\n",
    "\n",
    "def verifica_se_pode_dirigir_boleanos(idades, permissoes):\n",
    "    for idade in idades:\n",
    "        if idade >= 18:\n",
    "            permissoes.append(True)\n",
    "        else:\n",
    "            permissoes.append(False)\n",
    "    \n",
    "verifica_se_pode_dirigir_boleanos(idades, permissoes)"
   ]
  },
  {
   "cell_type": "code",
   "execution_count": 81,
   "metadata": {},
   "outputs": [
    {
     "data": {
      "text/plain": [
       "[True, False, True]"
      ]
     },
     "execution_count": 81,
     "metadata": {},
     "output_type": "execute_result"
    }
   ],
   "source": [
    "permissoes"
   ]
  },
  {
   "cell_type": "code",
   "execution_count": 82,
   "metadata": {},
   "outputs": [
    {
     "name": "stdout",
     "output_type": "stream",
     "text": [
      "Tem permissao para dirigir\n",
      "Não tem permissao para dirigir\n",
      "Tem permissao para dirigir\n"
     ]
    }
   ],
   "source": [
    "for permissao in permissoes:\n",
    "    if permissao == True:\n",
    "        print('Tem permissao para dirigir')\n",
    "    else:\n",
    "        print('Não tem permissao para dirigir')"
   ]
  },
  {
   "cell_type": "code",
   "execution_count": 83,
   "metadata": {},
   "outputs": [],
   "source": [
    "frase_alura = [' Digitais', 'e ', 'Negócios ', 'de ', 'Tecnologia ', 'Cursos ']\n",
    "                   [0]      [1]      [2]        [3]       [4]           [5]\n",
    "                   [-6]     [-5]    [-4]       [-3]      [-2]          [-1]\n"
   ]
  },
  {
   "cell_type": "code",
   "execution_count": 86,
   "metadata": {},
   "outputs": [
    {
     "data": {
      "text/plain": [
       "'Cursos de Tecnologia e Negócios  Digitais'"
      ]
     },
     "execution_count": 86,
     "metadata": {},
     "output_type": "execute_result"
    }
   ],
   "source": [
    "frase_alura [5] + frase_alura [3] + frase_alura [4] + frase_alura [1] + frase_alura [2] + frase_alura [0]"
   ]
  },
  {
   "cell_type": "code",
   "execution_count": 89,
   "metadata": {},
   "outputs": [
    {
     "data": {
      "text/plain": [
       "'Cursos de Tecnologia e Negócios  Digitais'"
      ]
     },
     "execution_count": 89,
     "metadata": {},
     "output_type": "execute_result"
    }
   ],
   "source": [
    "frase_alura [-1] + frase_alura [-3] + frase_alura [-2] + frase_alura [-5] + frase_alura [-4] + frase_alura [-6]"
   ]
  },
  {
   "cell_type": "code",
   "execution_count": 92,
   "metadata": {},
   "outputs": [
    {
     "data": {
      "text/plain": [
       "'Cursos de Tecnologia e Negócios  Digitais'"
      ]
     },
     "execution_count": 92,
     "metadata": {},
     "output_type": "execute_result"
    }
   ],
   "source": [
    "frase_alura[-1] + frase_alura[3] + frase_alura[-2] + frase_alura[1] + frase_alura[2] + frase_alura[0]"
   ]
  },
  {
   "cell_type": "code",
   "execution_count": 94,
   "metadata": {},
   "outputs": [
    {
     "data": {
      "text/plain": [
       "float"
      ]
     },
     "execution_count": 94,
     "metadata": {},
     "output_type": "execute_result"
    }
   ],
   "source": [
    "pi = 3.14\n",
    "type(pi)"
   ]
  },
  {
   "cell_type": "code",
   "execution_count": 97,
   "metadata": {},
   "outputs": [
    {
     "name": "stdout",
     "output_type": "stream",
     "text": [
      "O elemento Phelipe é do tipo:  <class 'str'>\n",
      "O elemento 26 é do tipo:  <class 'int'>\n",
      "O elemento True é do tipo:  <class 'bool'>\n",
      "O elemento 18 é do tipo:  <class 'str'>\n"
     ]
    }
   ],
   "source": [
    "lista = ['Phelipe', 26, True, '18']\n",
    "\n",
    "for elemento in lista:\n",
    "    print(f'O elemento {elemento} é do tipo: ', type(elemento))"
   ]
  },
  {
   "cell_type": "code",
   "execution_count": 118,
   "metadata": {},
   "outputs": [
    {
     "data": {
      "text/plain": [
       "1"
      ]
     },
     "execution_count": 118,
     "metadata": {},
     "output_type": "execute_result"
    }
   ],
   "source": [
    "from random import randrange, seed\n",
    "randrange(0, 11)"
   ]
  },
  {
   "cell_type": "code",
   "execution_count": 129,
   "metadata": {},
   "outputs": [],
   "source": [
    "seed(11)"
   ]
  },
  {
   "cell_type": "code",
   "execution_count": 130,
   "metadata": {},
   "outputs": [
    {
     "data": {
      "text/plain": [
       "8"
      ]
     },
     "execution_count": 130,
     "metadata": {},
     "output_type": "execute_result"
    }
   ],
   "source": [
    "notas_matematica = []\n",
    "for notas in range(8):\n",
    "    notas_matematica.append(randrange(0, 11))\n",
    "    \n",
    "notas_matematica\n",
    "len(notas_matematica)"
   ]
  },
  {
   "cell_type": "code",
   "execution_count": 131,
   "metadata": {},
   "outputs": [
    {
     "data": {
      "text/plain": [
       "[7, 8, 7, 7, 8, 9, 3, 2]"
      ]
     },
     "execution_count": 131,
     "metadata": {},
     "output_type": "execute_result"
    }
   ],
   "source": [
    "notas_matematica"
   ]
  },
  {
   "cell_type": "code",
   "execution_count": 132,
   "metadata": {},
   "outputs": [
    {
     "name": "stdout",
     "output_type": "stream",
     "text": [
      "<class 'str'>\n",
      "<class 'bool'>\n",
      "<class 'bool'>\n",
      "<class 'str'>\n",
      "<class 'int'>\n"
     ]
    }
   ],
   "source": [
    "lista = ['int', False, True, '18', 2020]\n",
    "for elemento in lista:\n",
    " print(type(elemento))\n"
   ]
  },
  {
   "cell_type": "code",
   "execution_count": 160,
   "metadata": {},
   "outputs": [
    {
     "data": {
      "text/plain": [
       "[2, 1, 8, 10, 0, 9, 6, 7]"
      ]
     },
     "execution_count": 160,
     "metadata": {},
     "output_type": "execute_result"
    }
   ],
   "source": [
    "#constante = seed(11)\n",
    "notas_portugues = []\n",
    "for notas in range(8):\n",
    "    notas_portugues.append(randrange(0,11))\n",
    "notas_portugues\n",
    "\n",
    "notas_portugues"
   ]
  },
  {
   "cell_type": "code",
   "execution_count": 165,
   "metadata": {},
   "outputs": [],
   "source": [
    "import matplotlib.pyplot as plt"
   ]
  },
  {
   "cell_type": "code",
   "execution_count": 177,
   "metadata": {},
   "outputs": [
    {
     "data": {
      "image/png": "[encoded data removed]",
      "text/plain": [
       "<Figure size 432x288 with 1 Axes>"
      ]
     },
     "metadata": {
      "needs_background": "light"
     },
     "output_type": "display_data"
    }
   ],
   "source": [
    "x = list(range(1,9))\n",
    "y = notas_matematica\n",
    "plt.plot(x, y, marker = 'o')\n",
    "plt.title('Notas de matematica')\n",
    "plt.xlabel('Provas')\n",
    "plt.ylabel('Notas')\n",
    "plt.show()"
   ]
  },
  {
   "cell_type": "code",
   "execution_count": 178,
   "metadata": {},
   "outputs": [],
   "source": [
    "import matplotlib.pyplot as plt\n",
    "\n",
    "notas_matematica = ['Matemática',8,7,6,6,7,7,8,10]\n",
    "notas_portugues = ['Português',9,9,9,8,5,6,8,5]\n",
    "notas_geografia = ['Geografia',10,10,6,7,7,7,8,7]\n",
    "\n",
    "notas = [notas_matematica, notas_portugues, notas_geografia]"
   ]
  },
  {
   "cell_type": "code",
   "execution_count": 179,
   "metadata": {},
   "outputs": [
    {
     "data": {
      "image/png": "[encoded data removed]",
      "text/plain": [
       "<Figure size 432x288 with 1 Axes>"
      ]
     },
     "metadata": {
      "needs_background": "light"
     },
     "output_type": "display_data"
    },
    {
     "data": {
      "image/png": "[encoded data removed]",
      "text/plain": [
       "<Figure size 432x288 with 1 Axes>"
      ]
     },
     "metadata": {
      "needs_background": "light"
     },
     "output_type": "display_data"
    },
    {
     "data": {
      "image/png": "[encoded data removed]",
      "text/plain": [
       "<Figure size 432x288 with 1 Axes>"
      ]
     },
     "metadata": {
      "needs_background": "light"
     },
     "output_type": "display_data"
    }
   ],
   "source": [
    "for nota in notas:\n",
    " x = list(range(1, 9))\n",
    " y = nota[1:]\n",
    " plt.plot(x, y, marker='o')\n",
    " plt.xlabel('Provas')\n",
    " plt.ylabel('Notas')\n",
    " plt.title(nota[0])\n",
    " plt.show()"
   ]
  },
  {
   "cell_type": "code",
   "execution_count": 1,
   "metadata": {},
   "outputs": [
    {
     "name": "stdout",
     "output_type": "stream",
     "text": [
      "Mais um finalizado :)\n"
     ]
    }
   ],
   "source": [
    "print('Mais um finalizado :)')"
   ]
  }
 ],
 "metadata": {
  "kernelspec": {
   "display_name": "Python 3",
   "language": "python",
   "name": "python3"
  },
  "language_info": {
   "codemirror_mode": {
    "name": "ipython",
    "version": 3
   },
   "file_extension": ".py",
   "mimetype": "text/x-python",
   "name": "python",
   "nbconvert_exporter": "python",
   "pygments_lexer": "ipython3",
   "version": "3.8.3"
  }
 },
 "nbformat": 4,
 "nbformat_minor": 4
}
