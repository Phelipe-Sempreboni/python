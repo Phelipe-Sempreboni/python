{
 "cells": [
  {
   "cell_type": "markdown",
   "id": "0817a327",
   "metadata": {},
   "source": [
    "---\n",
    "\n",
    "### Comandos para utilizar o Prompt de Comando (CMD) com o Python.\n",
    "\n",
    "---\n",
    "\n",
    "### Notar que estamos considerando que esteja utilizando o Windows.\n",
    "\n",
    "---\n",
    "\n",
    "### Este tipo de comando pode ser útil para automatização de tarefas que dependem do terminal.\n",
    "\n",
    "---\n",
    "\n",
    "### Última atualização em: `29/08/2022`"
   ]
  },
  {
   "cell_type": "markdown",
   "id": "9b121d58",
   "metadata": {},
   "source": [
    "---\n",
    "\n",
    "### Método 1: Abrir o Prompt de Comando (CMD) na tela do computador do Windows.\n",
    "\n",
    "### Notar que o Prompt de Comando (CMD) será aberto no caminho do repositório que está sendo executado esse Jupyter Notebook.\n",
    "\n",
    "### Neste caso o Jupyter Notebook só irá parar de executar o Prompt de Comando (CMD) caso ele seja fechado pelo usuário."
   ]
  },
  {
   "cell_type": "code",
   "execution_count": null,
   "id": "426cb602",
   "metadata": {},
   "outputs": [],
   "source": [
    "# Método 1 - Abrir o prompt de comando (CMD).\n",
    "import os\n",
    "os.system('start /wait cmd')"
   ]
  },
  {
   "cell_type": "markdown",
   "id": "ae6f2f4e",
   "metadata": {},
   "source": [
    "---\n",
    "\n",
    "### Método 2: Abrir o Prompt de Comando (CMD) na tela do computador do Windows.\n",
    "\n",
    "### Notar que o Prompt de Comando (CMD) será aberto no caminho do repositório que está sendo executado esse Jupyter Notebook."
   ]
  },
  {
   "cell_type": "code",
   "execution_count": null,
   "id": "06bdbe44",
   "metadata": {},
   "outputs": [],
   "source": [
    "# Método 2 - Abrir o prompt de comando (CMD).\n",
    "import os\n",
    "os.system('start cmd')"
   ]
  },
  {
   "cell_type": "markdown",
   "id": "29213671",
   "metadata": {},
   "source": [
    "---\n",
    "\n",
    "### Método 3: Abrir o Prompt de Comando (CMD) na tela do computador do Windows.\n",
    "\n",
    "### Notar que o Prompt de Comando (CMD) será aberto no caminho do repositório que está sendo executado esse Jupyter Notebook."
   ]
  },
  {
   "cell_type": "code",
   "execution_count": null,
   "id": "a31dbb56",
   "metadata": {},
   "outputs": [],
   "source": [
    "# Método 3 - Abrir o prompt de comando (CMD).\n",
    "import subprocess\n",
    "subprocess.run('start', shell = True)"
   ]
  },
  {
   "cell_type": "markdown",
   "id": "01ae421c",
   "metadata": {},
   "source": [
    "---\n",
    "\n",
    "### Método 4: Abrir o Prompt de Comando (CMD) na tela do computador do Windows.\n",
    "\n",
    "### Notar que o Prompt de Comando (CMD) será aberto no caminho do repositório que está sendo executado esse Jupyter Notebook.\n",
    "\n",
    "### Neste caso o Python irá tentar executar um Prompt de Comando (CMD) já aberto manualmente pelo usuário, logo se estiver fechado, temos a possibilidade de não funcionar o comando."
   ]
  },
  {
   "cell_type": "code",
   "execution_count": null,
   "id": "73ceef91",
   "metadata": {},
   "outputs": [],
   "source": [
    "# Método 4 - Abrir o prompt de comando (CMD).\n",
    "import os\n",
    "os.system('cmd')"
   ]
  },
  {
   "cell_type": "markdown",
   "id": "15362096",
   "metadata": {},
   "source": [
    "---\n",
    "\n",
    "### Verificar os repositórios existentes no Prompt de Comando (CMD).\n",
    "\n",
    "### Notar que o Prompt de Comando (CMD) será aberto no caminho do repositório que está sendo executado esse Jupyter Notebook.\n",
    "\n",
    "### Neste caso o Python irá tentar executar um Prompt de Comando (CMD) já aberto manualmente pelo usuário, logo se estiver fechado, temos a possibilidade de não funcionar o comando.\n",
    "\n",
    "### Neste caso o comando ('dir') lista os arquivos e repositórios existentes na raíz de onde este Jupyter Notebook está sendo executado."
   ]
  },
  {
   "cell_type": "code",
   "execution_count": null,
   "id": "658eff72",
   "metadata": {},
   "outputs": [],
   "source": [
    "# Executar comandos para verificação de arquivos e repositórios existens na raíz.\n",
    "import os\n",
    "os.system('dir')"
   ]
  },
  {
   "cell_type": "markdown",
   "id": "8b9dc6fa",
   "metadata": {},
   "source": [
    "---\n",
    "\n",
    "### Verificar os repositórios existentes no Prompt de Comando (CMD).\n",
    "\n",
    "### Notar que o Prompt de Comando (CMD) será aberto no caminho do repositório que está sendo executado esse Jupyter Notebook.\n",
    "\n",
    "### Neste caso o Python irá tentar executar um Prompt de Comando (CMD) já aberto manualmente pelo usuário, logo se estiver fechado, temos a possibilidade de não funcionar o comando.\n",
    "\n",
    "### Neste caso o comando ('dir Desktop') lista os arquivos e repositórios existentes na raíz da área de trabalho."
   ]
  },
  {
   "cell_type": "code",
   "execution_count": null,
   "id": "631bb85c",
   "metadata": {},
   "outputs": [],
   "source": [
    "# Executar comandos para verificação de arquivos e repositórios na raíz da área de trabalho.\n",
    "# Nota: Teremos o script inicial e um exemplo para verificar repositórios.\n",
    "# Observação: para todos os cripts abaixo é possível utilizar no lugar do (dir) o (cd) para acessar os diretórios.\n",
    "import os\n",
    "os.system('dir Desktop.')"
   ]
  },
  {
   "cell_type": "markdown",
   "id": "ff608f54",
   "metadata": {},
   "source": [
    "---\n",
    "\n",
    "### Verificar os repositórios existentes no Prompt de Comando (CMD).\n",
    "\n",
    "### Notar que o Prompt de Comando (CMD) será aberto no caminho do repositório que está sendo executado esse Jupyter Notebook.\n",
    "\n",
    "### Neste caso o Python irá tentar executar um Prompt de Comando (CMD) já aberto manualmente pelo usuário, logo se estiver fechado, temos a possibilidade de não funcionar o comando.\n",
    "\n",
    "### Neste caso o comando ('dir Desktop\\Temp') lista os arquivos e repositórios existentes na raíz do repositório \"Temp\", ou seja, da pasta \"Temp\", isso se essa pasta existir no repositório, onde você pode substituir por outra pasta que queira utilizar no comando."
   ]
  },
  {
   "cell_type": "code",
   "execution_count": null,
   "id": "490ca0ec",
   "metadata": {},
   "outputs": [],
   "source": [
    "# Executar comandos para verificação de diretórios.\n",
    "# Nota: Teremos o script inicial e um exemplo para verificar repositórios.\n",
    "# Observação: para todos os cripts abaixo é possível utilizar no lugar do (dir) o (cd) para acessar os diretórios.\n",
    "\n",
    "#Script de exemplo 2. Se for por exemplo, for inserido o nome de um repositório e aopós (\\nome_repositório), ele entrará neste repositório e mostrará todas as pastas ou arquivos dentro daquele repositório.\n",
    "import os\n",
    "os.system('dir Desktop\\Temp')"
   ]
  },
  {
   "cell_type": "markdown",
   "id": "a30a18c9",
   "metadata": {},
   "source": [
    "### Fim."
   ]
  }
 ],
 "metadata": {
  "kernelspec": {
   "display_name": "Python 3 (ipykernel)",
   "language": "python",
   "name": "python3"
  },
  "language_info": {
   "codemirror_mode": {
    "name": "ipython",
    "version": 3
   },
   "file_extension": ".py",
   "mimetype": "text/x-python",
   "name": "python",
   "nbconvert_exporter": "python",
   "pygments_lexer": "ipython3",
   "version": "3.9.12"
  }
 },
 "nbformat": 4,
 "nbformat_minor": 5
}
