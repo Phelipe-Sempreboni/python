{
 "cells": [
  {
   "cell_type": "markdown",
   "id": "0817a327",
   "metadata": {},
   "source": [
    "---\n",
    "\n",
    "### Comandos para utilizar o Prompt de Comando (CMD) com o Python.\n",
    "\n",
    "---\n",
    "\n",
    "### Notar que estamos considerando que esteja utilizando o Windows.\n",
    "\n",
    "---\n",
    "\n",
    "### Este tipo de comando pode ser útil para automatização de tarefas que dependem do terminal.\n",
    "\n",
    "---\n",
    "\n",
    "### Última atualização em: `29/08/2022`"
   ]
  },
  {
   "cell_type": "markdown",
   "id": "9b121d58",
   "metadata": {},
   "source": [
    "---\n",
    "\n",
    "### Método 1: Abrir o Prompt de Comando (CMD) na tela do computador do Windows.\n",
    "\n",
    "### Notar que o Prompt de Comando (CMD) será aberto no caminho do repositório que está sendo executado esse Jupyter Notebook.\n",
    "\n",
    "### Neste caso o Jupyter Notebook só irá parar de executar o Prompt de Comando (CMD) caso ele seja fechado pelo usuário."
   ]
  },
  {
   "cell_type": "code",
   "execution_count": 22,
   "id": "426cb602",
   "metadata": {},
   "outputs": [
    {
     "data": {
      "text/plain": [
       "0"
      ]
     },
     "execution_count": 22,
     "metadata": {},
     "output_type": "execute_result"
    }
   ],
   "source": [
    "# Método 1 - Abrir o prompt de comando (CMD).\n",
    "import os\n",
    "os.system('start /wait cmd')"
   ]
  },
  {
   "cell_type": "markdown",
   "id": "ae6f2f4e",
   "metadata": {},
   "source": [
    "---\n",
    "\n",
    "### Método 2: Abrir o Prompt de Comando (CMD) na tela do computador do Windows.\n",
    "\n",
    "### Notar que o Prompt de Comando (CMD) será aberto no caminho do repositório que está sendo executado esse Jupyter Notebook."
   ]
  },
  {
   "cell_type": "code",
   "execution_count": 23,
   "id": "06bdbe44",
   "metadata": {},
   "outputs": [
    {
     "data": {
      "text/plain": [
       "0"
      ]
     },
     "execution_count": 23,
     "metadata": {},
     "output_type": "execute_result"
    }
   ],
   "source": [
    "# Método 2 - Abrir o prompt de comando (CMD).\n",
    "import os\n",
    "os.system('start cmd')"
   ]
  },
  {
   "cell_type": "markdown",
   "id": "29213671",
   "metadata": {},
   "source": [
    "---\n",
    "\n",
    "### Método 3: Abrir o Prompt de Comando (CMD) na tela do computador do Windows.\n",
    "\n",
    "### Notar que o Prompt de Comando (CMD) será aberto no caminho do repositório que está sendo executado esse Jupyter Notebook."
   ]
  },
  {
   "cell_type": "code",
   "execution_count": 24,
   "id": "a31dbb56",
   "metadata": {},
   "outputs": [
    {
     "data": {
      "text/plain": [
       "CompletedProcess(args='start', returncode=0)"
      ]
     },
     "execution_count": 24,
     "metadata": {},
     "output_type": "execute_result"
    }
   ],
   "source": [
    "# Método 3 - Abrir o prompt de comando (CMD).\n",
    "import subprocess\n",
    "subprocess.run('start', shell = True)"
   ]
  },
  {
   "cell_type": "markdown",
   "id": "01ae421c",
   "metadata": {},
   "source": [
    "---\n",
    "\n",
    "### Método 4: Abrir o Prompt de Comando (CMD) na tela do computador do Windows.\n",
    "\n",
    "### Notar que o Prompt de Comando (CMD) será aberto no caminho do repositório que está sendo executado esse Jupyter Notebook."
   ]
  },
  {
   "cell_type": "code",
   "execution_count": 1,
   "id": "73ceef91",
   "metadata": {},
   "outputs": [
    {
     "data": {
      "text/plain": [
       "0"
      ]
     },
     "execution_count": 1,
     "metadata": {},
     "output_type": "execute_result"
    }
   ],
   "source": [
    "# Método 4 - Abrir o prompt de comando (CMD).\n",
    "# Nota: Abrir o cmd diretamente no terminal do Python.\n",
    "import os\n",
    "os.system('cmd')"
   ]
  },
  {
   "cell_type": "code",
   "execution_count": null,
   "id": "658eff72",
   "metadata": {},
   "outputs": [],
   "source": [
    "# Executar comandos para verificação de diretórios.\n",
    "# Nota: Teremos o script inicial e um exemplo para verificar repositórios.\n",
    "# Observação: para todos os cripts abaixo é possível utilizar no lugar do (dir) o (cd) para acessar os diretórios.\n",
    "\n",
    "#Script inicial:\n",
    "# Este script executado da maneira abaixo, mostra os repositórios do local.\n",
    "import os\n",
    "os.system('dir')"
   ]
  },
  {
   "cell_type": "code",
   "execution_count": null,
   "id": "631bb85c",
   "metadata": {},
   "outputs": [],
   "source": [
    "# Executar comandos para verificação de diretórios.\n",
    "# Nota: Teremos o script inicial e um exemplo para verificar repositórios.\n",
    "# Observação: para todos os cripts abaixo é possível utilizar no lugar do (dir) o (cd) para acessar os diretórios.\n",
    "\n",
    "# Script de exemplo 1. Se por exemplo, for inserido o nome de um repositório e (.), ele mostrará todas as pastas ou arquivos dentro daquele repositório.\n",
    "import os\n",
    "os.system('dir Desktop.')"
   ]
  },
  {
   "cell_type": "code",
   "execution_count": null,
   "id": "490ca0ec",
   "metadata": {},
   "outputs": [],
   "source": [
    "# Executar comandos para verificação de diretórios.\n",
    "# Nota: Teremos o script inicial e um exemplo para verificar repositórios.\n",
    "# Observação: para todos os cripts abaixo é possível utilizar no lugar do (dir) o (cd) para acessar os diretórios.\n",
    "\n",
    "#Script de exemplo 2. Se for por exemplo, for inserido o nome de um repositório e aopós (\\nome_repositório), ele entrará neste repositório e mostrará todas as pastas ou arquivos dentro daquele repositório.\n",
    "import os\n",
    "os.system('dir Desktop\\Temp')"
   ]
  },
  {
   "cell_type": "code",
   "execution_count": null,
   "id": "3cd12910",
   "metadata": {},
   "outputs": [],
   "source": []
  },
  {
   "cell_type": "code",
   "execution_count": null,
   "id": "fa012189",
   "metadata": {},
   "outputs": [],
   "source": []
  },
  {
   "cell_type": "code",
   "execution_count": null,
   "id": "ba4b5f92",
   "metadata": {},
   "outputs": [],
   "source": []
  },
  {
   "cell_type": "code",
   "execution_count": null,
   "id": "8265f2fa",
   "metadata": {},
   "outputs": [],
   "source": []
  },
  {
   "cell_type": "code",
   "execution_count": null,
   "id": "98d419ba",
   "metadata": {},
   "outputs": [],
   "source": []
  },
  {
   "cell_type": "code",
   "execution_count": null,
   "id": "6ec2eec6",
   "metadata": {},
   "outputs": [],
   "source": []
  }
 ],
 "metadata": {
  "kernelspec": {
   "display_name": "Python 3 (ipykernel)",
   "language": "python",
   "name": "python3"
  },
  "language_info": {
   "codemirror_mode": {
    "name": "ipython",
    "version": 3
   },
   "file_extension": ".py",
   "mimetype": "text/x-python",
   "name": "python",
   "nbconvert_exporter": "python",
   "pygments_lexer": "ipython3",
   "version": "3.9.12"
  }
 },
 "nbformat": 4,
 "nbformat_minor": 5
}
