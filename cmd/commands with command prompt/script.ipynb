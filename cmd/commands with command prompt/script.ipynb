{
 "cells": [
  {
   "cell_type": "markdown",
   "id": "b3d75e47",
   "metadata": {},
   "source": [
    "---\n",
    "\n",
    "### Comandos para utilizar o Prompt de Comando (CMD) com o Python.\n",
    "\n",
    "---\n",
    "\n",
    "### Notar que estamos considerando que esteja utilizando o Windows.\n",
    "\n",
    "---\n",
    "\n",
    "### Este tipo de comando pode ser útil para automatização de tarefas que dependem do terminal.\n",
    "\n",
    "---\n",
    "\n",
    "### Última atualização em: `29/08/2022`\n",
    "\n",
    "---"
   ]
  },
  {
   "cell_type": "code",
   "execution_count": null,
   "id": "90e88f28",
   "metadata": {},
   "outputs": [],
   "source": [
    "# Método 1 - Abrir o prompt de comando (CMD).\n",
    "# Nota: Abrir o cmd em tela de comando no windows com a biblioteca os.\n",
    "import os\n",
    "os.system('start /wait cmd')"
   ]
  },
  {
   "cell_type": "code",
   "execution_count": 10,
   "id": "1aea68b7",
   "metadata": {},
   "outputs": [
    {
     "data": {
      "text/plain": [
       "0"
      ]
     },
     "execution_count": 10,
     "metadata": {},
     "output_type": "execute_result"
    }
   ],
   "source": [
    "# Método 2 - Abrir o prompt de comando (CMD).\n",
    "# Nota: Abrir o cmd em tela de comando no windows com a biblioteca os.\n",
    "import os\n",
    "os.system('start cmd')"
   ]
  },
  {
   "cell_type": "code",
   "execution_count": null,
   "id": "d6bb9535",
   "metadata": {},
   "outputs": [],
   "source": [
    "# Método 3 - Abrir o prompt de comando (CMD).\n",
    "# Nota: Abrir o cmd em tela de comando no windows com a biblioteca subprocess.\n",
    "import subprocess\n",
    "subprocess.run('start', shell = True)"
   ]
  },
  {
   "cell_type": "code",
   "execution_count": null,
   "id": "73edcef4",
   "metadata": {},
   "outputs": [],
   "source": [
    "# Método 4 - Abrir o prompt de comando (CMD).\n",
    "# Nota: Abrir o cmd diretamente no terminal do Python.\n",
    "import os\n",
    "os.system('cmd')"
   ]
  },
  {
   "cell_type": "code",
   "execution_count": null,
   "id": "4ace03fd",
   "metadata": {},
   "outputs": [],
   "source": [
    "# Executar comandos para verificação de diretórios.\n",
    "# Nota: Teremos o script inicial e um exemplo para verificar repositórios.\n",
    "# Observação: para todos os cripts abaixo é possível utilizar no lugar do (dir) o (cd) para acessar os diretórios.\n",
    "\n",
    "#Script inicial:\n",
    "# Este script executado da maneira abaixo, mostra os repositórios do local.\n",
    "import os\n",
    "os.system('dir')"
   ]
  },
  {
   "cell_type": "code",
   "execution_count": null,
   "id": "bc41ee4a",
   "metadata": {},
   "outputs": [],
   "source": [
    "# Executar comandos para verificação de diretórios.\n",
    "# Nota: Teremos o script inicial e um exemplo para verificar repositórios.\n",
    "# Observação: para todos os cripts abaixo é possível utilizar no lugar do (dir) o (cd) para acessar os diretórios.\n",
    "\n",
    "# Script de exemplo 1. Se por exemplo, for inserido o nome de um repositório e (.), ele mostrará todas as pastas ou arquivos dentro daquele repositório.\n",
    "import os\n",
    "os.system('dir Desktop.')"
   ]
  },
  {
   "cell_type": "code",
   "execution_count": null,
   "id": "f787c16e",
   "metadata": {},
   "outputs": [],
   "source": [
    "# Executar comandos para verificação de diretórios.\n",
    "# Nota: Teremos o script inicial e um exemplo para verificar repositórios.\n",
    "# Observação: para todos os cripts abaixo é possível utilizar no lugar do (dir) o (cd) para acessar os diretórios.\n",
    "\n",
    "#Script de exemplo 2. Se for por exemplo, for inserido o nome de um repositório e aopós (\\nome_repositório), ele entrará neste repositório e mostrará todas as pastas ou arquivos dentro daquele repositório.\n",
    "import os\n",
    "os.system('dir Desktop\\Temp')"
   ]
  },
  {
   "cell_type": "code",
   "execution_count": null,
   "id": "91a90970",
   "metadata": {},
   "outputs": [],
   "source": []
  },
  {
   "cell_type": "code",
   "execution_count": null,
   "id": "1ff7aecc",
   "metadata": {},
   "outputs": [],
   "source": []
  },
  {
   "cell_type": "code",
   "execution_count": null,
   "id": "d6194f37",
   "metadata": {},
   "outputs": [],
   "source": []
  },
  {
   "cell_type": "code",
   "execution_count": null,
   "id": "3fbdedb0",
   "metadata": {},
   "outputs": [],
   "source": []
  },
  {
   "cell_type": "code",
   "execution_count": null,
   "id": "0b9e11fd",
   "metadata": {},
   "outputs": [],
   "source": []
  },
  {
   "cell_type": "code",
   "execution_count": null,
   "id": "c746f05e",
   "metadata": {},
   "outputs": [],
   "source": []
  }
 ],
 "metadata": {
  "kernelspec": {
   "display_name": "Python 3 (ipykernel)",
   "language": "python",
   "name": "python3"
  },
  "language_info": {
   "codemirror_mode": {
    "name": "ipython",
    "version": 3
   },
   "file_extension": ".py",
   "mimetype": "text/x-python",
   "name": "python",
   "nbconvert_exporter": "python",
   "pygments_lexer": "ipython3",
   "version": "3.9.12"
  }
 },
 "nbformat": 4,
 "nbformat_minor": 5
}
