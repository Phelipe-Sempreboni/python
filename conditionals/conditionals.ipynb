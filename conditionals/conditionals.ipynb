{
 "cells": [
  {
   "cell_type": "markdown",
   "id": "4d9d08b2",
   "metadata": {},
   "source": [
    "## Condicionais"
   ]
  },
  {
   "cell_type": "markdown",
   "id": "86bc3145",
   "metadata": {},
   "source": [
    "### Condicional If"
   ]
  },
  {
   "cell_type": "code",
   "execution_count": 1,
   "id": "b59ad66b",
   "metadata": {},
   "outputs": [
    {
     "name": "stdout",
     "output_type": "stream",
     "text": [
      "Python funciona!\n"
     ]
    }
   ],
   "source": [
    "# Exemplo de condicional com If\n",
    "\n",
    "if 5 > 2:\n",
    "    print('Python funciona!')"
   ]
  },
  {
   "cell_type": "code",
   "execution_count": 2,
   "id": "37e58edc",
   "metadata": {},
   "outputs": [
    {
     "name": "stdout",
     "output_type": "stream",
     "text": [
      "Algo está errado!\n"
     ]
    }
   ],
   "source": [
    "# Exemplo de condicional com if / else\n",
    "\n",
    "if 5 < 2:\n",
    "    print('Python funciona')\n",
    "else:\n",
    "    print('Algo está errado!')"
   ]
  },
  {
   "cell_type": "code",
   "execution_count": 3,
   "id": "39721495",
   "metadata": {},
   "outputs": [
    {
     "data": {
      "text/plain": [
       "True"
      ]
     },
     "execution_count": 3,
     "metadata": {},
     "output_type": "execute_result"
    }
   ],
   "source": [
    "# Operador lógico maior (>)\n",
    "\n",
    "6 > 3"
   ]
  },
  {
   "cell_type": "code",
   "execution_count": 4,
   "id": "05375e47",
   "metadata": {},
   "outputs": [
    {
     "data": {
      "text/plain": [
       "False"
      ]
     },
     "execution_count": 4,
     "metadata": {},
     "output_type": "execute_result"
    }
   ],
   "source": [
    "# Operador lógico maior (>)\n",
    "\n",
    "3 > 7"
   ]
  },
  {
   "cell_type": "code",
   "execution_count": 5,
   "id": "80478c0f",
   "metadata": {},
   "outputs": [
    {
     "data": {
      "text/plain": [
       "True"
      ]
     },
     "execution_count": 5,
     "metadata": {},
     "output_type": "execute_result"
    }
   ],
   "source": [
    "# Operador lógico menor (<)\n",
    "\n",
    "4 < 8"
   ]
  },
  {
   "cell_type": "code",
   "execution_count": 6,
   "id": "026b7959",
   "metadata": {},
   "outputs": [
    {
     "data": {
      "text/plain": [
       "True"
      ]
     },
     "execution_count": 6,
     "metadata": {},
     "output_type": "execute_result"
    }
   ],
   "source": [
    "# Operador lógico maior igual (>=)\n",
    "\n",
    "4 >= 4"
   ]
  },
  {
   "cell_type": "code",
   "execution_count": 7,
   "id": "469a6b58",
   "metadata": {},
   "outputs": [
    {
     "name": "stdout",
     "output_type": "stream",
     "text": [
      "Testando Python!\n"
     ]
    }
   ],
   "source": [
    "# Exemplo de condicional com If\n",
    "\n",
    "if 5 == 5:\n",
    "    print('Testando Python!')"
   ]
  },
  {
   "cell_type": "code",
   "execution_count": 8,
   "id": "c5d1b820",
   "metadata": {},
   "outputs": [
    {
     "name": "stdout",
     "output_type": "stream",
     "text": [
      "Testando Python!\n"
     ]
    }
   ],
   "source": [
    "# Exemplo de condicional com If, porém, utilizando o 'True' para provar a condicional\n",
    "\n",
    "if True:\n",
    "    print('Testando Python!')"
   ]
  },
  {
   "cell_type": "code",
   "execution_count": 9,
   "id": "4731af90",
   "metadata": {},
   "outputs": [
    {
     "ename": "SyntaxError",
     "evalue": "invalid syntax (Temp/ipykernel_13388/484612503.py, line 4)",
     "output_type": "error",
     "traceback": [
      "\u001b[1;36m  File \u001b[1;32m\"C:\\Users\\pheli\\AppData\\Local\\Temp/ipykernel_13388/484612503.py\"\u001b[1;36m, line \u001b[1;32m4\u001b[0m\n\u001b[1;33m    if 4 > 3\u001b[0m\n\u001b[1;37m            ^\u001b[0m\n\u001b[1;31mSyntaxError\u001b[0m\u001b[1;31m:\u001b[0m invalid syntax\n"
     ]
    }
   ],
   "source": [
    "# Atenção com a sintaxe\n",
    "# Neste caso haverá um erro, pois ao final do if não foi inserido o (:)\n",
    "\n",
    "if 4 > 3\n",
    "    print('Tudo funciona!')"
   ]
  },
  {
   "cell_type": "code",
   "execution_count": 10,
   "id": "a8822be6",
   "metadata": {},
   "outputs": [
    {
     "ename": "SyntaxError",
     "evalue": "invalid syntax (Temp/ipykernel_13388/4175291256.py, line 4)",
     "output_type": "error",
     "traceback": [
      "\u001b[1;36m  File \u001b[1;32m\"C:\\Users\\pheli\\AppData\\Local\\Temp/ipykernel_13388/4175291256.py\"\u001b[1;36m, line \u001b[1;32m4\u001b[0m\n\u001b[1;33m    if 4 > 3\u001b[0m\n\u001b[1;37m            ^\u001b[0m\n\u001b[1;31mSyntaxError\u001b[0m\u001b[1;31m:\u001b[0m invalid syntax\n"
     ]
    }
   ],
   "source": [
    "# Atenção com a sintaxe\n",
    "# Neste caso haverá um erro, pois a identação abaixo está errada\n",
    "\n",
    "if 4 > 3\n",
    "print('Tudo funciona!')"
   ]
  },
  {
   "cell_type": "markdown",
   "id": "20368af8",
   "metadata": {},
   "source": [
    "### Condiocionais aninhados"
   ]
  },
  {
   "cell_type": "code",
   "execution_count": 11,
   "id": "28c22d4e",
   "metadata": {},
   "outputs": [
    {
     "name": "stdout",
     "output_type": "stream",
     "text": [
      "Você pode dirigir!\n"
     ]
    }
   ],
   "source": [
    "# Exemplo de condicional com if e a declaração de variável\n",
    "\n",
    "idade = 18\n",
    "if idade > 17:\n",
    "    print('Você pode dirigir!')\n"
   ]
  },
  {
   "cell_type": "code",
   "execution_count": 12,
   "id": "e99f9434",
   "metadata": {},
   "outputs": [
    {
     "name": "stdout",
     "output_type": "stream",
     "text": [
      "Ok Bob, você está autorizado a entrar!\n"
     ]
    }
   ],
   "source": [
    "# Exemplo de condicional com if / else e a declaração de variável\n",
    "# Neste caso temos uma condicional aninhada, com um if dentro de outro if e um else\n",
    "\n",
    "Nome = 'Bob'\n",
    "if idade > 13:\n",
    " if Nome == 'Bob':\n",
    "    print('Ok Bob, você está autorizado a entrar!')\n",
    " else:\n",
    "    print('Desculpe, mas você não pode entrar!')"
   ]
  },
  {
   "cell_type": "code",
   "execution_count": 13,
   "id": "8cdd872b",
   "metadata": {},
   "outputs": [
    {
     "name": "stdout",
     "output_type": "stream",
     "text": [
      "Ok Bob, você está autorizado a entrar!\n"
     ]
    }
   ],
   "source": [
    "# Exemplo de condicional com if e a declaração de variável\n",
    "# Mostrando que é possível substituir um if aninhado com o operador lógico (and)\n",
    "\n",
    "idade = 13\n",
    "Nome = 'Bob'\n",
    "if idade >= 13 and Nome == 'Bob':\n",
    "    print('Ok Bob, você está autorizado a entrar!')"
   ]
  },
  {
   "cell_type": "code",
   "execution_count": 14,
   "id": "df1efc4d",
   "metadata": {},
   "outputs": [
    {
     "name": "stdout",
     "output_type": "stream",
     "text": [
      "Ok Bob, você está autorizado a entrar!\n"
     ]
    }
   ],
   "source": [
    "# Exemplo de condicional com if e a declaração de variável\n",
    "# Mostrando que é possível substituir um if aninhado com o operador lógico (or)\n",
    "\n",
    "idade = 13\n",
    "Nome = 'Bob'\n",
    "if idade >= 13 or Nome == 'Bob':\n",
    "    print('Ok Bob, você está autorizado a entrar!')"
   ]
  },
  {
   "cell_type": "markdown",
   "id": "34f1f0e4",
   "metadata": {},
   "source": [
    "### Elif"
   ]
  },
  {
   "cell_type": "code",
   "execution_count": 15,
   "id": "6418ccfb",
   "metadata": {},
   "outputs": [
    {
     "name": "stdout",
     "output_type": "stream",
     "text": [
      "Hoje vai chover!\n"
     ]
    }
   ],
   "source": [
    "# Exemplo de condicional com if / else e a declaração de variável\n",
    "\n",
    "dia = 'Terça'\n",
    "if dia == 'Segunda':\n",
    "    print('Hoje fará Sol!')\n",
    "else:\n",
    "    print('Hoje vai chover!')"
   ]
  },
  {
   "cell_type": "code",
   "execution_count": 16,
   "id": "b963417f",
   "metadata": {},
   "outputs": [
    {
     "name": "stdout",
     "output_type": "stream",
     "text": [
      "Hoje vai chover!\n"
     ]
    }
   ],
   "source": [
    "# Exemplo de condicional com if / elif / else e a declaração de variável\n",
    "# O elif faz com que não seja necessário diversos (if) pelo script, deixando com o design melhor e mais efetivo\n",
    "\n",
    "if dia == 'Segunda':\n",
    "    print('Hoje fará Sol!')\n",
    "elif dia == 'Terça':\n",
    "    print('Hoje vai chover!')\n",
    "else:\n",
    "    print('Sem previsão do tempo para o dia selecionado')"
   ]
  },
  {
   "cell_type": "markdown",
   "id": "a4a5b5f2",
   "metadata": {},
   "source": [
    "### Operadores lógicos"
   ]
  },
  {
   "cell_type": "code",
   "execution_count": 17,
   "id": "052c6521",
   "metadata": {},
   "outputs": [
    {
     "name": "stdout",
     "output_type": "stream",
     "text": [
      "Você pode dirigir\n"
     ]
    }
   ],
   "source": [
    "# Exemplo de condicional com if e a declaração de variável\n",
    "\n",
    "idade = 18\n",
    "nome = 'Bob'\n",
    "if idade > 17:\n",
    "    print('Você pode dirigir')"
   ]
  },
  {
   "cell_type": "code",
   "execution_count": 18,
   "id": "29a6f127",
   "metadata": {},
   "outputs": [
    {
     "name": "stdout",
     "output_type": "stream",
     "text": [
      "Autorizado\n"
     ]
    }
   ],
   "source": [
    "# Condicional (if) com o operador lógico (and)\n",
    "\n",
    "idade = 18\n",
    "if idade > 17 and nome == 'Bob':\n",
    "    print('Autorizado')"
   ]
  },
  {
   "cell_type": "code",
   "execution_count": 19,
   "id": "74d7f2e9",
   "metadata": {},
   "outputs": [
    {
     "name": "stdout",
     "output_type": "stream",
     "text": [
      "Digite o nome da disciplina: Geografia\n",
      "Digite a nota final (entre 0 e 100): 99\n",
      "Você foi aprovado!\n"
     ]
    }
   ],
   "source": [
    "# Usando mais de uma condição na cláusula (if)\n",
    "# Utilizando o comando (input) para solicitar ao usuário que seja digitado os valores\n",
    "\n",
    "disciplina = input('Digite o nome da disciplina: ')\n",
    "nota_final = input('Digite a nota final (entre 0 e 100): ')\n",
    "\n",
    "if disciplina == 'Geografia' and nota_final >= '70':\n",
    "    print('Você foi aprovado!')\n",
    "else:\n",
    "    print('Lamento, acho que você precisa estudar mais!')"
   ]
  },
  {
   "cell_type": "code",
   "execution_count": 22,
   "id": "62ed4d66",
   "metadata": {},
   "outputs": [
    {
     "name": "stdout",
     "output_type": "stream",
     "text": [
      "Digite o nome da disciplina: Geografia\n",
      "Digite a nota final (entre 0 e 100): 98\n",
      "Digite o semestre (1 a 4):3\n",
      "Você foi aprovado em Geografia com média final de '98'!\n"
     ]
    }
   ],
   "source": [
    "# Usando mais de uma condição na cláusula (if) e introduzindo Placeholders\n",
    "# Utilizando o comando (input) para solicitar ao usuário que seja digitado os valores\n",
    "\n",
    "disciplina = input('Digite o nome da disciplina: ')\n",
    "nota_final = input('Digite a nota final (entre 0 e 100): ')\n",
    "semestre = input('Digite o semestre (1 a 4):')\n",
    "\n",
    "if disciplina == 'Geografia' and nota_final >= '50' and int(semestre) != 1:\n",
    "    print('Você foi aprovado em %s com média final de %r!' %(disciplina, nota_final))\n",
    "else:\n",
    "    print('Lamento, acho que você precisa estudar mais!')"
   ]
  },
  {
   "cell_type": "markdown",
   "id": "baeb0769",
   "metadata": {},
   "source": [
    "### -> Fique atento aos espaços entre a margem e cada um dos seus comandos. Falaremos sobre indentação ao longo do curso. A indentação faz parte da sintaxe da linguagem Python."
   ]
  },
  {
   "cell_type": "markdown",
   "id": "33ec96e7",
   "metadata": {},
   "source": [
    "## Fim"
   ]
  },
  {
   "cell_type": "markdown",
   "id": "e7e06473",
   "metadata": {},
   "source": [
    "### Obrigado - Data Science Academy - facebook.com/dsacademybr"
   ]
  }
 ],
 "metadata": {
  "kernelspec": {
   "display_name": "Python 3 (ipykernel)",
   "language": "python",
   "name": "python3"
  },
  "language_info": {
   "codemirror_mode": {
    "name": "ipython",
    "version": 3
   },
   "file_extension": ".py",
   "mimetype": "text/x-python",
   "name": "python",
   "nbconvert_exporter": "python",
   "pygments_lexer": "ipython3",
   "version": "3.9.7"
  }
 },
 "nbformat": 4,
 "nbformat_minor": 5
}
