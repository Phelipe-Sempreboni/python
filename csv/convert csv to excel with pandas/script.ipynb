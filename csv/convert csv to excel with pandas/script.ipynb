{
 "cells": [
  {
   "cell_type": "markdown",
   "id": "f3340640",
   "metadata": {},
   "source": [
    "### Converter um arquivo CSV em Excel.\n",
    "\n",
    "---\n",
    "\n",
    "### Lembrar de ter a biblioteca \"pandas\" e \"openpyxl\" instaladas, senão realize a instalação.\n",
    "\n",
    "---\n",
    "\n",
    "### Comando para executar a instalação no Jupyter Notebook `pip install pandas`\n",
    "\n",
    "### Comando para executar a instalação no Jupyter Notebook `pip install openpyxl`\n",
    "\n",
    "---"
   ]
  },
  {
   "cell_type": "code",
   "execution_count": null,
   "id": "0bf3fc39",
   "metadata": {},
   "outputs": [],
   "source": []
  },
  {
   "cell_type": "code",
   "execution_count": null,
   "id": "20f770a6",
   "metadata": {},
   "outputs": [],
   "source": []
  },
  {
   "cell_type": "code",
   "execution_count": null,
   "id": "9facf627",
   "metadata": {},
   "outputs": [],
   "source": [
    "# Método para converter um arquivo CSV em EXCEL.\n",
    "\n",
    "# Importação da biblioteca.\n",
    "import pandas as pd\n",
    "\n",
    "data = pd.read_csv(r'') # Comando para leitura do arquivo csv. Insira o caminho do arquivo origem. \n",
    "\n",
    "data.to_excel(r'', index=False) # Comando para converter o arquivo em Excel. Insira o caminho do arquivo destino."
   ]
  },
  {
   "cell_type": "code",
   "execution_count": null,
   "id": "78c06501",
   "metadata": {},
   "outputs": [],
   "source": []
  },
  {
   "cell_type": "code",
   "execution_count": null,
   "id": "2a61a459",
   "metadata": {},
   "outputs": [],
   "source": []
  },
  {
   "cell_type": "code",
   "execution_count": null,
   "id": "57f9cf35",
   "metadata": {},
   "outputs": [],
   "source": []
  },
  {
   "cell_type": "code",
   "execution_count": null,
   "id": "db9d2906",
   "metadata": {},
   "outputs": [],
   "source": []
  },
  {
   "cell_type": "code",
   "execution_count": null,
   "id": "8f0c9d32",
   "metadata": {},
   "outputs": [],
   "source": []
  },
  {
   "cell_type": "code",
   "execution_count": null,
   "id": "23af037c",
   "metadata": {},
   "outputs": [],
   "source": []
  },
  {
   "cell_type": "code",
   "execution_count": null,
   "id": "2f608d53",
   "metadata": {},
   "outputs": [],
   "source": []
  },
  {
   "cell_type": "code",
   "execution_count": null,
   "id": "9b996179",
   "metadata": {},
   "outputs": [],
   "source": []
  },
  {
   "cell_type": "code",
   "execution_count": null,
   "id": "84ba3888",
   "metadata": {},
   "outputs": [],
   "source": []
  }
 ],
 "metadata": {
  "kernelspec": {
   "display_name": "Python 3 (ipykernel)",
   "language": "python",
   "name": "python3"
  },
  "language_info": {
   "codemirror_mode": {
    "name": "ipython",
    "version": 3
   },
   "file_extension": ".py",
   "mimetype": "text/x-python",
   "name": "python",
   "nbconvert_exporter": "python",
   "pygments_lexer": "ipython3",
   "version": "3.9.12"
  }
 },
 "nbformat": 4,
 "nbformat_minor": 5
}
