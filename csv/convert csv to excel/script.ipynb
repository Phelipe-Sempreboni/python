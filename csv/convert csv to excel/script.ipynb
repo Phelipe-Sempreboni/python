{
 "cells": [
  {
   "cell_type": "markdown",
   "id": "1fad04c8",
   "metadata": {},
   "source": [
    "---\n",
    "\n",
    "### Converter um arquivo CSV em Excel.\n",
    "\n",
    "---\n",
    "\n",
    "### Lembrar de ter a biblioteca \"pandas\" e \"openpyxl\" instaladas, senão realize a instalação.\n",
    "\n",
    "---\n",
    "\n",
    "### Comando para executar a instalação no Jupyter Notebook `pip install pandas`\n",
    "\n",
    "### Comando para executar a instalação no Jupyter Notebook `pip install openpyxl`\n",
    "\n",
    "---"
   ]
  },
  {
   "cell_type": "markdown",
   "id": "4e7927d7",
   "metadata": {},
   "source": [
    "### Instalação de bibliotecas."
   ]
  },
  {
   "cell_type": "code",
   "execution_count": null,
   "id": "6f65cc06",
   "metadata": {},
   "outputs": [],
   "source": [
    "# Instalação das bibliotecas.\n",
    "\n",
    "%pip install pandas\n",
    "%pip install openpyxl"
   ]
  },
  {
   "cell_type": "markdown",
   "id": "ce969eda",
   "metadata": {},
   "source": [
    "---\n",
    "\n",
    "### Importação das bibliotecas."
   ]
  },
  {
   "cell_type": "code",
   "execution_count": null,
   "id": "ab9699b2",
   "metadata": {},
   "outputs": [],
   "source": [
    "### Importação das bibliotecas.\n",
    "\n",
    "import pandas as pd\n",
    "import openpyxl"
   ]
  },
  {
   "cell_type": "markdown",
   "id": "2ef9b212",
   "metadata": {},
   "source": [
    "---\n",
    "\n",
    "### Realizar a leitura do arquivo CSV.\n",
    "\n",
    "### Imprimir na tela os resultados das 5 primeiras linha na tela do Jupyter Notebook."
   ]
  },
  {
   "cell_type": "code",
   "execution_count": null,
   "id": "2733579d",
   "metadata": {},
   "outputs": [],
   "source": [
    "# Comando para leitura do arquivo CSV. Insira o caminho do arquivo origem.\n",
    "# Temos um exemplo de caminho inserido.\n",
    "archive_csv = pd.read_csv(r'C:\\Users\\USUARIO\\Desktop\\Temp\\archive.csv')\n",
    "\n",
    "# Realizar a leitura das 5 primeiras linhas.\n",
    "archive_csv.head()"
   ]
  },
  {
   "cell_type": "markdown",
   "id": "681a2fc0",
   "metadata": {},
   "source": [
    "---\n",
    "\n",
    "### Realizar a conversão do arquivo CSV para o formato XLSX em Excel."
   ]
  },
  {
   "cell_type": "code",
   "execution_count": null,
   "id": "485468e2",
   "metadata": {},
   "outputs": [],
   "source": [
    "# Comando para converter o arquivo em Excel. Insira o caminho destino, ou seja, onde você quer que o arquivo seja salvo.\n",
    "# Temos um exemplo de caminho inserido.\n",
    "archive_csv.to_excel(r'C:\\Users\\USUARIO\\Desktop\\Temp\\archive.csv', index=False)"
   ]
  },
  {
   "cell_type": "markdown",
   "id": "135474c0",
   "metadata": {},
   "source": [
    "---\n",
    "\n",
    "### Realizar a leitura do arquivo Excel.\n",
    "\n",
    "### Imprimir na tela os resultados das 5 primeiras linha na tela do Jupyter Notebook."
   ]
  },
  {
   "cell_type": "code",
   "execution_count": null,
   "id": "ff588db3",
   "metadata": {},
   "outputs": [],
   "source": [
    "# Comando para leitura do arquivo Excel. Insira o caminho do arquivo origem.\n",
    "# Temos um exemplo de caminho inserido.\n",
    "archive_xlsx = pd.read_excel(r'C:\\Users\\USUARIO\\Desktop\\Temp\\archive.xlsx')\n",
    "\n",
    "# Realizar a leitura das 5 primeiras linhas.\n",
    "archive_xlsx.head()"
   ]
  },
  {
   "cell_type": "markdown",
   "id": "af879319",
   "metadata": {},
   "source": [
    "### Abaixo temos todos os comandos unificados em um único bloco do Jupyter Notebook."
   ]
  },
  {
   "cell_type": "code",
   "execution_count": null,
   "id": "2dd44f7e",
   "metadata": {},
   "outputs": [],
   "source": [
    "### Importação das bibliotecas.\n",
    "\n",
    "import pandas as pd\n",
    "import openpyxl\n",
    "\n",
    "# Comando para leitura do arquivo CSV. Insira o caminho do arquivo origem.\n",
    "# Temos um exemplo de caminho inserido.\n",
    "archive_csv = pd.read_csv(r'C:\\Users\\USUARIO\\Desktop\\Temp\\archive.csv')\n",
    "\n",
    "# Comando para converter o arquivo em Excel. Insira o caminho destino, ou seja, onde você quer que o arquivo seja salvo.\n",
    "# Temos um exemplo de caminho inserido.\n",
    "archive_csv.to_excel(r'C:\\Users\\USUARIO\\Desktop\\Temp\\archive.csv', index=False)\n",
    "\n",
    "# Comando para leitura do arquivo Excel. Insira o caminho do arquivo origem.\n",
    "# Temos um exemplo de caminho inserido.\n",
    "archive_xlsx = pd.read_excel(r'C:\\Users\\USUARIO\\Desktop\\Temp\\archive.xlsx')\n",
    "\n",
    "# Realizar a leitura das 5 primeiras linhas.\n",
    "archive_xlsx.head()"
   ]
  },
  {
   "cell_type": "markdown",
   "id": "2b9e9bd5",
   "metadata": {},
   "source": [
    "### Fim."
   ]
  }
 ],
 "metadata": {
  "kernelspec": {
   "display_name": "Python 3 (ipykernel)",
   "language": "python",
   "name": "python3"
  },
  "language_info": {
   "codemirror_mode": {
    "name": "ipython",
    "version": 3
   },
   "file_extension": ".py",
   "mimetype": "text/x-python",
   "name": "python",
   "nbconvert_exporter": "python",
   "pygments_lexer": "ipython3",
   "version": "3.9.12"
  }
 },
 "nbformat": 4,
 "nbformat_minor": 5
}
