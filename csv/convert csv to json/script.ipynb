{
 "cells": [
  {
   "cell_type": "markdown",
   "id": "332a2a72",
   "metadata": {},
   "source": [
    "---\n",
    "\n",
    "Converter um arquivo CSV em JSON.\n",
    "\n",
    "---\n",
    "\n",
    "Lembrar de ter a biblioteca \"pandas\" e \"json\" instaladas, senão realize a instalação.\n",
    "\n",
    "---\n",
    "\n",
    "Comando para executar a instalação no Jupyter Notebook pip install pandas\n",
    "\n",
    "Comando para executar a instalação no Jupyter Notebook pip install json\n",
    "\n",
    "---"
   ]
  },
  {
   "cell_type": "markdown",
   "id": "b2c5658d",
   "metadata": {},
   "source": [
    "### Instalação de bibliotecas."
   ]
  },
  {
   "cell_type": "code",
   "execution_count": null,
   "id": "7852b0f9",
   "metadata": {},
   "outputs": [],
   "source": [
    "# Instalação das bibliotecas.\n",
    "\n",
    "%pip install pandas\n",
    "%pip install json"
   ]
  },
  {
   "cell_type": "markdown",
   "id": "69c5ad3a",
   "metadata": {},
   "source": [
    "### Importação das bibliotecas"
   ]
  },
  {
   "cell_type": "code",
   "execution_count": null,
   "id": "5d8cb5f9",
   "metadata": {},
   "outputs": [],
   "source": [
    "### Importação das bibliotecas.\n",
    "\n",
    "import pandas as pd\n",
    "import json"
   ]
  },
  {
   "cell_type": "markdown",
   "id": "4e948b72",
   "metadata": {},
   "source": [
    "### Realizar a leitura do arquivo CSV.\n",
    "\n",
    "### Imprimir na tela os resultados das 5 primeiras linha na tela do Jupyter Notebook."
   ]
  },
  {
   "cell_type": "code",
   "execution_count": null,
   "id": "eb95ee2a",
   "metadata": {},
   "outputs": [],
   "source": [
    "# Comando para leitura do arquivo CSV. Insira o caminho do arquivo origem.\n",
    "# Temos um exemplo de caminho inserido.\n",
    "archive_csv = pd.read_csv(r'C:\\Users\\pheli\\Desktop\\case_mkt_campaign_add_decimais.csv')\n",
    "\n",
    "# Realizar a leitura das 5 primeiras linhas.\n",
    "archive_csv.head()"
   ]
  },
  {
   "cell_type": "markdown",
   "id": "cdea9d07",
   "metadata": {},
   "source": [
    "### Realizar a conversão do arquivo CSV para o formato JSON.\n",
    "\n",
    "### Neste caso estamos convertendo para JSON e na orientação de tabelas, onde existem algumas possiblidades.\n",
    "\n",
    "### No link abaixo você encontra algumas explicações, dicas e orientações disponíveis para o JSON.\n",
    "\n",
    "### Link: https://www.w3resource.com/pandas/dataframe/dataframe-to_json.php"
   ]
  },
  {
   "cell_type": "code",
   "execution_count": null,
   "id": "d6c1d03d",
   "metadata": {},
   "outputs": [],
   "source": [
    "# Comando para converter o arquivo em JSON. \n",
    "# Insira o caminho destino, ou seja, onde você quer que o arquivo seja salvo.\n",
    "# Temos um exemplo de caminho inserido.\n",
    "\n",
    "# Neste caso estamos convertendo para JSON e na orientação de tabela, onde existem algumas possibilidades.\n",
    "\n",
    "archive_csv.to_json(r'C:\\Users\\pheli\\Desktop\\case_mkt_campaign_add_decimais.json', orient='table')"
   ]
  },
  {
   "cell_type": "markdown",
   "id": "ea0b988a",
   "metadata": {},
   "source": [
    "### Realizar a leitura do arquivo JSON.\n",
    "\n",
    "### Imprimir na tela os resultados das 5 primeiras linha na tela do Jupyter Notebook.\n",
    "\n",
    "### Notar que para realizar a leitura deste arquivo, temos que indicar o formato que convertermos, ou seja, a orientação, que foi em formato de tabela."
   ]
  },
  {
   "cell_type": "code",
   "execution_count": null,
   "id": "b14ba66c",
   "metadata": {},
   "outputs": [],
   "source": [
    "# Comando para leitura do arquivo JSON. \n",
    "# Insira o caminho do arquivo origem.\n",
    "# Temos um exemplo de caminho inserido.\n",
    "archive_json = pd.read_json(r'C:\\Users\\pheli\\Desktop\\case_mkt_campaign_add_decimais.json', orient='table')\n",
    "\n",
    "# Realizar a leitura das 5 primeiras linhas.\n",
    "archive_json.head()"
   ]
  },
  {
   "cell_type": "markdown",
   "id": "5345d141",
   "metadata": {},
   "source": [
    "### Abaixo temos todos os comandos unificados em um único bloco do Jupyter Notebook."
   ]
  },
  {
   "cell_type": "code",
   "execution_count": null,
   "id": "f323d29c",
   "metadata": {},
   "outputs": [],
   "source": [
    "### Importação das bibliotecas.\n",
    "\n",
    "import pandas as pd\n",
    "import json\n",
    "\n",
    "# Comando para leitura do arquivo CSV. Insira o caminho do arquivo origem.\n",
    "# Temos um exemplo de caminho inserido.\n",
    "archive_csv = pd.read_csv(r'C:\\Users\\pheli\\Desktop\\case_mkt_campaign_add_decimais.csv')\n",
    "\n",
    "# Comando para converter o arquivo em JSON. \n",
    "# Insira o caminho destino, ou seja, onde você quer que o arquivo seja salvo.\n",
    "# Temos um exemplo de caminho inserido.\n",
    "\n",
    "# Neste caso estamos convertendo para JSON e na orientação de tabela, onde existem algumas possibilidades.\n",
    "archive_csv.to_json(r'C:\\Users\\pheli\\Desktop\\case_mkt_campaign_add_decimais.json', orient='table')\n",
    "\n",
    "# Comando para leitura do arquivo JSON. \n",
    "# Insira o caminho do arquivo origem.\n",
    "# Temos um exemplo de caminho inserido.\n",
    "archive_json = pd.read_json(r'C:\\Users\\pheli\\Desktop\\case_mkt_campaign_add_decimais.json', orient='table')\n",
    "\n",
    "# Realizar a leitura das 5 primeiras linhas.\n",
    "archive_json.head()"
   ]
  },
  {
   "cell_type": "markdown",
   "id": "5e331d3c",
   "metadata": {},
   "source": [
    "### Fim."
   ]
  }
 ],
 "metadata": {
  "kernelspec": {
   "display_name": "Python 3 (ipykernel)",
   "language": "python",
   "name": "python3"
  },
  "language_info": {
   "codemirror_mode": {
    "name": "ipython",
    "version": 3
   },
   "file_extension": ".py",
   "mimetype": "text/x-python",
   "name": "python",
   "nbconvert_exporter": "python",
   "pygments_lexer": "ipython3",
   "version": "3.9.12"
  }
 },
 "nbformat": 4,
 "nbformat_minor": 5
}
