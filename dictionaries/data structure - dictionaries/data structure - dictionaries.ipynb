{
 "cells": [
  {
   "cell_type": "markdown",
   "id": "8bc4ed04",
   "metadata": {},
   "source": [
    "### Dicionários"
   ]
  },
  {
   "cell_type": "code",
   "execution_count": 1,
   "id": "ef8bfefb",
   "metadata": {},
   "outputs": [],
   "source": [
    "# Declarando uma lista. Isto é uma list!\n",
    "\n",
    "estudantes_list = ['Mateus', 24, 'Fernanda', 22, 'Tamires', 26, 'Cristiano', 25]"
   ]
  },
  {
   "cell_type": "code",
   "execution_count": 2,
   "id": "9b5172e0",
   "metadata": {},
   "outputs": [
    {
     "data": {
      "text/plain": [
       "['Mateus', 24, 'Fernanda', 22, 'Tamires', 26, 'Cristiano', 25]"
      ]
     },
     "execution_count": 2,
     "metadata": {},
     "output_type": "execute_result"
    }
   ],
   "source": [
    "# Imprimindo a lista\n",
    "\n",
    "estudantes_list"
   ]
  },
  {
   "cell_type": "code",
   "execution_count": 3,
   "id": "82934912",
   "metadata": {},
   "outputs": [],
   "source": [
    "# Declarando um dicionário. Isto é um dicionário!]\n",
    "# Um dicionário funciona com chave e valor {key:value}\n",
    "\n",
    "estudantes_dict = {'Mateus': 24, 'Fernanda': 22, 'Temires': 26, 'Cristiano': 25}"
   ]
  },
  {
   "cell_type": "code",
   "execution_count": 4,
   "id": "bd61bd53",
   "metadata": {},
   "outputs": [
    {
     "data": {
      "text/plain": [
       "{'Mateus': 24, 'Fernanda': 22, 'Temires': 26, 'Cristiano': 25}"
      ]
     },
     "execution_count": 4,
     "metadata": {},
     "output_type": "execute_result"
    }
   ],
   "source": [
    "# Imprimindo o dicionário\n",
    "\n",
    "estudantes_dict"
   ]
  },
  {
   "cell_type": "code",
   "execution_count": 6,
   "id": "f3f048a4",
   "metadata": {},
   "outputs": [
    {
     "data": {
      "text/plain": [
       "24"
      ]
     },
     "execution_count": 6,
     "metadata": {},
     "output_type": "execute_result"
    }
   ],
   "source": [
    "# Imprimindo o valor da chave do dicionário, no caso, a chave é [Mateus] e o valor é [24]\n",
    "\n",
    "estudantes_dict['Mateus']"
   ]
  },
  {
   "cell_type": "code",
   "execution_count": 7,
   "id": "325b1f94",
   "metadata": {},
   "outputs": [],
   "source": [
    "# Atribuindo um novo {chave e valor} no dicionário\n",
    "\n",
    "estudantes_dict['Pedro'] = 23"
   ]
  },
  {
   "cell_type": "code",
   "execution_count": 8,
   "id": "f1cb77d6",
   "metadata": {},
   "outputs": [
    {
     "data": {
      "text/plain": [
       "{'Mateus': 24, 'Fernanda': 22, 'Temires': 26, 'Cristiano': 25, 'Pedro': 23}"
      ]
     },
     "execution_count": 8,
     "metadata": {},
     "output_type": "execute_result"
    }
   ],
   "source": [
    "# Imprimindo o dicionário\n",
    "\n",
    "estudantes_dict"
   ]
  },
  {
   "cell_type": "code",
   "execution_count": 11,
   "id": "c413b5e1",
   "metadata": {},
   "outputs": [
    {
     "data": {
      "text/plain": [
       "26"
      ]
     },
     "execution_count": 11,
     "metadata": {},
     "output_type": "execute_result"
    }
   ],
   "source": [
    "# Imprimindo o valor da chave do dicionário, no caso, a chave é [Temires] e o valor é [26]\n",
    "\n",
    "estudantes_dict['Temires']"
   ]
  },
  {
   "cell_type": "code",
   "execution_count": 13,
   "id": "baee6dbe",
   "metadata": {},
   "outputs": [],
   "source": [
    "# Limpando o {chave e valor} do dicionário\n",
    "\n",
    "estudantes_dict.clear()"
   ]
  },
  {
   "cell_type": "code",
   "execution_count": 14,
   "id": "5f6c9342",
   "metadata": {},
   "outputs": [
    {
     "data": {
      "text/plain": [
       "{}"
      ]
     },
     "execution_count": 14,
     "metadata": {},
     "output_type": "execute_result"
    }
   ],
   "source": [
    "# Imprimindo o dicionário\n",
    "\n",
    "estudantes_dict"
   ]
  },
  {
   "cell_type": "code",
   "execution_count": 15,
   "id": "630e8daf",
   "metadata": {},
   "outputs": [],
   "source": [
    "# Deletando o dicionário\n",
    "\n",
    "del estudantes_dict"
   ]
  },
  {
   "cell_type": "code",
   "execution_count": 16,
   "id": "251eecd7",
   "metadata": {},
   "outputs": [
    {
     "ename": "NameError",
     "evalue": "name 'estudantes_dict' is not defined",
     "output_type": "error",
     "traceback": [
      "\u001b[1;31m---------------------------------------------------------------------------\u001b[0m",
      "\u001b[1;31mNameError\u001b[0m                                 Traceback (most recent call last)",
      "\u001b[1;32m~\\AppData\\Local\\Temp/ipykernel_12996/4147343425.py\u001b[0m in \u001b[0;36m<module>\u001b[1;34m\u001b[0m\n\u001b[0;32m      1\u001b[0m \u001b[1;31m# Imprimindo o dicionário\u001b[0m\u001b[1;33m\u001b[0m\u001b[1;33m\u001b[0m\u001b[0m\n\u001b[0;32m      2\u001b[0m \u001b[1;33m\u001b[0m\u001b[0m\n\u001b[1;32m----> 3\u001b[1;33m \u001b[0mestudantes_dict\u001b[0m\u001b[1;33m\u001b[0m\u001b[1;33m\u001b[0m\u001b[0m\n\u001b[0m",
      "\u001b[1;31mNameError\u001b[0m: name 'estudantes_dict' is not defined"
     ]
    }
   ],
   "source": [
    "# Imprimindo o dicionário\n",
    "# Nesse caso haverá erro, pois, o dicionário foi deletado\n",
    "\n",
    "estudantes_dict"
   ]
  },
  {
   "cell_type": "code",
   "execution_count": 20,
   "id": "4a3c7fa3",
   "metadata": {},
   "outputs": [],
   "source": [
    "# Declarando um dicionário\n",
    "\n",
    "estudantes_dict = {'Mateus': 24, 'Fernanda': 22, 'Temires': 26, 'Cristiano': 25}"
   ]
  },
  {
   "cell_type": "code",
   "execution_count": 21,
   "id": "cddd104a",
   "metadata": {},
   "outputs": [
    {
     "data": {
      "text/plain": [
       "{'Mateus': 24, 'Fernanda': 22, 'Temires': 26, 'Cristiano': 25}"
      ]
     },
     "execution_count": 21,
     "metadata": {},
     "output_type": "execute_result"
    }
   ],
   "source": [
    "# Imprimindo o dicionário\n",
    "\n",
    "estudantes_dict"
   ]
  },
  {
   "cell_type": "code",
   "execution_count": 23,
   "id": "fcf93282",
   "metadata": {},
   "outputs": [
    {
     "data": {
      "text/plain": [
       "4"
      ]
     },
     "execution_count": 23,
     "metadata": {},
     "output_type": "execute_result"
    }
   ],
   "source": [
    "# Verificando quantos elementos temos atribuídos no dicionário\n",
    "\n",
    "len(estudantes_dict)"
   ]
  },
  {
   "cell_type": "code",
   "execution_count": 25,
   "id": "a52547e1",
   "metadata": {},
   "outputs": [
    {
     "data": {
      "text/plain": [
       "dict_keys(['Mateus', 'Fernanda', 'Temires', 'Cristiano'])"
      ]
     },
     "execution_count": 25,
     "metadata": {},
     "output_type": "execute_result"
    }
   ],
   "source": [
    "# Verificando as chaves do dicionário\n",
    "\n",
    "estudantes_dict.keys()"
   ]
  },
  {
   "cell_type": "code",
   "execution_count": 26,
   "id": "de39f2e2",
   "metadata": {},
   "outputs": [
    {
     "data": {
      "text/plain": [
       "dict_values([24, 22, 26, 25])"
      ]
     },
     "execution_count": 26,
     "metadata": {},
     "output_type": "execute_result"
    }
   ],
   "source": [
    "# Verificando os valores do dicionário\n",
    "\n",
    "estudantes_dict.values()"
   ]
  },
  {
   "cell_type": "code",
   "execution_count": 27,
   "id": "a9f834ab",
   "metadata": {},
   "outputs": [
    {
     "data": {
      "text/plain": [
       "dict_items([('Mateus', 24), ('Fernanda', 22), ('Temires', 26), ('Cristiano', 25)])"
      ]
     },
     "execution_count": 27,
     "metadata": {},
     "output_type": "execute_result"
    }
   ],
   "source": [
    "# Verificando os items do dicionário, ou seja, {chave e valor}\n",
    "\n",
    "estudantes_dict.items()"
   ]
  },
  {
   "cell_type": "code",
   "execution_count": 28,
   "id": "e9683352",
   "metadata": {},
   "outputs": [],
   "source": [
    "# Declarando um dicionário\n",
    "\n",
    "estudantes_dict2 = {'Maria': 27, 'Erika': 28, 'Milton': 26}"
   ]
  },
  {
   "cell_type": "code",
   "execution_count": 29,
   "id": "ddc29451",
   "metadata": {},
   "outputs": [],
   "source": [
    "# Atualizando o dicionário (estudantes_dict) com os valores do dicionário (estudantes_dict2)\n",
    "# Notar que neste caso é feito praticamente uma concatenação\n",
    "\n",
    "estudantes_dict.update(estudantes_dict2)"
   ]
  },
  {
   "cell_type": "code",
   "execution_count": 31,
   "id": "a8bdc95d",
   "metadata": {},
   "outputs": [
    {
     "data": {
      "text/plain": [
       "{'Mateus': 24,\n",
       " 'Fernanda': 22,\n",
       " 'Temires': 26,\n",
       " 'Cristiano': 25,\n",
       " 'Maria': 27,\n",
       " 'Erika': 28,\n",
       " 'Milton': 26}"
      ]
     },
     "execution_count": 31,
     "metadata": {},
     "output_type": "execute_result"
    }
   ],
   "source": [
    "# Imprimindo o dicionário\n",
    "\n",
    "estudantes_dict"
   ]
  },
  {
   "cell_type": "code",
   "execution_count": 32,
   "id": "569d694e",
   "metadata": {},
   "outputs": [],
   "source": [
    "# Declarando um dicionário como vazio\n",
    "\n",
    "dic1 = {}"
   ]
  },
  {
   "cell_type": "code",
   "execution_count": 34,
   "id": "b1bd2580",
   "metadata": {},
   "outputs": [
    {
     "data": {
      "text/plain": [
       "{}"
      ]
     },
     "execution_count": 34,
     "metadata": {},
     "output_type": "execute_result"
    }
   ],
   "source": [
    "# Imprimindo o dicionário\n",
    "\n",
    "dic1"
   ]
  },
  {
   "cell_type": "code",
   "execution_count": 35,
   "id": "c8cb7dcc",
   "metadata": {},
   "outputs": [],
   "source": [
    "# Atribuindo um valor ao dicionário (dic1)\n",
    "\n",
    "dic1['key_one'] = 2"
   ]
  },
  {
   "cell_type": "code",
   "execution_count": 36,
   "id": "71ad1d08",
   "metadata": {},
   "outputs": [
    {
     "data": {
      "text/plain": [
       "{'key_one': 2}"
      ]
     },
     "execution_count": 36,
     "metadata": {},
     "output_type": "execute_result"
    }
   ],
   "source": [
    "# Imprimindo o dicionário\n",
    "\n",
    "dic1"
   ]
  },
  {
   "cell_type": "code",
   "execution_count": 37,
   "id": "fe392b32",
   "metadata": {},
   "outputs": [],
   "source": [
    "# Atribuindo um valor ao dicionário (dic1)\n",
    "\n",
    "dic1[10] = 5"
   ]
  },
  {
   "cell_type": "code",
   "execution_count": 38,
   "id": "e34ee0cf",
   "metadata": {},
   "outputs": [
    {
     "data": {
      "text/plain": [
       "{'key_one': 2, 10: 5}"
      ]
     },
     "execution_count": 38,
     "metadata": {},
     "output_type": "execute_result"
    }
   ],
   "source": [
    "# Imprimindo o dicionário\n",
    "\n",
    "dic1"
   ]
  },
  {
   "cell_type": "code",
   "execution_count": 39,
   "id": "a9babdab",
   "metadata": {},
   "outputs": [],
   "source": [
    "# Atribuindo um valor ao dicionário (dic1)\n",
    "\n",
    "dic1[8.2] = 'Python'"
   ]
  },
  {
   "cell_type": "code",
   "execution_count": 40,
   "id": "e06a8ede",
   "metadata": {},
   "outputs": [
    {
     "data": {
      "text/plain": [
       "{'key_one': 2, 10: 5, 8.2: 'Python'}"
      ]
     },
     "execution_count": 40,
     "metadata": {},
     "output_type": "execute_result"
    }
   ],
   "source": [
    "# Imprimindo o dicionário\n",
    "\n",
    "dic1"
   ]
  },
  {
   "cell_type": "code",
   "execution_count": 41,
   "id": "bc366e9f",
   "metadata": {},
   "outputs": [],
   "source": [
    "# Atribuindo um valor ao dicionário (dic1)\n",
    "\n",
    "dic1['teste'] = 5"
   ]
  },
  {
   "cell_type": "code",
   "execution_count": 42,
   "id": "69d47434",
   "metadata": {},
   "outputs": [
    {
     "data": {
      "text/plain": [
       "{'key_one': 2, 10: 5, 8.2: 'Python', 'teste': 5}"
      ]
     },
     "execution_count": 42,
     "metadata": {},
     "output_type": "execute_result"
    }
   ],
   "source": [
    "# Imprimindo o dicionário\n",
    "\n",
    "dic1"
   ]
  },
  {
   "cell_type": "code",
   "execution_count": 43,
   "id": "20f15104",
   "metadata": {},
   "outputs": [],
   "source": [
    "# Declarando um dicionário como vazio\n",
    "\n",
    "dict1 = {}"
   ]
  },
  {
   "cell_type": "code",
   "execution_count": 44,
   "id": "ef53f2fe",
   "metadata": {},
   "outputs": [
    {
     "data": {
      "text/plain": [
       "{}"
      ]
     },
     "execution_count": 44,
     "metadata": {},
     "output_type": "execute_result"
    }
   ],
   "source": [
    "# Imprimindo o dicionário\n",
    "\n",
    "dict1"
   ]
  },
  {
   "cell_type": "code",
   "execution_count": 45,
   "id": "489a0242",
   "metadata": {},
   "outputs": [],
   "source": [
    "# Atribuindo um valor ao dicionário (dict1)\n",
    "\n",
    "dict1['teste'] = 10"
   ]
  },
  {
   "cell_type": "code",
   "execution_count": 46,
   "id": "e3f0220a",
   "metadata": {},
   "outputs": [
    {
     "data": {
      "text/plain": [
       "{'teste': 10}"
      ]
     },
     "execution_count": 46,
     "metadata": {},
     "output_type": "execute_result"
    }
   ],
   "source": [
    "# Imprimindo o dicionário\n",
    "\n",
    "dict1"
   ]
  },
  {
   "cell_type": "code",
   "execution_count": 47,
   "id": "3ae1bdfa",
   "metadata": {},
   "outputs": [],
   "source": [
    "# Atribuindo um valor ao dicionário (dict1)\n",
    "\n",
    "dict1['key'] = 'teste'"
   ]
  },
  {
   "cell_type": "code",
   "execution_count": 48,
   "id": "2ef14c65",
   "metadata": {},
   "outputs": [
    {
     "data": {
      "text/plain": [
       "{'teste': 10, 'key': 'teste'}"
      ]
     },
     "execution_count": 48,
     "metadata": {},
     "output_type": "execute_result"
    }
   ],
   "source": [
    "# Imprimindo o dicionário\n",
    "\n",
    "dict1"
   ]
  },
  {
   "cell_type": "code",
   "execution_count": 49,
   "id": "6765389e",
   "metadata": {},
   "outputs": [],
   "source": [
    "# Declarando um dicionário como vazio\n",
    "\n",
    "dict2 = {}"
   ]
  },
  {
   "cell_type": "code",
   "execution_count": 50,
   "id": "18a0bbb6",
   "metadata": {},
   "outputs": [
    {
     "data": {
      "text/plain": [
       "{}"
      ]
     },
     "execution_count": 50,
     "metadata": {},
     "output_type": "execute_result"
    }
   ],
   "source": [
    "# Imprimindo o dicionário\n",
    "\n",
    "dict2"
   ]
  },
  {
   "cell_type": "code",
   "execution_count": 52,
   "id": "62ee80cf",
   "metadata": {},
   "outputs": [],
   "source": [
    "# Atribuindo um valor ao dicionário (dict2)\n",
    "\n",
    "dict2['key'] = 'Big Data'"
   ]
  },
  {
   "cell_type": "code",
   "execution_count": 53,
   "id": "6937b311",
   "metadata": {},
   "outputs": [
    {
     "data": {
      "text/plain": [
       "{'key': 'Big Data'}"
      ]
     },
     "execution_count": 53,
     "metadata": {},
     "output_type": "execute_result"
    }
   ],
   "source": [
    "# Imprimindo o dicionário\n",
    "\n",
    "dict2"
   ]
  },
  {
   "cell_type": "code",
   "execution_count": 54,
   "id": "d4f95b95",
   "metadata": {},
   "outputs": [],
   "source": [
    "# Atribuindo um valor ao dicionário (dict2)\n",
    "\n",
    "dict2['key2'] = 10"
   ]
  },
  {
   "cell_type": "code",
   "execution_count": 55,
   "id": "a8a39e3c",
   "metadata": {},
   "outputs": [
    {
     "data": {
      "text/plain": [
       "{'key': 'Big Data', 'key2': 10}"
      ]
     },
     "execution_count": 55,
     "metadata": {},
     "output_type": "execute_result"
    }
   ],
   "source": [
    "# Imprimindo o dicionário\n",
    "\n",
    "dict2"
   ]
  },
  {
   "cell_type": "code",
   "execution_count": 56,
   "id": "5f504690",
   "metadata": {},
   "outputs": [],
   "source": [
    "# Atribuindo um valor ao dicionário (dict2)\n",
    "\n",
    "dict2['key3'] = 5.6"
   ]
  },
  {
   "cell_type": "code",
   "execution_count": 57,
   "id": "dc4397ec",
   "metadata": {},
   "outputs": [
    {
     "data": {
      "text/plain": [
       "{'key': 'Big Data', 'key2': 10, 'key3': 5.6}"
      ]
     },
     "execution_count": 57,
     "metadata": {},
     "output_type": "execute_result"
    }
   ],
   "source": [
    "# Imprimindo o dicionário\n",
    "\n",
    "dict2"
   ]
  },
  {
   "cell_type": "code",
   "execution_count": 58,
   "id": "cbd977e1",
   "metadata": {},
   "outputs": [],
   "source": [
    "# Atribuindo o valor da chave [key], que no caso seria o [Big Data] na variável (a)\n",
    "\n",
    "a = dict2['key']"
   ]
  },
  {
   "cell_type": "code",
   "execution_count": 59,
   "id": "c03093f9",
   "metadata": {},
   "outputs": [],
   "source": [
    "# Atribuindo o valor da chave [key], que no caso seria o [10] na variável (b)\n",
    "\n",
    "b = dict2['key2']"
   ]
  },
  {
   "cell_type": "code",
   "execution_count": 60,
   "id": "817094c5",
   "metadata": {},
   "outputs": [],
   "source": [
    "# Atribuindo o valor da chave [key], que no caso seria o [5.6] na variável (c)\n",
    "\n",
    "c = dict2['key3']"
   ]
  },
  {
   "cell_type": "code",
   "execution_count": 61,
   "id": "23413f22",
   "metadata": {},
   "outputs": [
    {
     "data": {
      "text/plain": [
       "('Big Data', 10, 5.6)"
      ]
     },
     "execution_count": 61,
     "metadata": {},
     "output_type": "execute_result"
    }
   ],
   "source": [
    "# Imprimindo os valores das variáveis (a, b, c)\n",
    "\n",
    "a, b, c"
   ]
  },
  {
   "cell_type": "code",
   "execution_count": 62,
   "id": "2680d824",
   "metadata": {},
   "outputs": [],
   "source": [
    "# Declarando um dicionário de listas\n",
    "# As {chaves} terão valores que foram [listas]\n",
    "# Notar que as listas também podem ter qualquer tipo de valores\n",
    "\n",
    "dict3 = {'key': 1230, 'key2': [22, 453, 73.4], 'key3': ['leite', 'maçã', 'batata']}"
   ]
  },
  {
   "cell_type": "code",
   "execution_count": 63,
   "id": "a5a42847",
   "metadata": {},
   "outputs": [
    {
     "data": {
      "text/plain": [
       "{'key': 1230, 'key2': [22, 453, 73.4], 'key3': ['leite', 'maçã', 'batata']}"
      ]
     },
     "execution_count": 63,
     "metadata": {},
     "output_type": "execute_result"
    }
   ],
   "source": [
    "# Imprimindo o dicionário\n",
    "\n",
    "dict3"
   ]
  },
  {
   "cell_type": "code",
   "execution_count": 65,
   "id": "946da594",
   "metadata": {},
   "outputs": [
    {
     "data": {
      "text/plain": [
       "[22, 453, 73.4]"
      ]
     },
     "execution_count": 65,
     "metadata": {},
     "output_type": "execute_result"
    }
   ],
   "source": [
    "# Imprimindo o valor da chave {key2} do dicionário {dict3}, que no caso é [22, 453, 73.4], que seria uma lista\n",
    "\n",
    "dict3['key2']"
   ]
  },
  {
   "cell_type": "code",
   "execution_count": 66,
   "id": "ee0688d9",
   "metadata": {},
   "outputs": [
    {
     "data": {
      "text/plain": [
       "'LEITE'"
      ]
     },
     "execution_count": 66,
     "metadata": {},
     "output_type": "execute_result"
    }
   ],
   "source": [
    "# Acessando um item da lista da chave {key3} do dicionário {dict3}, que no caso seria {leite}\n",
    "# Esse valor é transformado em maiúscula\n",
    "\n",
    "dict3['key3'][0].upper()"
   ]
  },
  {
   "cell_type": "code",
   "execution_count": 67,
   "id": "67ea9dd6",
   "metadata": {},
   "outputs": [],
   "source": [
    "# Operações com itens da lista, dentro do próprio dicionário\n",
    "# Declarando valor na variável (var1), onde o valor da chave {key2} é {22}\n",
    "# Esse valor será subtraído por (-2)\n",
    "\n",
    "var1 = dict3['key2'][0] - 2"
   ]
  },
  {
   "cell_type": "code",
   "execution_count": 69,
   "id": "53de8772",
   "metadata": {},
   "outputs": [
    {
     "data": {
      "text/plain": [
       "20"
      ]
     },
     "execution_count": 69,
     "metadata": {},
     "output_type": "execute_result"
    }
   ],
   "source": [
    "# Imprimindo a variável (var1)\n",
    "\n",
    "var1"
   ]
  },
  {
   "cell_type": "code",
   "execution_count": 70,
   "id": "29aac0ed",
   "metadata": {},
   "outputs": [],
   "source": [
    "# Duas operações no mesmo comando, para atualizar um item dentro da lista\n",
    "# Da mesma forma acima, onde realizamos uma operação, essa mesma operação irá atualizar o valor da lista\n",
    "# O valor será atualizado, pois, diferente da operação acima, não estamos realizando a declaração de uma variável\n",
    "# Também é necessário adicionar o comando (=) para realizar essa alteração\n",
    "# Aqui haverá uma atualização de valor\n",
    "\n",
    "dict3['key2'][0] -= 2"
   ]
  },
  {
   "cell_type": "code",
   "execution_count": 71,
   "id": "66ef4147",
   "metadata": {},
   "outputs": [
    {
     "data": {
      "text/plain": [
       "{'key': 1230, 'key2': [20, 453, 73.4], 'key3': ['leite', 'maçã', 'batata']}"
      ]
     },
     "execution_count": 71,
     "metadata": {},
     "output_type": "execute_result"
    }
   ],
   "source": [
    "# Imprimindo o dicionário\n",
    "\n",
    "dict3"
   ]
  },
  {
   "cell_type": "markdown",
   "id": "f33832d1",
   "metadata": {},
   "source": [
    "### Criando dicionários aninhados"
   ]
  },
  {
   "cell_type": "code",
   "execution_count": 72,
   "id": "a0a9fd06",
   "metadata": {},
   "outputs": [],
   "source": [
    "# Criando dicionários aninhados\n",
    "# Tomar cuidado com este tipo de operação, pois, esse tipo de operação se torna complexo\n",
    "\n",
    "dict_aninhado = {'key1':{'key2_aninhada':{'key3_aninhada':'Dict aninhado em Python'}}}"
   ]
  },
  {
   "cell_type": "code",
   "execution_count": 73,
   "id": "20734d9a",
   "metadata": {},
   "outputs": [
    {
     "data": {
      "text/plain": [
       "{'key1': {'key2_aninhada': {'key3_aninhada': 'Dict aninhado em Python'}}}"
      ]
     },
     "execution_count": 73,
     "metadata": {},
     "output_type": "execute_result"
    }
   ],
   "source": [
    "# Imprimindo o dicionário\n",
    "\n",
    "dict_aninhado"
   ]
  },
  {
   "cell_type": "code",
   "execution_count": 78,
   "id": "31c6e824",
   "metadata": {},
   "outputs": [
    {
     "data": {
      "text/plain": [
       "'Dict aninhado em Python'"
      ]
     },
     "execution_count": 78,
     "metadata": {},
     "output_type": "execute_result"
    }
   ],
   "source": [
    "# Imprimindo o valor da chave [key3_aninhada] do dicionário [dict_aninhado]\n",
    "\n",
    "dict_aninhado['key1']['key2_aninhada']['key3_aninhada']"
   ]
  },
  {
   "cell_type": "markdown",
   "id": "53a15c39",
   "metadata": {},
   "source": [
    "### Fim\n",
    "\n",
    "#### Obrigado - Data Science Academy - facebook.com/dsacademybr"
   ]
  }
 ],
 "metadata": {
  "kernelspec": {
   "display_name": "Python 3 (ipykernel)",
   "language": "python",
   "name": "python3"
  },
  "language_info": {
   "codemirror_mode": {
    "name": "ipython",
    "version": 3
   },
   "file_extension": ".py",
   "mimetype": "text/x-python",
   "name": "python",
   "nbconvert_exporter": "python",
   "pygments_lexer": "ipython3",
   "version": "3.9.7"
  }
 },
 "nbformat": 4,
 "nbformat_minor": 5
}
