{
 "cells": [
  {
   "cell_type": "markdown",
   "id": "05fcf9a4",
   "metadata": {},
   "source": [
    "---\n",
    "\n",
    "## Introdução sobre o Great Expecations.\n",
    "\n",
    "---\n",
    "\n",
    "### Neste notebook faremos uma breve introdução ao tema e utilização de Great Expectations.\n",
    "\n",
    "---\n",
    "\n",
    "### Saiba mais sobre o Great Expectations nos tópicos abaixo.\n",
    "\n",
    "#### - Site oficial e documentação v3: https://docs.greatexpectations.io/docs/\n",
    "\n",
    "#### - Site oficial e documentação v2: https://legacy.docs.greatexpectations.io/en/latest/\n",
    "\n",
    "#### - Glossary of Expectations da documentação v2: https://legacy.docs.greatexpectations.io/en/latest/reference/glossary_of_expectations.html#expectation-glossary\n",
    "\n",
    "#### - Glossary of Terms General da documentação v3: https://docs.greatexpectations.io/docs/glossary\n",
    "\n",
    "#### - Glossary of Terms Expectations da documentação v3: https://docs.greatexpectations.io/docs/terms/expectation\n",
    "\n",
    "#### - Repositório no Github: https://github.com/great-expectations/great_expectations\n",
    "\n",
    "#### - Casos de uso: https://greatexpectations.io/case-studies/\n",
    "\n",
    "#### - Datasets para análises, testes, exploração, entre outros: https://www.kaggle.com/\n",
    "\n",
    "#### - Dataset utilizado nesse notebook: https://www.kaggle.com/datasets/uciml/default-of-credit-card-clients-dataset\n",
    "\n",
    "#### - Canal do Youtube: https://www.youtube.com/c/GreatExpectationsData/videos\n",
    "\n",
    "---"
   ]
  },
  {
   "cell_type": "markdown",
   "id": "c279992f",
   "metadata": {},
   "source": [
    "### Algumas perguntas para analisarmos que podem ajudar na utilização do Great Expectations\n",
    "\n",
    "\n",
    "- Is my data rigth?\n",
    "- Meus dados estão corretos?\n",
    "\n",
    "\n",
    "\t- Does it have nulls it shouldn't ?\n",
    "\t- Tem nulos que não deveria?\n",
    "\t\n",
    "\t\t- How many values are null ?\n",
    "\t\t- Quantos valores são nulos?\n",
    "\t\t\n",
    "\t- Does it have the right distribution ?\n",
    "\t- Tem a distribuição correta?\n",
    "\t\n",
    "\t\t- What are the quantiles ?\n",
    "\t\t- Quais são os quantis?\n",
    "\t\t\n",
    "\t\t- What is the entropy relative to a given distribuition ?\n",
    "\t\t- Qual é a entropia relativa a uma dada distribuição ?\n",
    "\t\n",
    "\t- Do the values look like they should ?\n",
    "\t- Os valores parecem como deveriam?\n",
    "\t\n",
    "\t\t- Do the values match a given regex ?\n",
    "\t\t- Os valores correspondem a um determinado regex?\n"
   ]
  },
  {
   "cell_type": "code",
   "execution_count": null,
   "id": "a5ddf18f",
   "metadata": {},
   "outputs": [],
   "source": []
  },
  {
   "cell_type": "code",
   "execution_count": null,
   "id": "a3657a84",
   "metadata": {},
   "outputs": [],
   "source": []
  },
  {
   "cell_type": "code",
   "execution_count": null,
   "id": "5968b27c",
   "metadata": {},
   "outputs": [],
   "source": []
  },
  {
   "cell_type": "code",
   "execution_count": null,
   "id": "6501bbc0",
   "metadata": {},
   "outputs": [],
   "source": []
  },
  {
   "cell_type": "code",
   "execution_count": null,
   "id": "68f488e8",
   "metadata": {},
   "outputs": [],
   "source": []
  },
  {
   "cell_type": "code",
   "execution_count": null,
   "id": "e6a6e152",
   "metadata": {},
   "outputs": [],
   "source": []
  },
  {
   "cell_type": "code",
   "execution_count": null,
   "id": "7f59ecc1",
   "metadata": {},
   "outputs": [],
   "source": []
  },
  {
   "cell_type": "code",
   "execution_count": null,
   "id": "f710ac56",
   "metadata": {},
   "outputs": [],
   "source": []
  },
  {
   "cell_type": "code",
   "execution_count": null,
   "id": "dfb034f8",
   "metadata": {},
   "outputs": [],
   "source": []
  },
  {
   "cell_type": "code",
   "execution_count": null,
   "id": "c7ff85bd",
   "metadata": {},
   "outputs": [],
   "source": []
  },
  {
   "cell_type": "code",
   "execution_count": null,
   "id": "0be3d7b5",
   "metadata": {},
   "outputs": [],
   "source": []
  },
  {
   "cell_type": "code",
   "execution_count": null,
   "id": "f77d9e77",
   "metadata": {},
   "outputs": [],
   "source": []
  },
  {
   "cell_type": "code",
   "execution_count": null,
   "id": "ddf9247b",
   "metadata": {},
   "outputs": [],
   "source": []
  },
  {
   "cell_type": "code",
   "execution_count": null,
   "id": "e16abaa1",
   "metadata": {},
   "outputs": [],
   "source": []
  },
  {
   "cell_type": "code",
   "execution_count": null,
   "id": "b2ef2858",
   "metadata": {},
   "outputs": [],
   "source": []
  }
 ],
 "metadata": {
  "kernelspec": {
   "display_name": "Python 3 (ipykernel)",
   "language": "python",
   "name": "python3"
  },
  "language_info": {
   "codemirror_mode": {
    "name": "ipython",
    "version": 3
   },
   "file_extension": ".py",
   "mimetype": "text/x-python",
   "name": "python",
   "nbconvert_exporter": "python",
   "pygments_lexer": "ipython3",
   "version": "3.9.12"
  }
 },
 "nbformat": 4,
 "nbformat_minor": 5
}
