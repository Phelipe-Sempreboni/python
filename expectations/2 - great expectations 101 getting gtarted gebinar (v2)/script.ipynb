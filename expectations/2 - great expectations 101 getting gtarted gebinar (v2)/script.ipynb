{
 "cells": [
  {
   "cell_type": "markdown",
   "id": "4b69e2f9",
   "metadata": {},
   "source": [
    "---\n",
    "\n",
    "## Introdução sobre o Great Expecations.\n",
    "\n",
    "---\n",
    "\n",
    "### Neste notebook faremos uma breve introdução ao tema e utilização de Great Expectations.\n",
    "\n",
    "---\n",
    "\n",
    "### Saiba mais sobre o Great Expectations nos tópicos abaixo.\n",
    "\n",
    "#### - Site oficial e documentação v3: https://docs.greatexpectations.io/docs/\n",
    "\n",
    "#### - Site oficial e documentação v2: https://legacy.docs.greatexpectations.io/en/latest/\n",
    "\n",
    "#### - Glossary of Expectations da documentação v2: https://legacy.docs.greatexpectations.io/en/latest/reference/glossary_of_expectations.html#expectation-glossary\n",
    "\n",
    "#### - Glossary of Terms General da documentação v3: https://docs.greatexpectations.io/docs/glossary\n",
    "\n",
    "#### - Glossary of Terms Expectations da documentação v3: https://docs.greatexpectations.io/docs/terms/expectation\n",
    "\n",
    "#### - Repositório no Github: https://github.com/great-expectations/great_expectations\n",
    "\n",
    "#### - Casos de uso: https://greatexpectations.io/case-studies/\n",
    "\n",
    "#### - Datasets para análises, testes, exploração, entre outros: https://www.kaggle.com/\n",
    "\n",
    "#### - Dataset utilizado nesse notebook: https://www.kaggle.com/datasets/uciml/default-of-credit-card-clients-dataset\n",
    "\n",
    "#### - Canal do Youtube: https://www.youtube.com/c/GreatExpectationsData/videos\n",
    "\n",
    "---"
   ]
  },
  {
   "cell_type": "markdown",
   "id": "30f3b14e",
   "metadata": {},
   "source": [
    "### Algumas perguntas para analisarmos que podem ajudar na utilização do Great Expectations\n",
    "\n",
    "\n",
    "- Is my data rigth?\n",
    "- Meus dados estão corretos?\n",
    "\n",
    "\n",
    "\t- Does it have nulls it shouldn't ?\n",
    "\t- Tem nulos que não deveria?\n",
    "\t\n",
    "\t\t- How many values are null ?\n",
    "\t\t- Quantos valores são nulos?\n",
    "\t\t\n",
    "\t- Does it have the right distribution ?\n",
    "\t- Tem a distribuição correta?\n",
    "\t\n",
    "\t\t- What are the quantiles ?\n",
    "\t\t- Quais são os quantis?\n",
    "\t\t\n",
    "\t\t- What is the entropy relative to a given distribuition ?\n",
    "\t\t- Qual é a entropia relativa a uma dada distribuição ?\n",
    "\t\n",
    "\t- Do the values look like they should ?\n",
    "\t- Os valores parecem como deveriam?\n",
    "\t\n",
    "\t\t- Do the values match a given regex ?\n",
    "\t\t- Os valores correspondem a um determinado regex?\n"
   ]
  },
  {
   "cell_type": "markdown",
   "id": "a7091b0e",
   "metadata": {},
   "source": [
    "---\n",
    "\n",
    "### Primeiramente iremos criar um ambiente virtual com Python para utilizar e iniciar o \"great_expectations\".\n",
    "\n",
    "### Porquê criar um ambiente virtual ? \n",
    "\n",
    "### - Primeiro porquê essa é uma própria orientação da documentação.\n",
    "\n",
    "### - Segundo porquê para iniciar o \"great_expectations\" com o comando \"great_expectations init\", a possibilidade de erro é muito menor com um ambiente virtual.\n",
    "\n",
    "---\n",
    "\n",
    "### Realize a criação do ambiente virtual no mesmo local que este script for executado.\n",
    "\n",
    "---\n",
    "\n",
    "### Para criar um ambienten virtual com Python, você pode verificar como realizar essa criação neste link ao lado: https://github.com/Phelipe-Sempreboni/python/blob/main/tutorials/creation%2C%20activation%20and%20use%20of%20virtualenv/documentation.md\n",
    "\n",
    "---"
   ]
  },
  {
   "cell_type": "code",
   "execution_count": null,
   "id": "43cb31e2",
   "metadata": {},
   "outputs": [],
   "source": []
  },
  {
   "cell_type": "code",
   "execution_count": null,
   "id": "5743af6b",
   "metadata": {},
   "outputs": [],
   "source": []
  },
  {
   "cell_type": "code",
   "execution_count": null,
   "id": "0589dab6",
   "metadata": {},
   "outputs": [],
   "source": []
  },
  {
   "cell_type": "code",
   "execution_count": null,
   "id": "c5e1b51f",
   "metadata": {},
   "outputs": [],
   "source": []
  },
  {
   "cell_type": "code",
   "execution_count": null,
   "id": "d1362fe6",
   "metadata": {},
   "outputs": [],
   "source": []
  },
  {
   "cell_type": "code",
   "execution_count": null,
   "id": "4d1cdc7a",
   "metadata": {},
   "outputs": [],
   "source": []
  },
  {
   "cell_type": "code",
   "execution_count": null,
   "id": "922c3f69",
   "metadata": {},
   "outputs": [],
   "source": []
  },
  {
   "cell_type": "code",
   "execution_count": null,
   "id": "7ebcf945",
   "metadata": {},
   "outputs": [],
   "source": []
  },
  {
   "cell_type": "code",
   "execution_count": null,
   "id": "0e3f1a28",
   "metadata": {},
   "outputs": [],
   "source": []
  },
  {
   "cell_type": "code",
   "execution_count": null,
   "id": "bbac654d",
   "metadata": {},
   "outputs": [],
   "source": []
  },
  {
   "cell_type": "code",
   "execution_count": null,
   "id": "2cbaa1d1",
   "metadata": {},
   "outputs": [],
   "source": []
  },
  {
   "cell_type": "code",
   "execution_count": null,
   "id": "e402062b",
   "metadata": {},
   "outputs": [],
   "source": []
  },
  {
   "cell_type": "code",
   "execution_count": null,
   "id": "f6b51e39",
   "metadata": {},
   "outputs": [],
   "source": []
  },
  {
   "cell_type": "code",
   "execution_count": null,
   "id": "1015730f",
   "metadata": {},
   "outputs": [],
   "source": []
  }
 ],
 "metadata": {
  "kernelspec": {
   "display_name": "Python 3 (ipykernel)",
   "language": "python",
   "name": "python3"
  },
  "language_info": {
   "codemirror_mode": {
    "name": "ipython",
    "version": 3
   },
   "file_extension": ".py",
   "mimetype": "text/x-python",
   "name": "python",
   "nbconvert_exporter": "python",
   "pygments_lexer": "ipython3",
   "version": "3.9.12"
  }
 },
 "nbformat": 4,
 "nbformat_minor": 5
}
