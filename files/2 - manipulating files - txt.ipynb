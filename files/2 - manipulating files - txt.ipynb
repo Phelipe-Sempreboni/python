{
 "cells": [
  {
   "cell_type": "markdown",
   "id": "cd844e08",
   "metadata": {},
   "source": [
    "### Manipulação de arquivos\n",
    "\n",
    "* Arquivo TXT"
   ]
  },
  {
   "cell_type": "markdown",
   "id": "207ada78",
   "metadata": {},
   "source": [
    "### Manipulando Arquivos - TXT"
   ]
  },
  {
   "cell_type": "code",
   "execution_count": 29,
   "id": "5f128d7f",
   "metadata": {},
   "outputs": [],
   "source": [
    "# Declarando a variável texto e utilizando a variável uma na sequência da outra\n",
    "\n",
    "texto = 'Cientista de Dados é a profissão que mais tem crescido em todo o mundo.\\n'\n",
    "texto = texto + 'Esses profissionais precisam se especializar em Programação, Estatística e Machine Learning.\\n'\n",
    "texto += 'E claro, em Big Data'"
   ]
  },
  {
   "cell_type": "code",
   "execution_count": 30,
   "id": "b5372145",
   "metadata": {},
   "outputs": [
    {
     "name": "stdout",
     "output_type": "stream",
     "text": [
      "Cientista de Dados é a profissão que mais tem crescido em todo o mundo.\n",
      "Esses profissionais precisam se especializar em Programação, Estatística e Machine Learning.\n",
      "E claro, em Big Data\n"
     ]
    }
   ],
   "source": [
    "# Imprimindo mensagem na tela\n",
    "\n",
    "print(texto)"
   ]
  },
  {
   "cell_type": "code",
   "execution_count": 31,
   "id": "d22107f0",
   "metadata": {},
   "outputs": [],
   "source": [
    "# Importando a biblioteca os\n",
    "# Essa biblioteca é para realizar manipulações no sistema operacional\n",
    "# Essa biblioteca é muito útil\n",
    "\n",
    "import os"
   ]
  },
  {
   "cell_type": "code",
   "execution_count": 32,
   "id": "8277c423",
   "metadata": {},
   "outputs": [],
   "source": [
    "# Criando um arquivo chamado (scientist.txt)\n",
    "# Se o arquivo não existir no repositório, com o comando (w - write) será criado\n",
    "# Caso o arquivo exista no repositório, então será subscrito\n",
    "\n",
    "arquivo = open(os.path.join('archives/scientist.txt'), 'w')"
   ]
  },
  {
   "cell_type": "code",
   "execution_count": 33,
   "id": "b94703c2",
   "metadata": {},
   "outputs": [],
   "source": [
    "# Gravando os dados no arquivo\n",
    "# Utilizando o loop for para realizar a tarefa\n",
    "# O comando (split - divisão) realiza a separação de string\n",
    "# Se nada for declarado como parametro no (split - divisão), então irá separa separa a string por espaço em branco\n",
    "# Logo, para cada palabra que o loop for encontrar, será gravado essa palavra com o espaço em branco para separar as palavras\n",
    "\n",
    "for palavra in text.split():\n",
    "    arquivo.write(palavra + ' ')"
   ]
  },
  {
   "cell_type": "code",
   "execution_count": 34,
   "id": "f7c4e063",
   "metadata": {},
   "outputs": [],
   "source": [
    "# Fechando o arquivo\n",
    "\n",
    "arquivo.close()"
   ]
  },
  {
   "cell_type": "code",
   "execution_count": 37,
   "id": "88dee7aa",
   "metadata": {},
   "outputs": [
    {
     "name": "stdout",
     "output_type": "stream",
     "text": [
      "Cientista de Dados é a profissão que mais tem crescido em todo o mundo. Esses profissionais precisam se especializar em Programação, Estatística e Machine Learning. \n"
     ]
    }
   ],
   "source": [
    "# Abrindo o arquivo\n",
    "# Lendo o arquivo\n",
    "# Fechando o arquivo\n",
    "# Immprimindo na tela a mensagem\n",
    "\n",
    "arquivo = open('archives/scientist.txt', 'r')\n",
    "conteudo = arquivo.read()\n",
    "arquivo.close()\n",
    "print(conteudo)"
   ]
  },
  {
   "cell_type": "markdown",
   "id": "444399c8",
   "metadata": {},
   "source": [
    "### Usando a expressão with\n",
    "\n",
    "O método close() é executado automaticamente nesta expressão"
   ]
  },
  {
   "cell_type": "code",
   "execution_count": 39,
   "id": "5e695621",
   "metadata": {},
   "outputs": [],
   "source": [
    "# O comando with é parecido com a palavra (com) em português\n",
    "# Este comando é uma das maneiras de realizar a leitura de um arquivo\n",
    "# Notar que na mesma linha conseguir realizar a leitura do arquivo e aplicar um (alias), ou seja, renomead\n",
    "# Logo abaixo, realiar a leitura do arquivo e gravamos na variável (conteúdo)\n",
    "\n",
    "with open('archives/scientist.txt', 'r') as arquivo:\n",
    "    conteudo = arquivo.read()"
   ]
  },
  {
   "cell_type": "code",
   "execution_count": 41,
   "id": "0a96c4e2",
   "metadata": {},
   "outputs": [
    {
     "name": "stdout",
     "output_type": "stream",
     "text": [
      "165\n"
     ]
    }
   ],
   "source": [
    "# Aqui estamos imprimindo a quantidade de caracateres no texto com o comando (len)\n",
    "\n",
    "print(len(conteudo))"
   ]
  },
  {
   "cell_type": "code",
   "execution_count": 42,
   "id": "e8f2ab4a",
   "metadata": {},
   "outputs": [
    {
     "name": "stdout",
     "output_type": "stream",
     "text": [
      "Cientista de Dados é a profissão que mais tem crescido em todo o mundo. Esses profissionais precisam se especializar em Programação, Estatística e Machine Learning. \n"
     ]
    }
   ],
   "source": [
    "# Imprimindo mensagem na tela\n",
    "\n",
    "print(conteudo)"
   ]
  },
  {
   "cell_type": "code",
   "execution_count": 47,
   "id": "667f747b",
   "metadata": {},
   "outputs": [
    {
     "name": "stdout",
     "output_type": "stream",
     "text": [
      "<_io.TextIOWrapper name='archives/scientist.txt' mode='w' encoding='cp1252'>\n"
     ]
    }
   ],
   "source": [
    "# O comando with é parecido com a palavra (com) em português\n",
    "# Este comando é uma das maneiras de realizar a leitura de um arquivo\n",
    "# Notar que na mesma linha conseguir realizar a leitura do arquivo e aplicar um (alias), ou seja, renomead\n",
    "# Logo abaixo, realiar a leitura do arquivo e gravamos na variável (conteúdo)\n",
    "\n",
    "with open('archives/scientist.txt', 'w') as arquivo:\n",
    "    arquivo.write(texto[:21])\n",
    "    arquivo.write('\\n')\n",
    "    arquivo.write(texto[:33])\n",
    "print(arquivo)"
   ]
  },
  {
   "cell_type": "code",
   "execution_count": 46,
   "id": "af06b033",
   "metadata": {},
   "outputs": [
    {
     "name": "stdout",
     "output_type": "stream",
     "text": [
      "Cientista de Dados é a profissão que mais tem crescido em todo o mundo.\n",
      "Esses profissionais precisam se especializar em Programação, Estatística e Machine Learning.\n",
      "E claro, em Big Data\n"
     ]
    }
   ],
   "source": [
    "# Abrindo o arquivo\n",
    "# Lendo o arquivo\n",
    "# Fechando o arquivo\n",
    "# Immprimindo na tela a mensagem\n",
    "\n",
    "arquivo = open('archives/archive3.txt', 'r')\n",
    "conteudo = arquivo.read()\n",
    "arquivo.close()\n",
    "print(texto)"
   ]
  }
 ],
 "metadata": {
  "kernelspec": {
   "display_name": "Python 3.9.12 ('base')",
   "language": "python",
   "name": "python3"
  },
  "language_info": {
   "codemirror_mode": {
    "name": "ipython",
    "version": 3
   },
   "file_extension": ".py",
   "mimetype": "text/x-python",
   "name": "python",
   "nbconvert_exporter": "python",
   "pygments_lexer": "ipython3",
   "version": "3.9.12"
  },
  "vscode": {
   "interpreter": {
    "hash": "43d2b95be17b528948ca6738cd702ddc7b27905b2c3b25ff995d07896fbaa29e"
   }
  }
 },
 "nbformat": 4,
 "nbformat_minor": 5
}
