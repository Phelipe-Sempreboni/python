{
 "cells": [
  {
   "cell_type": "markdown",
   "id": "119ca2de",
   "metadata": {},
   "source": [
    "### Manipulação de arquivos\n",
    "\n",
    "* Arquivo CSV"
   ]
  },
  {
   "cell_type": "markdown",
   "id": "ecbc2fe4",
   "metadata": {},
   "source": [
    "### Manipulando Arquivos CSV (comma-separated values ou arquivos separados por vírgulas)"
   ]
  },
  {
   "cell_type": "code",
   "execution_count": 1,
   "id": "d627be74",
   "metadata": {},
   "outputs": [],
   "source": [
    "# Importando a biblioteca csv\n",
    "\n",
    "import csv"
   ]
  },
  {
   "cell_type": "code",
   "execution_count": 7,
   "id": "fb1b9a9a",
   "metadata": {},
   "outputs": [],
   "source": [
    "# Criando um arquivo chamado numeros.csv\n",
    "\n",
    "with open('archives/numbers.csv', 'w') as arquivo:\n",
    "    \n",
    "    # Declarando a variável (writer) e atribuindo o comando para escrita de arquivos\n",
    "    writer = csv.writer(arquivo)\n",
    "    \n",
    "    # Utilizando a variável declarada com o comando (writerow) para escrever no arquivo criado\n",
    "    writer.writerow(('primeira', 'segunda', 'terceira'))\n",
    "\n",
    "    # Utilizando a variável declarada com o comando (writerow) para escrever no arquivo criado\n",
    "    writer.writerow((55, 93, 76))\n",
    "    \n",
    "    # Utilizando a variável declarada com o comando (writerow) para escrever no arquivo criado\n",
    "    writer.writerow((62, 14, 86))"
   ]
  },
  {
   "cell_type": "code",
   "execution_count": 8,
   "id": "882a4665",
   "metadata": {},
   "outputs": [
    {
     "name": "stdout",
     "output_type": "stream",
     "text": [
      "Número de colunas:  3\n",
      "['primeira', 'segunda', 'terceira']\n",
      "Número de colunas:  0\n",
      "[]\n",
      "Número de colunas:  3\n",
      "['55', '93', '76']\n",
      "Número de colunas:  0\n",
      "[]\n",
      "Número de colunas:  3\n",
      "['62', '14', '86']\n",
      "Número de colunas:  0\n",
      "[]\n"
     ]
    }
   ],
   "source": [
    "# Lendo o arquivo csv\n",
    "\n",
    "with open('archives/numbers.csv', 'r') as arquivo:\n",
    "    \n",
    "    # Criando a variável (leitor) e atribuindo o comando para leitura do arquivo\n",
    "    leitor = csv.reader(arquivo)\n",
    "    \n",
    "    # Utilizando o loop for\n",
    "    for x in leitor:\n",
    "        \n",
    "        # Imprimindo na mensagem a quantidade de colunas com o comando len\n",
    "        print('Número de colunas: ', len(x))\n",
    "        \n",
    "        # Imprimindo valores na tela\n",
    "        print(x)"
   ]
  },
  {
   "cell_type": "code",
   "execution_count": 10,
   "id": "7f7dc15f",
   "metadata": {},
   "outputs": [
    {
     "name": "stdout",
     "output_type": "stream",
     "text": [
      "[['primeira', 'segunda', 'terceira'], [], ['55', '93', '76'], [], ['62', '14', '86'], []]\n"
     ]
    }
   ],
   "source": [
    "# Lendo o arquivo csv e transformando em uma lista\n",
    "\n",
    "with open('archives/numbers.csv', 'r') as arquivo:\n",
    "    \n",
    "    # Lendo o arquivo\n",
    "    leitor = csv.reader(arquivo)\n",
    "    \n",
    "    # Transformando em uma lista\n",
    "    dados = list(leitor)\n",
    "    \n",
    "# Imprimindo mensagem na tela\n",
    "print(dados)"
   ]
  },
  {
   "cell_type": "code",
   "execution_count": 16,
   "id": "07848f5f",
   "metadata": {},
   "outputs": [
    {
     "name": "stdout",
     "output_type": "stream",
     "text": [
      "[]\n",
      "['55', '93', '76']\n",
      "[]\n",
      "['62', '14', '86']\n",
      "[]\n"
     ]
    }
   ],
   "source": [
    "# Imprimindo os dados com um loop for\n",
    "# Imprimindo somente á partir do indice 1\n",
    "# Lembre-se que em Python iniciamos em 0 com o indice\n",
    "\n",
    "for data in dados[1:]:\n",
    "    print(data)"
   ]
  }
 ],
 "metadata": {
  "kernelspec": {
   "display_name": "Python 3.9.12 ('base')",
   "language": "python",
   "name": "python3"
  },
  "language_info": {
   "codemirror_mode": {
    "name": "ipython",
    "version": 3
   },
   "file_extension": ".py",
   "mimetype": "text/x-python",
   "name": "python",
   "nbconvert_exporter": "python",
   "pygments_lexer": "ipython3",
   "version": "3.9.12"
  },
  "vscode": {
   "interpreter": {
    "hash": "43d2b95be17b528948ca6738cd702ddc7b27905b2c3b25ff995d07896fbaa29e"
   }
  }
 },
 "nbformat": 4,
 "nbformat_minor": 5
}
