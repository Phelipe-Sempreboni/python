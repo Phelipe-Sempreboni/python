{
 "cells": [
  {
   "cell_type": "markdown",
   "id": "67bf8c9c",
   "metadata": {},
   "source": [
    "### Manipulação de arquivos\n",
    "\n",
    "* Arquivo JSON"
   ]
  },
  {
   "cell_type": "markdown",
   "id": "19e44ef1",
   "metadata": {},
   "source": [
    "### Manipulando Arquivos JSON (Java Script Object Notation)\n",
    "\n",
    "JSON (Java Script Object Notation) é uma maneira de armazenar informações de forma organizada e de fácil acesso. Em poucas palavras, ele nos dá uma coleção legível de dados que podem ser acessados de forma muito lógica. Pode ser uma fonta de Big Data."
   ]
  },
  {
   "cell_type": "code",
   "execution_count": 15,
   "id": "4fd06046",
   "metadata": {},
   "outputs": [],
   "source": [
    "# Criando um dicionário.\n",
    "\n",
    "dict = {\n",
    "     'Nome:': 'Guido Vam Russoum',\n",
    "     'Linguagem:': 'Python',\n",
    "     'Similar:': ['C', 'Modula-3', 'lisp'],\n",
    "     'Users:': 1000000\n",
    "        }"
   ]
  },
  {
   "cell_type": "code",
   "execution_count": 16,
   "id": "e2a7c5da",
   "metadata": {},
   "outputs": [
    {
     "name": "stdout",
     "output_type": "stream",
     "text": [
      "Nome: Guido Vam Russoum\n",
      "Linguagem: Python\n",
      "Similar: ['C', 'Modula-3', 'lisp']\n",
      "Users: 1000000\n"
     ]
    }
   ],
   "source": [
    "for k,v in dict.items():\n",
    "    print(k,v)"
   ]
  },
  {
   "cell_type": "code",
   "execution_count": 17,
   "id": "7354feea",
   "metadata": {},
   "outputs": [],
   "source": [
    "# Importando a biblioteca do JSON.\n",
    "\n",
    "import json"
   ]
  },
  {
   "cell_type": "code",
   "execution_count": 18,
   "id": "78fa937d",
   "metadata": {},
   "outputs": [
    {
     "data": {
      "text/plain": [
       "'{\"Nome:\": \"Guido Vam Russoum\", \"Linguagem:\": \"Python\", \"Similar:\": [\"C\", \"Modula-3\", \"lisp\"], \"Users:\": 1000000}'"
      ]
     },
     "execution_count": 18,
     "metadata": {},
     "output_type": "execute_result"
    }
   ],
   "source": [
    "# Convertendo o dicionário criado acima para um objeto em formato JSON.\n",
    "\n",
    "json.dumps(dict)"
   ]
  },
  {
   "cell_type": "code",
   "execution_count": 19,
   "id": "9b38f78e",
   "metadata": {},
   "outputs": [],
   "source": [
    "# Criando um arquivo JSON.\n",
    "# Notar que o conteúdo que será escrito neste arquivo JSON criado é o mesmo do dicionário criado acima anteriormente.\n",
    "\n",
    "with open('archives/data.json', 'w') as arquivo:\n",
    "    arquivo.write(json.dumps(dict))"
   ]
  },
  {
   "cell_type": "code",
   "execution_count": 20,
   "id": "8347a882",
   "metadata": {},
   "outputs": [],
   "source": [
    "# Lendo um arquivo JSON.\n",
    "# Notar que realizaremos a leitura do conteúdo do arquivo que foi criado no bloco logo acima.\n",
    "\n",
    "with open('archives/data.json', 'r') as arquivo:\n",
    "    texto = arquivo.read()\n",
    "    data = json.loads(texto)"
   ]
  },
  {
   "cell_type": "code",
   "execution_count": 21,
   "id": "af8fe042",
   "metadata": {},
   "outputs": [
    {
     "name": "stdout",
     "output_type": "stream",
     "text": [
      "{'Nome:': 'Guido Vam Russoum', 'Linguagem:': 'Python', 'Similar:': ['C', 'Modula-3', 'lisp'], 'Users:': 1000000}\n"
     ]
    }
   ],
   "source": [
    "print(data)"
   ]
  },
  {
   "cell_type": "code",
   "execution_count": 51,
   "id": "7bff67e7",
   "metadata": {},
   "outputs": [],
   "source": [
    "# Imprimindo um arquivo JSON copiado diretamente da internet.\n",
    "\n",
    "from urllib.request import urlopen\n",
    "\n",
    "response = urlopen('http://vimeo.com/api/v2/video/57733101.json').read().decode('utf8')\n",
    "data = json.loads(response)[0]"
   ]
  },
  {
   "cell_type": "code",
   "execution_count": 52,
   "id": "eb5d6d4d",
   "metadata": {},
   "outputs": [
    {
     "name": "stdout",
     "output_type": "stream",
     "text": [
      "Título: The Good Man trailer\n",
      "URL: https://vimeo.com/57733101\n",
      "Duração: 143\n",
      "Número de visualizações: 6469\n"
     ]
    }
   ],
   "source": [
    "# Imprimindo os valores do arquivo JSON por chave e valor.\n",
    "\n",
    "print('Título:', data['title'])\n",
    "print('URL:', data['url'])\n",
    "print('Duração:', data['duration'])\n",
    "print('Número de visualizações:', data['stats_number_of_plays'])"
   ]
  },
  {
   "cell_type": "code",
   "execution_count": 53,
   "id": "0757fc45",
   "metadata": {},
   "outputs": [],
   "source": [
    "# Copiando o conteúdo de um arquivo para outro.\n",
    "# Neste caso estamos copiando o conteúdo de um arquivo JSON para um arquivo TXT.\n",
    "\n",
    "import os\n",
    "\n",
    "arquivo_fonte = 'archives/data.json'\n",
    "arquivo_destino = 'archives/archive4.txt'"
   ]
  },
  {
   "cell_type": "code",
   "execution_count": 54,
   "id": "93c0e437",
   "metadata": {},
   "outputs": [],
   "source": [
    "# Método 1 para copiar o conteúdo de um arquivo para o outro.\n",
    "\n",
    "with open(arquivo_fonte, 'r') as infile:\n",
    "    text = infile.read()\n",
    "    \n",
    "    with open(arquivo_destino, 'w') as outfile:\n",
    "        outfile.write(text)"
   ]
  },
  {
   "cell_type": "code",
   "execution_count": 55,
   "id": "e4875219",
   "metadata": {},
   "outputs": [
    {
     "data": {
      "text/plain": [
       "112"
      ]
     },
     "execution_count": 55,
     "metadata": {},
     "output_type": "execute_result"
    }
   ],
   "source": [
    "# Método 2 para copiar o conteúdo de um arquivo para o outro.\n",
    "\n",
    "# Primeiramente abrimos o arquivo destino em modo de escrita, pois este arquivo irá receber os valores.\n",
    "# Posteriormente abrimos o arquivo fonte em modelo de leitura, onde este conteúdo será escrito no arquivo destino.\n",
    "# Este comando fica parecido com um comando de lambda.\n",
    "\n",
    "open(arquivo_destino, 'w').write(open(arquivo_fonte, 'r').read())"
   ]
  },
  {
   "cell_type": "code",
   "execution_count": 56,
   "id": "8adcd89a",
   "metadata": {},
   "outputs": [],
   "source": [
    "# Lendo um arquivo JSON.\n",
    "\n",
    "with open('archives/archive4.txt', 'r') as arquivo:\n",
    "    texto = arquivo.read()\n",
    "    data = json.loads(texto)"
   ]
  },
  {
   "cell_type": "code",
   "execution_count": 57,
   "id": "1a8df932",
   "metadata": {},
   "outputs": [
    {
     "name": "stdout",
     "output_type": "stream",
     "text": [
      "{'Nome:': 'Guido Vam Russoum', 'Linguagem:': 'Python', 'Similar:': ['C', 'Modula-3', 'lisp'], 'Users:': 1000000}\n"
     ]
    }
   ],
   "source": [
    "print(data)"
   ]
  },
  {
   "cell_type": "markdown",
   "id": "9a1a6c7c",
   "metadata": {},
   "source": [
    "## FIM"
   ]
  },
  {
   "cell_type": "markdown",
   "id": "df4fc5ad",
   "metadata": {},
   "source": [
    "### Obrigado - Data Science Academy - facebook.com/dsacademybr"
   ]
  }
 ],
 "metadata": {
  "kernelspec": {
   "display_name": "Python 3.9.12 ('base')",
   "language": "python",
   "name": "python3"
  },
  "language_info": {
   "codemirror_mode": {
    "name": "ipython",
    "version": 3
   },
   "file_extension": ".py",
   "mimetype": "text/x-python",
   "name": "python",
   "nbconvert_exporter": "python",
   "pygments_lexer": "ipython3",
   "version": "3.9.12"
  },
  "vscode": {
   "interpreter": {
    "hash": "43d2b95be17b528948ca6738cd702ddc7b27905b2c3b25ff995d07896fbaa29e"
   }
  }
 },
 "nbformat": 4,
 "nbformat_minor": 5
}
