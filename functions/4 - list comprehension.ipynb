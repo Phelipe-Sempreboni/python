{
 "cells": [
  {
   "cell_type": "markdown",
   "id": "2f423057",
   "metadata": {},
   "source": [
    "### List Comprehension"
   ]
  },
  {
   "cell_type": "code",
   "execution_count": 10,
   "id": "fad737b0",
   "metadata": {},
   "outputs": [],
   "source": [
    "# Vamos começar criando uma list comprehension com o comando abaixo.\n",
    "# Notar que este tipo de utilização é um loop for em uma única linha de comando.\n",
    "\n",
    "# O que significa esse comando abaixo ?\n",
    "# Quer dizer que para cada \"x\" na string \"python\", comando irá retornar um \"x\".\n",
    "# Isso quer dizer que irá retornar cada string separada, ou seja, somente letras realmente.\n",
    "list_comprehension_1 = [x for x in 'python']"
   ]
  },
  {
   "cell_type": "code",
   "execution_count": 11,
   "id": "9c596fe3",
   "metadata": {},
   "outputs": [
    {
     "name": "stdout",
     "output_type": "stream",
     "text": [
      "['p', 'y', 't', 'h', 'o', 'n']\n"
     ]
    }
   ],
   "source": [
    "# Agora iremos testar a list comprehension.\n",
    "# Notar que retornamos somente as letras.\n",
    "# Notar que é um loop for em uma única linha de comando.\n",
    "\n",
    "print(list_comprehension_1)"
   ]
  },
  {
   "cell_type": "code",
   "execution_count": 12,
   "id": "ec26a823",
   "metadata": {},
   "outputs": [],
   "source": [
    "# Agora vamos criar outra list comprehension.\n",
    "# Neste caso iremos calcular a potência de um valor em um determinado intervalo de valores.\n",
    "# Notar que aqui iremos utilizar mais alguns conceitos para gerar essa list comprehension\n",
    "\n",
    "\n",
    "# O que significa esse comando abaixo ?\n",
    "# Quer dizer que para cada valor no intervalo \"range\" entre \"0 e 12\" será calculado a potência desse valor.\n",
    "# Vale lembrar que o intervalor \"range(0, 13)\" vai até o 12, pois o valor 13 é excluir no intervalo.\n",
    "# Ou seja, o valor 13 não aparece no cálculo.\n",
    "list_comprehension_2 = [x ** 2 for x in range(0, 13)]"
   ]
  },
  {
   "cell_type": "code",
   "execution_count": 14,
   "id": "f12035c1",
   "metadata": {},
   "outputs": [
    {
     "name": "stdout",
     "output_type": "stream",
     "text": [
      "[0, 1, 4, 9, 16, 25, 36, 49, 64, 81, 100, 121, 144]\n"
     ]
    }
   ],
   "source": [
    "# Agora iremos testar a list comprehension\n",
    "\n",
    "print(list_comprehension_2)"
   ]
  },
  {
   "cell_type": "code",
   "execution_count": 19,
   "id": "48a01929",
   "metadata": {},
   "outputs": [],
   "source": [
    "# Agora vamos criar outra list comprehension um pouco mais complexa.\n",
    "# Vamos verificar os números pares em um intervalo \"range\" de valores.\n",
    "\n",
    "# O que significa esse comando abaixo ?\n",
    "# Quer dizer que para valor no intervalo \"range\" de 12 e se a divisão resultar \"módulo\" em 0, então o valor é impresso.\n",
    "# Notar que se o resultado for 0, então indica também que um número é par.\n",
    "# Essa é uma maneira de verificar se um número é par.\n",
    "list_comprehension_3 = [x for x in range(12) if x % 2 == 0] "
   ]
  },
  {
   "cell_type": "code",
   "execution_count": 20,
   "id": "0ebc03a3",
   "metadata": {},
   "outputs": [
    {
     "name": "stdout",
     "output_type": "stream",
     "text": [
      "[0, 2, 4, 6, 8, 10]\n"
     ]
    }
   ],
   "source": [
    "# Agora iremos testar a list comprehension.\n",
    "\n",
    "print(list_comprehension_3)"
   ]
  },
  {
   "cell_type": "code",
   "execution_count": 26,
   "id": "0a94e2a7",
   "metadata": {},
   "outputs": [],
   "source": [
    "# Agora iremos criar outra list comprehension um pouco mais complexa.\n",
    "# Essa irá realizar a conversão de graus Celsius para Fahreneit.\n",
    "\n",
    "# Primeiro iremos criar uma lista com valores de graus Celsius.\n",
    "lista_celsius = [0, 10, 20.1, 34.]\n",
    "\n",
    "# Agora iremos criar uma list comprehension para realizar esse cálculo.\n",
    "\n",
    "# O que significa esse comando abaixo ?\n",
    "# Quer dizer que para cada temp \"temperatura\" localizada na variável \"lista_celsius\" será feita conversão para Fahreneit.\n",
    "list_comprehension_4 = [ ((float(9)/5) * temp + 32) for temp in lista_celsius ]\n",
    "\n",
    "# Vale notar que quanto mais você treinar este comando e suas variáveis de utilização, mais ficará familiar."
   ]
  },
  {
   "cell_type": "code",
   "execution_count": 27,
   "id": "899656dc",
   "metadata": {},
   "outputs": [
    {
     "name": "stdout",
     "output_type": "stream",
     "text": [
      "[32.0, 50.0, 68.18, 93.2]\n"
     ]
    }
   ],
   "source": [
    "# Agora iremos testar a list comprehension.\n",
    "\n",
    "print(list_comprehension_4)"
   ]
  },
  {
   "cell_type": "code",
   "execution_count": 31,
   "id": "5655dc25",
   "metadata": {},
   "outputs": [],
   "source": [
    "# Agora iremos criar outra list comprehension.\n",
    "# Essa irá realizar operações com números, mas de uma forma um pouco mais complexa.\n",
    "\n",
    "# O que significa esse comando abaixo ?\n",
    "# Quer dizer que para cada valor dentro da lista \"[x ** 2 for x in range(13)\" irá calcular a potência desse valor.\n",
    "# Notar que aqui temos uma \"list comprehension\" dentro de outra \"list comprehension\".\n",
    "# A primeira diz que para cada valor na \"list comprehension\" aninhada irá calcular a potência desse valor.\n",
    "# A segunda lista quer dizer que para cada valor dentro do intervalo \"range\" até 13, irá calcular a potência desse número.\n",
    "# Então o esperado é que a primeira \"list comprehension\" calcule encima do valor calculado da segunda \"list comprehension\".\n",
    "list_comprehension_5 = [x ** 2 for x in [x ** 2 for x in range(13)]]\n",
    "\n",
    "# Notar que isso é uma \"list comprehension\" aninhada."
   ]
  },
  {
   "cell_type": "code",
   "execution_count": 32,
   "id": "ad157ec0",
   "metadata": {},
   "outputs": [
    {
     "name": "stdout",
     "output_type": "stream",
     "text": [
      "[0, 1, 16, 81, 256, 625, 1296, 2401, 4096, 6561, 10000, 14641, 20736]\n"
     ]
    }
   ],
   "source": [
    "# Agora iremos testar a list comprehension.\n",
    "# Notar o tamanho que os resultados começam a ficar.\n",
    "# Isso mostrar que o primeiro colchetes será calculado encima do valor do segundo colchetes.\n",
    "# Isso é uma \"list comprehension\" aninhada.\n",
    "\n",
    "print(list_comprehension_5)"
   ]
  },
  {
   "cell_type": "markdown",
   "id": "426b9a4a",
   "metadata": {},
   "source": [
    "# Fim"
   ]
  },
  {
   "cell_type": "markdown",
   "id": "e62f9fcd",
   "metadata": {},
   "source": [
    "### Obrigado\n",
    "\n",
    "### Visite o Blog da Data Science Academy - <a href=\"http://blog.dsacademy.com.br\">Blog DSA</a>"
   ]
  }
 ],
 "metadata": {
  "kernelspec": {
   "display_name": "Python 3.9.12 ('base')",
   "language": "python",
   "name": "python3"
  },
  "language_info": {
   "codemirror_mode": {
    "name": "ipython",
    "version": 3
   },
   "file_extension": ".py",
   "mimetype": "text/x-python",
   "name": "python",
   "nbconvert_exporter": "python",
   "pygments_lexer": "ipython3",
   "version": "3.9.12"
  },
  "vscode": {
   "interpreter": {
    "hash": "43d2b95be17b528948ca6738cd702ddc7b27905b2c3b25ff995d07896fbaa29e"
   }
  }
 },
 "nbformat": 4,
 "nbformat_minor": 5
}
