{
 "cells": [
  {
   "cell_type": "markdown",
   "id": "4f24bd3b",
   "metadata": {},
   "source": [
    "### Função Filter"
   ]
  },
  {
   "cell_type": "code",
   "execution_count": 5,
   "id": "9f387223",
   "metadata": {},
   "outputs": [],
   "source": [
    "# Iremos criar uma função que realiza a divisão entre dois valores e retorna o módulo.\n",
    "# Notar que essa função está sendo criada com uma palavra reservada nomeada como \"verificarPar\".\n",
    "\n",
    "def verificaPar(num):\n",
    "    if num % 2 == 0:\n",
    "        return True\n",
    "    else:\n",
    "        return False"
   ]
  },
  {
   "cell_type": "code",
   "execution_count": 6,
   "id": "288b01d4",
   "metadata": {},
   "outputs": [
    {
     "name": "stdout",
     "output_type": "stream",
     "text": [
      "False\n"
     ]
    }
   ],
   "source": [
    "# Aqui iremos testar se a função está funcionando corretamente.\n",
    "# Se o retorno da impressão for \"True\" ou \"False\", então a função está funcionando corretamente.\n",
    "# Neste caso será \"False\".\n",
    "\n",
    "print(verificaPar(35))"
   ]
  },
  {
   "cell_type": "code",
   "execution_count": 11,
   "id": "1fa4dfd9",
   "metadata": {},
   "outputs": [
    {
     "name": "stdout",
     "output_type": "stream",
     "text": [
      "True\n"
     ]
    }
   ],
   "source": [
    "# Aqui iremos testar se a função está funcionando corretamente.\n",
    "# Se o retorno da impressão for \"True\" ou \"False\", então a função está funcionando corretamente.\n",
    "# Neste caso será \"True\".\n",
    "\n",
    "print(verificaPar(28))"
   ]
  },
  {
   "cell_type": "code",
   "execution_count": 15,
   "id": "138808f7",
   "metadata": {},
   "outputs": [
    {
     "ename": "TypeError",
     "evalue": "verificaPar() takes 1 positional argument but 2 were given",
     "output_type": "error",
     "traceback": [
      "\u001b[1;31m---------------------------------------------------------------------------\u001b[0m",
      "\u001b[1;31mTypeError\u001b[0m                                 Traceback (most recent call last)",
      "Input \u001b[1;32mIn [15]\u001b[0m, in \u001b[0;36m<cell line: 4>\u001b[1;34m()\u001b[0m\n\u001b[0;32m      1\u001b[0m \u001b[38;5;66;03m# Iremos testar se a impressão pode ser realizada com mais de um valor atribuído.\u001b[39;00m\n\u001b[0;32m      2\u001b[0m \u001b[38;5;66;03m# Notar que irá ocorrer um erro, pois a função só tem 1 argumento, o \"num\", logo só podemos retornar um valor por vez.\u001b[39;00m\n\u001b[1;32m----> 4\u001b[0m \u001b[38;5;28mprint\u001b[39m(\u001b[43mverificaPar\u001b[49m\u001b[43m(\u001b[49m\u001b[38;5;241;43m28\u001b[39;49m\u001b[43m,\u001b[49m\u001b[43m \u001b[49m\u001b[38;5;241;43m15\u001b[39;49m\u001b[43m)\u001b[49m)\n",
      "\u001b[1;31mTypeError\u001b[0m: verificaPar() takes 1 positional argument but 2 were given"
     ]
    }
   ],
   "source": [
    "# Iremos testar se a impressão pode ser realizada com mais de um valor atribuído.\n",
    "# Notar que irá ocorrer um erro, pois a função só tem 1 argumento, o \"num\", logo só podemos retornar um valor por vez.\n",
    "\n",
    "print(verificaPar(28, 15))"
   ]
  },
  {
   "cell_type": "code",
   "execution_count": 16,
   "id": "6729d93a",
   "metadata": {},
   "outputs": [],
   "source": [
    "# Agora iremos criar uma lista com vários valores atribuídos.\n",
    "\n",
    "lista_1 = [0, 1, 2, 3, 4, 5, 6, 7, 8, 9, 10, 11, 12, 13, 14, 15, 16, 17, 18, 19, 20]"
   ]
  },
  {
   "cell_type": "code",
   "execution_count": 17,
   "id": "0ffcd686",
   "metadata": {},
   "outputs": [
    {
     "name": "stdout",
     "output_type": "stream",
     "text": [
      "[0, 1, 2, 3, 4, 5, 6, 7, 8, 9, 10, 11, 12, 13, 14, 15, 16, 17, 18, 19, 20]\n"
     ]
    }
   ],
   "source": [
    "# Iremos testar se a lista está funcionando e vamos imprimir os valores na tela.\n",
    "\n",
    "print(lista_1)"
   ]
  },
  {
   "cell_type": "code",
   "execution_count": 18,
   "id": "8234c700",
   "metadata": {},
   "outputs": [],
   "source": [
    "# Agora vamos relembra a função criada acima.\n",
    "\n",
    "def verificaPar(num):\n",
    "    if num % 2 == 0:\n",
    "        return True\n",
    "    else:\n",
    "        return False"
   ]
  },
  {
   "cell_type": "code",
   "execution_count": 21,
   "id": "d616c740",
   "metadata": {},
   "outputs": [
    {
     "data": {
      "text/plain": [
       "<filter at 0x2b51ab7ee50>"
      ]
     },
     "execution_count": 21,
     "metadata": {},
     "output_type": "execute_result"
    }
   ],
   "source": [
    "# Agora iremos testar a função \"filter\" e verificar se todos os valores da variável \"lista_1\" serão calculados.\n",
    "# Notar que iremos utilizar a função \"verificaPar\" junto da função \"filter\" para realizar essa atividade.\n",
    "# Lembrando que a função \"filter\" recebe uma \"função\" e uma \"sequência\".\n",
    "# Notar que para que o resultado seja exibido corretamente, temos que inserir a função \"filter\" em uma lista.\n",
    "\n",
    "filter(verificaPar, lista_1)"
   ]
  },
  {
   "cell_type": "code",
   "execution_count": 24,
   "id": "8da4a171",
   "metadata": {},
   "outputs": [
    {
     "data": {
      "text/plain": [
       "[0, 2, 4, 6, 8, 10, 12, 14, 16, 18, 20]"
      ]
     },
     "execution_count": 24,
     "metadata": {},
     "output_type": "execute_result"
    }
   ],
   "source": [
    "# Inserindo a função \"filter\" em uma lista para visualização correta dos valores.\n",
    "# Notar que agora conseguiremos visualizar os valores corretamente.\n",
    "\n",
    "list(filter(verificaPar, lista_1))"
   ]
  },
  {
   "cell_type": "code",
   "execution_count": 26,
   "id": "364ee3f9",
   "metadata": {},
   "outputs": [
    {
     "data": {
      "text/plain": [
       "<function __main__.<lambda>(num)>"
      ]
     },
     "execution_count": 26,
     "metadata": {},
     "output_type": "execute_result"
    }
   ],
   "source": [
    "# Agora iremos transformado a função \"verificaPar\" em uma função anônima, ou seja, uma função lambda.\n",
    "\n",
    "# Agora vamos relembra a função criada acima.\n",
    "\n",
    "def verificaPar(num):\n",
    "    if num % 2 == 0:\n",
    "        return True\n",
    "    else:\n",
    "        return False\n",
    "    \n",
    "# Transformando em uma função lambda.\n",
    "lambda num: num % 2 == 0"
   ]
  },
  {
   "cell_type": "code",
   "execution_count": 28,
   "id": "044d8b2f",
   "metadata": {},
   "outputs": [
    {
     "data": {
      "text/plain": [
       "[0, 2, 4, 6, 8, 10, 12, 14, 16, 18, 20]"
      ]
     },
     "execution_count": 28,
     "metadata": {},
     "output_type": "execute_result"
    }
   ],
   "source": [
    "# Agora vamos inserir essa função lambda junto da função filter.\n",
    "# Notar que iremos obter o mesmo resultado se estivessemos utilizando a função com a palavra reservada \"verificarPar\".\n",
    "\n",
    "list(filter(lambda num: num % 2 == 0, lista_1))"
   ]
  },
  {
   "cell_type": "code",
   "execution_count": 29,
   "id": "b41d939f",
   "metadata": {},
   "outputs": [],
   "source": [
    "# Notar também que podemos atribuir a função lambda em uma variável e utilizar com a função filter.\n",
    "\n",
    "# Atribuindo a função lambda em uma variável\n",
    "func = lambda num: num % 2 == 0"
   ]
  },
  {
   "cell_type": "code",
   "execution_count": 31,
   "id": "30f11a39",
   "metadata": {},
   "outputs": [
    {
     "data": {
      "text/plain": [
       "[0, 2, 4, 6, 8, 10, 12, 14, 16, 18, 20]"
      ]
     },
     "execution_count": 31,
     "metadata": {},
     "output_type": "execute_result"
    }
   ],
   "source": [
    "# Agora vamos inserir essa função lambda atribuída na variável \"func\" junto da função filter.\n",
    "# Notar que iremos obter o mesmo resultado se estivessemos utilizando a função com a palavra reservada \"verificarPar\".\n",
    "# Notar que iremos obter o mesmo resultado se estivessemos utilizando a função lambda diretamente na função filter.\n",
    "\n",
    "list(filter(func, lista_1))"
   ]
  },
  {
   "cell_type": "code",
   "execution_count": 32,
   "id": "c5f7d096",
   "metadata": {},
   "outputs": [
    {
     "data": {
      "text/plain": [
       "<function __main__.<lambda>(numero)>"
      ]
     },
     "execution_count": 32,
     "metadata": {},
     "output_type": "execute_result"
    }
   ],
   "source": [
    "# Criando outra função lambda para teste.\n",
    "# Essa função lambda irá retornar somente valores que forem maiores que 8 na variável \"lista_1\".\n",
    "\n",
    "# Criando a função lambda.\n",
    "lambda numero: numero > 8"
   ]
  },
  {
   "cell_type": "code",
   "execution_count": 35,
   "id": "d62ff43f",
   "metadata": {},
   "outputs": [
    {
     "data": {
      "text/plain": [
       "[9, 10, 11, 12, 13, 14, 15, 16, 17, 18, 19, 20]"
      ]
     },
     "execution_count": 35,
     "metadata": {},
     "output_type": "execute_result"
    }
   ],
   "source": [
    "# Agora vamos inserir essa função lambda junto da função filter.\n",
    "# Notar que só irá retornar os valores maiores que 8 na variável \"lista_1\".\n",
    "\n",
    "list(filter(lambda numero: numero > 8, lista_1))"
   ]
  },
  {
   "cell_type": "markdown",
   "id": "560e762a",
   "metadata": {},
   "source": [
    "# Fim"
   ]
  },
  {
   "cell_type": "markdown",
   "id": "462a580a",
   "metadata": {},
   "source": [
    "### Obrigado\n",
    "\n",
    "### Visite o Blog da Data Science Academy - <a href=\"http://blog.dsacademy.com.br\">Blog DSA</a>"
   ]
  }
 ],
 "metadata": {
  "kernelspec": {
   "display_name": "Python 3.9.12 ('base')",
   "language": "python",
   "name": "python3"
  },
  "language_info": {
   "codemirror_mode": {
    "name": "ipython",
    "version": 3
   },
   "file_extension": ".py",
   "mimetype": "text/x-python",
   "name": "python",
   "nbconvert_exporter": "python",
   "pygments_lexer": "ipython3",
   "version": "3.9.12"
  },
  "vscode": {
   "interpreter": {
    "hash": "43d2b95be17b528948ca6738cd702ddc7b27905b2c3b25ff995d07896fbaa29e"
   }
  }
 },
 "nbformat": 4,
 "nbformat_minor": 5
}
