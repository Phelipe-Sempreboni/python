{
 "cells": [
  {
   "cell_type": "markdown",
   "id": "8ed61c6f",
   "metadata": {},
   "source": [
    "## Expressões Lambda\n",
    "\n",
    "### Aqui iremos testar alguns exemplos com a declaração de _def_ e _lambda_.\n",
    "\n",
    "### Fique à vontade para baixar e utilizar este arquivo."
   ]
  },
  {
   "cell_type": "code",
   "execution_count": 11,
   "id": "b5b7535c",
   "metadata": {},
   "outputs": [
    {
     "name": "stdout",
     "output_type": "stream",
     "text": [
      "25\n"
     ]
    }
   ],
   "source": [
    "# Aqui iremos declarar uma função que realiza o cálculo de potência de um número elevando à 2.\n",
    "# Notar que aqui estamos utilizando 3 linhas de código para criar essa função.\n",
    "# O comando \"print(potencia(5))\" utiliza a função criada elevando o valor 5 potência de 2, resultando em 25.\n",
    "\n",
    "def potencia(num):\n",
    "    resultado = num ** 2\n",
    "    return resultado\n",
    "\n",
    "print(potencia(5))"
   ]
  },
  {
   "cell_type": "code",
   "execution_count": 15,
   "id": "1e964096",
   "metadata": {},
   "outputs": [
    {
     "name": "stdout",
     "output_type": "stream",
     "text": [
      "25\n"
     ]
    }
   ],
   "source": [
    "# Aqui iremos declarar uma função que realiza o cálculo de potência de um número elevando à 2.\n",
    "# Notar que aqui estamos utilizando 2 linhas de código para criar essa função.\n",
    "# O comando \"print(potencia(5))\" utiliza a função criada elevando o valor 5 potência de 2, resultando em 25.\n",
    "# Notar que neste caso diminuimos de 3 linhas para 2 linhas de comando, onde retirmos a variável \"resultado\".\n",
    "# Ao tirar essa variável utilizamos diretamente o \"return\", onde é possível seguir dessa maneira e o mesmo resultado.\n",
    "\n",
    "def potencia(num):\n",
    "    return num ** 2\n",
    "\n",
    "print(potencia(5))"
   ]
  },
  {
   "cell_type": "code",
   "execution_count": 17,
   "id": "e6fb4b93",
   "metadata": {},
   "outputs": [
    {
     "name": "stdout",
     "output_type": "stream",
     "text": [
      "25\n"
     ]
    }
   ],
   "source": [
    "# Aqui iremos declarar uma função que realiza o cálculo de potência de um número elevando à 2.\n",
    "# Notar que aqui estamos utilizando 1 linha de código para criar essa função.\n",
    "# O comando \"print(potencia(5))\" utiliza a função criada elevando o valor 5 potência de 2, resultando em 25.\n",
    "# Notar que neste caso diminuimos de 2 linhas para 1 linha de comando, onde retirmos a variável \"resultado\".\n",
    "# Notar que também mudamos o código para uma única linha, onde é possível seguir dessa maneira e o mesmo resultado. \n",
    "# Mesmo assim notar que ainda estamos utilizando uma função com _def_.\n",
    "\n",
    "def potencia(num): return num ** 2\n",
    "\n",
    "print(potencia(5))"
   ]
  },
  {
   "cell_type": "code",
   "execution_count": 20,
   "id": "1ad3bfa6",
   "metadata": {},
   "outputs": [
    {
     "name": "stdout",
     "output_type": "stream",
     "text": [
      "25\n"
     ]
    }
   ],
   "source": [
    "# Aqui estamos declarando uma função lambda para chegar ao mesmo resultado dos testes acima.\n",
    "# Notar que as diferenças são que:\n",
    "# Não temos a função _def_ declarada com um nome para função.\n",
    "# Não temos a palavra reserva _return_, onde seria substituído pelo \":\".\n",
    "# A real diferença é a não declaração da função _def_ com um nome e o uso da palavra reservada _return_.\n",
    "\n",
    "potencia = lambda num: num ** 2\n",
    "\n",
    "print(potencia(5))"
   ]
  },
  {
   "cell_type": "code",
   "execution_count": null,
   "id": "a6a986f1",
   "metadata": {},
   "outputs": [],
   "source": []
  },
  {
   "cell_type": "code",
   "execution_count": null,
   "id": "1e45cc8b",
   "metadata": {},
   "outputs": [],
   "source": []
  },
  {
   "cell_type": "code",
   "execution_count": null,
   "id": "577507f7",
   "metadata": {},
   "outputs": [],
   "source": []
  },
  {
   "cell_type": "code",
   "execution_count": null,
   "id": "d3516f83",
   "metadata": {},
   "outputs": [],
   "source": []
  },
  {
   "cell_type": "code",
   "execution_count": null,
   "id": "b59be370",
   "metadata": {},
   "outputs": [],
   "source": []
  },
  {
   "cell_type": "code",
   "execution_count": null,
   "id": "6a832ed0",
   "metadata": {},
   "outputs": [],
   "source": []
  },
  {
   "cell_type": "code",
   "execution_count": null,
   "id": "698aa646",
   "metadata": {},
   "outputs": [],
   "source": []
  },
  {
   "cell_type": "code",
   "execution_count": null,
   "id": "a565a509",
   "metadata": {},
   "outputs": [],
   "source": []
  },
  {
   "cell_type": "code",
   "execution_count": null,
   "id": "b60bb868",
   "metadata": {},
   "outputs": [],
   "source": []
  },
  {
   "cell_type": "code",
   "execution_count": null,
   "id": "e3075822",
   "metadata": {},
   "outputs": [],
   "source": []
  },
  {
   "cell_type": "code",
   "execution_count": null,
   "id": "9be9fbe9",
   "metadata": {},
   "outputs": [],
   "source": []
  },
  {
   "cell_type": "code",
   "execution_count": null,
   "id": "069686db",
   "metadata": {},
   "outputs": [],
   "source": []
  }
 ],
 "metadata": {
  "kernelspec": {
   "display_name": "Python 3 (ipykernel)",
   "language": "python",
   "name": "python3"
  },
  "language_info": {
   "codemirror_mode": {
    "name": "ipython",
    "version": 3
   },
   "file_extension": ".py",
   "mimetype": "text/x-python",
   "name": "python",
   "nbconvert_exporter": "python",
   "pygments_lexer": "ipython3",
   "version": "3.9.12"
  }
 },
 "nbformat": 4,
 "nbformat_minor": 5
}
