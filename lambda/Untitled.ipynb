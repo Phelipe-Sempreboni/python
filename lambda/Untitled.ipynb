{
 "cells": [
  {
   "cell_type": "markdown",
   "id": "f1c66750",
   "metadata": {},
   "source": [
    "## Expressões Lambda\n",
    "\n",
    "### Aqui iremos testar alguns exemplos com a declaração de _def_ e _lambda_.\n",
    "\n",
    "### Fique à vontade para baixar e utilizar este arquivo."
   ]
  },
  {
   "cell_type": "code",
   "execution_count": 11,
   "id": "59f2fed8",
   "metadata": {},
   "outputs": [
    {
     "name": "stdout",
     "output_type": "stream",
     "text": [
      "25\n"
     ]
    }
   ],
   "source": [
    "# Aqui iremos declarar uma função que realiza o cálculo de potência de um número elevando à 2.\n",
    "# Notar que aqui estamos utilizando 3 linhas de código para criar essa função.\n",
    "# O comando \"print(potencia(5))\" utiliza a função criada elevando o valor 5 potência de 2, resultando em 25.\n",
    "\n",
    "def potencia(num):\n",
    "    resultado = num ** 2\n",
    "    return resultado\n",
    "\n",
    "print(potencia(5))"
   ]
  },
  {
   "cell_type": "code",
   "execution_count": 15,
   "id": "9429dd72",
   "metadata": {},
   "outputs": [
    {
     "name": "stdout",
     "output_type": "stream",
     "text": [
      "25\n"
     ]
    }
   ],
   "source": [
    "# Aqui iremos declarar uma função que realiza o cálculo de potência de um número elevando à 2.\n",
    "# Notar que aqui estamos utilizando 2 linhas de código para criar essa função.\n",
    "# O comando \"print(potencia(5))\" utiliza a função criada elevando o valor 5 potência de 2, resultando em 25.\n",
    "# Notar que neste caso diminuimos de 3 linhas para 2 linhas de comando, onde retirmos a variável \"resultado\".\n",
    "# Ao tirar essa variável utilizamos diretamente o \"return\", onde é possível seguir dessa maneira e o mesmo resultado.\n",
    "\n",
    "def potencia(num):\n",
    "    return num ** 2\n",
    "\n",
    "print(potencia(5))"
   ]
  },
  {
   "cell_type": "code",
   "execution_count": 17,
   "id": "7678f576",
   "metadata": {},
   "outputs": [
    {
     "name": "stdout",
     "output_type": "stream",
     "text": [
      "25\n"
     ]
    }
   ],
   "source": [
    "# Aqui iremos declarar uma função que realiza o cálculo de potência de um número elevando à 2.\n",
    "# Notar que aqui estamos utilizando 1 linha de código para criar essa função.\n",
    "# O comando \"print(potencia(5))\" utiliza a função criada elevando o valor 5 potência de 2, resultando em 25.\n",
    "# Notar que neste caso diminuimos de 2 linhas para 1 linha de comando, onde retirmos a variável \"resultado\".\n",
    "# Notar que também mudamos o código para uma única linha, onde é possível seguir dessa maneira e o mesmo resultado. \n",
    "# Mesmo assim notar que ainda estamos utilizando uma função com _def_.\n",
    "\n",
    "def potencia(num): return num ** 2\n",
    "\n",
    "print(potencia(5))"
   ]
  },
  {
   "cell_type": "code",
   "execution_count": 20,
   "id": "5b97e787",
   "metadata": {},
   "outputs": [
    {
     "name": "stdout",
     "output_type": "stream",
     "text": [
      "25\n"
     ]
    }
   ],
   "source": [
    "# Aqui estamos declarando uma função lambda para chegar ao mesmo resultado dos testes acima.\n",
    "# Notar que as diferenças são que:\n",
    "# Não temos a função _def_ declarada com um nome para função.\n",
    "# Não temos a palavra reserva _return_, onde seria substituído pelo \":\".\n",
    "# A real diferença é a não declaração da função _def_ com um nome e o uso da palavra reservada _return_.\n",
    "\n",
    "potencia = lambda num: num ** 2\n",
    "\n",
    "print(potencia(5))"
   ]
  },
  {
   "cell_type": "code",
   "execution_count": 23,
   "id": "b43da7e1",
   "metadata": {},
   "outputs": [],
   "source": [
    "# Aqui estamos declarando uma função lambda para realizar outro teste.\n",
    "# Aqui criamos uma função lambda para verificar se a divisão de qualquer valor por 2 irá retornar o resultado 0.\n",
    "# Caso seja indicado o resultado 0, com essa simples função conseguimos verificar se um valor é par ou não.\n",
    "# Isso seria uma função para realizar uma comparação.\n",
    "# Nas funções com operadores de comparação o resultado sempre será booleano, ou seja, TRUE ou FALSE.\n",
    "\n",
    "par = lambda x: x % 2 == 0"
   ]
  },
  {
   "cell_type": "code",
   "execution_count": 25,
   "id": "85127a1d",
   "metadata": {},
   "outputs": [
    {
     "name": "stdout",
     "output_type": "stream",
     "text": [
      "False\n"
     ]
    }
   ],
   "source": [
    "# Realizando o teste com um número ímpar, onde o resultado será FALSE.\n",
    "\n",
    "print(par(7))"
   ]
  },
  {
   "cell_type": "code",
   "execution_count": 26,
   "id": "d08453b4",
   "metadata": {},
   "outputs": [
    {
     "name": "stdout",
     "output_type": "stream",
     "text": [
      "True\n"
     ]
    }
   ],
   "source": [
    "# Realizando o teste com um número par, onde o resultado será TRUE.\n",
    "\n",
    "print(par(6))"
   ]
  },
  {
   "cell_type": "code",
   "execution_count": null,
   "id": "51b90f71",
   "metadata": {},
   "outputs": [],
   "source": []
  },
  {
   "cell_type": "code",
   "execution_count": null,
   "id": "4f675096",
   "metadata": {},
   "outputs": [],
   "source": []
  },
  {
   "cell_type": "code",
   "execution_count": null,
   "id": "3744b74c",
   "metadata": {},
   "outputs": [],
   "source": []
  },
  {
   "cell_type": "code",
   "execution_count": null,
   "id": "8a2e305a",
   "metadata": {},
   "outputs": [],
   "source": []
  },
  {
   "cell_type": "code",
   "execution_count": null,
   "id": "86b2fd9b",
   "metadata": {},
   "outputs": [],
   "source": []
  },
  {
   "cell_type": "code",
   "execution_count": null,
   "id": "d2937fd8",
   "metadata": {},
   "outputs": [],
   "source": []
  },
  {
   "cell_type": "code",
   "execution_count": null,
   "id": "cc7ce12d",
   "metadata": {},
   "outputs": [],
   "source": []
  },
  {
   "cell_type": "code",
   "execution_count": null,
   "id": "d0533e48",
   "metadata": {},
   "outputs": [],
   "source": []
  },
  {
   "cell_type": "code",
   "execution_count": null,
   "id": "0dd79e30",
   "metadata": {},
   "outputs": [],
   "source": []
  }
 ],
 "metadata": {
  "kernelspec": {
   "display_name": "Python 3 (ipykernel)",
   "language": "python",
   "name": "python3"
  },
  "language_info": {
   "codemirror_mode": {
    "name": "ipython",
    "version": 3
   },
   "file_extension": ".py",
   "mimetype": "text/x-python",
   "name": "python",
   "nbconvert_exporter": "python",
   "pygments_lexer": "ipython3",
   "version": "3.9.12"
  }
 },
 "nbformat": 4,
 "nbformat_minor": 5
}
