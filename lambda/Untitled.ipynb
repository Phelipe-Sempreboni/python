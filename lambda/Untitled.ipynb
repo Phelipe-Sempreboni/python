{
 "cells": [
  {
   "cell_type": "markdown",
   "id": "3ba46444",
   "metadata": {},
   "source": [
    "## Expressões Lambda\n",
    "\n",
    "### Aqui iremos testar alguns exemplos com a declaração de _def_ e _lambda_.\n",
    "\n",
    "### Fique à vontade para baixar e utilizar este arquivo."
   ]
  },
  {
   "cell_type": "code",
   "execution_count": 11,
   "id": "d2442fd1",
   "metadata": {},
   "outputs": [
    {
     "name": "stdout",
     "output_type": "stream",
     "text": [
      "25\n"
     ]
    }
   ],
   "source": [
    "# Aqui iremos declarar uma função que realiza o cálculo de potência de um número elevando à 2.\n",
    "# Notar que aqui estamos utilizando 3 linhas de código para criar essa função.\n",
    "# O comando \"print(potencia(5))\" utiliza a função criada elevando o valor 5 potência de 2, resultando em 25.\n",
    "\n",
    "def potencia(num):\n",
    "    resultado = num ** 2\n",
    "    return resultado\n",
    "\n",
    "print(potencia(5))"
   ]
  },
  {
   "cell_type": "code",
   "execution_count": 15,
   "id": "3423b373",
   "metadata": {},
   "outputs": [
    {
     "name": "stdout",
     "output_type": "stream",
     "text": [
      "25\n"
     ]
    }
   ],
   "source": [
    "# Aqui iremos declarar uma função que realiza o cálculo de potência de um número elevando à 2.\n",
    "# Notar que aqui estamos utilizando 2 linhas de código para criar essa função.\n",
    "# O comando \"print(potencia(5))\" utiliza a função criada elevando o valor 5 potência de 2, resultando em 25.\n",
    "# Notar que neste caso diminuimos de 3 linhas para 2 linhas de comando, onde retirmos a variável \"resultado\".\n",
    "# Ao tirar essa variável utilizamos diretamente o \"return\", onde é possível seguir dessa maneira e o mesmo resultado.\n",
    "\n",
    "def potencia(num):\n",
    "    return num ** 2\n",
    "\n",
    "print(potencia(5))"
   ]
  },
  {
   "cell_type": "code",
   "execution_count": null,
   "id": "2879142f",
   "metadata": {},
   "outputs": [],
   "source": []
  },
  {
   "cell_type": "code",
   "execution_count": null,
   "id": "6f1dd61d",
   "metadata": {},
   "outputs": [],
   "source": []
  },
  {
   "cell_type": "code",
   "execution_count": null,
   "id": "9a5925a8",
   "metadata": {},
   "outputs": [],
   "source": []
  },
  {
   "cell_type": "code",
   "execution_count": null,
   "id": "6d3f1eed",
   "metadata": {},
   "outputs": [],
   "source": []
  },
  {
   "cell_type": "code",
   "execution_count": null,
   "id": "14978afc",
   "metadata": {},
   "outputs": [],
   "source": []
  },
  {
   "cell_type": "code",
   "execution_count": null,
   "id": "70f50ab5",
   "metadata": {},
   "outputs": [],
   "source": []
  },
  {
   "cell_type": "code",
   "execution_count": null,
   "id": "1890b943",
   "metadata": {},
   "outputs": [],
   "source": []
  },
  {
   "cell_type": "code",
   "execution_count": null,
   "id": "17b4fe1b",
   "metadata": {},
   "outputs": [],
   "source": []
  },
  {
   "cell_type": "code",
   "execution_count": null,
   "id": "3ad52516",
   "metadata": {},
   "outputs": [],
   "source": []
  },
  {
   "cell_type": "code",
   "execution_count": null,
   "id": "75c775b4",
   "metadata": {},
   "outputs": [],
   "source": []
  },
  {
   "cell_type": "code",
   "execution_count": null,
   "id": "4e0394db",
   "metadata": {},
   "outputs": [],
   "source": []
  },
  {
   "cell_type": "code",
   "execution_count": null,
   "id": "31addf0b",
   "metadata": {},
   "outputs": [],
   "source": []
  },
  {
   "cell_type": "code",
   "execution_count": null,
   "id": "0c92ad17",
   "metadata": {},
   "outputs": [],
   "source": []
  },
  {
   "cell_type": "code",
   "execution_count": null,
   "id": "cbdf9d52",
   "metadata": {},
   "outputs": [],
   "source": []
  }
 ],
 "metadata": {
  "kernelspec": {
   "display_name": "Python 3 (ipykernel)",
   "language": "python",
   "name": "python3"
  },
  "language_info": {
   "codemirror_mode": {
    "name": "ipython",
    "version": 3
   },
   "file_extension": ".py",
   "mimetype": "text/x-python",
   "name": "python",
   "nbconvert_exporter": "python",
   "pygments_lexer": "ipython3",
   "version": "3.9.12"
  }
 },
 "nbformat": 4,
 "nbformat_minor": 5
}
