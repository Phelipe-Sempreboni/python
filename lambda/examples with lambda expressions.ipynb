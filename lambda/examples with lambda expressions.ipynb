{
 "cells": [
  {
   "cell_type": "markdown",
   "id": "7eaf9263",
   "metadata": {},
   "source": [
    "## Expressões Lambda\n",
    "\n",
    "### Aqui iremos testar alguns exemplos com a declaração de _def_ e _lambda_.\n",
    "\n",
    "### Fique à vontade para baixar e utilizar este arquivo."
   ]
  },
  {
   "cell_type": "code",
   "execution_count": 11,
   "id": "903029e7",
   "metadata": {},
   "outputs": [
    {
     "name": "stdout",
     "output_type": "stream",
     "text": [
      "25\n"
     ]
    }
   ],
   "source": [
    "# Aqui iremos declarar uma função que realiza o cálculo de potência de um número elevando à 2.\n",
    "# Notar que aqui estamos utilizando 3 linhas de código para criar essa função.\n",
    "# O comando \"print(potencia(5))\" utiliza a função criada elevando o valor 5 potência de 2, resultando em 25.\n",
    "\n",
    "def potencia(num):\n",
    "    resultado = num ** 2\n",
    "    return resultado\n",
    "\n",
    "print(potencia(5))"
   ]
  },
  {
   "cell_type": "code",
   "execution_count": 15,
   "id": "b760a000",
   "metadata": {},
   "outputs": [
    {
     "name": "stdout",
     "output_type": "stream",
     "text": [
      "25\n"
     ]
    }
   ],
   "source": [
    "# Aqui iremos declarar uma função que realiza o cálculo de potência de um número elevando à 2.\n",
    "# Notar que aqui estamos utilizando 2 linhas de código para criar essa função.\n",
    "# O comando \"print(potencia(5))\" utiliza a função criada elevando o valor 5 potência de 2, resultando em 25.\n",
    "# Notar que neste caso diminuimos de 3 linhas para 2 linhas de comando, onde retirmos a variável \"resultado\".\n",
    "# Ao tirar essa variável utilizamos diretamente o \"return\", onde é possível seguir dessa maneira e o mesmo resultado.\n",
    "\n",
    "def potencia(num):\n",
    "    return num ** 2\n",
    "\n",
    "print(potencia(5))"
   ]
  },
  {
   "cell_type": "code",
   "execution_count": 17,
   "id": "65319a94",
   "metadata": {},
   "outputs": [
    {
     "name": "stdout",
     "output_type": "stream",
     "text": [
      "25\n"
     ]
    }
   ],
   "source": [
    "# Aqui iremos declarar uma função que realiza o cálculo de potência de um número elevando à 2.\n",
    "# Notar que aqui estamos utilizando 1 linha de código para criar essa função.\n",
    "# O comando \"print(potencia(5))\" utiliza a função criada elevando o valor 5 potência de 2, resultando em 25.\n",
    "# Notar que neste caso diminuimos de 2 linhas para 1 linha de comando, onde retirmos a variável \"resultado\".\n",
    "# Notar que também mudamos o código para uma única linha, onde é possível seguir dessa maneira e o mesmo resultado. \n",
    "# Mesmo assim notar que ainda estamos utilizando uma função com _def_.\n",
    "\n",
    "def potencia(num): return num ** 2\n",
    "\n",
    "print(potencia(5))"
   ]
  },
  {
   "cell_type": "code",
   "execution_count": 20,
   "id": "2993d12f",
   "metadata": {},
   "outputs": [
    {
     "name": "stdout",
     "output_type": "stream",
     "text": [
      "25\n"
     ]
    }
   ],
   "source": [
    "# Aqui estamos declarando uma função lambda para chegar ao mesmo resultado dos testes acima.\n",
    "# Notar que as diferenças são que:\n",
    "# Não temos a função _def_ declarada com um nome para função.\n",
    "# Não temos a palavra reserva _return_, onde seria substituído pelo \":\".\n",
    "# A real diferença é a não declaração da função _def_ com um nome e o uso da palavra reservada _return_.\n",
    "\n",
    "potencia = lambda num: num ** 2\n",
    "\n",
    "print(potencia(5))"
   ]
  },
  {
   "cell_type": "code",
   "execution_count": 23,
   "id": "cdfbdab9",
   "metadata": {},
   "outputs": [],
   "source": [
    "# Aqui estamos declarando uma função lambda para realizar outro teste.\n",
    "# Aqui criamos uma função lambda para verificar se a divisão de qualquer valor por 2 irá retornar o resultado 0.\n",
    "# Caso seja indicado o resultado 0, com essa simples função conseguimos verificar se um valor é par ou não.\n",
    "# Isso seria uma função para realizar uma comparação.\n",
    "# Nas funções com operadores de comparação o resultado sempre será booleano, ou seja, TRUE ou FALSE.\n",
    "\n",
    "par = lambda x: x % 2 == 0"
   ]
  },
  {
   "cell_type": "code",
   "execution_count": 25,
   "id": "654744a1",
   "metadata": {},
   "outputs": [
    {
     "name": "stdout",
     "output_type": "stream",
     "text": [
      "False\n"
     ]
    }
   ],
   "source": [
    "# Realizando o teste com um número ímpar, onde o resultado será FALSE.\n",
    "\n",
    "print(par(7))"
   ]
  },
  {
   "cell_type": "code",
   "execution_count": 26,
   "id": "cf13968b",
   "metadata": {},
   "outputs": [
    {
     "name": "stdout",
     "output_type": "stream",
     "text": [
      "True\n"
     ]
    }
   ],
   "source": [
    "# Realizando o teste com um número par, onde o resultado será TRUE.\n",
    "\n",
    "print(par(6))"
   ]
  },
  {
   "cell_type": "code",
   "execution_count": 27,
   "id": "d5697351",
   "metadata": {},
   "outputs": [],
   "source": [
    "# Aqui estamos declarando uma função lambda para realizar outro teste.\n",
    "# Aqui criamos uma função lambda para verificar a primeira letra de uma string.\n",
    "\n",
    "primeira_letra = lambda x: x[0]"
   ]
  },
  {
   "cell_type": "code",
   "execution_count": 29,
   "id": "45dbabdd",
   "metadata": {},
   "outputs": [
    {
     "name": "stdout",
     "output_type": "stream",
     "text": [
      "D\n"
     ]
    }
   ],
   "source": [
    "# Realizando o teste para verificar se a função realmente irá retornar a primeira letra.\n",
    "\n",
    "print(primeira_letra('Data Science'))"
   ]
  },
  {
   "cell_type": "code",
   "execution_count": 34,
   "id": "a675c5a3",
   "metadata": {},
   "outputs": [],
   "source": [
    "# Aqui estamos declarando uma função lambda para realizar outro teste.\n",
    "# Aqui criamos uma função lambda para verificar a terceira letra de uma string.\n",
    "# Lembre-se que em Python as indexações iniciam em 0.\n",
    "\n",
    "terceira_letra = lambda x: x[2]"
   ]
  },
  {
   "cell_type": "code",
   "execution_count": 35,
   "id": "b9945bdd",
   "metadata": {},
   "outputs": [
    {
     "name": "stdout",
     "output_type": "stream",
     "text": [
      "t\n"
     ]
    }
   ],
   "source": [
    "# Realizando o teste para verificar se a função realmente irá retornar a primeira letra.\n",
    "\n",
    "print(terceira_letra('Data Science'))"
   ]
  },
  {
   "cell_type": "code",
   "execution_count": 3,
   "id": "baf66fc5",
   "metadata": {},
   "outputs": [],
   "source": [
    "# Aqui estamos declarando uma função lambda para realizar outro teste.\n",
    "# Aqui criamos uma função lambda para somar dois valores.\n",
    "\n",
    "soma = lambda x,y: x+y"
   ]
  },
  {
   "cell_type": "code",
   "execution_count": 4,
   "id": "2a3946c3",
   "metadata": {},
   "outputs": [
    {
     "name": "stdout",
     "output_type": "stream",
     "text": [
      "7\n"
     ]
    }
   ],
   "source": [
    "# Realizando o teste para verificar se a função realmente irá retornar a soma dos dois números.\n",
    "\n",
    "print(soma(4,3))"
   ]
  },
  {
   "cell_type": "code",
   "execution_count": 5,
   "id": "044dee62",
   "metadata": {},
   "outputs": [],
   "source": [
    "# Aqui estamos declarando uma função lambda para realizar outro teste.\n",
    "# Aqui criamos uma função lambda para somar três valores.\n",
    "\n",
    "soma = lambda x,y,z: x+y+z"
   ]
  },
  {
   "cell_type": "code",
   "execution_count": 7,
   "id": "4d7f3df9",
   "metadata": {},
   "outputs": [
    {
     "name": "stdout",
     "output_type": "stream",
     "text": [
      "10\n"
     ]
    }
   ],
   "source": [
    "# Realizando o teste para verificar se a função realmente irá retornar a soma dos três números.\n",
    "\n",
    "print(soma(4,3,3))"
   ]
  },
  {
   "cell_type": "code",
   "execution_count": null,
   "id": "71ad1af9",
   "metadata": {},
   "outputs": [],
   "source": []
  },
  {
   "cell_type": "code",
   "execution_count": 16,
   "id": "43ad3c66",
   "metadata": {},
   "outputs": [
    {
     "name": "stdout",
     "output_type": "stream",
     "text": [
      "300.0\n"
     ]
    }
   ],
   "source": [
    "preco = 1000\n",
    "\n",
    "def imposto(preco):\n",
    "    return preco * 0.3\n",
    "\n",
    "print(imposto(preco))"
   ]
  },
  {
   "cell_type": "code",
   "execution_count": 18,
   "id": "df868e4c",
   "metadata": {},
   "outputs": [
    {
     "name": "stdout",
     "output_type": "stream",
     "text": [
      "3000.0\n"
     ]
    }
   ],
   "source": [
    "preco = 10000\n",
    "\n",
    "def imposto(preco): return preco * 0.3\n",
    "\n",
    "print(imposto(preco))"
   ]
  },
  {
   "cell_type": "code",
   "execution_count": 12,
   "id": "b3b1ec06",
   "metadata": {},
   "outputs": [
    {
     "name": "stdout",
     "output_type": "stream",
     "text": [
      "<function <lambda> at 0x000001D3FC8BAD30>\n"
     ]
    }
   ],
   "source": []
  },
  {
   "cell_type": "markdown",
   "id": "5915f9de",
   "metadata": {},
   "source": [
    "### Obrigado por acompanhar pessoal!"
   ]
  }
 ],
 "metadata": {
  "kernelspec": {
   "display_name": "Python 3 (ipykernel)",
   "language": "python",
   "name": "python3"
  },
  "language_info": {
   "codemirror_mode": {
    "name": "ipython",
    "version": 3
   },
   "file_extension": ".py",
   "mimetype": "text/x-python",
   "name": "python",
   "nbconvert_exporter": "python",
   "pygments_lexer": "ipython3",
   "version": "3.9.12"
  }
 },
 "nbformat": 4,
 "nbformat_minor": 5
}
