{
 "cells": [
  {
   "cell_type": "markdown",
   "id": "65da5675",
   "metadata": {},
   "source": [
    "### Listas"
   ]
  },
  {
   "cell_type": "code",
   "execution_count": 1,
   "id": "9fbfd111",
   "metadata": {},
   "outputs": [],
   "source": [
    "# Criando uma lista\n",
    "listamercado = ['ovos, farinha, leite, maçãs']"
   ]
  },
  {
   "cell_type": "code",
   "execution_count": 2,
   "id": "300e65d7",
   "metadata": {},
   "outputs": [
    {
     "data": {
      "text/plain": [
       "['ovos, farinha, leite, maçãs']"
      ]
     },
     "execution_count": 2,
     "metadata": {},
     "output_type": "execute_result"
    }
   ],
   "source": [
    "# Imprimindo a lista\n",
    "listamercado"
   ]
  },
  {
   "cell_type": "code",
   "execution_count": 14,
   "id": "e753bb17",
   "metadata": {},
   "outputs": [],
   "source": [
    "# Criando uma lista\n",
    "listamercado2 = ['ovos', 'farinha', 'leite', 'maças']"
   ]
  },
  {
   "cell_type": "code",
   "execution_count": 4,
   "id": "b8daa26f",
   "metadata": {},
   "outputs": [
    {
     "data": {
      "text/plain": [
       "['ovos', 'farinha', 'leite', 'maças']"
      ]
     },
     "execution_count": 4,
     "metadata": {},
     "output_type": "execute_result"
    }
   ],
   "source": [
    "# Imprimindo a lista\n",
    "listamercado2"
   ]
  },
  {
   "cell_type": "code",
   "execution_count": 5,
   "id": "5333801b",
   "metadata": {},
   "outputs": [
    {
     "data": {
      "text/plain": [
       "'ovos, farinha, leite, maçãs'"
      ]
     },
     "execution_count": 5,
     "metadata": {},
     "output_type": "execute_result"
    }
   ],
   "source": [
    "# Imprimindo o elemento do índice 0 da listamercado.\n",
    "listamercado[0]"
   ]
  },
  {
   "cell_type": "code",
   "execution_count": 6,
   "id": "06af0fbb",
   "metadata": {},
   "outputs": [
    {
     "data": {
      "text/plain": [
       "'ovos'"
      ]
     },
     "execution_count": 6,
     "metadata": {},
     "output_type": "execute_result"
    }
   ],
   "source": [
    "# Imprimindo o elemento do índice 0 da listamercado2.\n",
    "listamercado2[0]"
   ]
  },
  {
   "cell_type": "code",
   "execution_count": 7,
   "id": "b29ee103",
   "metadata": {},
   "outputs": [],
   "source": [
    "# Criando uma lista\n",
    "lista3 = [12, 100, 'Universidade']"
   ]
  },
  {
   "cell_type": "code",
   "execution_count": 8,
   "id": "b779c417",
   "metadata": {},
   "outputs": [
    {
     "name": "stdout",
     "output_type": "stream",
     "text": [
      "[12, 100, 'Universidade']\n"
     ]
    }
   ],
   "source": [
    "# Imprimindo a lista3\n",
    "print(lista3)"
   ]
  },
  {
   "cell_type": "code",
   "execution_count": 9,
   "id": "6a671526",
   "metadata": {},
   "outputs": [],
   "source": [
    "# Atribuindo cada valor da lista3 a uma variável\n",
    "item1 = lista3[0]\n",
    "item2 = lista3[1]\n",
    "item3 = lista3[2]"
   ]
  },
  {
   "cell_type": "code",
   "execution_count": 10,
   "id": "758c433a",
   "metadata": {},
   "outputs": [
    {
     "name": "stdout",
     "output_type": "stream",
     "text": [
      "12 100 Universidade\n"
     ]
    }
   ],
   "source": [
    "# Imprimindo as variáveis da lista\n",
    "print(item1, item2, item3)"
   ]
  },
  {
   "cell_type": "markdown",
   "id": "a8c84536",
   "metadata": {},
   "source": [
    "### Atualizando um item da lista"
   ]
  },
  {
   "cell_type": "code",
   "execution_count": 15,
   "id": "9b29276f",
   "metadata": {},
   "outputs": [
    {
     "data": {
      "text/plain": [
       "'leite'"
      ]
     },
     "execution_count": 15,
     "metadata": {},
     "output_type": "execute_result"
    }
   ],
   "source": [
    "# Imprimindo um item da lista\n",
    "listamercado2[2]"
   ]
  },
  {
   "cell_type": "code",
   "execution_count": 16,
   "id": "4e6a3e5a",
   "metadata": {},
   "outputs": [],
   "source": [
    "# Atualizando um item da lista\n",
    "listamercado2[2] = 'chocolate'"
   ]
  },
  {
   "cell_type": "code",
   "execution_count": 17,
   "id": "c6e089b7",
   "metadata": {},
   "outputs": [
    {
     "data": {
      "text/plain": [
       "['ovos', 'farinha', 'chocolate', 'maças']"
      ]
     },
     "execution_count": 17,
     "metadata": {},
     "output_type": "execute_result"
    }
   ],
   "source": [
    "# Imprimindo a lista com a alteração\n",
    "listamercado2"
   ]
  },
  {
   "cell_type": "markdown",
   "id": "fa39c07a",
   "metadata": {},
   "source": [
    "### Deletando um item da lista"
   ]
  },
  {
   "cell_type": "code",
   "execution_count": 18,
   "id": "e55283cd",
   "metadata": {},
   "outputs": [
    {
     "ename": "IndexError",
     "evalue": "list assignment index out of range",
     "output_type": "error",
     "traceback": [
      "\u001b[1;31m---------------------------------------------------------------------------\u001b[0m",
      "\u001b[1;31mIndexError\u001b[0m                                Traceback (most recent call last)",
      "\u001b[1;32m~\\AppData\\Local\\Temp/ipykernel_452/40770432.py\u001b[0m in \u001b[0;36m<module>\u001b[1;34m\u001b[0m\n\u001b[0;32m      1\u001b[0m \u001b[1;31m# Caso com erro: 'Out of index'. Não é possível deletar um item que não existe na lista\u001b[0m\u001b[1;33m\u001b[0m\u001b[1;33m\u001b[0m\u001b[0m\n\u001b[1;32m----> 2\u001b[1;33m \u001b[1;32mdel\u001b[0m \u001b[0mlistamercado\u001b[0m\u001b[1;33m[\u001b[0m\u001b[1;36m4\u001b[0m\u001b[1;33m]\u001b[0m\u001b[1;33m\u001b[0m\u001b[1;33m\u001b[0m\u001b[0m\n\u001b[0m",
      "\u001b[1;31mIndexError\u001b[0m: list assignment index out of range"
     ]
    }
   ],
   "source": [
    "# Caso com erro: 'Out of index'. Não é possível deletar um item que não existe na lista\n",
    "del listamercado[4]"
   ]
  },
  {
   "cell_type": "code",
   "execution_count": 19,
   "id": "670519b6",
   "metadata": {},
   "outputs": [],
   "source": [
    "# Deletando um item especifico da lista\n",
    "del listamercado2[3]"
   ]
  },
  {
   "cell_type": "code",
   "execution_count": 21,
   "id": "126401ab",
   "metadata": {},
   "outputs": [
    {
     "data": {
      "text/plain": [
       "['ovos', 'farinha', 'chocolate']"
      ]
     },
     "execution_count": 21,
     "metadata": {},
     "output_type": "execute_result"
    }
   ],
   "source": [
    "# Imprimindo a lista com o item deletado, que no caso, o item deletado foi 'maçãs'\n",
    "listamercado2"
   ]
  },
  {
   "cell_type": "markdown",
   "id": "36cc51ed",
   "metadata": {},
   "source": [
    "### Listas de listas (Listas aninhadas)\n",
    "\n",
    "#### Listas de listas são matrizes em Python"
   ]
  },
  {
   "cell_type": "code",
   "execution_count": 1,
   "id": "358f3bb1",
   "metadata": {},
   "outputs": [],
   "source": [
    "# Criando uma lista de listas\n",
    "listas = [[1,2,3], [10,15,14], [10.1,8.7,2.3]]"
   ]
  },
  {
   "cell_type": "code",
   "execution_count": 2,
   "id": "cac834c6",
   "metadata": {},
   "outputs": [
    {
     "data": {
      "text/plain": [
       "[[1, 2, 3], [10, 15, 14], [10.1, 8.7, 2.3]]"
      ]
     },
     "execution_count": 2,
     "metadata": {},
     "output_type": "execute_result"
    }
   ],
   "source": [
    "# Imprimindo a lista\n",
    "listas"
   ]
  },
  {
   "cell_type": "code",
   "execution_count": 9,
   "id": "7ed66bea",
   "metadata": {},
   "outputs": [],
   "source": [
    "# Atribuindo um item da lista a uma variável, no caso, o índice 0, que neste caso será a primeira lista dentro da lista\n",
    "a = listas[0]"
   ]
  },
  {
   "cell_type": "code",
   "execution_count": 10,
   "id": "84c5817e",
   "metadata": {},
   "outputs": [
    {
     "data": {
      "text/plain": [
       "[1, 2, 3]"
      ]
     },
     "execution_count": 10,
     "metadata": {},
     "output_type": "execute_result"
    }
   ],
   "source": [
    "# Imprimindo a variável a\n",
    "a"
   ]
  },
  {
   "cell_type": "code",
   "execution_count": 16,
   "id": "f04dfbbb",
   "metadata": {},
   "outputs": [],
   "source": [
    "# Atribuindo um item da lista a uma variável, que no caso, está recebendo os valores da variável a.\n",
    "# Está sendo feito um slicing, ou seja, conseguindo dividir elementos da lista geral, em listas menores, até valores unitários\n",
    "b = a[0]"
   ]
  },
  {
   "cell_type": "code",
   "execution_count": 17,
   "id": "7bb230af",
   "metadata": {},
   "outputs": [
    {
     "data": {
      "text/plain": [
       "1"
      ]
     },
     "execution_count": 17,
     "metadata": {},
     "output_type": "execute_result"
    }
   ],
   "source": [
    "# Imprimindo a variável b\n",
    "b"
   ]
  },
  {
   "cell_type": "code",
   "execution_count": 20,
   "id": "f00dafb5",
   "metadata": {},
   "outputs": [],
   "source": [
    "# Atribuindo um item da lista a uma variável, onde esse item, é a o índice 1 da lista geral\n",
    "list1 = listas[1]"
   ]
  },
  {
   "cell_type": "code",
   "execution_count": 21,
   "id": "e76753c7",
   "metadata": {},
   "outputs": [
    {
     "data": {
      "text/plain": [
       "[10, 15, 14]"
      ]
     },
     "execution_count": 21,
     "metadata": {},
     "output_type": "execute_result"
    }
   ],
   "source": [
    "# Imprimindo a lista\n",
    "list1"
   ]
  },
  {
   "cell_type": "code",
   "execution_count": 24,
   "id": "f71b6478",
   "metadata": {},
   "outputs": [],
   "source": [
    "# Atribuindo um item a uma variável, onde esse item, é a do índice 0 da variável list1\n",
    "valor_1_0 = list1[0]"
   ]
  },
  {
   "cell_type": "code",
   "execution_count": 26,
   "id": "64dea759",
   "metadata": {},
   "outputs": [
    {
     "data": {
      "text/plain": [
       "10"
      ]
     },
     "execution_count": 26,
     "metadata": {},
     "output_type": "execute_result"
    }
   ],
   "source": [
    "# Imprimindo a lista\n",
    "valor_1_0"
   ]
  },
  {
   "cell_type": "code",
   "execution_count": 29,
   "id": "cdb58bf5",
   "metadata": {},
   "outputs": [],
   "source": [
    "# Atribuindo um item a uma variável, onde esse item, é a do índice 2 da variável list1\n",
    "valor_1_2 = list1[2]"
   ]
  },
  {
   "cell_type": "code",
   "execution_count": 30,
   "id": "18aa7266",
   "metadata": {},
   "outputs": [
    {
     "data": {
      "text/plain": [
       "14"
      ]
     },
     "execution_count": 30,
     "metadata": {},
     "output_type": "execute_result"
    }
   ],
   "source": [
    "# Imprimindo a lista\n",
    "valor_1_2"
   ]
  },
  {
   "cell_type": "code",
   "execution_count": 31,
   "id": "4890ad4e",
   "metadata": {},
   "outputs": [],
   "source": [
    "# Atribuindo um item da lista a uma variável, onde esse item, é a o índice 2 da lista geral\n",
    "list2 = listas[2]"
   ]
  },
  {
   "cell_type": "code",
   "execution_count": 33,
   "id": "12fb706f",
   "metadata": {},
   "outputs": [
    {
     "data": {
      "text/plain": [
       "[10.1, 8.7, 2.3]"
      ]
     },
     "execution_count": 33,
     "metadata": {},
     "output_type": "execute_result"
    }
   ],
   "source": [
    "# Imprimindo a lista\n",
    "list2"
   ]
  },
  {
   "cell_type": "code",
   "execution_count": 36,
   "id": "82835213",
   "metadata": {},
   "outputs": [],
   "source": [
    "# Atribuindo um item a uma variável, onde esse item, é a do índice 0 da variável list2\n",
    "valor_2_o = list2[0]"
   ]
  },
  {
   "cell_type": "code",
   "execution_count": 37,
   "id": "5329ef0e",
   "metadata": {},
   "outputs": [
    {
     "data": {
      "text/plain": [
       "10.1"
      ]
     },
     "execution_count": 37,
     "metadata": {},
     "output_type": "execute_result"
    }
   ],
   "source": [
    "# Imprimindo a lista\n",
    "valor_2_o"
   ]
  },
  {
   "cell_type": "markdown",
   "id": "b1bed671",
   "metadata": {},
   "source": [
    "### Operações com listas"
   ]
  },
  {
   "cell_type": "code",
   "execution_count": 38,
   "id": "57326feb",
   "metadata": {},
   "outputs": [],
   "source": [
    "# Criaundo uma lista aninhada (lista de listas)\n",
    "listas = [[1,2,3], [10,15,14], [10.1,8.7,2.3]]"
   ]
  },
  {
   "cell_type": "code",
   "execution_count": 39,
   "id": "114a33c8",
   "metadata": {},
   "outputs": [
    {
     "data": {
      "text/plain": [
       "[[1, 2, 3], [10, 15, 14], [10.1, 8.7, 2.3]]"
      ]
     },
     "execution_count": 39,
     "metadata": {},
     "output_type": "execute_result"
    }
   ],
   "source": [
    "# Imprimindo a lista\n",
    "listas"
   ]
  },
  {
   "cell_type": "code",
   "execution_count": 42,
   "id": "6374cd2f",
   "metadata": {},
   "outputs": [],
   "source": [
    "# Atribuindo à variável a, o primeiro valor da primeira lista\n",
    "a = listas[0][0]"
   ]
  },
  {
   "cell_type": "code",
   "execution_count": 44,
   "id": "f72b3b89",
   "metadata": {},
   "outputs": [
    {
     "data": {
      "text/plain": [
       "1"
      ]
     },
     "execution_count": 44,
     "metadata": {},
     "output_type": "execute_result"
    }
   ],
   "source": [
    "# Imprimindo a lista\n",
    "a"
   ]
  },
  {
   "cell_type": "code",
   "execution_count": 51,
   "id": "46d2f3d3",
   "metadata": {},
   "outputs": [],
   "source": [
    "# Atribuindo à variável a, o primeiro valor da primeira lista\n",
    "b = listas[1][2]"
   ]
  },
  {
   "cell_type": "code",
   "execution_count": 52,
   "id": "72eba9e2",
   "metadata": {},
   "outputs": [
    {
     "data": {
      "text/plain": [
       "14"
      ]
     },
     "execution_count": 52,
     "metadata": {},
     "output_type": "execute_result"
    }
   ],
   "source": [
    "# Imprimindo a lista\n",
    "b"
   ]
  },
  {
   "cell_type": "code",
   "execution_count": 59,
   "id": "c39325d9",
   "metadata": {},
   "outputs": [],
   "source": [
    "# Atribuindo à variável a, o primeiro valor da primeira lista\n",
    "# Notar que podemos inserir uma soma, onde, o último item da lista será somado com (+10)\n",
    "# Neste caso, o último item da variável listas do índice 0 é o 3, que somando com (+10) ficará 13\n",
    "c = listas[0][2] + 10"
   ]
  },
  {
   "cell_type": "code",
   "execution_count": 60,
   "id": "dfbba89d",
   "metadata": {},
   "outputs": [
    {
     "data": {
      "text/plain": [
       "13"
      ]
     },
     "execution_count": 60,
     "metadata": {},
     "output_type": "execute_result"
    }
   ],
   "source": [
    "# Imprimindo a lista\n",
    "c"
   ]
  },
  {
   "cell_type": "code",
   "execution_count": 61,
   "id": "3808d45b",
   "metadata": {},
   "outputs": [],
   "source": [
    "# Atribuindo o valor a variável d\n",
    "d = 10"
   ]
  },
  {
   "cell_type": "code",
   "execution_count": 68,
   "id": "69d56305",
   "metadata": {},
   "outputs": [],
   "source": [
    "# Atribuindo valor à variável e, o primeiro valor da segunda lista\n",
    "e = listas[2][0]"
   ]
  },
  {
   "cell_type": "code",
   "execution_count": 69,
   "id": "3fe9c35a",
   "metadata": {},
   "outputs": [
    {
     "data": {
      "text/plain": [
       "10.1"
      ]
     },
     "execution_count": 69,
     "metadata": {},
     "output_type": "execute_result"
    }
   ],
   "source": [
    "# Imprimindo a lista\n",
    "e"
   ]
  },
  {
   "cell_type": "code",
   "execution_count": 70,
   "id": "6b25ff43",
   "metadata": {},
   "outputs": [],
   "source": [
    "# Atribuindo valor à variável e, o primeiro valor da segunda lista\n",
    "# Multiplicando o resultado da lista pela variável d, que no caso tem o valor 10\n",
    "e = d * listas[2][0]"
   ]
  },
  {
   "cell_type": "code",
   "execution_count": 72,
   "id": "0ca978bd",
   "metadata": {},
   "outputs": [
    {
     "data": {
      "text/plain": [
       "101.0"
      ]
     },
     "execution_count": 72,
     "metadata": {},
     "output_type": "execute_result"
    }
   ],
   "source": [
    "# Imprimindo a lista\n",
    "e"
   ]
  },
  {
   "cell_type": "markdown",
   "id": "3f4c7fca",
   "metadata": {},
   "source": [
    "### Concatenando listas"
   ]
  },
  {
   "cell_type": "code",
   "execution_count": 1,
   "id": "2e722a50",
   "metadata": {},
   "outputs": [],
   "source": [
    "# Atribuindo valor à variável\n",
    "listas_s1 = [34, 32, 56]"
   ]
  },
  {
   "cell_type": "code",
   "execution_count": 5,
   "id": "45b316e2",
   "metadata": {},
   "outputs": [
    {
     "data": {
      "text/plain": [
       "[34, 32, 56]"
      ]
     },
     "execution_count": 5,
     "metadata": {},
     "output_type": "execute_result"
    }
   ],
   "source": [
    "# Imprimindo a lista\n",
    "listas_s1"
   ]
  },
  {
   "cell_type": "code",
   "execution_count": 6,
   "id": "a1904abe",
   "metadata": {},
   "outputs": [],
   "source": [
    "# Atribuindo valor à variável\n",
    "listas_s2 = [21, 90, 51]"
   ]
  },
  {
   "cell_type": "code",
   "execution_count": 7,
   "id": "cf1781f9",
   "metadata": {},
   "outputs": [
    {
     "data": {
      "text/plain": [
       "[21, 90, 51]"
      ]
     },
     "execution_count": 7,
     "metadata": {},
     "output_type": "execute_result"
    }
   ],
   "source": [
    "# Imprimindo a lista\n",
    "listas_s2"
   ]
  },
  {
   "cell_type": "code",
   "execution_count": 9,
   "id": "582a72d2",
   "metadata": {},
   "outputs": [],
   "source": [
    "# Concatenando listas\n",
    "lista_total = listas_s1 + listas_s2"
   ]
  },
  {
   "cell_type": "code",
   "execution_count": 10,
   "id": "951f0ffa",
   "metadata": {},
   "outputs": [
    {
     "data": {
      "text/plain": [
       "[34, 32, 56, 21, 90, 51]"
      ]
     },
     "execution_count": 10,
     "metadata": {},
     "output_type": "execute_result"
    }
   ],
   "source": [
    "# Imprimindo lista\n",
    "lista_total"
   ]
  },
  {
   "cell_type": "markdown",
   "id": "2bdb0cbb",
   "metadata": {},
   "source": [
    "### Operador in"
   ]
  },
  {
   "cell_type": "code",
   "execution_count": 11,
   "id": "aee172c9",
   "metadata": {},
   "outputs": [],
   "source": [
    "# Criando uma lista\n",
    "lista_teste_op = [100, 2, -5, 3.4]"
   ]
  },
  {
   "cell_type": "code",
   "execution_count": 12,
   "id": "fb3cdcf3",
   "metadata": {},
   "outputs": [
    {
     "data": {
      "text/plain": [
       "[100, 2, -5, 3.4]"
      ]
     },
     "execution_count": 12,
     "metadata": {},
     "output_type": "execute_result"
    }
   ],
   "source": [
    "# Imprimindo a lista\n",
    "lista_teste_op"
   ]
  },
  {
   "cell_type": "code",
   "execution_count": 13,
   "id": "977ba69a",
   "metadata": {},
   "outputs": [
    {
     "name": "stdout",
     "output_type": "stream",
     "text": [
      "False\n"
     ]
    }
   ],
   "source": [
    "# Verificando se o valor 10 pertence a lista\n",
    "# Irá retornar o valor (False), pois, não temos nenhum valor com 10.\n",
    "print(10 in lista_teste_op)"
   ]
  },
  {
   "cell_type": "code",
   "execution_count": 15,
   "id": "d2334cc5",
   "metadata": {},
   "outputs": [
    {
     "name": "stdout",
     "output_type": "stream",
     "text": [
      "True\n"
     ]
    }
   ],
   "source": [
    "# Verificando se o valor 100 pertence a lista\n",
    "# Irá retornar o valor (True), pois, temos o valor 100 na lista.\n",
    "print(100 in lista_teste_op)"
   ]
  },
  {
   "cell_type": "markdown",
   "id": "f384511b",
   "metadata": {},
   "source": [
    "### Funções Built-in"
   ]
  },
  {
   "cell_type": "code",
   "execution_count": 18,
   "id": "768e0c30",
   "metadata": {},
   "outputs": [],
   "source": [
    "# Criando uma lista\n",
    "lista_teste_op = [100, 2, -5, 3.4]"
   ]
  },
  {
   "cell_type": "code",
   "execution_count": 19,
   "id": "b9427100",
   "metadata": {},
   "outputs": [
    {
     "data": {
      "text/plain": [
       "[100, 2, -5, 3.4]"
      ]
     },
     "execution_count": 19,
     "metadata": {},
     "output_type": "execute_result"
    }
   ],
   "source": [
    "# Imprimindo a lista\n",
    "lista_teste_op"
   ]
  },
  {
   "cell_type": "code",
   "execution_count": 20,
   "id": "60ac7117",
   "metadata": {},
   "outputs": [
    {
     "data": {
      "text/plain": [
       "4"
      ]
     },
     "execution_count": 20,
     "metadata": {},
     "output_type": "execute_result"
    }
   ],
   "source": [
    "# Função Len() retorna o comprimento da lista\n",
    "len(lista_teste_op)"
   ]
  },
  {
   "cell_type": "code",
   "execution_count": 21,
   "id": "934de619",
   "metadata": {},
   "outputs": [
    {
     "data": {
      "text/plain": [
       "100"
      ]
     },
     "execution_count": 21,
     "metadata": {},
     "output_type": "execute_result"
    }
   ],
   "source": [
    "# Função max() retorna o valor máximo da lista\n",
    "max(lista_teste_op)"
   ]
  },
  {
   "cell_type": "code",
   "execution_count": 23,
   "id": "39a19763",
   "metadata": {},
   "outputs": [
    {
     "data": {
      "text/plain": [
       "-5"
      ]
     },
     "execution_count": 23,
     "metadata": {},
     "output_type": "execute_result"
    }
   ],
   "source": [
    "# Função min() retorna o valor minimo da lista\n",
    "min(lista_teste_op)"
   ]
  },
  {
   "cell_type": "code",
   "execution_count": 24,
   "id": "0d3691e0",
   "metadata": {},
   "outputs": [],
   "source": [
    "# Criando uma lista\n",
    "listamercado2 = ['ovos', 'farinha', 'leite', 'maçãs']"
   ]
  },
  {
   "cell_type": "code",
   "execution_count": 25,
   "id": "fe8572da",
   "metadata": {},
   "outputs": [
    {
     "data": {
      "text/plain": [
       "['ovos', 'farinha', 'leite', 'maçãs']"
      ]
     },
     "execution_count": 25,
     "metadata": {},
     "output_type": "execute_result"
    }
   ],
   "source": [
    "# Imprimindo a lista\n",
    "listamercado2"
   ]
  },
  {
   "cell_type": "code",
   "execution_count": 26,
   "id": "9e50fc47",
   "metadata": {},
   "outputs": [],
   "source": [
    "# Adicionando um item a lista\n",
    "listamercado2.append('carne')"
   ]
  },
  {
   "cell_type": "code",
   "execution_count": 27,
   "id": "8db36041",
   "metadata": {},
   "outputs": [
    {
     "data": {
      "text/plain": [
       "['ovos', 'farinha', 'leite', 'maçãs', 'carne']"
      ]
     },
     "execution_count": 27,
     "metadata": {},
     "output_type": "execute_result"
    }
   ],
   "source": [
    "# Imprimindo a lista\n",
    "listamercado2"
   ]
  },
  {
   "cell_type": "code",
   "execution_count": 30,
   "id": "5a3890c9",
   "metadata": {},
   "outputs": [],
   "source": [
    "# Adicionando um item a lista, que no caso já foi adiciona uma vez\n",
    "# Notar que é possível adicionar novamente o mesmo valor em uma lista, visto que é um novo valor\n",
    "listamercado2.append('carne')"
   ]
  },
  {
   "cell_type": "code",
   "execution_count": 31,
   "id": "5f47dabc",
   "metadata": {},
   "outputs": [
    {
     "data": {
      "text/plain": [
       "['ovos', 'farinha', 'leite', 'maçãs', 'carne', 'carne', 'carne']"
      ]
     },
     "execution_count": 31,
     "metadata": {},
     "output_type": "execute_result"
    }
   ],
   "source": [
    "# Imprimindo a lista\n",
    "listamercado2"
   ]
  },
  {
   "cell_type": "code",
   "execution_count": 32,
   "id": "d9a57864",
   "metadata": {},
   "outputs": [],
   "source": [
    "# Criando uma lista vazia\n",
    "a = []"
   ]
  },
  {
   "cell_type": "code",
   "execution_count": 33,
   "id": "fa6b2743",
   "metadata": {},
   "outputs": [
    {
     "data": {
      "text/plain": [
       "[]"
      ]
     },
     "execution_count": 33,
     "metadata": {},
     "output_type": "execute_result"
    }
   ],
   "source": [
    "# Imprimindo a lista\n",
    "a"
   ]
  },
  {
   "cell_type": "code",
   "execution_count": 34,
   "id": "96a632c0",
   "metadata": {},
   "outputs": [
    {
     "data": {
      "text/plain": [
       "list"
      ]
     },
     "execution_count": 34,
     "metadata": {},
     "output_type": "execute_result"
    }
   ],
   "source": [
    "# Verificando o tipo, se realmente é uma lista\n",
    "type(a)"
   ]
  },
  {
   "cell_type": "code",
   "execution_count": 35,
   "id": "54127376",
   "metadata": {},
   "outputs": [],
   "source": [
    "# Adicionando um valor à lista\n",
    "a.append(10)"
   ]
  },
  {
   "cell_type": "code",
   "execution_count": 36,
   "id": "4a1a6de9",
   "metadata": {},
   "outputs": [
    {
     "data": {
      "text/plain": [
       "[10]"
      ]
     },
     "execution_count": 36,
     "metadata": {},
     "output_type": "execute_result"
    }
   ],
   "source": [
    "# Imprimindo a lista\n",
    "a"
   ]
  },
  {
   "cell_type": "code",
   "execution_count": 38,
   "id": "7554dba8",
   "metadata": {},
   "outputs": [],
   "source": [
    "# Adicionando outr valor à lista\n",
    "a.append(50)"
   ]
  },
  {
   "cell_type": "code",
   "execution_count": 43,
   "id": "d6146bd7",
   "metadata": {},
   "outputs": [
    {
     "data": {
      "text/plain": [
       "[10, 50]"
      ]
     },
     "execution_count": 43,
     "metadata": {},
     "output_type": "execute_result"
    }
   ],
   "source": [
    "# Imprimindo a lista\n",
    "a"
   ]
  },
  {
   "cell_type": "code",
   "execution_count": 52,
   "id": "c215482a",
   "metadata": {},
   "outputs": [],
   "source": [
    "# Criando uma lista\n",
    "old_list = [1, 2, 5, 10]"
   ]
  },
  {
   "cell_type": "code",
   "execution_count": 53,
   "id": "e2b2fb9f",
   "metadata": {},
   "outputs": [
    {
     "data": {
      "text/plain": [
       "[1, 2, 5, 10]"
      ]
     },
     "execution_count": 53,
     "metadata": {},
     "output_type": "execute_result"
    }
   ],
   "source": [
    "# Imprimindo a lista\n",
    "old_list"
   ]
  },
  {
   "cell_type": "code",
   "execution_count": 54,
   "id": "caf4169a",
   "metadata": {},
   "outputs": [],
   "source": [
    "# Criando uma lista vazia\n",
    "new_list = []"
   ]
  },
  {
   "cell_type": "code",
   "execution_count": 55,
   "id": "1f879a4b",
   "metadata": {},
   "outputs": [
    {
     "data": {
      "text/plain": [
       "[]"
      ]
     },
     "execution_count": 55,
     "metadata": {},
     "output_type": "execute_result"
    }
   ],
   "source": [
    "# Imprimindo a lista\n",
    "new_list"
   ]
  },
  {
   "cell_type": "code",
   "execution_count": 58,
   "id": "764720e1",
   "metadata": {},
   "outputs": [],
   "source": [
    "# Copiando os valores de uma lista para a outra, no caso, a lista (old_list) para a lista (new_list)\n",
    "for item in old_list:\n",
    "    new_list.append(item)"
   ]
  },
  {
   "cell_type": "code",
   "execution_count": 59,
   "id": "12e25943",
   "metadata": {},
   "outputs": [
    {
     "data": {
      "text/plain": [
       "[1, 2, 5, 10]"
      ]
     },
     "execution_count": 59,
     "metadata": {},
     "output_type": "execute_result"
    }
   ],
   "source": [
    "# Imprimindo a lista (new_list) que recebeu os valores da (old_list) pelo comando for\n",
    "new_list"
   ]
  },
  {
   "cell_type": "code",
   "execution_count": 61,
   "id": "c478f651",
   "metadata": {},
   "outputs": [],
   "source": [
    "# Criando lista\n",
    "c = [20, 30]"
   ]
  },
  {
   "cell_type": "code",
   "execution_count": 63,
   "id": "4619b2d8",
   "metadata": {},
   "outputs": [
    {
     "data": {
      "text/plain": [
       "[20, 30]"
      ]
     },
     "execution_count": 63,
     "metadata": {},
     "output_type": "execute_result"
    }
   ],
   "source": [
    "# Imprimindo lista\n",
    "c"
   ]
  },
  {
   "cell_type": "code",
   "execution_count": 64,
   "id": "6b0f76a2",
   "metadata": {},
   "outputs": [],
   "source": [
    "# Adicionan valor a lista\n",
    "c.append(60)"
   ]
  },
  {
   "cell_type": "code",
   "execution_count": 65,
   "id": "2181c466",
   "metadata": {},
   "outputs": [],
   "source": [
    "# Adicionan valor a lista\n",
    "c.append(70)"
   ]
  },
  {
   "cell_type": "code",
   "execution_count": 66,
   "id": "34b76ec2",
   "metadata": {},
   "outputs": [
    {
     "data": {
      "text/plain": [
       "[20, 30, 60, 70]"
      ]
     },
     "execution_count": 66,
     "metadata": {},
     "output_type": "execute_result"
    }
   ],
   "source": [
    "# Imprimindo lista\n",
    "c"
   ]
  },
  {
   "cell_type": "code",
   "execution_count": 68,
   "id": "bcd2e178",
   "metadata": {},
   "outputs": [
    {
     "data": {
      "text/plain": [
       "1"
      ]
     },
     "execution_count": 68,
     "metadata": {},
     "output_type": "execute_result"
    }
   ],
   "source": [
    "# Contando quantas vezes o valor 20 aparece na lista\n",
    "c.count(20)"
   ]
  },
  {
   "cell_type": "code",
   "execution_count": 84,
   "id": "26849ee0",
   "metadata": {},
   "outputs": [
    {
     "name": "stdout",
     "output_type": "stream",
     "text": [
      "['Recife', 'Manaus', 'Salvador', 'Fortaleza', 'Palmas']\n"
     ]
    }
   ],
   "source": [
    "# Criando uma lista e uma extensão da lista\n",
    "# Imprimindo a lista\n",
    "cidades = ['Recife', 'Manaus', 'Salvador']\n",
    "cidades.extend(['Fortaleza', 'Palmas'])\n",
    "print(cidades)"
   ]
  },
  {
   "cell_type": "code",
   "execution_count": 86,
   "id": "63864ff1",
   "metadata": {},
   "outputs": [
    {
     "data": {
      "text/plain": [
       "2"
      ]
     },
     "execution_count": 86,
     "metadata": {},
     "output_type": "execute_result"
    }
   ],
   "source": [
    "# Verificando em qual index encontra-se a cidade Salvador\n",
    "cidades.index('Salvador')"
   ]
  },
  {
   "cell_type": "markdown",
   "id": "8431b68d",
   "metadata": {},
   "source": [
    "Lembre-se que em Python o índice começa por 0!"
   ]
  },
  {
   "cell_type": "code",
   "execution_count": 87,
   "id": "efdae856",
   "metadata": {},
   "outputs": [
    {
     "ename": "ValueError",
     "evalue": "'Rio de Janeiro' is not in list",
     "output_type": "error",
     "traceback": [
      "\u001b[1;31m---------------------------------------------------------------------------\u001b[0m",
      "\u001b[1;31mValueError\u001b[0m                                Traceback (most recent call last)",
      "\u001b[1;32m~\\AppData\\Local\\Temp/ipykernel_5164/2864106348.py\u001b[0m in \u001b[0;36m<module>\u001b[1;34m\u001b[0m\n\u001b[0;32m      1\u001b[0m \u001b[1;31m# Verificando em qual index encontra-se a cidade Rio de Janeiro\u001b[0m\u001b[1;33m\u001b[0m\u001b[1;33m\u001b[0m\u001b[0m\n\u001b[0;32m      2\u001b[0m \u001b[1;31m# Notar que haverá um erro, pois, a cidade Rio de Janeiro não é um elemento existente na lista\u001b[0m\u001b[1;33m\u001b[0m\u001b[1;33m\u001b[0m\u001b[0m\n\u001b[1;32m----> 3\u001b[1;33m \u001b[0mcidades\u001b[0m\u001b[1;33m.\u001b[0m\u001b[0mindex\u001b[0m\u001b[1;33m(\u001b[0m\u001b[1;34m'Rio de Janeiro'\u001b[0m\u001b[1;33m)\u001b[0m\u001b[1;33m\u001b[0m\u001b[1;33m\u001b[0m\u001b[0m\n\u001b[0m",
      "\u001b[1;31mValueError\u001b[0m: 'Rio de Janeiro' is not in list"
     ]
    }
   ],
   "source": [
    "# Verificando em qual index encontra-se a cidade Rio de Janeiro\n",
    "# Notar que haverá um erro, pois, a cidade Rio de Janeiro não é um elemento existente na lista\n",
    "cidades.index('Rio de Janeiro')"
   ]
  },
  {
   "cell_type": "code",
   "execution_count": 88,
   "id": "33cec629",
   "metadata": {},
   "outputs": [
    {
     "data": {
      "text/plain": [
       "['Recife', 'Manaus', 'Salvador', 'Fortaleza', 'Palmas']"
      ]
     },
     "execution_count": 88,
     "metadata": {},
     "output_type": "execute_result"
    }
   ],
   "source": [
    "# Imprimindo a lista\n",
    "cidades"
   ]
  },
  {
   "cell_type": "code",
   "execution_count": 89,
   "id": "321fb4bb",
   "metadata": {},
   "outputs": [],
   "source": [
    "# Inserindo valores na lista\n",
    "# Notar que será inserido o valor 110 na posição 2 da lista\n",
    "cidades.insert(2, 110)"
   ]
  },
  {
   "cell_type": "code",
   "execution_count": 90,
   "id": "d4e42551",
   "metadata": {},
   "outputs": [
    {
     "data": {
      "text/plain": [
       "['Recife', 'Manaus', 110, 'Salvador', 'Fortaleza', 'Palmas']"
      ]
     },
     "execution_count": 90,
     "metadata": {},
     "output_type": "execute_result"
    }
   ],
   "source": [
    "# Imprimindo a lista\n",
    "cidades"
   ]
  },
  {
   "cell_type": "code",
   "execution_count": 91,
   "id": "00b2e7f2",
   "metadata": {},
   "outputs": [],
   "source": [
    "# Remove um item da lista\n",
    "cidades.remove(110)"
   ]
  },
  {
   "cell_type": "code",
   "execution_count": 92,
   "id": "2ad4d9d8",
   "metadata": {},
   "outputs": [
    {
     "data": {
      "text/plain": [
       "['Recife', 'Manaus', 'Salvador', 'Fortaleza', 'Palmas']"
      ]
     },
     "execution_count": 92,
     "metadata": {},
     "output_type": "execute_result"
    }
   ],
   "source": [
    "# Imprimindo a lista\n",
    "cidades"
   ]
  },
  {
   "cell_type": "code",
   "execution_count": 93,
   "id": "5cde4a75",
   "metadata": {},
   "outputs": [],
   "source": [
    "# Reverte a lista, ou seja, os valores serão invertidos dentro da lista\n",
    "cidades.reverse()"
   ]
  },
  {
   "cell_type": "code",
   "execution_count": 94,
   "id": "8ca0005b",
   "metadata": {},
   "outputs": [
    {
     "data": {
      "text/plain": [
       "['Palmas', 'Fortaleza', 'Salvador', 'Manaus', 'Recife']"
      ]
     },
     "execution_count": 94,
     "metadata": {},
     "output_type": "execute_result"
    }
   ],
   "source": [
    "# Imprimindo a lista\n",
    "cidades"
   ]
  },
  {
   "cell_type": "code",
   "execution_count": 95,
   "id": "914962fd",
   "metadata": {},
   "outputs": [],
   "source": [
    "# Criando uma lista\n",
    "x = [3,4,5,2,1,0]"
   ]
  },
  {
   "cell_type": "code",
   "execution_count": 96,
   "id": "82a045a3",
   "metadata": {},
   "outputs": [
    {
     "data": {
      "text/plain": [
       "[3, 4, 5, 2, 1, 0]"
      ]
     },
     "execution_count": 96,
     "metadata": {},
     "output_type": "execute_result"
    }
   ],
   "source": [
    "# Imprimindo a lista\n",
    "x"
   ]
  },
  {
   "cell_type": "code",
   "execution_count": 97,
   "id": "2f38d406",
   "metadata": {},
   "outputs": [],
   "source": [
    "# Ordena lista\n",
    "x.sort()"
   ]
  },
  {
   "cell_type": "code",
   "execution_count": 98,
   "id": "04c9bf94",
   "metadata": {},
   "outputs": [
    {
     "data": {
      "text/plain": [
       "[0, 1, 2, 3, 4, 5]"
      ]
     },
     "execution_count": 98,
     "metadata": {},
     "output_type": "execute_result"
    }
   ],
   "source": [
    "# Imprimindo a lista\n",
    "x"
   ]
  }
 ],
 "metadata": {
  "kernelspec": {
   "display_name": "Python 3 (ipykernel)",
   "language": "python",
   "name": "python3"
  },
  "language_info": {
   "codemirror_mode": {
    "name": "ipython",
    "version": 3
   },
   "file_extension": ".py",
   "mimetype": "text/x-python",
   "name": "python",
   "nbconvert_exporter": "python",
   "pygments_lexer": "ipython3",
   "version": "3.9.7"
  }
 },
 "nbformat": 4,
 "nbformat_minor": 5
}
