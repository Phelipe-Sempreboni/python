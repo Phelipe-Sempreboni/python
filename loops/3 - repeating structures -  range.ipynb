{
 "cells": [
  {
   "cell_type": "markdown",
   "id": "0ff79df8",
   "metadata": {},
   "source": [
    "### Range"
   ]
  },
  {
   "cell_type": "code",
   "execution_count": 1,
   "id": "361d422d",
   "metadata": {},
   "outputs": [
    {
     "name": "stdout",
     "output_type": "stream",
     "text": [
      "50\n",
      "52\n",
      "54\n",
      "56\n",
      "58\n",
      "60\n",
      "62\n",
      "64\n",
      "66\n",
      "68\n",
      "70\n",
      "72\n",
      "74\n",
      "76\n",
      "78\n",
      "80\n",
      "82\n",
      "84\n",
      "86\n",
      "88\n",
      "90\n",
      "92\n",
      "94\n",
      "96\n",
      "98\n",
      "100\n"
     ]
    }
   ],
   "source": [
    "# Imprimindo números pares entre 50 e 101\n",
    "# Notar que estamos utilizamos o loop for com o range\n",
    "\n",
    "for i in range (50, 101, 2):\n",
    "    print(i)"
   ]
  },
  {
   "cell_type": "code",
   "execution_count": 3,
   "id": "95bca74c",
   "metadata": {},
   "outputs": [
    {
     "name": "stdout",
     "output_type": "stream",
     "text": [
      "3\n",
      "4\n",
      "5\n"
     ]
    }
   ],
   "source": [
    "# Imprimindo números de 3 à 6\n",
    "# Notar que só serão impressos os números 3, 4 e 5, pois, o stop é exclusivo, logo, irá sempre stopar um número \n",
    "# antes do declarado\n",
    "# Notar que estamos utilizamos o loop for com o range\n",
    "\n",
    "for i in range (3, 6):\n",
    "    print(i)"
   ]
  },
  {
   "cell_type": "code",
   "execution_count": 4,
   "id": "914926bc",
   "metadata": {},
   "outputs": [
    {
     "name": "stdout",
     "output_type": "stream",
     "text": [
      "0\n",
      "-2\n",
      "-4\n",
      "-6\n",
      "-8\n",
      "-10\n",
      "-12\n",
      "-14\n",
      "-16\n",
      "-18\n"
     ]
    }
   ],
   "source": [
    "# Imprimindo números de 0 á -20\n",
    "# Neste caso notar que estamos utilizando a range com números negativos\n",
    "\n",
    "for i in range(0, -20, -2):\n",
    "    print(i)"
   ]
  },
  {
   "cell_type": "code",
   "execution_count": 13,
   "id": "21409b17",
   "metadata": {},
   "outputs": [
    {
     "name": "stdout",
     "output_type": "stream",
     "text": [
      "Morango\n",
      "Banana\n",
      "Abacaxi\n",
      "Uva\n"
     ]
    }
   ],
   "source": [
    "# Declaração de uma lista com strings chamada lista\n",
    "# Declarando uma variável chamada lista_tamanho, que verificar o tamanho da lista\n",
    "# Utilizando o loop for com range para imprimir cada valor em string dessa lista\n",
    "# A variável lista_tamanho server para parâmetro do range\n",
    "# Se você imprimir somente a variável lista_tamanho será retornado o valor 4\n",
    "# Este valor 4 será o valor que for percorrerá com o range e imprimir os valores dessa lista\n",
    "# Teste trocar a variável tamanho lista no parâmetro do range, como por exemplo, 3\n",
    "# Você irá notar que que o item uva da lista não será impresso\n",
    "\n",
    "lista = ['Morango', 'Banana', 'Abacaxi', 'Uva']\n",
    "\n",
    "lista_tamanho = len(lista)\n",
    "\n",
    "for i in range(0, lista_tamanho):\n",
    "    print(lista[i])"
   ]
  },
  {
   "cell_type": "code",
   "execution_count": 15,
   "id": "10e90037",
   "metadata": {},
   "outputs": [
    {
     "data": {
      "text/plain": [
       "range"
      ]
     },
     "execution_count": 15,
     "metadata": {},
     "output_type": "execute_result"
    }
   ],
   "source": [
    "# Tudo em Python é um objeto\n",
    "# Aqui estamos verificando o tipo do objeto range, que no caso, é o mesmo range.\n",
    "\n",
    "type(range(0,3))"
   ]
  },
  {
   "cell_type": "markdown",
   "id": "43bd0ced",
   "metadata": {},
   "source": [
    "## Fim\n",
    "\n",
    "### Obrigado - Data Science Academy - facebook.com/dsacademybr"
   ]
  }
 ],
 "metadata": {
  "kernelspec": {
   "display_name": "Python 3 (ipykernel)",
   "language": "python",
   "name": "python3"
  },
  "language_info": {
   "codemirror_mode": {
    "name": "ipython",
    "version": 3
   },
   "file_extension": ".py",
   "mimetype": "text/x-python",
   "name": "python",
   "nbconvert_exporter": "python",
   "pygments_lexer": "ipython3",
   "version": "3.9.7"
  }
 },
 "nbformat": 4,
 "nbformat_minor": 5
}
