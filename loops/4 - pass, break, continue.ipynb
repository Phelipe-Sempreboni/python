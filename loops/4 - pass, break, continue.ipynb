{
 "cells": [
  {
   "cell_type": "markdown",
   "id": "16f00ed4",
   "metadata": {},
   "source": [
    "### Pass, Break, Continue"
   ]
  },
  {
   "cell_type": "code",
   "execution_count": 6,
   "id": "a379dbd7",
   "metadata": {},
   "outputs": [
    {
     "name": "stdout",
     "output_type": "stream",
     "text": [
      "0\n",
      "1\n",
      "2\n",
      "3\n",
      "4\n"
     ]
    }
   ],
   "source": [
    "# Utilizando o comando (break) e (pass) em um loop (while)\n",
    "# Neste caso, verificamos quando a variável (contador) irá chegar em 4.\n",
    "# Enquanto a variável (contador) não chegar em 4, o comando continuará sendo executado.\n",
    "# Quando o variável (contador) chegar em 4, então o comando (break) será ativado e loop será concluído.\n",
    "# Você pode trocar a verificação do número 4, por qualquer outro número até o limite de 100.\n",
    "# Também é possível trocar o limite de verificação de (<100) do loop while para outro valor.\n",
    "\n",
    "contador = 0\n",
    "\n",
    "while contador < 100:\n",
    "    if contador == 4:\n",
    "        break\n",
    "    else:\n",
    "        pass\n",
    "    print(contador)\n",
    "    contador += 1\n",
    "    #contador = contador +1\n",
    "    \n",
    "print(contador)"
   ]
  },
  {
   "cell_type": "code",
   "execution_count": 13,
   "id": "a206d070",
   "metadata": {},
   "outputs": [
    {
     "name": "stdout",
     "output_type": "stream",
     "text": [
      "P\n",
      "y\n",
      "t\n",
      "o\n",
      "n\n"
     ]
    }
   ],
   "source": [
    "# Neste caso conseguimos verificar se na String Python temos a letra h\n",
    "# Caso seja localizado a letra h, então essa letra é ignorada e o script continua.\n",
    "# Notar que a letra h é ignorada, ficando só Pyton\n",
    "# Este comando pode ser muito útil, até para apagar determinados arquivos de um repositório local\n",
    "# Neste caso testamos com uma string\n",
    "\n",
    "for verificador in 'Python':\n",
    "    if verificador == 'h':\n",
    "        continue\n",
    "    print(verificador)"
   ]
  },
  {
   "cell_type": "code",
   "execution_count": 17,
   "id": "9c3ce931",
   "metadata": {},
   "outputs": [
    {
     "name": "stdout",
     "output_type": "stream",
     "text": [
      "Porta\n",
      "10.8\n",
      "900\n",
      "Asas\n",
      "Ventilador\n"
     ]
    }
   ],
   "source": [
    "# Este comando é o mesmo da célula acima, porém, com outro tipo de objeto e valores\n",
    "# Este comando pode ser muito útil, até para apagar determinados arquivos de um repositório local\n",
    "# Neste caso testamos com uma lista de valores variados\n",
    "# Experimente alterar os valores para verificar o funcionamento\n",
    "\n",
    "lista = ['Porta', 'Cadeira', 10.8, 900, 'Asas', 'Ventilador']\n",
    "\n",
    "for item in lista:\n",
    "    if item == 'Cadeira':\n",
    "        continue\n",
    "    print(item)"
   ]
  },
  {
   "cell_type": "markdown",
   "id": "be4a8533",
   "metadata": {},
   "source": [
    "### While e For juntos"
   ]
  },
  {
   "cell_type": "code",
   "execution_count": 19,
   "id": "f0762913",
   "metadata": {},
   "outputs": [
    {
     "name": "stdout",
     "output_type": "stream",
     "text": [
      "2 é um número primo!\n",
      "3 é um número primo!\n",
      "5 é um número primo!\n",
      "7 é um número primo!\n",
      "11 é um número primo!\n",
      "13 é um número primo!\n",
      "17 é um número primo!\n",
      "19 é um número primo!\n",
      "23 é um número primo!\n",
      "29 é um número primo!\n"
     ]
    }
   ],
   "source": [
    "# Utilizando os loop for e while juntos!\n",
    "\n",
    "for i in range(2, 30):\n",
    "    j = 2\n",
    "    contador = 0\n",
    "    while j < i:\n",
    "        if i % j ==0:\n",
    "            contador = 1\n",
    "            j = j + 1\n",
    "        else:\n",
    "            j = j + 1\n",
    "            \n",
    "    if contador == 0:\n",
    "        print(str(i) + ' é um número primo!')\n",
    "        contador = 0\n",
    "    else:\n",
    "        contador = 0"
   ]
  },
  {
   "cell_type": "markdown",
   "id": "59f92a2e",
   "metadata": {},
   "source": [
    "## Fim"
   ]
  },
  {
   "cell_type": "markdown",
   "id": "2e3f07dc",
   "metadata": {},
   "source": [
    "### Obrigado - Data Science Academy - facebook.com/dsacademybr"
   ]
  }
 ],
 "metadata": {
  "kernelspec": {
   "display_name": "Python 3 (ipykernel)",
   "language": "python",
   "name": "python3"
  },
  "language_info": {
   "codemirror_mode": {
    "name": "ipython",
    "version": 3
   },
   "file_extension": ".py",
   "mimetype": "text/x-python",
   "name": "python",
   "nbconvert_exporter": "python",
   "pygments_lexer": "ipython3",
   "version": "3.9.7"
  }
 },
 "nbformat": 4,
 "nbformat_minor": 5
}
