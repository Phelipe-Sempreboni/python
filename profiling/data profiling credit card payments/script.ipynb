{
 "cells": [
  {
   "cell_type": "markdown",
   "id": "7346e116",
   "metadata": {},
   "source": [
    "---\n",
    "\n",
    "## Notas importantes\n",
    "\n",
    "---\n",
    "\n",
    "### Podem haver erros na instalação e/ou execução da biblioteca \"pandas-profiling\" devido a versões atuais dessa biblioteca com versões anteriores que essa biblioteca depende para sua devida execução.\n",
    "\n",
    "---\n",
    "\n",
    "- Caso haja um erro na biblioteca \"MarkupSafe==2.1.1\", tentar realizar um downgrade com o comando \"pip install MarkupSafe==2.0.1\".\n",
    "\n",
    "- Caso haja um erro na biblioteca \"anaconda-project 0.10.2\", tente executar o comando \"pip install anaconda-project==0.10.2\".\n",
    "\n",
    "- Caso haja um erro na biblioteca \"ruamel.yaml 0.17.21\", tente executar o comando \"pip install ruamel.yaml\".\n",
    "\n",
    "- Caso haja um erro na biblioteca \"ruamel.yaml.clib 0.2.6\", tente executar o comando \"pip install ruamel.yaml.clib\".\n",
    "\n",
    "- Caso haja um erro na biblioteca \"ruamel-yaml-conda 0.15.100\", tente executar o comando \"pip install ruamel-yaml-conda\".\n",
    "\n",
    "- Essas ações acima podem resolver ajudar a resolver possíveis erros e/ou problema.\n",
    "\n",
    "---"
   ]
  },
  {
   "cell_type": "markdown",
   "id": "89a4b7e6",
   "metadata": {},
   "source": [
    "## Instale as bibliotecas abaixo."
   ]
  },
  {
   "cell_type": "code",
   "execution_count": null,
   "id": "d3345a77",
   "metadata": {},
   "outputs": [],
   "source": [
    "# Instalação da biblioteca pandas para utilizar com a próxima biblioteca para o data profiling.\n",
    "\n",
    "#%pip install pandas"
   ]
  },
  {
   "cell_type": "code",
   "execution_count": null,
   "id": "57648056",
   "metadata": {},
   "outputs": [],
   "source": [
    "# Instalação da biblioteca pandas-profiling para realizar o data profiling.\n",
    "# Notar que podem haver erros de instalação ou execução dessa biblioteca, logo, atente aos erros para uma instalação correta.\n",
    "\n",
    "#%pip install pandas-profiling"
   ]
  },
  {
   "cell_type": "markdown",
   "id": "a25bc1b4",
   "metadata": {},
   "source": [
    "## Importe as bibliotecas abaixo que foram instaladas no passo anterior."
   ]
  },
  {
   "cell_type": "code",
   "execution_count": null,
   "id": "c87e95e4",
   "metadata": {},
   "outputs": [],
   "source": [
    "# Importando as bibliotecas pandas e pandas-profiling para gerar os resultados esperados do data profiling.\n",
    "# Notar que iremos importar da biblioteca \"pandas_profiling\" a biblioteca \"ProfileReport\".\n",
    "\n",
    "import pandas as pd\n",
    "from pandas_profiling import ProfileReport"
   ]
  },
  {
   "cell_type": "code",
   "execution_count": null,
   "id": "c52ca97e",
   "metadata": {},
   "outputs": [],
   "source": [
    "## Insira o arquivo em um data frame e realize sua leitura."
   ]
  },
  {
   "cell_type": "code",
   "execution_count": null,
   "id": "995abe57",
   "metadata": {},
   "outputs": [],
   "source": [
    "# Inserindo a base em um data frame do pandas e lendo o arquivo em formato csv.\n",
    "# Notar que o arquivo está no mesmo repositório deste script, logo, só é necessário mencionar o nome do arquivo.\n",
    "\n",
    "df = pd.read_csv('family scholarship base.csv',';')"
   ]
  },
  {
   "cell_type": "markdown",
   "id": "53cd71f0",
   "metadata": {},
   "source": [
    "## Realize a geração do profiling."
   ]
  },
  {
   "cell_type": "code",
   "execution_count": null,
   "id": "d26cfa7b",
   "metadata": {},
   "outputs": [],
   "source": [
    "# Gerando o profiling que foi nomeado como \"report\".\n",
    "# Notar que neste ponto estamos somente gerando, e no passo abaixo iremos realmente conseguir enxergar o resultado.\n",
    "\n",
    "report = ProfileReport(df, title=\"Profiling base\",html={'style':{'full_width':True}})"
   ]
  },
  {
   "cell_type": "markdown",
   "id": "1b32e919",
   "metadata": {},
   "source": [
    "## Realize a importação do profiling gerado para a visualização em HTML."
   ]
  },
  {
   "cell_type": "code",
   "execution_count": null,
   "id": "478e296f",
   "metadata": {},
   "outputs": [],
   "source": [
    "# Utilizando o comando \"%timeit\" para analisar quanto tempo irá demorar para a execução do comando.\n",
    "# Realizando a exportação do profiling nomeado como \"report\". \n",
    "\n",
    "%timeit\n",
    "report.to_file(\"profiling base.html\")"
   ]
  }
 ],
 "metadata": {
  "kernelspec": {
   "display_name": "Python 3 (ipykernel)",
   "language": "python",
   "name": "python3"
  },
  "language_info": {
   "codemirror_mode": {
    "name": "ipython",
    "version": 3
   },
   "file_extension": ".py",
   "mimetype": "text/x-python",
   "name": "python",
   "nbconvert_exporter": "python",
   "pygments_lexer": "ipython3",
   "version": "3.9.12"
  }
 },
 "nbformat": 4,
 "nbformat_minor": 5
}
