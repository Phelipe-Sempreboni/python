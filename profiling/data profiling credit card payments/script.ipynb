{
 "cells": [
  {
   "cell_type": "markdown",
   "id": "19b200b7",
   "metadata": {},
   "source": [
    "---\n",
    "\n",
    "## Data Profiling - Perfil de Dados\n",
    "\n",
    "### Sobre o Pandas Profiling:\n",
    "\n",
    "#### Pandas Profiling é uma biblioteca de código aberto que pode gerar poderosos relatórios à partir de qualquer dataset, com apenas algumas linhas de código. Esses relatórios são gerados à partir do pandas Dataframe.\n",
    "\n",
    "- Para cada coluna do dataset serão apresentados os seguintes dados estatísticos:\n",
    "\n",
    "\n",
    "- Inferência do tipo de dado: Detecta os tipos de colunas em um dataframe.\n",
    "\n",
    "\n",
    "- Descrição de variáveis: Descreve o tipo, valores ausentes, valores únicos/exclusivos e valores frequentes.\n",
    "\n",
    "\n",
    "- Estatísticas dos quartis: Valores mínimos, Q1, média, Q3, máximo, variação.\n",
    "\n",
    "\n",
    "- Estatística descritiva: Média, moda, desvio padrão, soma, coeficiente de variação kurtosis e skewness.\n",
    "\n",
    "\n",
    "- Correlação entre variáveis aleatórias: Spearman, Pearson e Kendall.\n",
    "\n",
    "\n",
    "- Cálculos: Count\n",
    "\n",
    "\n",
    "- Descrição de arquivos de texto: Entenda as categorias (Uppercase, Space), scripts (Latin, Cyrillic) e blocos (ASCII) de textos.\n",
    "\n",
    "\n",
    "- Descrição de arquivos de imagem: Tamanhos, data da criação, dimensões."
   ]
  },
  {
   "cell_type": "markdown",
   "id": "eec6a346",
   "metadata": {},
   "source": [
    "---\n",
    "\n",
    "## Notas importantes\n",
    "\n",
    "### Podem haver erros na instalação e/ou execução da biblioteca \"pandas-profiling\" devido a versões atuais dessa biblioteca com versões anteriores que essa biblioteca depende para sua devida execução.\n",
    "\n",
    "### Somente realize a instalação das biblioteca que tiverem no nome \"anaconda\", caso esteja utilizando o Anaconda como plataforma de execução.\n",
    "\n",
    "---\n",
    "\n",
    "- Caso haja um erro na biblioteca \"MarkupSafe==2.1.1\", tentar realizar um downgrade com o comando \"pip install MarkupSafe==2.0.1\".\n",
    "\n",
    "\n",
    "- Caso haja um erro na biblioteca \"anaconda-project 0.10.2\", tente executar o comando \"pip install anaconda-project==0.10.2\".\n",
    "\n",
    "\n",
    "- Caso haja um erro na biblioteca \"ruamel.yaml 0.17.21\", tente executar o comando \"pip install ruamel.yaml\".\n",
    "\n",
    "\n",
    "- Caso haja um erro na biblioteca \"ruamel.yaml.clib 0.2.6\", tente executar o comando \"pip install ruamel.yaml.clib\".\n",
    "\n",
    "\n",
    "- Caso haja um erro na biblioteca \"ruamel-yaml-conda 0.15.100\", tente executar o comando \"pip install ruamel-yaml-conda\".\n",
    "\n",
    "\n",
    "- Essas ações acima podem resolver ajudar a resolver possíveis erros e/ou problema.\n",
    "\n",
    "---"
   ]
  },
  {
   "cell_type": "markdown",
   "id": "b6223508",
   "metadata": {},
   "source": [
    "---\n",
    "\n",
    "### Dicas\n",
    "\n",
    "- Aconselho realizar a instalação e execução do script em ambientes virtuais do Python, pois assim evitamos instalar bibliotecas que não utilizarem posteriormente e isolar as bibliotecas necessárias para utilização.\n",
    "\n",
    "\n",
    "- Como criar e iniciar um ambiente virtual com Python ? Consulte o link: https://github.com/Phelipe-Sempreboni/python/blob/main/tutorials/creation%2C%20activation%20and%20use%20of%20virtualenv/documentation.md\n",
    "\n",
    "---"
   ]
  },
  {
   "cell_type": "markdown",
   "id": "2411fa90",
   "metadata": {},
   "source": [
    "## Instalação de bibliotecas.\n",
    "\n",
    "### Só realize a instalação caso não tenha as bibliotecas instaladas.\n",
    "\n",
    "### Veja o tópico \"Dicas\" no início deste Jupyter Notebook. "
   ]
  },
  {
   "cell_type": "code",
   "execution_count": 1,
   "id": "21663772",
   "metadata": {},
   "outputs": [],
   "source": [
    "# Instalação de bibliotecas.\n",
    "# Notar que podem haver erros na instalação ou execução da biblioteca \"pandas-profiling\".\n",
    "# Caso ocorram erros, atente para o \"Notas importantes\" no início desse Jupyter Notebook.\n",
    "\n",
    "#%pip install pandas\n",
    "#%pip install pandas-profiling"
   ]
  },
  {
   "cell_type": "markdown",
   "id": "305aed99",
   "metadata": {},
   "source": [
    "## Importe as bibliotecas abaixo que foram instaladas no passo anterior."
   ]
  },
  {
   "cell_type": "code",
   "execution_count": 2,
   "id": "059215fe",
   "metadata": {},
   "outputs": [],
   "source": [
    "# Importando as bibliotecas pandas e pandas-profiling para gerar os resultados esperados do data profiling.\n",
    "# Notar que iremos importar da biblioteca \"pandas_profiling\" a biblioteca \"ProfileReport\".\n",
    "\n",
    "import pandas as pd\n",
    "from pandas_profiling import ProfileReport"
   ]
  },
  {
   "cell_type": "markdown",
   "id": "0ecfff47",
   "metadata": {},
   "source": [
    "## Insira o arquivo em um data frame e realize sua leitura."
   ]
  },
  {
   "cell_type": "code",
   "execution_count": 3,
   "id": "783a35a3",
   "metadata": {},
   "outputs": [
    {
     "name": "stderr",
     "output_type": "stream",
     "text": [
      "D:\\Programming\\Anaconda\\anaconda3\\lib\\site-packages\\IPython\\core\\interactiveshell.py:3369: FutureWarning: In a future version of pandas all arguments of read_csv except for the argument 'filepath_or_buffer' will be keyword-only.\n",
      "  exec(code_obj, self.user_global_ns, self.user_ns)\n"
     ]
    },
    {
     "name": "stdout",
     "output_type": "stream",
     "text": [
      "   ID  LIMIT_BAL  SEX  EDUCATION  MARRIAGE  AGE  PAY_0  PAY_2  PAY_3  PAY_4  \\\n",
      "0   1    20000.0    2          2         1   24      2      2     -1     -1   \n",
      "1   2   120000.0    2          2         2   26     -1      2      0      0   \n",
      "2   3    90000.0    2          2         2   34      0      0      0      0   \n",
      "3   4    50000.0    2          2         1   37      0      0      0      0   \n",
      "4   5    50000.0    1          2         1   57     -1      0     -1      0   \n",
      "\n",
      "   ...  BILL_AMT4  BILL_AMT5  BILL_AMT6  PAY_AMT1  PAY_AMT2  PAY_AMT3  \\\n",
      "0  ...        0.0        0.0        0.0       0.0     689.0       0.0   \n",
      "1  ...     3272.0     3455.0     3261.0       0.0    1000.0    1000.0   \n",
      "2  ...    14331.0    14948.0    15549.0    1518.0    1500.0    1000.0   \n",
      "3  ...    28314.0    28959.0    29547.0    2000.0    2019.0    1200.0   \n",
      "4  ...    20940.0    19146.0    19131.0    2000.0   36681.0   10000.0   \n",
      "\n",
      "   PAY_AMT4  PAY_AMT5  PAY_AMT6  default.payment.next.month  \n",
      "0       0.0       0.0       0.0                           1  \n",
      "1    1000.0       0.0    2000.0                           1  \n",
      "2    1000.0    1000.0    5000.0                           0  \n",
      "3    1100.0    1069.0    1000.0                           0  \n",
      "4    9000.0     689.0     679.0                           0  \n",
      "\n",
      "[5 rows x 25 columns]\n"
     ]
    }
   ],
   "source": [
    "# Inserindo a base em um data frame do pandas e lendo o arquivo em formato csv.\n",
    "# Notar que o arquivo está no mesmo repositório deste script, logo, só é necessário mencionar o nome do arquivo.\n",
    "\n",
    "df = pd.read_csv('UCI_Credit_Card.csv',',')\n",
    "\n",
    "print(df.head())"
   ]
  },
  {
   "cell_type": "markdown",
   "id": "f0acc42c",
   "metadata": {},
   "source": [
    "## Realize a geração do profiling."
   ]
  },
  {
   "cell_type": "code",
   "execution_count": 3,
   "id": "99c56203",
   "metadata": {},
   "outputs": [],
   "source": [
    "# Gerando o profiling que foi nomeado como \"report\".\n",
    "# Notar que neste ponto estamos somente gerando, e no passo abaixo iremos realmente conseguir enxergar o resultado.\n",
    "\n",
    "report = ProfileReport(df, title=\"Profiling base\",html={'style':{'full_width':True}})"
   ]
  },
  {
   "cell_type": "markdown",
   "id": "b4a5facb",
   "metadata": {},
   "source": [
    "## Realize a importação do profiling gerado para a visualização em HTML."
   ]
  },
  {
   "cell_type": "code",
   "execution_count": 4,
   "id": "3a0f6380",
   "metadata": {},
   "outputs": [
    {
     "data": {
      "application/vnd.jupyter.widget-view+json": {
       "model_id": "14dc0880629c4132b9d2e2fdac0a4973",
       "version_major": 2,
       "version_minor": 0
      },
      "text/plain": [
       "Summarize dataset:   0%|          | 0/5 [00:00<?, ?it/s]"
      ]
     },
     "metadata": {},
     "output_type": "display_data"
    },
    {
     "data": {
      "application/vnd.jupyter.widget-view+json": {
       "model_id": "09fdb2b99da14e53845c4a31fbf7b3ff",
       "version_major": 2,
       "version_minor": 0
      },
      "text/plain": [
       "Generate report structure:   0%|          | 0/1 [00:00<?, ?it/s]"
      ]
     },
     "metadata": {},
     "output_type": "display_data"
    },
    {
     "data": {
      "application/vnd.jupyter.widget-view+json": {
       "model_id": "2d777f9e6f6641a68b2694767eb1f877",
       "version_major": 2,
       "version_minor": 0
      },
      "text/plain": [
       "Render HTML:   0%|          | 0/1 [00:00<?, ?it/s]"
      ]
     },
     "metadata": {},
     "output_type": "display_data"
    },
    {
     "data": {
      "application/vnd.jupyter.widget-view+json": {
       "model_id": "327515c7674740988d1ed89811d5c50c",
       "version_major": 2,
       "version_minor": 0
      },
      "text/plain": [
       "Export report to file:   0%|          | 0/1 [00:00<?, ?it/s]"
      ]
     },
     "metadata": {},
     "output_type": "display_data"
    }
   ],
   "source": [
    "# Utilizando o comando \"%timeit\" para analisar quanto tempo irá demorar para a execução do comando.\n",
    "# Realizando a exportação do profiling nomeado como \"report\". \n",
    "\n",
    "%timeit\n",
    "report.to_file(\"profiling base.html\")"
   ]
  },
  {
   "cell_type": "markdown",
   "id": "085d8131",
   "metadata": {},
   "source": [
    "# Gerando o relatório direto no Jupyter Notebook"
   ]
  },
  {
   "cell_type": "code",
   "execution_count": null,
   "id": "5dbaaed7",
   "metadata": {},
   "outputs": [],
   "source": [
    "# Aqui iremos gerar o relatório diretamente na interface do Jupyter Notebook com o Pandas.\n",
    "# Teste rodar no seu Jupyter Notebook, pois caso rode e fique aqui, o Github não conseguirá ler este Jupyter.\n",
    "\n",
    "df.profile_report(title='profiling base direct generation in jupyter notebook with pandas')"
   ]
  },
  {
   "cell_type": "markdown",
   "id": "7348cfa4",
   "metadata": {},
   "source": [
    "# Relatório completo em modo Dark"
   ]
  },
  {
   "cell_type": "code",
   "execution_count": 9,
   "id": "9e24d07e",
   "metadata": {},
   "outputs": [],
   "source": [
    "# Gerando o profiling que foi nomeado como \"report\".\n",
    "# Notar que neste ponto estamos somente gerando, e no passo abaixo iremos realmente conseguir enxergar o resultado.\n",
    "# Este relatório será gerado no modo Dark, pode ser útil para pessoas com alguma deficiência na visão.\n",
    "\n",
    "report_dark_mode = ProfileReport(df, title=\"Profiling base dark mode\", dark_mode=True, html={'style':{'full_width':True}})"
   ]
  },
  {
   "cell_type": "code",
   "execution_count": 10,
   "id": "60b37fcc",
   "metadata": {},
   "outputs": [
    {
     "data": {
      "application/vnd.jupyter.widget-view+json": {
       "model_id": "2fe70379469440f3894239a0911772e3",
       "version_major": 2,
       "version_minor": 0
      },
      "text/plain": [
       "Summarize dataset:   0%|          | 0/5 [00:00<?, ?it/s]"
      ]
     },
     "metadata": {},
     "output_type": "display_data"
    },
    {
     "data": {
      "application/vnd.jupyter.widget-view+json": {
       "model_id": "1683324bd72f4f99bd290bce76c45629",
       "version_major": 2,
       "version_minor": 0
      },
      "text/plain": [
       "Generate report structure:   0%|          | 0/1 [00:00<?, ?it/s]"
      ]
     },
     "metadata": {},
     "output_type": "display_data"
    },
    {
     "data": {
      "application/vnd.jupyter.widget-view+json": {
       "model_id": "6519faa8b6bc41c789fc571023626de8",
       "version_major": 2,
       "version_minor": 0
      },
      "text/plain": [
       "Render HTML:   0%|          | 0/1 [00:00<?, ?it/s]"
      ]
     },
     "metadata": {},
     "output_type": "display_data"
    },
    {
     "data": {
      "application/vnd.jupyter.widget-view+json": {
       "model_id": "bde1b11fa64f447bb857b553bd893159",
       "version_major": 2,
       "version_minor": 0
      },
      "text/plain": [
       "Export report to file:   0%|          | 0/1 [00:00<?, ?it/s]"
      ]
     },
     "metadata": {},
     "output_type": "display_data"
    }
   ],
   "source": [
    "# Utilizando o comando \"%timeit\" para analisar quanto tempo irá demorar para a execução do comando.\n",
    "# Realizando a exportação do profiling nomeado como \"report\". \n",
    "\n",
    "%timeit\n",
    "report_dark_mode.to_file(\"profiling base dark mode.html\")"
   ]
  },
  {
   "cell_type": "markdown",
   "id": "b2c4e0f8",
   "metadata": {},
   "source": [
    "# Relatório completo explorativo\n",
    "\n",
    "Este tipo de relatório é mais utilizado quando temos um datset com informações de texto e imagens, onde irá conter mais informações quando for gerado."
   ]
  },
  {
   "cell_type": "code",
   "execution_count": 11,
   "id": "83337488",
   "metadata": {},
   "outputs": [],
   "source": [
    "# Gerando o profiling que foi nomeado como \"report\".\n",
    "# Notar que neste ponto estamos somente gerando, e no passo abaixo iremos realmente conseguir enxergar o resultado.\n",
    "# Este relatório será gerado no modo Dark, pode ser útil para pessoas com alguma deficiência na visão.\n",
    "# Este será um relatório com mais informações, mas como dito, é um tipo relatório quando temos textos e imagens.\n",
    "\n",
    "report_explorative = ProfileReport(df, title=\"Profiling base explorative\",explorative=True ,dark_mode=True, html={'style':{'full_width':True}})"
   ]
  },
  {
   "cell_type": "code",
   "execution_count": 12,
   "id": "756b3927",
   "metadata": {},
   "outputs": [
    {
     "data": {
      "application/vnd.jupyter.widget-view+json": {
       "model_id": "48960690ad7a45bab155b8460571e034",
       "version_major": 2,
       "version_minor": 0
      },
      "text/plain": [
       "Summarize dataset:   0%|          | 0/5 [00:00<?, ?it/s]"
      ]
     },
     "metadata": {},
     "output_type": "display_data"
    },
    {
     "data": {
      "application/vnd.jupyter.widget-view+json": {
       "model_id": "c8c232dc4cc84d58a58e6ca2213c7f90",
       "version_major": 2,
       "version_minor": 0
      },
      "text/plain": [
       "Generate report structure:   0%|          | 0/1 [00:00<?, ?it/s]"
      ]
     },
     "metadata": {},
     "output_type": "display_data"
    },
    {
     "data": {
      "application/vnd.jupyter.widget-view+json": {
       "model_id": "a847eb08b1064a42b3f0a04f8c25064e",
       "version_major": 2,
       "version_minor": 0
      },
      "text/plain": [
       "Render HTML:   0%|          | 0/1 [00:00<?, ?it/s]"
      ]
     },
     "metadata": {},
     "output_type": "display_data"
    },
    {
     "data": {
      "application/vnd.jupyter.widget-view+json": {
       "model_id": "6c208d670dae486eabeaccfb84cdbb34",
       "version_major": 2,
       "version_minor": 0
      },
      "text/plain": [
       "Export report to file:   0%|          | 0/1 [00:00<?, ?it/s]"
      ]
     },
     "metadata": {},
     "output_type": "display_data"
    }
   ],
   "source": [
    "# Utilizando o comando \"%timeit\" para analisar quanto tempo irá demorar para a execução do comando.\n",
    "# Realizando a exportação do profiling nomeado como \"report\". \n",
    "\n",
    "%timeit\n",
    "report_explorative.to_file(\"profiling base explorative.html\")"
   ]
  },
  {
   "cell_type": "markdown",
   "id": "79ff5708",
   "metadata": {},
   "source": [
    "# Relatório Mínimo\n",
    "\n",
    "Este tipo de relatório é mais utilizado quando queremos menos informações.\n",
    "\n",
    "Podemos queremos menos informações por conta do consumo de memória.\n",
    "\n",
    "Podemos queremos menos informações por conta do dataset ser muito grande.\n",
    "\n",
    "Podemos queremos menos informações por conta de só queremos ver as variáveis no momento, entre outros."
   ]
  },
  {
   "cell_type": "code",
   "execution_count": 14,
   "id": "af75486c",
   "metadata": {},
   "outputs": [],
   "source": [
    "# Gerando o profiling que foi nomeado como \"report\".\n",
    "# Notar que neste ponto estamos somente gerando, e no passo abaixo iremos realmente conseguir enxergar o resultado.\n",
    "# Este relatório será gerado no modo Dark, pode ser útil para pessoas com alguma deficiência na visão.\n",
    "# Este será um relatório com mais informações, mas como dito, é um tipo relatório quando temos textos e imagens.\n",
    "\n",
    "report_minimal = ProfileReport(df, title=\"Profiling base minimal\",minimal=True ,dark_mode=True, html={'style':{'full_width':True}})"
   ]
  },
  {
   "cell_type": "code",
   "execution_count": 15,
   "id": "a6b9df71",
   "metadata": {},
   "outputs": [
    {
     "data": {
      "application/vnd.jupyter.widget-view+json": {
       "model_id": "929b3f6363bc46759123c254f92dcd3f",
       "version_major": 2,
       "version_minor": 0
      },
      "text/plain": [
       "Summarize dataset:   0%|          | 0/5 [00:00<?, ?it/s]"
      ]
     },
     "metadata": {},
     "output_type": "display_data"
    },
    {
     "data": {
      "application/vnd.jupyter.widget-view+json": {
       "model_id": "31b37e68092b4162a0da3d7898b7ea9e",
       "version_major": 2,
       "version_minor": 0
      },
      "text/plain": [
       "Generate report structure:   0%|          | 0/1 [00:00<?, ?it/s]"
      ]
     },
     "metadata": {},
     "output_type": "display_data"
    },
    {
     "data": {
      "application/vnd.jupyter.widget-view+json": {
       "model_id": "26b42e22556844159e2b10c08c485692",
       "version_major": 2,
       "version_minor": 0
      },
      "text/plain": [
       "Render HTML:   0%|          | 0/1 [00:00<?, ?it/s]"
      ]
     },
     "metadata": {},
     "output_type": "display_data"
    },
    {
     "data": {
      "application/vnd.jupyter.widget-view+json": {
       "model_id": "10b2316c2b634152a97addc9635a237b",
       "version_major": 2,
       "version_minor": 0
      },
      "text/plain": [
       "Export report to file:   0%|          | 0/1 [00:00<?, ?it/s]"
      ]
     },
     "metadata": {},
     "output_type": "display_data"
    }
   ],
   "source": [
    "# Utilizando o comando \"%timeit\" para analisar quanto tempo irá demorar para a execução do comando.\n",
    "# Realizando a exportação do profiling nomeado como \"report\". \n",
    "\n",
    "%timeit\n",
    "report_minimal.to_file(\"profiling base minimal.html\")"
   ]
  },
  {
   "cell_type": "markdown",
   "id": "d2d1fc4b",
   "metadata": {},
   "source": [
    "# Gerando o relatório à partir da variável para o Jupyter Notebook"
   ]
  },
  {
   "cell_type": "code",
   "execution_count": null,
   "id": "67d77c34",
   "metadata": {},
   "outputs": [],
   "source": [
    "# Aqui iremos utilizar a variável de geração do relatório para visualiza-lo direto no Jupyter Notebook.\n",
    "# Teste rodar no seu Jupyter Notebook, pois caso rode e fique aqui, o Github não conseguirá ler este Jupyter.\n",
    "\n",
    "report_minimal.to_notebook_iframe()"
   ]
  },
  {
   "cell_type": "markdown",
   "id": "ddf3f4a3",
   "metadata": {},
   "source": [
    "# Gerando o relatório à partir da variável para o Jupyter Notebook em janelas"
   ]
  },
  {
   "cell_type": "code",
   "execution_count": null,
   "id": "4cfdcfbb",
   "metadata": {},
   "outputs": [],
   "source": [
    "# Aqui iremos utilizar a variável de geração do relatório para visualiza-lo direto no Jupyter Notebook.\n",
    "# Neste caso conseguiremos enxergar no modo de janelas, para melhorar a visualização.\n",
    "# Teste rodar no seu Jupyter Notebook, pois caso rode e fique aqui, o Github não conseguirá ler este Jupyter.\n",
    "\n",
    "report_minimal.to_widgets()"
   ]
  },
  {
   "cell_type": "markdown",
   "id": "bdba0ad1",
   "metadata": {},
   "source": [
    "# Gerando o relatório à partir da variável para o Jupyter Notebook em formato JSON"
   ]
  },
  {
   "cell_type": "code",
   "execution_count": null,
   "id": "6ad3dcfb",
   "metadata": {},
   "outputs": [],
   "source": [
    "# Aqui iremos utilizar a variável de geração do relatório para visualiza-lo direto no Jupyter Notebook.\n",
    "# Neste caso o formato de exibição será em formato JSON.\n",
    "# Teste rodar no seu Jupyter Notebook, pois caso rode e fique aqui, o Github não conseguirá ler este Jupyter.\n",
    "\n",
    "report_minimal.to_json()"
   ]
  },
  {
   "cell_type": "markdown",
   "id": "4a8518b8",
   "metadata": {},
   "source": [
    "# Definindo o número de Works, ou seja, o número de processadores da máquina que serão utilizados para geração do relatório"
   ]
  },
  {
   "cell_type": "code",
   "execution_count": null,
   "id": "79249f82",
   "metadata": {},
   "outputs": [],
   "source": [
    "# Aqui iremos utilizar a variável de geração do relatório para visualiza-lo direto no Jupyter Notebook.\n",
    "# Neste caso estamos definindo quantos processadores da máquina queremos utilizar na geração do relatório.\n",
    "# Notar também que utilizamos o comando \"progress_bar\" para ocultar as barras de progresso que foram exibidas acima.\n",
    "\n",
    "report_minimal = ProfileReport(df,\n",
    "                               title=\"Profiling base minimal\",\n",
    "                               minimal=True,\n",
    "                               dark_mode=True, \n",
    "                               pool_size=4,\n",
    "                               progress_bar=False,\n",
    "                               html={'style':{'full_width':True}})"
   ]
  }
 ],
 "metadata": {
  "kernelspec": {
   "display_name": "Python 3 (ipykernel)",
   "language": "python",
   "name": "python3"
  },
  "language_info": {
   "codemirror_mode": {
    "name": "ipython",
    "version": 3
   },
   "file_extension": ".py",
   "mimetype": "text/x-python",
   "name": "python",
   "nbconvert_exporter": "python",
   "pygments_lexer": "ipython3",
   "version": "3.9.12"
  }
 },
 "nbformat": 4,
 "nbformat_minor": 5
}
