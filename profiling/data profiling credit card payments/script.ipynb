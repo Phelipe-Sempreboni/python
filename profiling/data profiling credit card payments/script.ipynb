{
 "cells": [
  {
   "cell_type": "markdown",
   "id": "19b200b7",
   "metadata": {},
   "source": [
    "---\n",
    "\n",
    "## Notas importantes\n",
    "\n",
    "---\n",
    "\n",
    "### Podem haver erros na instalação e/ou execução da biblioteca \"pandas-profiling\" devido a versões atuais dessa biblioteca com versões anteriores que essa biblioteca depende para sua devida execução.\n",
    "\n",
    "---\n",
    "\n",
    "- Caso haja um erro na biblioteca \"MarkupSafe==2.1.1\", tentar realizar um downgrade com o comando \"pip install MarkupSafe==2.0.1\".\n",
    "\n",
    "- Caso haja um erro na biblioteca \"anaconda-project 0.10.2\", tente executar o comando \"pip install anaconda-project==0.10.2\".\n",
    "\n",
    "- Caso haja um erro na biblioteca \"ruamel.yaml 0.17.21\", tente executar o comando \"pip install ruamel.yaml\".\n",
    "\n",
    "- Caso haja um erro na biblioteca \"ruamel.yaml.clib 0.2.6\", tente executar o comando \"pip install ruamel.yaml.clib\".\n",
    "\n",
    "- Caso haja um erro na biblioteca \"ruamel-yaml-conda 0.15.100\", tente executar o comando \"pip install ruamel-yaml-conda\".\n",
    "\n",
    "- Essas ações acima podem resolver ajudar a resolver possíveis erros e/ou problema.\n",
    "\n",
    "---"
   ]
  },
  {
   "cell_type": "markdown",
   "id": "2411fa90",
   "metadata": {},
   "source": [
    "## Instale as bibliotecas abaixo."
   ]
  },
  {
   "cell_type": "code",
   "execution_count": null,
   "id": "21663772",
   "metadata": {},
   "outputs": [],
   "source": [
    "# Instalação da biblioteca pandas para utilizar com a próxima biblioteca para o data profiling.\n",
    "\n",
    "#%pip install pandas"
   ]
  },
  {
   "cell_type": "code",
   "execution_count": null,
   "id": "2571fe95",
   "metadata": {},
   "outputs": [],
   "source": [
    "# Instalação da biblioteca pandas-profiling para realizar o data profiling.\n",
    "# Notar que podem haver erros de instalação ou execução dessa biblioteca, logo, atente aos erros para uma instalação correta.\n",
    "\n",
    "#%pip install pandas-profiling"
   ]
  },
  {
   "cell_type": "markdown",
   "id": "305aed99",
   "metadata": {},
   "source": [
    "## Importe as bibliotecas abaixo que foram instaladas no passo anterior."
   ]
  },
  {
   "cell_type": "code",
   "execution_count": 4,
   "id": "059215fe",
   "metadata": {},
   "outputs": [],
   "source": [
    "# Importando as bibliotecas pandas e pandas-profiling para gerar os resultados esperados do data profiling.\n",
    "# Notar que iremos importar da biblioteca \"pandas_profiling\" a biblioteca \"ProfileReport\".\n",
    "\n",
    "import pandas as pd\n",
    "from pandas_profiling import ProfileReport"
   ]
  },
  {
   "cell_type": "markdown",
   "id": "0ecfff47",
   "metadata": {},
   "source": [
    "## Insira o arquivo em um data frame e realize sua leitura."
   ]
  },
  {
   "cell_type": "code",
   "execution_count": 6,
   "id": "783a35a3",
   "metadata": {},
   "outputs": [
    {
     "name": "stdout",
     "output_type": "stream",
     "text": [
      "  ID,\"LIMIT_BAL\",\"SEX\",\"EDUCATION\",\"MARRIAGE\",\"AGE\",\"PAY_0\",\"PAY_2\",\"PAY_3\",\"PAY_4\",\"PAY_5\",\"PAY_6\",\"BILL_AMT1\",\"BILL_AMT2\",\"BILL_AMT3\",\"BILL_AMT4\",\"BILL_AMT5\",\"BILL_AMT6\",\"PAY_AMT1\",\"PAY_AMT2\",\"PAY_AMT3\",\"PAY_AMT4\",\"PAY_AMT5\",\"PAY_AMT6\",\"default.payment.next.month\"\n",
      "0  1,20000,2,2,1,24,2,2,-1,-1,-2,-2,3913,3102,689...                                                                                                                                                                                                                      \n",
      "1  2,120000,2,2,2,26,-1,2,0,0,0,2,2682,1725,2682,...                                                                                                                                                                                                                      \n",
      "2  3,90000,2,2,2,34,0,0,0,0,0,0,29239,14027,13559...                                                                                                                                                                                                                      \n",
      "3  4,50000,2,2,1,37,0,0,0,0,0,0,46990,48233,49291...                                                                                                                                                                                                                      \n",
      "4  5,50000,1,2,1,57,-1,0,-1,0,0,0,8617,5670,35835...                                                                                                                                                                                                                      \n"
     ]
    },
    {
     "name": "stderr",
     "output_type": "stream",
     "text": [
      "D:\\Programming\\Anaconda\\anaconda3\\lib\\site-packages\\IPython\\core\\interactiveshell.py:3369: FutureWarning: In a future version of pandas all arguments of read_csv except for the argument 'filepath_or_buffer' will be keyword-only.\n",
      "  exec(code_obj, self.user_global_ns, self.user_ns)\n"
     ]
    }
   ],
   "source": [
    "# Inserindo a base em um data frame do pandas e lendo o arquivo em formato csv.\n",
    "# Notar que o arquivo está no mesmo repositório deste script, logo, só é necessário mencionar o nome do arquivo.\n",
    "\n",
    "df = pd.read_csv('UCI_Credit_Card.csv',';')\n",
    "\n",
    "print(df.head())"
   ]
  },
  {
   "cell_type": "markdown",
   "id": "f0acc42c",
   "metadata": {},
   "source": [
    "## Realize a geração do profiling."
   ]
  },
  {
   "cell_type": "code",
   "execution_count": 7,
   "id": "99c56203",
   "metadata": {},
   "outputs": [],
   "source": [
    "# Gerando o profiling que foi nomeado como \"report\".\n",
    "# Notar que neste ponto estamos somente gerando, e no passo abaixo iremos realmente conseguir enxergar o resultado.\n",
    "\n",
    "report = ProfileReport(df, title=\"Profiling base\",html={'style':{'full_width':True}})"
   ]
  },
  {
   "cell_type": "markdown",
   "id": "b4a5facb",
   "metadata": {},
   "source": [
    "## Realize a importação do profiling gerado para a visualização em HTML."
   ]
  },
  {
   "cell_type": "code",
   "execution_count": 8,
   "id": "3a0f6380",
   "metadata": {},
   "outputs": [
    {
     "data": {
      "application/vnd.jupyter.widget-view+json": {
       "model_id": "b8684879735e44119529d8c6718849c0",
       "version_major": 2,
       "version_minor": 0
      },
      "text/plain": [
       "Summarize dataset:   0%|          | 0/5 [00:00<?, ?it/s]"
      ]
     },
     "metadata": {},
     "output_type": "display_data"
    },
    {
     "data": {
      "application/vnd.jupyter.widget-view+json": {
       "model_id": "411c892ba6cf42cdb51dfc8c44b0cd2d",
       "version_major": 2,
       "version_minor": 0
      },
      "text/plain": [
       "Generate report structure:   0%|          | 0/1 [00:00<?, ?it/s]"
      ]
     },
     "metadata": {},
     "output_type": "display_data"
    },
    {
     "data": {
      "application/vnd.jupyter.widget-view+json": {
       "model_id": "02cb886cdea644488c8aa226e1df9e04",
       "version_major": 2,
       "version_minor": 0
      },
      "text/plain": [
       "Render HTML:   0%|          | 0/1 [00:00<?, ?it/s]"
      ]
     },
     "metadata": {},
     "output_type": "display_data"
    },
    {
     "data": {
      "application/vnd.jupyter.widget-view+json": {
       "model_id": "be75adf6c2074b24a462f1b5283aa5ac",
       "version_major": 2,
       "version_minor": 0
      },
      "text/plain": [
       "Export report to file:   0%|          | 0/1 [00:00<?, ?it/s]"
      ]
     },
     "metadata": {},
     "output_type": "display_data"
    }
   ],
   "source": [
    "# Utilizando o comando \"%timeit\" para analisar quanto tempo irá demorar para a execução do comando.\n",
    "# Realizando a exportação do profiling nomeado como \"report\". \n",
    "\n",
    "%timeit\n",
    "report.to_file(\"profiling base.html\")"
   ]
  }
 ],
 "metadata": {
  "kernelspec": {
   "display_name": "Python 3 (ipykernel)",
   "language": "python",
   "name": "python3"
  },
  "language_info": {
   "codemirror_mode": {
    "name": "ipython",
    "version": 3
   },
   "file_extension": ".py",
   "mimetype": "text/x-python",
   "name": "python",
   "nbconvert_exporter": "python",
   "pygments_lexer": "ipython3",
   "version": "3.9.12"
  }
 },
 "nbformat": 4,
 "nbformat_minor": 5
}
