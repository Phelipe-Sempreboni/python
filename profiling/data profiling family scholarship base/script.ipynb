{
 "cells": [
  {
   "cell_type": "code",
   "execution_count": null,
   "id": "5966a64d",
   "metadata": {},
   "outputs": [],
   "source": [
    "# Instalação da biblioteca pandas para utilizar com a próxima biblioteca para o data profiling.\n",
    "\n",
    "%pip install pandas"
   ]
  },
  {
   "cell_type": "code",
   "execution_count": null,
   "id": "8f44a99d",
   "metadata": {},
   "outputs": [],
   "source": [
    "# Instalação da biblioteca pandas-profiling para realizar o data profiling.\n",
    "# Notar que podem haver erros de instalação ou execução dessa biblioteca, logo, atente aos erros para uma instalação correta.\n",
    "\n",
    "%pip install pandas-profiling"
   ]
  },
  {
   "cell_type": "code",
   "execution_count": 2,
   "id": "f81beab1",
   "metadata": {},
   "outputs": [],
   "source": [
    "# Importando as bibliotecas pandas e pandas-profiling para gerar os resultados esperados do data profiling.\n",
    "# Notar que iremos importar da biblioteca \"pandas_profiling\" a biblioteca \"ProfileReport\".\n",
    "\n",
    "# Caso haja um erro na biblioteca \"MarkupSafe==2.1.1\", tentar realizar um downgrade com \"pip install MarkupSafe==2.0.1\".\n",
    "# Caso haja um erro na biblioteca \"anaconda-project 0.10.2\", tente executar o comando \"pip install anaconda-project==0.10.2\".\n",
    "# Caso haja um erro na biblioteca \"ruamel.yaml 0.17.21\", tente executar o comando \"pip install ruamel.yaml\".\n",
    "# Caso haja um erro na biblioteca \"ruamel.yaml.clib 0.2.6\", tente executar o comando \"pip install ruamel.yaml.clib\".\n",
    "# Caso haja um erro na biblioteca \"ruamel-yaml-conda 0.15.100\", tente executar o comando \"pip install ruamel-yaml-conda\".\n",
    "\n",
    "# Essas ações acima podem resolver ajudar a resolver possíveis erros e/ou problema.\n",
    "\n",
    "import pandas as pd\n",
    "from pandas_profiling import ProfileReport"
   ]
  },
  {
   "cell_type": "code",
   "execution_count": null,
   "id": "7cea850e",
   "metadata": {},
   "outputs": [],
   "source": []
  }
 ],
 "metadata": {
  "kernelspec": {
   "display_name": "Python 3 (ipykernel)",
   "language": "python",
   "name": "python3"
  },
  "language_info": {
   "codemirror_mode": {
    "name": "ipython",
    "version": 3
   },
   "file_extension": ".py",
   "mimetype": "text/x-python",
   "name": "python",
   "nbconvert_exporter": "python",
   "pygments_lexer": "ipython3",
   "version": "3.9.12"
  }
 },
 "nbformat": 4,
 "nbformat_minor": 5
}
