{
 "cells": [
  {
   "cell_type": "markdown",
   "id": "2a6e0fd0",
   "metadata": {},
   "source": [
    "---\n",
    "\n",
    "## Notas importantes\n",
    "\n",
    "---\n",
    "\n",
    "### Podem haver erros na instalação e/ou execução da biblioteca \"pandas-profiling\" devido a versões atuais dessa biblioteca com versões anteriores que essa biblioteca depende para sua devida execução.\n",
    "\n",
    "---\n",
    "\n",
    "- Caso haja um erro na biblioteca \"MarkupSafe==2.1.1\", tentar realizar um downgrade com o comando \"pip install MarkupSafe==2.0.1\".\n",
    "\n",
    "- Caso haja um erro na biblioteca \"anaconda-project 0.10.2\", tente executar o comando \"pip install anaconda-project==0.10.2\".\n",
    "\n",
    "- Caso haja um erro na biblioteca \"ruamel.yaml 0.17.21\", tente executar o comando \"pip install ruamel.yaml\".\n",
    "\n",
    "- Caso haja um erro na biblioteca \"ruamel.yaml.clib 0.2.6\", tente executar o comando \"pip install ruamel.yaml.clib\".\n",
    "\n",
    "- Caso haja um erro na biblioteca \"ruamel-yaml-conda 0.15.100\", tente executar o comando \"pip install ruamel-yaml-conda\".\n",
    "\n",
    "- Essas ações acima podem resolver ajudar a resolver possíveis erros e/ou problema.\n",
    "\n",
    "---"
   ]
  },
  {
   "cell_type": "markdown",
   "id": "b6f70dab",
   "metadata": {},
   "source": [
    "## Instale as bibliotecas abaixo."
   ]
  },
  {
   "cell_type": "code",
   "execution_count": null,
   "id": "d524b897",
   "metadata": {},
   "outputs": [],
   "source": [
    "# Instalação da biblioteca pandas para utilizar com a próxima biblioteca para o data profiling.\n",
    "\n",
    "%pip install pandas"
   ]
  },
  {
   "cell_type": "code",
   "execution_count": null,
   "id": "98669cc5",
   "metadata": {},
   "outputs": [],
   "source": [
    "# Instalação da biblioteca pandas-profiling para realizar o data profiling.\n",
    "# Notar que podem haver erros de instalação ou execução dessa biblioteca, logo, atente aos erros para uma instalação correta.\n",
    "\n",
    "%pip install pandas-profiling"
   ]
  },
  {
   "cell_type": "markdown",
   "id": "a71a64c1",
   "metadata": {},
   "source": [
    "## Importe as bibliotecas abaixo que foram instaladas no passo anterior."
   ]
  },
  {
   "cell_type": "code",
   "execution_count": 3,
   "id": "223bde22",
   "metadata": {},
   "outputs": [],
   "source": [
    "# Importando as bibliotecas pandas e pandas-profiling para gerar os resultados esperados do data profiling.\n",
    "# Notar que iremos importar da biblioteca \"pandas_profiling\" a biblioteca \"ProfileReport\".\n",
    "\n",
    "import pandas as pd\n",
    "from pandas_profiling import ProfileReport"
   ]
  },
  {
   "cell_type": "markdown",
   "id": "c6239c42",
   "metadata": {},
   "source": [
    "## Insira o arquivo em um data frame e realize sua leitura."
   ]
  },
  {
   "cell_type": "code",
   "execution_count": 4,
   "id": "97393f7f",
   "metadata": {},
   "outputs": [
    {
     "name": "stderr",
     "output_type": "stream",
     "text": [
      "D:\\Programming\\Anaconda\\anaconda3\\lib\\site-packages\\IPython\\core\\interactiveshell.py:3369: FutureWarning: In a future version of pandas all arguments of read_csv except for the argument 'filepath_or_buffer' will be keyword-only.\n",
      "  exec(code_obj, self.user_global_ns, self.user_ns)\n",
      "C:\\Users\\pheli\\AppData\\Local\\Temp\\ipykernel_16472\\1901552269.py:5: DtypeWarning: Columns (23) have mixed types. Specify dtype option on import or set low_memory=False.\n",
      "  df = pd.read_csv('family scholarship base.csv',';')\n"
     ]
    }
   ],
   "source": [
    "# Inserindo a base em um data frame do pandas e lendo o arquivo em formato csv.\n",
    "# Notar que o arquivo está no mesmo repositório deste script, logo, só é necessário mencionar o nome do arquivo.\n",
    "\n",
    "df = pd.read_csv('family scholarship base.csv',';')"
   ]
  },
  {
   "cell_type": "markdown",
   "id": "1b8eb5d8",
   "metadata": {},
   "source": [
    "## Realize a geração do profiling."
   ]
  },
  {
   "cell_type": "code",
   "execution_count": 6,
   "id": "8e891da0",
   "metadata": {},
   "outputs": [],
   "source": [
    "# Gerando o profiling que foi nomeado como \"report\".\n",
    "# Notar que neste ponto estamos somente gerando, e no passo abaixo iremos realmente conseguir enxergar o resultado.\n",
    "\n",
    "report = ProfileReport(df, title=\"Profiling base\",html={'style':{'full_width':True}})"
   ]
  },
  {
   "cell_type": "markdown",
   "id": "7dae1852",
   "metadata": {},
   "source": [
    "## Realize a importação do profiling gerado para a visualização em HTML."
   ]
  },
  {
   "cell_type": "code",
   "execution_count": 8,
   "id": "0ac690ee",
   "metadata": {},
   "outputs": [
    {
     "data": {
      "application/vnd.jupyter.widget-view+json": {
       "model_id": "8b2b943daabc49668d82d6518ee0825c",
       "version_major": 2,
       "version_minor": 0
      },
      "text/plain": [
       "Summarize dataset:   0%|          | 0/5 [00:00<?, ?it/s]"
      ]
     },
     "metadata": {},
     "output_type": "display_data"
    },
    {
     "name": "stderr",
     "output_type": "stream",
     "text": [
      "D:\\Programming\\Anaconda\\anaconda3\\lib\\site-packages\\scipy\\stats\\stats.py:4812: RuntimeWarning: overflow encountered in longlong_scalars\n",
      "  (2 * xtie * ytie) / m + x0 * y0 / (9 * m * (size - 2)))\n"
     ]
    },
    {
     "data": {
      "application/vnd.jupyter.widget-view+json": {
       "model_id": "e0fe78cf0d434405a46e1f2ae8a906f5",
       "version_major": 2,
       "version_minor": 0
      },
      "text/plain": [
       "Generate report structure:   0%|          | 0/1 [00:00<?, ?it/s]"
      ]
     },
     "metadata": {},
     "output_type": "display_data"
    },
    {
     "data": {
      "application/vnd.jupyter.widget-view+json": {
       "model_id": "371f26bf41f94b30b81c31fb09227141",
       "version_major": 2,
       "version_minor": 0
      },
      "text/plain": [
       "Render HTML:   0%|          | 0/1 [00:00<?, ?it/s]"
      ]
     },
     "metadata": {},
     "output_type": "display_data"
    },
    {
     "data": {
      "application/vnd.jupyter.widget-view+json": {
       "model_id": "b1fff30ffe6d4680b8b5b7ff49dd291e",
       "version_major": 2,
       "version_minor": 0
      },
      "text/plain": [
       "Export report to file:   0%|          | 0/1 [00:00<?, ?it/s]"
      ]
     },
     "metadata": {},
     "output_type": "display_data"
    }
   ],
   "source": [
    "# Utilizando o comando \"%timeit\" para analisar quanto tempo irá demorar para a execução do comando.\n",
    "# Realizando a exportação do profiling nomeado como \"report\". \n",
    "\n",
    "%timeit\n",
    "report.to_file(\"profiling base.html\")"
   ]
  }
 ],
 "metadata": {
  "kernelspec": {
   "display_name": "Python 3 (ipykernel)",
   "language": "python",
   "name": "python3"
  },
  "language_info": {
   "codemirror_mode": {
    "name": "ipython",
    "version": 3
   },
   "file_extension": ".py",
   "mimetype": "text/x-python",
   "name": "python",
   "nbconvert_exporter": "python",
   "pygments_lexer": "ipython3",
   "version": "3.9.12"
  }
 },
 "nbformat": 4,
 "nbformat_minor": 5
}
