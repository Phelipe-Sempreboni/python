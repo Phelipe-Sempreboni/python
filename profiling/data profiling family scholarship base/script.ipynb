{
 "cells": [
  {
   "cell_type": "markdown",
   "id": "a701c932",
   "metadata": {},
   "source": [
    "## Notas importantes\n",
    "\n",
    "---\n",
    "\n",
    "#### Podem haver erros na instalação e/ou execução da biblioteca \"pandas-profiling\" devido a versões atuais dessa biblioteca com versões anteriores que essa biblioteca depende para sua devida execução.\n",
    "\n",
    "---\n",
    "\n",
    "- Caso haja um erro na biblioteca \"MarkupSafe==2.1.1\", tentar realizar um downgrade com o comando \"pip install MarkupSafe==2.0.1\".\n",
    "\n",
    "- Caso haja um erro na biblioteca \"anaconda-project 0.10.2\", tente executar o comando \"pip install anaconda-project==0.10.2\".\n",
    "\n",
    "- Caso haja um erro na biblioteca \"ruamel.yaml 0.17.21\", tente executar o comando \"pip install ruamel.yaml\".\n",
    "\n",
    "- Caso haja um erro na biblioteca \"ruamel.yaml.clib 0.2.6\", tente executar o comando \"pip install ruamel.yaml.clib\".\n",
    "\n",
    "- Caso haja um erro na biblioteca \"ruamel-yaml-conda 0.15.100\", tente executar o comando \"pip install ruamel-yaml-conda\".\n",
    "\n",
    "---"
   ]
  },
  {
   "cell_type": "code",
   "execution_count": null,
   "id": "508e605e",
   "metadata": {},
   "outputs": [],
   "source": [
    "# Instalação da biblioteca pandas para utilizar com a próxima biblioteca para o data profiling.\n",
    "\n",
    "%pip install pandas"
   ]
  },
  {
   "cell_type": "code",
   "execution_count": null,
   "id": "1afcafe7",
   "metadata": {},
   "outputs": [],
   "source": [
    "# Instalação da biblioteca pandas-profiling para realizar o data profiling.\n",
    "# Notar que podem haver erros de instalação ou execução dessa biblioteca, logo, atente aos erros para uma instalação correta.\n",
    "\n",
    "%pip install pandas-profiling"
   ]
  },
  {
   "cell_type": "code",
   "execution_count": 2,
   "id": "fbc1627c",
   "metadata": {},
   "outputs": [],
   "source": [
    "# Importando as bibliotecas pandas e pandas-profiling para gerar os resultados esperados do data profiling.\n",
    "# Notar que iremos importar da biblioteca \"pandas_profiling\" a biblioteca \"ProfileReport\".\n",
    "\n",
    "# Caso haja um erro na biblioteca \"MarkupSafe==2.1.1\", tentar realizar um downgrade com \"pip install MarkupSafe==2.0.1\".\n",
    "# Caso haja um erro na biblioteca \"anaconda-project 0.10.2\", tente executar o comando \"pip install anaconda-project==0.10.2\".\n",
    "# Caso haja um erro na biblioteca \"ruamel.yaml 0.17.21\", tente executar o comando \"pip install ruamel.yaml\".\n",
    "# Caso haja um erro na biblioteca \"ruamel.yaml.clib 0.2.6\", tente executar o comando \"pip install ruamel.yaml.clib\".\n",
    "# Caso haja um erro na biblioteca \"ruamel-yaml-conda 0.15.100\", tente executar o comando \"pip install ruamel-yaml-conda\".\n",
    "\n",
    "# Essas ações acima podem resolver ajudar a resolver possíveis erros e/ou problema.\n",
    "\n",
    "import pandas as pd\n",
    "from pandas_profiling import ProfileReport"
   ]
  },
  {
   "cell_type": "markdown",
   "id": "8e598b76",
   "metadata": {},
   "source": []
  }
 ],
 "metadata": {
  "kernelspec": {
   "display_name": "Python 3 (ipykernel)",
   "language": "python",
   "name": "python3"
  },
  "language_info": {
   "codemirror_mode": {
    "name": "ipython",
    "version": 3
   },
   "file_extension": ".py",
   "mimetype": "text/x-python",
   "name": "python",
   "nbconvert_exporter": "python",
   "pygments_lexer": "ipython3",
   "version": "3.9.12"
  }
 },
 "nbformat": 4,
 "nbformat_minor": 5
}
