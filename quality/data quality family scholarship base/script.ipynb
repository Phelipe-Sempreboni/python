{
 "cells": [
  {
   "cell_type": "markdown",
   "id": "9678709e",
   "metadata": {},
   "source": [
    "---\n",
    "\n",
    "## Tutorial de Great Expectations ou Grandes Expectativas !\n",
    "\n",
    "---\n",
    "\n",
    "## Saiba mais sobre o Great Expectations no site oficial e no repositório do Github!\n",
    "\n",
    "### Essa é uma biblioteca que iremos utilizar de grande importância nesse processo!\n",
    "\n",
    "### Site oficial, que é a documentação v3: https://docs.greatexpectations.io/docs/\n",
    "\n",
    "### Documentação v2: https://legacy.docs.greatexpectations.io/en/latest/\n",
    "\n",
    "### Repositório Github: https://github.com/great-expectations/great_expectations\n",
    "\n",
    "### Casos de uso: https://greatexpectations.io/case-studies/\n",
    "\n",
    "---"
   ]
  },
  {
   "cell_type": "markdown",
   "id": "877ccb47",
   "metadata": {},
   "source": [
    "### Instalação da biblioteca Pandas, Great Expectations e dependências."
   ]
  },
  {
   "cell_type": "code",
   "execution_count": 1,
   "id": "a04cd229",
   "metadata": {
    "scrolled": true
   },
   "outputs": [
    {
     "name": "stdout",
     "output_type": "stream",
     "text": [
      "Defaulting to user installation because normal site-packages is not writeable\n",
      "Requirement already satisfied: great_expectations in c:\\users\\pheli\\appdata\\roaming\\python\\python39\\site-packages (0.15.19)\n",
      "Requirement already satisfied: jinja2>=2.10 in d:\\programming\\anaconda\\anaconda3\\lib\\site-packages (from great_expectations) (2.11.3)\n",
      "Requirement already satisfied: pytz>=2021.3 in d:\\programming\\anaconda\\anaconda3\\lib\\site-packages (from great_expectations) (2021.3)\n",
      "Requirement already satisfied: cryptography>=3.2 in d:\\programming\\anaconda\\anaconda3\\lib\\site-packages (from great_expectations) (3.4.8)\n",
      "Requirement already satisfied: ruamel.yaml<0.17.18,>=0.16 in c:\\users\\pheli\\appdata\\roaming\\python\\python39\\site-packages (from great_expectations) (0.17.17)\n",
      "Requirement already satisfied: importlib-metadata>=1.7.0 in d:\\programming\\anaconda\\anaconda3\\lib\\site-packages (from great_expectations) (4.11.3)\n",
      "Requirement already satisfied: altair<5,>=4.0.0 in c:\\users\\pheli\\appdata\\roaming\\python\\python39\\site-packages (from great_expectations) (4.2.0)\n",
      "Requirement already satisfied: tqdm>=4.59.0 in d:\\programming\\anaconda\\anaconda3\\lib\\site-packages (from great_expectations) (4.64.0)\n",
      "Requirement already satisfied: jsonschema>=2.5.1 in d:\\programming\\anaconda\\anaconda3\\lib\\site-packages (from great_expectations) (4.4.0)\n",
      "Requirement already satisfied: python-dateutil>=2.8.1 in d:\\programming\\anaconda\\anaconda3\\lib\\site-packages (from great_expectations) (2.8.2)\n",
      "Requirement already satisfied: termcolor>=1.1.0 in c:\\users\\pheli\\appdata\\roaming\\python\\python39\\site-packages (from great_expectations) (1.1.0)\n",
      "Requirement already satisfied: Click>=7.1.2 in d:\\programming\\anaconda\\anaconda3\\lib\\site-packages (from great_expectations) (8.0.4)\n",
      "Requirement already satisfied: colorama>=0.4.3 in d:\\programming\\anaconda\\anaconda3\\lib\\site-packages (from great_expectations) (0.4.4)\n",
      "Requirement already satisfied: Ipython>=7.16.3 in d:\\programming\\anaconda\\anaconda3\\lib\\site-packages (from great_expectations) (8.2.0)\n",
      "Requirement already satisfied: requests>=2.20 in d:\\programming\\anaconda\\anaconda3\\lib\\site-packages (from great_expectations) (2.27.1)\n",
      "Requirement already satisfied: typing-extensions>=3.10.0.0 in d:\\programming\\anaconda\\anaconda3\\lib\\site-packages (from great_expectations) (4.1.1)\n",
      "Requirement already satisfied: jsonpatch>=1.22 in c:\\users\\pheli\\appdata\\roaming\\python\\python39\\site-packages (from great_expectations) (1.32)\n",
      "Requirement already satisfied: pandas>=1.1.0 in d:\\programming\\anaconda\\anaconda3\\lib\\site-packages (from great_expectations) (1.4.2)\n",
      "Requirement already satisfied: ipywidgets>=7.5.1 in d:\\programming\\anaconda\\anaconda3\\lib\\site-packages (from great_expectations) (7.6.5)\n",
      "Requirement already satisfied: notebook>=6.4.10 in c:\\users\\pheli\\appdata\\roaming\\python\\python39\\site-packages (from great_expectations) (6.4.12)\n",
      "Requirement already satisfied: scipy>=0.19.0 in d:\\programming\\anaconda\\anaconda3\\lib\\site-packages (from great_expectations) (1.7.3)\n",
      "Requirement already satisfied: nbformat>=5.0 in d:\\programming\\anaconda\\anaconda3\\lib\\site-packages (from great_expectations) (5.3.0)\n",
      "Requirement already satisfied: urllib3<1.27,>=1.25.4 in d:\\programming\\anaconda\\anaconda3\\lib\\site-packages (from great_expectations) (1.26.9)\n",
      "Requirement already satisfied: numpy>=1.18.5 in d:\\programming\\anaconda\\anaconda3\\lib\\site-packages (from great_expectations) (1.21.5)\n",
      "Requirement already satisfied: makefun<2,>=1.7.0 in c:\\users\\pheli\\appdata\\roaming\\python\\python39\\site-packages (from great_expectations) (1.14.0)\n",
      "Requirement already satisfied: mistune>=0.8.4 in d:\\programming\\anaconda\\anaconda3\\lib\\site-packages (from great_expectations) (0.8.4)\n",
      "Requirement already satisfied: pyparsing<3,>=2.4 in c:\\users\\pheli\\appdata\\roaming\\python\\python39\\site-packages (from great_expectations) (2.4.7)\n",
      "Requirement already satisfied: packaging in d:\\programming\\anaconda\\anaconda3\\lib\\site-packages (from great_expectations) (21.3)\n",
      "Requirement already satisfied: tzlocal>=1.2 in c:\\users\\pheli\\appdata\\roaming\\python\\python39\\site-packages (from great_expectations) (4.2)\n",
      "Requirement already satisfied: toolz in d:\\programming\\anaconda\\anaconda3\\lib\\site-packages (from altair<5,>=4.0.0->great_expectations) (0.11.2)\n",
      "Requirement already satisfied: entrypoints in d:\\programming\\anaconda\\anaconda3\\lib\\site-packages (from altair<5,>=4.0.0->great_expectations) (0.4)\n",
      "Requirement already satisfied: cffi>=1.12 in d:\\programming\\anaconda\\anaconda3\\lib\\site-packages (from cryptography>=3.2->great_expectations) (1.15.0)\n",
      "Requirement already satisfied: pycparser in d:\\programming\\anaconda\\anaconda3\\lib\\site-packages (from cffi>=1.12->cryptography>=3.2->great_expectations) (2.21)\n",
      "Requirement already satisfied: zipp>=0.5 in d:\\programming\\anaconda\\anaconda3\\lib\\site-packages (from importlib-metadata>=1.7.0->great_expectations) (3.7.0)\n",
      "Requirement already satisfied: setuptools>=18.5 in d:\\programming\\anaconda\\anaconda3\\lib\\site-packages (from Ipython>=7.16.3->great_expectations) (61.2.0)\n",
      "Requirement already satisfied: pickleshare in d:\\programming\\anaconda\\anaconda3\\lib\\site-packages (from Ipython>=7.16.3->great_expectations) (0.7.5)\n",
      "Requirement already satisfied: traitlets>=5 in d:\\programming\\anaconda\\anaconda3\\lib\\site-packages (from Ipython>=7.16.3->great_expectations) (5.1.1)\n",
      "Requirement already satisfied: jedi>=0.16 in d:\\programming\\anaconda\\anaconda3\\lib\\site-packages (from Ipython>=7.16.3->great_expectations) (0.18.1)\n",
      "Requirement already satisfied: matplotlib-inline in d:\\programming\\anaconda\\anaconda3\\lib\\site-packages (from Ipython>=7.16.3->great_expectations) (0.1.2)\n",
      "Requirement already satisfied: stack-data in d:\\programming\\anaconda\\anaconda3\\lib\\site-packages (from Ipython>=7.16.3->great_expectations) (0.2.0)\n",
      "Requirement already satisfied: backcall in d:\\programming\\anaconda\\anaconda3\\lib\\site-packages (from Ipython>=7.16.3->great_expectations) (0.2.0)\n",
      "Requirement already satisfied: prompt-toolkit!=3.0.0,!=3.0.1,<3.1.0,>=2.0.0 in d:\\programming\\anaconda\\anaconda3\\lib\\site-packages (from Ipython>=7.16.3->great_expectations) (3.0.20)\n",
      "Requirement already satisfied: decorator in d:\\programming\\anaconda\\anaconda3\\lib\\site-packages (from Ipython>=7.16.3->great_expectations) (5.1.1)\n",
      "Requirement already satisfied: pygments>=2.4.0 in d:\\programming\\anaconda\\anaconda3\\lib\\site-packages (from Ipython>=7.16.3->great_expectations) (2.11.2)\n",
      "Requirement already satisfied: ipython-genutils~=0.2.0 in d:\\programming\\anaconda\\anaconda3\\lib\\site-packages (from ipywidgets>=7.5.1->great_expectations) (0.2.0)\n",
      "Requirement already satisfied: jupyterlab-widgets>=1.0.0 in d:\\programming\\anaconda\\anaconda3\\lib\\site-packages (from ipywidgets>=7.5.1->great_expectations) (1.0.0)\n",
      "Requirement already satisfied: widgetsnbextension~=3.5.0 in d:\\programming\\anaconda\\anaconda3\\lib\\site-packages (from ipywidgets>=7.5.1->great_expectations) (3.5.2)\n",
      "Requirement already satisfied: ipykernel>=4.5.1 in d:\\programming\\anaconda\\anaconda3\\lib\\site-packages (from ipywidgets>=7.5.1->great_expectations) (6.9.1)\n",
      "Requirement already satisfied: tornado<7.0,>=4.2 in d:\\programming\\anaconda\\anaconda3\\lib\\site-packages (from ipykernel>=4.5.1->ipywidgets>=7.5.1->great_expectations) (6.1)\n",
      "Requirement already satisfied: nest-asyncio in d:\\programming\\anaconda\\anaconda3\\lib\\site-packages (from ipykernel>=4.5.1->ipywidgets>=7.5.1->great_expectations) (1.5.5)\n",
      "Requirement already satisfied: jupyter-client<8.0 in d:\\programming\\anaconda\\anaconda3\\lib\\site-packages (from ipykernel>=4.5.1->ipywidgets>=7.5.1->great_expectations) (6.1.12)\n",
      "Requirement already satisfied: debugpy<2.0,>=1.0.0 in d:\\programming\\anaconda\\anaconda3\\lib\\site-packages (from ipykernel>=4.5.1->ipywidgets>=7.5.1->great_expectations) (1.5.1)\n",
      "Requirement already satisfied: parso<0.9.0,>=0.8.0 in d:\\programming\\anaconda\\anaconda3\\lib\\site-packages (from jedi>=0.16->Ipython>=7.16.3->great_expectations) (0.8.3)\n",
      "Requirement already satisfied: MarkupSafe>=0.23 in c:\\users\\pheli\\appdata\\roaming\\python\\python39\\site-packages (from jinja2>=2.10->great_expectations) (2.0.1)\n",
      "Requirement already satisfied: jsonpointer>=1.9 in c:\\users\\pheli\\appdata\\roaming\\python\\python39\\site-packages (from jsonpatch>=1.22->great_expectations) (2.3)\n",
      "Requirement already satisfied: attrs>=17.4.0 in d:\\programming\\anaconda\\anaconda3\\lib\\site-packages (from jsonschema>=2.5.1->great_expectations) (21.4.0)\n",
      "Requirement already satisfied: pyrsistent!=0.17.0,!=0.17.1,!=0.17.2,>=0.14.0 in d:\\programming\\anaconda\\anaconda3\\lib\\site-packages (from jsonschema>=2.5.1->great_expectations) (0.18.0)\n",
      "Requirement already satisfied: pyzmq>=13 in d:\\programming\\anaconda\\anaconda3\\lib\\site-packages (from jupyter-client<8.0->ipykernel>=4.5.1->ipywidgets>=7.5.1->great_expectations) (22.3.0)\n",
      "Requirement already satisfied: jupyter-core>=4.6.0 in d:\\programming\\anaconda\\anaconda3\\lib\\site-packages (from jupyter-client<8.0->ipykernel>=4.5.1->ipywidgets>=7.5.1->great_expectations) (4.9.2)\n",
      "Requirement already satisfied: pywin32>=1.0 in d:\\programming\\anaconda\\anaconda3\\lib\\site-packages (from jupyter-core>=4.6.0->jupyter-client<8.0->ipykernel>=4.5.1->ipywidgets>=7.5.1->great_expectations) (302)\n",
      "Requirement already satisfied: fastjsonschema in d:\\programming\\anaconda\\anaconda3\\lib\\site-packages (from nbformat>=5.0->great_expectations) (2.15.1)\n",
      "Requirement already satisfied: Send2Trash>=1.8.0 in d:\\programming\\anaconda\\anaconda3\\lib\\site-packages (from notebook>=6.4.10->great_expectations) (1.8.0)\n",
      "Requirement already satisfied: prometheus-client in d:\\programming\\anaconda\\anaconda3\\lib\\site-packages (from notebook>=6.4.10->great_expectations) (0.13.1)\n",
      "Requirement already satisfied: terminado>=0.8.3 in d:\\programming\\anaconda\\anaconda3\\lib\\site-packages (from notebook>=6.4.10->great_expectations) (0.13.1)\n",
      "Requirement already satisfied: argon2-cffi in d:\\programming\\anaconda\\anaconda3\\lib\\site-packages (from notebook>=6.4.10->great_expectations) (21.3.0)\n",
      "Requirement already satisfied: nbconvert>=5 in d:\\programming\\anaconda\\anaconda3\\lib\\site-packages (from notebook>=6.4.10->great_expectations) (6.4.4)\n",
      "Requirement already satisfied: pandocfilters>=1.4.1 in d:\\programming\\anaconda\\anaconda3\\lib\\site-packages (from nbconvert>=5->notebook>=6.4.10->great_expectations) (1.5.0)\n",
      "Requirement already satisfied: jupyterlab-pygments in d:\\programming\\anaconda\\anaconda3\\lib\\site-packages (from nbconvert>=5->notebook>=6.4.10->great_expectations) (0.1.2)\n",
      "Requirement already satisfied: testpath in d:\\programming\\anaconda\\anaconda3\\lib\\site-packages (from nbconvert>=5->notebook>=6.4.10->great_expectations) (0.5.0)\n",
      "Requirement already satisfied: defusedxml in d:\\programming\\anaconda\\anaconda3\\lib\\site-packages (from nbconvert>=5->notebook>=6.4.10->great_expectations) (0.7.1)\n",
      "Requirement already satisfied: nbclient<0.6.0,>=0.5.0 in d:\\programming\\anaconda\\anaconda3\\lib\\site-packages (from nbconvert>=5->notebook>=6.4.10->great_expectations) (0.5.13)\n",
      "Requirement already satisfied: bleach in d:\\programming\\anaconda\\anaconda3\\lib\\site-packages (from nbconvert>=5->notebook>=6.4.10->great_expectations) (4.1.0)\n",
      "Requirement already satisfied: beautifulsoup4 in d:\\programming\\anaconda\\anaconda3\\lib\\site-packages (from nbconvert>=5->notebook>=6.4.10->great_expectations) (4.11.1)\n",
      "Requirement already satisfied: wcwidth in d:\\programming\\anaconda\\anaconda3\\lib\\site-packages (from prompt-toolkit!=3.0.0,!=3.0.1,<3.1.0,>=2.0.0->Ipython>=7.16.3->great_expectations) (0.2.5)\n",
      "Requirement already satisfied: six>=1.5 in d:\\programming\\anaconda\\anaconda3\\lib\\site-packages (from python-dateutil>=2.8.1->great_expectations) (1.16.0)\n",
      "Requirement already satisfied: certifi>=2017.4.17 in d:\\programming\\anaconda\\anaconda3\\lib\\site-packages (from requests>=2.20->great_expectations) (2021.10.8)\n",
      "Requirement already satisfied: charset-normalizer~=2.0.0 in d:\\programming\\anaconda\\anaconda3\\lib\\site-packages (from requests>=2.20->great_expectations) (2.0.4)\n",
      "Requirement already satisfied: idna<4,>=2.5 in d:\\programming\\anaconda\\anaconda3\\lib\\site-packages (from requests>=2.20->great_expectations) (3.3)\n",
      "Requirement already satisfied: ruamel.yaml.clib>=0.1.2 in c:\\users\\pheli\\appdata\\roaming\\python\\python39\\site-packages (from ruamel.yaml<0.17.18,>=0.16->great_expectations) (0.2.6)\n",
      "Requirement already satisfied: pywinpty>=1.1.0 in d:\\programming\\anaconda\\anaconda3\\lib\\site-packages (from terminado>=0.8.3->notebook>=6.4.10->great_expectations) (2.0.2)\n",
      "Requirement already satisfied: pytz-deprecation-shim in c:\\users\\pheli\\appdata\\roaming\\python\\python39\\site-packages (from tzlocal>=1.2->great_expectations) (0.1.0.post0)\n",
      "Requirement already satisfied: tzdata in c:\\users\\pheli\\appdata\\roaming\\python\\python39\\site-packages (from tzlocal>=1.2->great_expectations) (2022.2)\n",
      "Requirement already satisfied: argon2-cffi-bindings in d:\\programming\\anaconda\\anaconda3\\lib\\site-packages (from argon2-cffi->notebook>=6.4.10->great_expectations) (21.2.0)\n",
      "Requirement already satisfied: soupsieve>1.2 in d:\\programming\\anaconda\\anaconda3\\lib\\site-packages (from beautifulsoup4->nbconvert>=5->notebook>=6.4.10->great_expectations) (2.3.1)\n",
      "Requirement already satisfied: webencodings in d:\\programming\\anaconda\\anaconda3\\lib\\site-packages (from bleach->nbconvert>=5->notebook>=6.4.10->great_expectations) (0.5.1)\n",
      "Requirement already satisfied: asttokens in d:\\programming\\anaconda\\anaconda3\\lib\\site-packages (from stack-data->Ipython>=7.16.3->great_expectations) (2.0.5)\n",
      "Requirement already satisfied: pure-eval in d:\\programming\\anaconda\\anaconda3\\lib\\site-packages (from stack-data->Ipython>=7.16.3->great_expectations) (0.2.2)\n",
      "Requirement already satisfied: executing in d:\\programming\\anaconda\\anaconda3\\lib\\site-packages (from stack-data->Ipython>=7.16.3->great_expectations) (0.8.3)\n",
      "Note: you may need to restart the kernel to use updated packages.\n"
     ]
    }
   ],
   "source": [
    "# Instalação da biblioteca.\n",
    "\n",
    "%pip install great_expectations"
   ]
  },
  {
   "cell_type": "markdown",
   "id": "dc8e0f6e",
   "metadata": {},
   "source": [
    "### Você pode confirmar que a instalação funcionou executando o comando abaixo."
   ]
  },
  {
   "cell_type": "code",
   "execution_count": 2,
   "id": "b1e00f37",
   "metadata": {},
   "outputs": [
    {
     "name": "stdout",
     "output_type": "stream",
     "text": [
      "A biblioteca 'great_expectations' está instalado!\n"
     ]
    }
   ],
   "source": [
    "import importlib.util\n",
    "\n",
    "package_name = 'great_expectations'\n",
    "\n",
    "spec = importlib.util.find_spec(package_name)\n",
    "if spec is None:\n",
    "    print(package_name + \" não está instalado\")\n",
    "else:\n",
    "    print(\"A biblioteca \" + \"'\"+ package_name + \"'\" + \" está instalado!\")"
   ]
  },
  {
   "cell_type": "code",
   "execution_count": null,
   "id": "06b3aafe",
   "metadata": {},
   "outputs": [],
   "source": []
  },
  {
   "cell_type": "code",
   "execution_count": null,
   "id": "b3679e1a",
   "metadata": {},
   "outputs": [],
   "source": []
  },
  {
   "cell_type": "code",
   "execution_count": null,
   "id": "c73e97ad",
   "metadata": {},
   "outputs": [],
   "source": []
  },
  {
   "cell_type": "code",
   "execution_count": null,
   "id": "f005c72c",
   "metadata": {},
   "outputs": [],
   "source": []
  },
  {
   "cell_type": "code",
   "execution_count": null,
   "id": "73987a4e",
   "metadata": {},
   "outputs": [],
   "source": []
  },
  {
   "cell_type": "code",
   "execution_count": null,
   "id": "0f785630",
   "metadata": {},
   "outputs": [],
   "source": []
  }
 ],
 "metadata": {
  "kernelspec": {
   "display_name": "Python 3 (ipykernel)",
   "language": "python",
   "name": "python3"
  },
  "language_info": {
   "codemirror_mode": {
    "name": "ipython",
    "version": 3
   },
   "file_extension": ".py",
   "mimetype": "text/x-python",
   "name": "python",
   "nbconvert_exporter": "python",
   "pygments_lexer": "ipython3",
   "version": "3.9.12"
  }
 },
 "nbformat": 4,
 "nbformat_minor": 5
}
