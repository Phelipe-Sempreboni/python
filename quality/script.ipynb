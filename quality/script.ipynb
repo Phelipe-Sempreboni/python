{
 "cells": [
  {
   "cell_type": "markdown",
   "id": "e9f923ce",
   "metadata": {},
   "source": [
    "---\n",
    "\n",
    "## Data Quality - Qualidade de Dados - Análise e Monitoramento\n",
    "\n",
    "---"
   ]
  },
  {
   "cell_type": "markdown",
   "id": "cabf95e8",
   "metadata": {},
   "source": [
    "---\n",
    "\n",
    "## Saiba mais sobre o Great Expectations no site oficial e no repositório do Github!\n",
    "\n",
    "### Essa é uma biblioteca que iremos utilizar de grande importância nesse processo!\n",
    "\n",
    "### Site oficial, que é a documentação v3: https://docs.greatexpectations.io/docs/\n",
    "\n",
    "### Documentação v2: https://legacy.docs.greatexpectations.io/en/latest/\n",
    "\n",
    "### Repositório Github: https://github.com/great-expectations/great_expectations\n",
    "\n",
    "### Ca\n",
    "\n",
    "---"
   ]
  },
  {
   "cell_type": "markdown",
   "id": "aebdddef",
   "metadata": {},
   "source": [
    "---\n",
    "\n",
    "### 1 - Instalando as bibliotecas.\n",
    "\n",
    "### 2 - Análise dos dados\n",
    "   - Entendendo a base (data profiling / Documentação)\n",
    "   - Definindo as dimensões a serem aplicadas (repositório de regras)\n",
    "    \n",
    "### 3 - Monitoramento dos dados\n",
    "   - Criando os componentes para executar as avalições (great_expectations)\n",
    "   - Gerando um dashboard para acompanhamento (map)\n",
    "\n",
    "---"
   ]
  },
  {
   "cell_type": "markdown",
   "id": "28979c67",
   "metadata": {},
   "source": [
    "## Instale as bibliotecas abaixo."
   ]
  },
  {
   "cell_type": "code",
   "execution_count": 1,
   "id": "cda89d86",
   "metadata": {
    "scrolled": true
   },
   "outputs": [
    {
     "name": "stdout",
     "output_type": "stream",
     "text": [
      "Defaulting to user installation because normal site-packages is not writeable\n",
      "Collecting great_expectations\n",
      "  Downloading great_expectations-0.15.19-py3-none-any.whl (5.1 MB)\n",
      "Requirement already satisfied: typing-extensions>=3.10.0.0 in d:\\programming\\anaconda\\anaconda3\\lib\\site-packages (from great_expectations) (4.1.1)\n",
      "Requirement already satisfied: ipywidgets>=7.5.1 in d:\\programming\\anaconda\\anaconda3\\lib\\site-packages (from great_expectations) (7.6.5)\n",
      "Requirement already satisfied: cryptography>=3.2 in d:\\programming\\anaconda\\anaconda3\\lib\\site-packages (from great_expectations) (3.4.8)\n",
      "Requirement already satisfied: urllib3<1.27,>=1.25.4 in d:\\programming\\anaconda\\anaconda3\\lib\\site-packages (from great_expectations) (1.26.9)\n",
      "Requirement already satisfied: nbformat>=5.0 in d:\\programming\\anaconda\\anaconda3\\lib\\site-packages (from great_expectations) (5.3.0)\n",
      "Requirement already satisfied: tqdm>=4.59.0 in d:\\programming\\anaconda\\anaconda3\\lib\\site-packages (from great_expectations) (4.64.0)\n",
      "Requirement already satisfied: pandas>=1.1.0 in d:\\programming\\anaconda\\anaconda3\\lib\\site-packages (from great_expectations) (1.4.2)\n",
      "Requirement already satisfied: Ipython>=7.16.3 in d:\\programming\\anaconda\\anaconda3\\lib\\site-packages (from great_expectations) (8.2.0)\n",
      "Requirement already satisfied: numpy>=1.18.5 in d:\\programming\\anaconda\\anaconda3\\lib\\site-packages (from great_expectations) (1.21.5)\n",
      "Requirement already satisfied: importlib-metadata>=1.7.0 in d:\\programming\\anaconda\\anaconda3\\lib\\site-packages (from great_expectations) (4.11.3)\n",
      "Collecting pyparsing<3,>=2.4\n",
      "  Downloading pyparsing-2.4.7-py2.py3-none-any.whl (67 kB)\n",
      "Requirement already satisfied: pytz>=2021.3 in d:\\programming\\anaconda\\anaconda3\\lib\\site-packages (from great_expectations) (2021.3)\n",
      "Requirement already satisfied: jinja2>=2.10 in d:\\programming\\anaconda\\anaconda3\\lib\\site-packages (from great_expectations) (2.11.3)\n",
      "Requirement already satisfied: packaging in d:\\programming\\anaconda\\anaconda3\\lib\\site-packages (from great_expectations) (21.3)\n",
      "Requirement already satisfied: scipy>=0.19.0 in d:\\programming\\anaconda\\anaconda3\\lib\\site-packages (from great_expectations) (1.7.3)\n",
      "Collecting jsonpatch>=1.22\n",
      "  Downloading jsonpatch-1.32-py2.py3-none-any.whl (12 kB)\n",
      "Requirement already satisfied: mistune>=0.8.4 in d:\\programming\\anaconda\\anaconda3\\lib\\site-packages (from great_expectations) (0.8.4)\n",
      "Requirement already satisfied: colorama>=0.4.3 in d:\\programming\\anaconda\\anaconda3\\lib\\site-packages (from great_expectations) (0.4.4)\n",
      "Requirement already satisfied: python-dateutil>=2.8.1 in d:\\programming\\anaconda\\anaconda3\\lib\\site-packages (from great_expectations) (2.8.2)\n",
      "Requirement already satisfied: requests>=2.20 in d:\\programming\\anaconda\\anaconda3\\lib\\site-packages (from great_expectations) (2.27.1)\n",
      "Collecting notebook>=6.4.10\n",
      "  Downloading notebook-6.4.12-py3-none-any.whl (9.9 MB)\n",
      "Collecting ruamel.yaml<0.17.18,>=0.16\n",
      "  Downloading ruamel.yaml-0.17.17-py3-none-any.whl (109 kB)\n",
      "Requirement already satisfied: Click>=7.1.2 in d:\\programming\\anaconda\\anaconda3\\lib\\site-packages (from great_expectations) (8.0.4)\n",
      "Collecting tzlocal>=1.2\n",
      "  Downloading tzlocal-4.2-py3-none-any.whl (19 kB)\n",
      "Requirement already satisfied: jsonschema>=2.5.1 in d:\\programming\\anaconda\\anaconda3\\lib\\site-packages (from great_expectations) (4.4.0)\n",
      "Collecting makefun<2,>=1.7.0\n",
      "  Downloading makefun-1.14.0-py2.py3-none-any.whl (22 kB)\n",
      "Collecting termcolor>=1.1.0\n",
      "  Downloading termcolor-1.1.0.tar.gz (3.9 kB)\n",
      "Collecting altair<5,>=4.0.0\n",
      "  Downloading altair-4.2.0-py3-none-any.whl (812 kB)\n",
      "Requirement already satisfied: toolz in d:\\programming\\anaconda\\anaconda3\\lib\\site-packages (from altair<5,>=4.0.0->great_expectations) (0.11.2)\n",
      "Requirement already satisfied: entrypoints in d:\\programming\\anaconda\\anaconda3\\lib\\site-packages (from altair<5,>=4.0.0->great_expectations) (0.4)\n",
      "Requirement already satisfied: cffi>=1.12 in d:\\programming\\anaconda\\anaconda3\\lib\\site-packages (from cryptography>=3.2->great_expectations) (1.15.0)\n",
      "Requirement already satisfied: pycparser in d:\\programming\\anaconda\\anaconda3\\lib\\site-packages (from cffi>=1.12->cryptography>=3.2->great_expectations) (2.21)\n",
      "Requirement already satisfied: zipp>=0.5 in d:\\programming\\anaconda\\anaconda3\\lib\\site-packages (from importlib-metadata>=1.7.0->great_expectations) (3.7.0)\n",
      "Requirement already satisfied: jedi>=0.16 in d:\\programming\\anaconda\\anaconda3\\lib\\site-packages (from Ipython>=7.16.3->great_expectations) (0.18.1)\n",
      "Requirement already satisfied: setuptools>=18.5 in d:\\programming\\anaconda\\anaconda3\\lib\\site-packages (from Ipython>=7.16.3->great_expectations) (61.2.0)\n",
      "Requirement already satisfied: stack-data in d:\\programming\\anaconda\\anaconda3\\lib\\site-packages (from Ipython>=7.16.3->great_expectations) (0.2.0)\n",
      "Requirement already satisfied: pickleshare in d:\\programming\\anaconda\\anaconda3\\lib\\site-packages (from Ipython>=7.16.3->great_expectations) (0.7.5)\n",
      "Requirement already satisfied: traitlets>=5 in d:\\programming\\anaconda\\anaconda3\\lib\\site-packages (from Ipython>=7.16.3->great_expectations) (5.1.1)\n",
      "Requirement already satisfied: backcall in d:\\programming\\anaconda\\anaconda3\\lib\\site-packages (from Ipython>=7.16.3->great_expectations) (0.2.0)\n",
      "Requirement already satisfied: prompt-toolkit!=3.0.0,!=3.0.1,<3.1.0,>=2.0.0 in d:\\programming\\anaconda\\anaconda3\\lib\\site-packages (from Ipython>=7.16.3->great_expectations) (3.0.20)\n",
      "Requirement already satisfied: decorator in d:\\programming\\anaconda\\anaconda3\\lib\\site-packages (from Ipython>=7.16.3->great_expectations) (5.1.1)\n",
      "Requirement already satisfied: pygments>=2.4.0 in d:\\programming\\anaconda\\anaconda3\\lib\\site-packages (from Ipython>=7.16.3->great_expectations) (2.11.2)\n",
      "Requirement already satisfied: matplotlib-inline in d:\\programming\\anaconda\\anaconda3\\lib\\site-packages (from Ipython>=7.16.3->great_expectations) (0.1.2)\n",
      "Requirement already satisfied: ipykernel>=4.5.1 in d:\\programming\\anaconda\\anaconda3\\lib\\site-packages (from ipywidgets>=7.5.1->great_expectations) (6.9.1)\n",
      "Requirement already satisfied: jupyterlab-widgets>=1.0.0 in d:\\programming\\anaconda\\anaconda3\\lib\\site-packages (from ipywidgets>=7.5.1->great_expectations) (1.0.0)\n",
      "Requirement already satisfied: widgetsnbextension~=3.5.0 in d:\\programming\\anaconda\\anaconda3\\lib\\site-packages (from ipywidgets>=7.5.1->great_expectations) (3.5.2)\n",
      "Requirement already satisfied: ipython-genutils~=0.2.0 in d:\\programming\\anaconda\\anaconda3\\lib\\site-packages (from ipywidgets>=7.5.1->great_expectations) (0.2.0)\n",
      "Requirement already satisfied: jupyter-client<8.0 in d:\\programming\\anaconda\\anaconda3\\lib\\site-packages (from ipykernel>=4.5.1->ipywidgets>=7.5.1->great_expectations) (6.1.12)\n",
      "Requirement already satisfied: debugpy<2.0,>=1.0.0 in d:\\programming\\anaconda\\anaconda3\\lib\\site-packages (from ipykernel>=4.5.1->ipywidgets>=7.5.1->great_expectations) (1.5.1)\n",
      "Requirement already satisfied: tornado<7.0,>=4.2 in d:\\programming\\anaconda\\anaconda3\\lib\\site-packages (from ipykernel>=4.5.1->ipywidgets>=7.5.1->great_expectations) (6.1)\n",
      "Requirement already satisfied: nest-asyncio in d:\\programming\\anaconda\\anaconda3\\lib\\site-packages (from ipykernel>=4.5.1->ipywidgets>=7.5.1->great_expectations) (1.5.5)\n",
      "Requirement already satisfied: parso<0.9.0,>=0.8.0 in d:\\programming\\anaconda\\anaconda3\\lib\\site-packages (from jedi>=0.16->Ipython>=7.16.3->great_expectations) (0.8.3)\n",
      "Requirement already satisfied: MarkupSafe>=0.23 in c:\\users\\pheli\\appdata\\roaming\\python\\python39\\site-packages (from jinja2>=2.10->great_expectations) (2.0.1)\n",
      "Collecting jsonpointer>=1.9\n",
      "  Downloading jsonpointer-2.3-py2.py3-none-any.whl (7.8 kB)\n",
      "Requirement already satisfied: attrs>=17.4.0 in d:\\programming\\anaconda\\anaconda3\\lib\\site-packages (from jsonschema>=2.5.1->great_expectations) (21.4.0)\n",
      "Requirement already satisfied: pyrsistent!=0.17.0,!=0.17.1,!=0.17.2,>=0.14.0 in d:\\programming\\anaconda\\anaconda3\\lib\\site-packages (from jsonschema>=2.5.1->great_expectations) (0.18.0)\n",
      "Requirement already satisfied: pyzmq>=13 in d:\\programming\\anaconda\\anaconda3\\lib\\site-packages (from jupyter-client<8.0->ipykernel>=4.5.1->ipywidgets>=7.5.1->great_expectations) (22.3.0)\n",
      "Requirement already satisfied: jupyter-core>=4.6.0 in d:\\programming\\anaconda\\anaconda3\\lib\\site-packages (from jupyter-client<8.0->ipykernel>=4.5.1->ipywidgets>=7.5.1->great_expectations) (4.9.2)\n",
      "Requirement already satisfied: pywin32>=1.0 in d:\\programming\\anaconda\\anaconda3\\lib\\site-packages (from jupyter-core>=4.6.0->jupyter-client<8.0->ipykernel>=4.5.1->ipywidgets>=7.5.1->great_expectations) (302)\n",
      "Requirement already satisfied: fastjsonschema in d:\\programming\\anaconda\\anaconda3\\lib\\site-packages (from nbformat>=5.0->great_expectations) (2.15.1)\n",
      "Requirement already satisfied: nbconvert>=5 in d:\\programming\\anaconda\\anaconda3\\lib\\site-packages (from notebook>=6.4.10->great_expectations) (6.4.4)\n",
      "Requirement already satisfied: argon2-cffi in d:\\programming\\anaconda\\anaconda3\\lib\\site-packages (from notebook>=6.4.10->great_expectations) (21.3.0)\n",
      "Requirement already satisfied: prometheus-client in d:\\programming\\anaconda\\anaconda3\\lib\\site-packages (from notebook>=6.4.10->great_expectations) (0.13.1)\n",
      "Requirement already satisfied: terminado>=0.8.3 in d:\\programming\\anaconda\\anaconda3\\lib\\site-packages (from notebook>=6.4.10->great_expectations) (0.13.1)\n",
      "Requirement already satisfied: Send2Trash>=1.8.0 in d:\\programming\\anaconda\\anaconda3\\lib\\site-packages (from notebook>=6.4.10->great_expectations) (1.8.0)\n",
      "Requirement already satisfied: nbclient<0.6.0,>=0.5.0 in d:\\programming\\anaconda\\anaconda3\\lib\\site-packages (from nbconvert>=5->notebook>=6.4.10->great_expectations) (0.5.13)\n",
      "Requirement already satisfied: pandocfilters>=1.4.1 in d:\\programming\\anaconda\\anaconda3\\lib\\site-packages (from nbconvert>=5->notebook>=6.4.10->great_expectations) (1.5.0)\n",
      "Requirement already satisfied: bleach in d:\\programming\\anaconda\\anaconda3\\lib\\site-packages (from nbconvert>=5->notebook>=6.4.10->great_expectations) (4.1.0)\n",
      "Requirement already satisfied: defusedxml in d:\\programming\\anaconda\\anaconda3\\lib\\site-packages (from nbconvert>=5->notebook>=6.4.10->great_expectations) (0.7.1)\n",
      "Requirement already satisfied: beautifulsoup4 in d:\\programming\\anaconda\\anaconda3\\lib\\site-packages (from nbconvert>=5->notebook>=6.4.10->great_expectations) (4.11.1)\n",
      "Requirement already satisfied: testpath in d:\\programming\\anaconda\\anaconda3\\lib\\site-packages (from nbconvert>=5->notebook>=6.4.10->great_expectations) (0.5.0)\n",
      "Requirement already satisfied: jupyterlab-pygments in d:\\programming\\anaconda\\anaconda3\\lib\\site-packages (from nbconvert>=5->notebook>=6.4.10->great_expectations) (0.1.2)\n",
      "Requirement already satisfied: wcwidth in d:\\programming\\anaconda\\anaconda3\\lib\\site-packages (from prompt-toolkit!=3.0.0,!=3.0.1,<3.1.0,>=2.0.0->Ipython>=7.16.3->great_expectations) (0.2.5)\n",
      "Requirement already satisfied: six>=1.5 in d:\\programming\\anaconda\\anaconda3\\lib\\site-packages (from python-dateutil>=2.8.1->great_expectations) (1.16.0)\n",
      "Requirement already satisfied: idna<4,>=2.5 in d:\\programming\\anaconda\\anaconda3\\lib\\site-packages (from requests>=2.20->great_expectations) (3.3)\n",
      "Requirement already satisfied: certifi>=2017.4.17 in d:\\programming\\anaconda\\anaconda3\\lib\\site-packages (from requests>=2.20->great_expectations) (2021.10.8)\n",
      "Requirement already satisfied: charset-normalizer~=2.0.0 in d:\\programming\\anaconda\\anaconda3\\lib\\site-packages (from requests>=2.20->great_expectations) (2.0.4)\n",
      "Requirement already satisfied: ruamel.yaml.clib>=0.1.2 in c:\\users\\pheli\\appdata\\roaming\\python\\python39\\site-packages (from ruamel.yaml<0.17.18,>=0.16->great_expectations) (0.2.6)\n",
      "Requirement already satisfied: pywinpty>=1.1.0 in d:\\programming\\anaconda\\anaconda3\\lib\\site-packages (from terminado>=0.8.3->notebook>=6.4.10->great_expectations) (2.0.2)\n",
      "Collecting tzdata\n",
      "  Downloading tzdata-2022.2-py2.py3-none-any.whl (336 kB)\n",
      "Collecting pytz-deprecation-shim\n",
      "  Downloading pytz_deprecation_shim-0.1.0.post0-py2.py3-none-any.whl (15 kB)\n",
      "Requirement already satisfied: argon2-cffi-bindings in d:\\programming\\anaconda\\anaconda3\\lib\\site-packages (from argon2-cffi->notebook>=6.4.10->great_expectations) (21.2.0)\n",
      "Requirement already satisfied: soupsieve>1.2 in d:\\programming\\anaconda\\anaconda3\\lib\\site-packages (from beautifulsoup4->nbconvert>=5->notebook>=6.4.10->great_expectations) (2.3.1)\n",
      "Requirement already satisfied: webencodings in d:\\programming\\anaconda\\anaconda3\\lib\\site-packages (from bleach->nbconvert>=5->notebook>=6.4.10->great_expectations) (0.5.1)\n",
      "Requirement already satisfied: asttokens in d:\\programming\\anaconda\\anaconda3\\lib\\site-packages (from stack-data->Ipython>=7.16.3->great_expectations) (2.0.5)\n",
      "Requirement already satisfied: pure-eval in d:\\programming\\anaconda\\anaconda3\\lib\\site-packages (from stack-data->Ipython>=7.16.3->great_expectations) (0.2.2)\n",
      "Requirement already satisfied: executing in d:\\programming\\anaconda\\anaconda3\\lib\\site-packages (from stack-data->Ipython>=7.16.3->great_expectations) (0.8.3)\n",
      "Building wheels for collected packages: termcolor\n",
      "  Building wheel for termcolor (setup.py): started\n",
      "  Building wheel for termcolor (setup.py): finished with status 'done'\n",
      "  Created wheel for termcolor: filename=termcolor-1.1.0-py3-none-any.whl size=4848 sha256=041d114104f7f614a6d8c91a16496e7dc384ecd48f30c674bc719cb948faf8f1\n",
      "  Stored in directory: c:\\users\\pheli\\appdata\\local\\pip\\cache\\wheels\\b6\\0d\\90\\0d1bbd99855f99cb2f6c2e5ff96f8023fad8ec367695f7d72d\n",
      "Successfully built termcolor\n",
      "Installing collected packages: pyparsing, tzdata, notebook, pytz-deprecation-shim, jsonpointer, tzlocal, termcolor, ruamel.yaml, makefun, jsonpatch, altair, great-expectations\n",
      "  Attempting uninstall: ruamel.yaml\n",
      "    Found existing installation: ruamel.yaml 0.17.21\n",
      "    Uninstalling ruamel.yaml-0.17.21:\n",
      "      Successfully uninstalled ruamel.yaml-0.17.21\n",
      "Successfully installed altair-4.2.0 great-expectations-0.15.19 jsonpatch-1.32 jsonpointer-2.3 makefun-1.14.0 notebook-6.4.12 pyparsing-2.4.7 pytz-deprecation-shim-0.1.0.post0 ruamel.yaml-0.17.17 termcolor-1.1.0 tzdata-2022.2 tzlocal-4.2\n",
      "Note: you may need to restart the kernel to use updated packages.\n"
     ]
    },
    {
     "name": "stderr",
     "output_type": "stream",
     "text": [
      "  WARNING: The scripts jupyter-bundlerextension.exe, jupyter-nbextension.exe, jupyter-notebook.exe and jupyter-serverextension.exe are installed in 'C:\\Users\\pheli\\AppData\\Roaming\\Python\\Python39\\Scripts' which is not on PATH.\n",
      "  Consider adding this directory to PATH or, if you prefer to suppress this warning, use --no-warn-script-location.\n",
      "  WARNING: The script great_expectations.exe is installed in 'C:\\Users\\pheli\\AppData\\Roaming\\Python\\Python39\\Scripts' which is not on PATH.\n",
      "  Consider adding this directory to PATH or, if you prefer to suppress this warning, use --no-warn-script-location.\n",
      "ERROR: pip's dependency resolver does not currently take into account all the packages that are installed. This behaviour is the source of the following dependency conflicts.\n",
      "jupyter-server 1.13.5 requires pywinpty<2; os_name == \"nt\", but you have pywinpty 2.0.2 which is incompatible.\n"
     ]
    }
   ],
   "source": [
    "# Instalação das bibliotecas.\n",
    "# Caso você já possua as bibliotecas, mantenha comentado e prossiga para os próximos passos.\n",
    "# Caso não possua as bibliotecas, por favor, descomente e realize a execução para instalação das bibliotecas.\n",
    "\n",
    "# %pip install pandas\n",
    "# %pip install great_expectations"
   ]
  },
  {
   "cell_type": "markdown",
   "id": "af2855c2",
   "metadata": {},
   "source": []
  },
  {
   "cell_type": "code",
   "execution_count": null,
   "id": "ca8a63fe",
   "metadata": {},
   "outputs": [],
   "source": []
  },
  {
   "cell_type": "code",
   "execution_count": null,
   "id": "2043921c",
   "metadata": {},
   "outputs": [],
   "source": []
  },
  {
   "cell_type": "code",
   "execution_count": null,
   "id": "4d102d28",
   "metadata": {},
   "outputs": [],
   "source": []
  },
  {
   "cell_type": "code",
   "execution_count": null,
   "id": "6e9e8e8d",
   "metadata": {},
   "outputs": [],
   "source": []
  },
  {
   "cell_type": "code",
   "execution_count": null,
   "id": "7b5b1b3f",
   "metadata": {},
   "outputs": [],
   "source": []
  },
  {
   "cell_type": "code",
   "execution_count": null,
   "id": "18d24a53",
   "metadata": {},
   "outputs": [],
   "source": []
  },
  {
   "cell_type": "code",
   "execution_count": null,
   "id": "67b57d74",
   "metadata": {},
   "outputs": [],
   "source": []
  },
  {
   "cell_type": "code",
   "execution_count": null,
   "id": "0a671067",
   "metadata": {},
   "outputs": [],
   "source": []
  },
  {
   "cell_type": "code",
   "execution_count": null,
   "id": "033e0e34",
   "metadata": {},
   "outputs": [],
   "source": []
  }
 ],
 "metadata": {
  "kernelspec": {
   "display_name": "Python 3 (ipykernel)",
   "language": "python",
   "name": "python3"
  },
  "language_info": {
   "codemirror_mode": {
    "name": "ipython",
    "version": 3
   },
   "file_extension": ".py",
   "mimetype": "text/x-python",
   "name": "python",
   "nbconvert_exporter": "python",
   "pygments_lexer": "ipython3",
   "version": "3.9.12"
  }
 },
 "nbformat": 4,
 "nbformat_minor": 5
}
