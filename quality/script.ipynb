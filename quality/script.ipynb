{
 "cells": [
  {
   "cell_type": "markdown",
   "id": "6df26e9f",
   "metadata": {},
   "source": [
    "---\n",
    "\n",
    "## Data Quality - Qualidade de Dados - Análise e Monitoramento\n",
    "\n",
    "---"
   ]
  },
  {
   "cell_type": "markdown",
   "id": "bdfa28ae",
   "metadata": {},
   "source": [
    "---\n",
    "\n",
    "## Saiba mais sobre o Great Expectations no site oficial e no repositório do Github!\n",
    "\n",
    "### Essa é uma biblioteca que iremos utilizar de grande importância nesse processo!\n",
    "\n",
    "### Site oficial: https://docs.greatexpectations.io/docs/\n",
    "\n",
    "### Repositório Github: https://github.com/great-expectations/great_expectations\n",
    "\n",
    "---"
   ]
  },
  {
   "cell_type": "markdown",
   "id": "9ae75f22",
   "metadata": {},
   "source": [
    "---\n",
    "\n",
    "### 1 - Instalando as bibliotecas.\n",
    "\n",
    "### 2 - Análise dos dados\n",
    "   - Entendendo a base (data profiling / Documentação)\n",
    "   - Definindo as dimensões a serem aplicadas (repositório de regras)\n",
    "    \n",
    "### 3 - Monitoramento dos dados\n",
    "   - Criando os componentes para executar as avalições (great_expectations)\n",
    "   - Gerando um dashboard para acompanhamento (map)\n",
    "\n",
    "---"
   ]
  },
  {
   "cell_type": "markdown",
   "id": "db174189",
   "metadata": {},
   "source": [
    "## Instale as bibliotecas abaixo."
   ]
  },
  {
   "cell_type": "code",
   "execution_count": null,
   "id": "13cb5307",
   "metadata": {},
   "outputs": [],
   "source": [
    "# Instalação das bibliotecas.\n",
    "\n",
    "#%pip install pandas\n",
    "%pip install great_expectations "
   ]
  },
  {
   "cell_type": "markdown",
   "id": "783bc8c4",
   "metadata": {},
   "source": []
  },
  {
   "cell_type": "code",
   "execution_count": null,
   "id": "851c8234",
   "metadata": {},
   "outputs": [],
   "source": []
  },
  {
   "cell_type": "code",
   "execution_count": null,
   "id": "39f14a66",
   "metadata": {},
   "outputs": [],
   "source": []
  },
  {
   "cell_type": "code",
   "execution_count": null,
   "id": "a1f80077",
   "metadata": {},
   "outputs": [],
   "source": []
  },
  {
   "cell_type": "code",
   "execution_count": null,
   "id": "78a972e2",
   "metadata": {},
   "outputs": [],
   "source": []
  },
  {
   "cell_type": "code",
   "execution_count": null,
   "id": "d01027fb",
   "metadata": {},
   "outputs": [],
   "source": []
  },
  {
   "cell_type": "code",
   "execution_count": null,
   "id": "d1b9014b",
   "metadata": {},
   "outputs": [],
   "source": []
  },
  {
   "cell_type": "code",
   "execution_count": null,
   "id": "cfa6a69d",
   "metadata": {},
   "outputs": [],
   "source": []
  },
  {
   "cell_type": "code",
   "execution_count": null,
   "id": "42f9ff4d",
   "metadata": {},
   "outputs": [],
   "source": []
  },
  {
   "cell_type": "code",
   "execution_count": null,
   "id": "0adc0d8b",
   "metadata": {},
   "outputs": [],
   "source": []
  }
 ],
 "metadata": {
  "kernelspec": {
   "display_name": "Python 3 (ipykernel)",
   "language": "python",
   "name": "python3"
  },
  "language_info": {
   "codemirror_mode": {
    "name": "ipython",
    "version": 3
   },
   "file_extension": ".py",
   "mimetype": "text/x-python",
   "name": "python",
   "nbconvert_exporter": "python",
   "pygments_lexer": "ipython3",
   "version": "3.9.12"
  }
 },
 "nbformat": 4,
 "nbformat_minor": 5
}
