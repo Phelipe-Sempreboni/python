{
 "cells": [
  {
   "cell_type": "markdown",
   "id": "306ab689",
   "metadata": {},
   "source": [
    "## Data Quality - Qualidade de Dados - Análise e Monitoramento"
   ]
  },
  {
   "cell_type": "markdown",
   "id": "cdeb3ee4",
   "metadata": {},
   "source": [
    "1 - Instalando as libs\n",
    "\n",
    "2 - Análise dos dados\n",
    "    - Entendendo a base (data profiling / Documentação)\n",
    "    - Definindo as dimensões a serem aplicadas (repositório de regras)\n",
    "    \n",
    "3 - Monitoramento dos dados\n",
    "    - Criando os componentes para executar as avalições (great_expectations)\n",
    "    - Gerando um dashboard para acompanhamento (map)"
   ]
  },
  {
   "cell_type": "markdown",
   "id": "fb1bbfd0",
   "metadata": {},
   "source": [
    "## Saiba mais sobre o Great Expectations no site oficial e no repositório do Github!\n",
    "\n",
    "### Site oficial: https://docs.greatexpectations.io/docs/\n",
    "\n",
    "### Repositório Github: https://github.com/great-expectations/great_expectations"
   ]
  },
  {
   "cell_type": "markdown",
   "id": "74982c4e",
   "metadata": {},
   "source": [
    "## Instale as bibliotecas abaixo."
   ]
  },
  {
   "cell_type": "code",
   "execution_count": null,
   "id": "1f34cb76",
   "metadata": {},
   "outputs": [],
   "source": [
    "# Instalação das bibliotecas.\n",
    "\n",
    "#%pip install pandas\n",
    "%pip install great_expectations "
   ]
  },
  {
   "cell_type": "markdown",
   "id": "9dbd80a4",
   "metadata": {},
   "source": []
  },
  {
   "cell_type": "code",
   "execution_count": null,
   "id": "51bb4688",
   "metadata": {},
   "outputs": [],
   "source": []
  },
  {
   "cell_type": "code",
   "execution_count": null,
   "id": "01241163",
   "metadata": {},
   "outputs": [],
   "source": []
  },
  {
   "cell_type": "code",
   "execution_count": null,
   "id": "e25a114a",
   "metadata": {},
   "outputs": [],
   "source": []
  },
  {
   "cell_type": "code",
   "execution_count": null,
   "id": "48a56d45",
   "metadata": {},
   "outputs": [],
   "source": []
  },
  {
   "cell_type": "code",
   "execution_count": null,
   "id": "cf891acb",
   "metadata": {},
   "outputs": [],
   "source": []
  },
  {
   "cell_type": "code",
   "execution_count": null,
   "id": "c712a5b3",
   "metadata": {},
   "outputs": [],
   "source": []
  },
  {
   "cell_type": "code",
   "execution_count": null,
   "id": "d63b6698",
   "metadata": {},
   "outputs": [],
   "source": []
  },
  {
   "cell_type": "code",
   "execution_count": null,
   "id": "36081ce3",
   "metadata": {},
   "outputs": [],
   "source": []
  },
  {
   "cell_type": "code",
   "execution_count": null,
   "id": "62900d6c",
   "metadata": {},
   "outputs": [],
   "source": []
  }
 ],
 "metadata": {
  "kernelspec": {
   "display_name": "Python 3 (ipykernel)",
   "language": "python",
   "name": "python3"
  },
  "language_info": {
   "codemirror_mode": {
    "name": "ipython",
    "version": 3
   },
   "file_extension": ".py",
   "mimetype": "text/x-python",
   "name": "python",
   "nbconvert_exporter": "python",
   "pygments_lexer": "ipython3",
   "version": "3.9.12"
  }
 },
 "nbformat": 4,
 "nbformat_minor": 5
}
