{
 "cells": [
  {
   "cell_type": "markdown",
   "id": "ca1831b5",
   "metadata": {},
   "source": [
    "---\n",
    "\n",
    "## Tutorial de Great Expectations ou Grandes Expectativas !\n",
    "\n",
    "---\n",
    "\n",
    "## Saiba mais sobre o Great Expectations no site oficial e no repositório do Github!\n",
    "\n",
    "### Essa é uma biblioteca que iremos utilizar de grande importância nesse processo!\n",
    "\n",
    "### Site oficial, que é a documentação v3: https://docs.greatexpectations.io/docs/\n",
    "\n",
    "### Documentação v2: https://legacy.docs.greatexpectations.io/en/latest/\n",
    "\n",
    "### Repositório Github: https://github.com/great-expectations/great_expectations\n",
    "\n",
    "### Casos de uso: https://greatexpectations.io/case-studies/\n",
    "\n",
    "---\n",
    "\n",
    "### Aqui iremos realizar um tutorial da própria documentação do site oficial que foi mencionado acima.\n",
    "\n",
    "---"
   ]
  },
  {
   "cell_type": "markdown",
   "id": "bdbcf7b0",
   "metadata": {},
   "source": [
    "### Instale Great Expectations e dependências\n",
    "\n",
    "### Great Expectations requer Python 3 e pode ser instalado usando pip. Se você ainda não o fez, instale Great Expectations executando o script abaixo."
   ]
  },
  {
   "cell_type": "code",
   "execution_count": null,
   "id": "a31332f2",
   "metadata": {},
   "outputs": [],
   "source": [
    "# Instalação da biblioteca.\n",
    "\n",
    "%pip install great_expectations"
   ]
  },
  {
   "cell_type": "markdown",
   "id": "c19e85c1",
   "metadata": {},
   "source": []
  },
  {
   "cell_type": "code",
   "execution_count": null,
   "id": "2d1fe300",
   "metadata": {},
   "outputs": [],
   "source": []
  },
  {
   "cell_type": "code",
   "execution_count": null,
   "id": "2257ed2c",
   "metadata": {},
   "outputs": [],
   "source": []
  },
  {
   "cell_type": "code",
   "execution_count": null,
   "id": "3a0eabaf",
   "metadata": {},
   "outputs": [],
   "source": []
  },
  {
   "cell_type": "code",
   "execution_count": null,
   "id": "5d593918",
   "metadata": {},
   "outputs": [],
   "source": []
  },
  {
   "cell_type": "code",
   "execution_count": null,
   "id": "49a11704",
   "metadata": {},
   "outputs": [],
   "source": []
  },
  {
   "cell_type": "code",
   "execution_count": null,
   "id": "17e87d3b",
   "metadata": {},
   "outputs": [],
   "source": []
  },
  {
   "cell_type": "code",
   "execution_count": null,
   "id": "cf7db90f",
   "metadata": {},
   "outputs": [],
   "source": []
  },
  {
   "cell_type": "code",
   "execution_count": null,
   "id": "d1e07e1a",
   "metadata": {},
   "outputs": [],
   "source": []
  },
  {
   "cell_type": "code",
   "execution_count": null,
   "id": "b43bb6f7",
   "metadata": {},
   "outputs": [],
   "source": []
  }
 ],
 "metadata": {
  "kernelspec": {
   "display_name": "Python 3 (ipykernel)",
   "language": "python",
   "name": "python3"
  },
  "language_info": {
   "codemirror_mode": {
    "name": "ipython",
    "version": 3
   },
   "file_extension": ".py",
   "mimetype": "text/x-python",
   "name": "python",
   "nbconvert_exporter": "python",
   "pygments_lexer": "ipython3",
   "version": "3.9.12"
  }
 },
 "nbformat": 4,
 "nbformat_minor": 5
}
