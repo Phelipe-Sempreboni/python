{
 "cells": [
  {
   "cell_type": "markdown",
   "id": "58945b59",
   "metadata": {},
   "source": [
    "## Data Science Academy - Python Fundamentos - Capítulo 4\n",
    "\n",
    "### Download: http://github.com/dsacademybr"
   ]
  },
  {
   "cell_type": "markdown",
   "id": "4fb98d09",
   "metadata": {},
   "source": [
    "### Expressões Lambda"
   ]
  },
  {
   "cell_type": "code",
   "execution_count": 2,
   "id": "bc8248bf",
   "metadata": {},
   "outputs": [
    {
     "data": {
      "text/plain": [
       "4"
      ]
     },
     "execution_count": 2,
     "metadata": {},
     "output_type": "execute_result"
    }
   ],
   "source": [
    "# Definindo uma função, que neste caso terá 3 linhas de código\n",
    "\n",
    "def potencia(num):\n",
    "    result = num * 2\n",
    "    return result\n",
    "\n",
    "# Solicitando a execução da função\n",
    "potencia(2)"
   ]
  },
  {
   "cell_type": "code",
   "execution_count": 3,
   "id": "7fc12f28",
   "metadata": {},
   "outputs": [
    {
     "data": {
      "text/plain": [
       "4"
      ]
     },
     "execution_count": 3,
     "metadata": {},
     "output_type": "execute_result"
    }
   ],
   "source": [
    "# Definindo uma função, que neste caso terá 2 linhas de código\n",
    "\n",
    "def potencia(num):\n",
    "    return num ** 2\n",
    "\n",
    "# Solicitando a execução da função\n",
    "potencia(2)"
   ]
  },
  {
   "cell_type": "code",
   "execution_count": 4,
   "id": "be8000d9",
   "metadata": {},
   "outputs": [
    {
     "data": {
      "text/plain": [
       "4"
      ]
     },
     "execution_count": 4,
     "metadata": {},
     "output_type": "execute_result"
    }
   ],
   "source": [
    "# Definindo uma função, que neste caso terá 1 linha de código\n",
    "\n",
    "def potencia(num): return num ** 2\n",
    "\n",
    "# Solicitando a execução da função\n",
    "potencia(2)"
   ]
  },
  {
   "cell_type": "code",
   "execution_count": 8,
   "id": "40d504b8",
   "metadata": {},
   "outputs": [
    {
     "data": {
      "text/plain": [
       "4"
      ]
     },
     "execution_count": 8,
     "metadata": {},
     "output_type": "execute_result"
    }
   ],
   "source": [
    "# Definindo uma expressão lambda\n",
    "# Notar que o primeiro num é a entrada, e o segundo num, que tem a expressão (num ** 2) é a saída da expressão\n",
    "\n",
    "potencia = lambda num: num ** 2\n",
    "\n",
    "# Solicitando a execução da função\n",
    "potencia(2)"
   ]
  },
  {
   "cell_type": "code",
   "execution_count": 12,
   "id": "ebdffaae",
   "metadata": {},
   "outputs": [
    {
     "data": {
      "text/plain": [
       "False"
      ]
     },
     "execution_count": 12,
     "metadata": {},
     "output_type": "execute_result"
    }
   ],
   "source": [
    "# Definindo uma expressão lambda\n",
    "# Notar que neste função teremos um retorno booleano, ou seja, true ou false\n",
    "# Faça o teste. Troque o número da chamada da função e irá notar os resultados com true ou false\n",
    "# Lembre-se, operadores de comparação retornam boolean, true ou false\n",
    "\n",
    "Par = lambda x: x % 2 == 0\n",
    "\n",
    "# Solicitando a execução da função\n",
    "Par(3)"
   ]
  },
  {
   "cell_type": "code",
   "execution_count": 14,
   "id": "87c481bb",
   "metadata": {},
   "outputs": [
    {
     "data": {
      "text/plain": [
       "'P'"
      ]
     },
     "execution_count": 14,
     "metadata": {},
     "output_type": "execute_result"
    }
   ],
   "source": [
    "# Definindo uma expressão lambda\n",
    "# Notar que nessa expressão, a entrada é o primeiro (s) e a saída é (s[0])\n",
    "# Essa expressão irá retornar o primeiro caractere da string que for informado no parâmetro da expressão\n",
    "\n",
    "first = lambda s: s[0]\n",
    "\n",
    "# Solicitando a execução da função\n",
    "first('Python')"
   ]
  },
  {
   "cell_type": "code",
   "execution_count": 16,
   "id": "c8e0e0db",
   "metadata": {},
   "outputs": [
    {
     "data": {
      "text/plain": [
       "'nohtyP'"
      ]
     },
     "execution_count": 16,
     "metadata": {},
     "output_type": "execute_result"
    }
   ],
   "source": [
    "# Definindo uma expressão lambda\n",
    "# Notar que nessa expressão, a entrada é o primeiro (s) e a saída é (s[::-1])\n",
    "# Essa expressão irá retorna o valor reverso\n",
    "\n",
    "reverso = lambda s: s[::-1]\n",
    "\n",
    "# Solicitando a execução da função\n",
    "reverso('Python')"
   ]
  },
  {
   "cell_type": "code",
   "execution_count": 18,
   "id": "1d82bc3b",
   "metadata": {},
   "outputs": [
    {
     "data": {
      "text/plain": [
       "5"
      ]
     },
     "execution_count": 18,
     "metadata": {},
     "output_type": "execute_result"
    }
   ],
   "source": [
    "# Definindo uma expressão lambda\n",
    "# Notar que nessa expressão, a entrada é o primeiro (x, y) e a saída é (x + y), onde utilizamos mais de uma variável de entrada\n",
    "# Essa expressão irá somar os dois números que informados na chamda da função\n",
    "\n",
    "addNum = lambda x, y: x + y\n",
    "\n",
    "# Solicitando a execução da função\n",
    "addNum(2, 3)"
   ]
  },
  {
   "cell_type": "markdown",
   "id": "43dc2727",
   "metadata": {},
   "source": [
    "### Fim\n",
    "\n",
    "#### Obrigado - Data Science Academy - facebook.com/dsacademybr"
   ]
  }
 ],
 "metadata": {
  "kernelspec": {
   "display_name": "Python 3 (ipykernel)",
   "language": "python",
   "name": "python3"
  },
  "language_info": {
   "codemirror_mode": {
    "name": "ipython",
    "version": 3
   },
   "file_extension": ".py",
   "mimetype": "text/x-python",
   "name": "python",
   "nbconvert_exporter": "python",
   "pygments_lexer": "ipython3",
   "version": "3.9.7"
  }
 },
 "nbformat": 4,
 "nbformat_minor": 5
}
