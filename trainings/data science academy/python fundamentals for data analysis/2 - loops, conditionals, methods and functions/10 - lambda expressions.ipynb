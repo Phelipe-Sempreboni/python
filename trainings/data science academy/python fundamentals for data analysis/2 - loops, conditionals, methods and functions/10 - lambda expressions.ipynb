{
 "cells": [
  {
   "cell_type": "markdown",
   "id": "2200ffaf",
   "metadata": {},
   "source": [
    "## Data Science Academy - Python Fundamentos - Capítulo 4\n",
    "\n",
    "### Download: http://github.com/dsacademybr"
   ]
  },
  {
   "cell_type": "markdown",
   "id": "8b9e7af8",
   "metadata": {},
   "source": [
    "### Expressões Lambda"
   ]
  },
  {
   "cell_type": "code",
   "execution_count": 2,
   "id": "b412a54d",
   "metadata": {},
   "outputs": [
    {
     "data": {
      "text/plain": [
       "4"
      ]
     },
     "execution_count": 2,
     "metadata": {},
     "output_type": "execute_result"
    }
   ],
   "source": [
    "# Definindo uma função, que neste caso terá 3 linhas de código\n",
    "\n",
    "def potencia(num):\n",
    "    result = num * 2\n",
    "    return result\n",
    "\n",
    "# Solicitando a execução da função\n",
    "potencia(2)"
   ]
  },
  {
   "cell_type": "code",
   "execution_count": 3,
   "id": "0dc07d59",
   "metadata": {},
   "outputs": [
    {
     "data": {
      "text/plain": [
       "4"
      ]
     },
     "execution_count": 3,
     "metadata": {},
     "output_type": "execute_result"
    }
   ],
   "source": [
    "# Definindo uma função, que neste caso terá 2 linhas de código\n",
    "\n",
    "def potencia(num):\n",
    "    return num ** 2\n",
    "\n",
    "# Solicitando a execução da função\n",
    "potencia(2)"
   ]
  },
  {
   "cell_type": "code",
   "execution_count": 4,
   "id": "caf2eb40",
   "metadata": {},
   "outputs": [
    {
     "data": {
      "text/plain": [
       "4"
      ]
     },
     "execution_count": 4,
     "metadata": {},
     "output_type": "execute_result"
    }
   ],
   "source": [
    "# Definindo uma função, que neste caso terá 1 linha de código\n",
    "\n",
    "def potencia(num): return num ** 2\n",
    "\n",
    "# Solicitando a execução da função\n",
    "potencia(2)"
   ]
  },
  {
   "cell_type": "code",
   "execution_count": 8,
   "id": "71e8d500",
   "metadata": {},
   "outputs": [
    {
     "data": {
      "text/plain": [
       "4"
      ]
     },
     "execution_count": 8,
     "metadata": {},
     "output_type": "execute_result"
    }
   ],
   "source": [
    "# Definindo uma expressão lambda\n",
    "# Notar que o primeiro num é a entrada, e o segundo num, que tem a expressão (num ** 2) é a saída da expressão\n",
    "\n",
    "potencia = lambda num: num ** 2\n",
    "\n",
    "# Solicitando a execução da função\n",
    "potencia(2)"
   ]
  },
  {
   "cell_type": "code",
   "execution_count": null,
   "id": "f154780c",
   "metadata": {},
   "outputs": [],
   "source": []
  },
  {
   "cell_type": "code",
   "execution_count": null,
   "id": "b49b7565",
   "metadata": {},
   "outputs": [],
   "source": []
  },
  {
   "cell_type": "code",
   "execution_count": null,
   "id": "f4faddf2",
   "metadata": {},
   "outputs": [],
   "source": []
  },
  {
   "cell_type": "code",
   "execution_count": null,
   "id": "0735a3e8",
   "metadata": {},
   "outputs": [],
   "source": []
  },
  {
   "cell_type": "code",
   "execution_count": null,
   "id": "048391b1",
   "metadata": {},
   "outputs": [],
   "source": []
  }
 ],
 "metadata": {
  "kernelspec": {
   "display_name": "Python 3 (ipykernel)",
   "language": "python",
   "name": "python3"
  },
  "language_info": {
   "codemirror_mode": {
    "name": "ipython",
    "version": 3
   },
   "file_extension": ".py",
   "mimetype": "text/x-python",
   "name": "python",
   "nbconvert_exporter": "python",
   "pygments_lexer": "ipython3",
   "version": "3.9.7"
  }
 },
 "nbformat": 4,
 "nbformat_minor": 5
}
