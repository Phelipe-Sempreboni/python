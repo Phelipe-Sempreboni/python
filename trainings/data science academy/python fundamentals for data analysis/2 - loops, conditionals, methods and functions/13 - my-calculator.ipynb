{
 "cells": [
  {
   "cell_type": "markdown",
   "id": "d40a8e4d",
   "metadata": {},
   "source": [
    "### Desenvolvimento da calculadora"
   ]
  },
  {
   "cell_type": "code",
   "execution_count": 48,
   "id": "ac35c61e",
   "metadata": {},
   "outputs": [
    {
     "name": "stdout",
     "output_type": "stream",
     "text": [
      "****************************** Python Calculator ******************************\n",
      "\n",
      "Selecione o número da opção desejada:\n",
      "\n",
      "1 - Soma\n",
      "2 - Subtração\n",
      "3 - Multiplicação\n",
      "4 - Divisão\n",
      "\n",
      "\n"
     ]
    }
   ],
   "source": [
    "# 1 - Primeiro iremos criar as mensagens que serão exibidas na tela do programa\n",
    "\n",
    "message_sum = '1 - Soma'\n",
    "message_subtraction = '2 - Subtração'\n",
    "message_multiplication = '3 - Multiplicação'\n",
    "message_division = '4 - Divisão'\n",
    "\n",
    "print('****************************** Python Calculator ******************************\\n')\n",
    "\n",
    "print('Selecione o número da opção desejada:\\n')\n",
    "\n",
    "print(message_sum)\n",
    "print(message_subtraction)\n",
    "print(message_multiplication)\n",
    "print(message_division)\n",
    "print('\\n')"
   ]
  },
  {
   "cell_type": "code",
   "execution_count": 54,
   "id": "92051140",
   "metadata": {},
   "outputs": [
    {
     "name": "stdout",
     "output_type": "stream",
     "text": [
      "Digite sua opção (1/2/3/4): 4\n",
      "Ele selecionou a opção 4\n"
     ]
    }
   ],
   "source": [
    "# 2 - Construir uma pré estrutura de teste para verificar se a lógica está correta e podemos começar a substituir alguns\n",
    "# pontos deste script\n",
    "\n",
    "message = int(input('Digite sua opção (1/2/3/4): '))\n",
    "\n",
    "if message == 1:\n",
    "    print('Ele selecionou a opção %s' %(message))\n",
    "    \n",
    "elif message == 2:\n",
    "    print('Ele selecionou a opção %s' %(message))\n",
    "    \n",
    "elif message == 3:\n",
    "    print('Ele selecionou a opção %s' %(message))\n",
    "    \n",
    "elif message == 4:\n",
    "    print('Ele selecionou a opção %s' %(message))"
   ]
  },
  {
   "cell_type": "code",
   "execution_count": 55,
   "id": "9b355e9f",
   "metadata": {},
   "outputs": [
    {
     "name": "stdout",
     "output_type": "stream",
     "text": [
      "Digite sua opção (1/2/3/4): 1\n",
      "Digite o primeiro número: 45\n",
      "Digite o segundo número: 1000\n",
      "45  +  1000  =  1045\n"
     ]
    }
   ],
   "source": [
    "# 3 - Criando uma função simples de soma e testando se funciona dentro do if\n",
    "\n",
    "message = int(input('Digite sua opção (1/2/3/4): '))\n",
    "\n",
    "if message == 1:\n",
    "    \n",
    "    a = int(input('Digite o primeiro número: '))\n",
    "    b = int(input('Digite o segundo número: '))\n",
    "    \n",
    "    soma = a + b\n",
    "    \n",
    "    print(a, ' + ', b, ' = ', soma)"
   ]
  },
  {
   "cell_type": "code",
   "execution_count": 61,
   "id": "0ec976d6",
   "metadata": {},
   "outputs": [
    {
     "name": "stdout",
     "output_type": "stream",
     "text": [
      "Digite sua opção (1/2/3/4): 2\n",
      "Digite o primeiro número: 100\n",
      "Digite o segundo número: 50\n",
      "100  -  50  =  50\n"
     ]
    }
   ],
   "source": [
    "# 4 - Criando uma função simples de subtração e testando se funciona dentro do if\n",
    "\n",
    "message = int(input('Digite sua opção (1/2/3/4): '))\n",
    "\n",
    "if message == 2:\n",
    "    \n",
    "    c = int(input('Digite o primeiro número: '))\n",
    "    d = int(input('Digite o segundo número: '))\n",
    "    \n",
    "    subtracao = c - d\n",
    "    \n",
    "    print(c, ' - ', d, ' = ', subtracao)"
   ]
  },
  {
   "cell_type": "code",
   "execution_count": 64,
   "id": "ecc58d73",
   "metadata": {},
   "outputs": [
    {
     "name": "stdout",
     "output_type": "stream",
     "text": [
      "Digite sua opção (1/2/3/4): 3\n",
      "Digite o primeiro número: 10\n",
      "Digite o segundo número: 3\n",
      "10  *  3  =  30\n"
     ]
    }
   ],
   "source": [
    "# 5 - Criando uma função simples de multiplicação e testando se funciona dentro do if\n",
    "\n",
    "message = int(input('Digite sua opção (1/2/3/4): '))\n",
    "\n",
    "if message == 3:\n",
    "    \n",
    "    e = int(input('Digite o primeiro número: '))\n",
    "    f = int(input('Digite o segundo número: '))\n",
    "    \n",
    "    multiplicacao = e * f\n",
    "    \n",
    "    print(e, ' * ', f, ' = ', multiplicacao)"
   ]
  },
  {
   "cell_type": "code",
   "execution_count": 65,
   "id": "7965d9c1",
   "metadata": {},
   "outputs": [
    {
     "name": "stdout",
     "output_type": "stream",
     "text": [
      "Digite sua opção (1/2/3/4): 4\n",
      "Digite o primeiro número: 10\n",
      "Digite o segundo número: 2\n",
      "10  /  2  =  5.0\n"
     ]
    }
   ],
   "source": [
    "# 6 - Criando uma função simples de divisão e testando se funciona dentro do if\n",
    "\n",
    "message = int(input('Digite sua opção (1/2/3/4): '))\n",
    "\n",
    "if message == 4:\n",
    "    \n",
    "    g = int(input('Digite o primeiro número: '))\n",
    "    h = int(input('Digite o segundo número: '))\n",
    "    \n",
    "    divisao = g / h\n",
    "    \n",
    "    print(g, ' / ', h, ' = ', divisao)"
   ]
  },
  {
   "cell_type": "code",
   "execution_count": null,
   "id": "9608aabf",
   "metadata": {},
   "outputs": [],
   "source": [
    "# Unificando os blocos desenvolvidos\n",
    "\n",
    "message_sum = '1 - Soma'\n",
    "message_subtraction = '2 - Subtração'\n",
    "message_multiplication = '3 - Multiplicação'\n",
    "message_division = '4 - Divisão'\n",
    "\n",
    "print('****************************** Python Calculator ******************************\\n')\n",
    "\n",
    "print('Selecione o número da opção desejada:\\n')\n",
    "\n",
    "print(message_sum)\n",
    "print(message_subtraction)\n",
    "print(message_multiplication)\n",
    "print(message_division)\n",
    "print('\\n')\n",
    "\n",
    "if message == 1:\n",
    "    \n",
    "    a = int(input('Digite o primeiro número: '))\n",
    "    b = int(input('Digite o segundo número: '))\n",
    "    \n",
    "    soma = a + b\n",
    "    \n",
    "    print(a, ' + ', b, ' = ', soma)\n",
    "    \n",
    "elif message == 2:\n",
    "    \n",
    "    c = int(input('Digite o primeiro número: '))\n",
    "    d = int(input('Digite o segundo número: '))\n",
    "    \n",
    "    subtracao = c - d\n",
    "    \n",
    "    print(c, ' - ', d, ' = ', subtracao)\n",
    "    \n",
    "elif message == 3:\n",
    "    \n",
    "    e = int(input('Digite o primeiro número: '))\n",
    "    f = int(input('Digite o segundo número: '))\n",
    "    \n",
    "    multiplicacao = e * f\n",
    "    \n",
    "    print(e, ' * ', f, ' = ', multiplicacao)\n",
    "    \n",
    "elif message == 4:\n",
    "    \n",
    "    g = int(input('Digite o primeiro número: '))\n",
    "    h = int(input('Digite o segundo número: '))\n",
    "    \n",
    "    divisao = g / h\n",
    "    \n",
    "    print(g, ' / ', h, ' = ', divisao)"
   ]
  },
  {
   "cell_type": "code",
   "execution_count": null,
   "id": "8ee6c2c4",
   "metadata": {},
   "outputs": [],
   "source": []
  },
  {
   "cell_type": "code",
   "execution_count": null,
   "id": "883d4fc8",
   "metadata": {},
   "outputs": [],
   "source": []
  },
  {
   "cell_type": "code",
   "execution_count": null,
   "id": "068aa74f",
   "metadata": {},
   "outputs": [],
   "source": []
  },
  {
   "cell_type": "code",
   "execution_count": null,
   "id": "8e701c06",
   "metadata": {},
   "outputs": [],
   "source": []
  }
 ],
 "metadata": {
  "kernelspec": {
   "display_name": "Python 3 (ipykernel)",
   "language": "python",
   "name": "python3"
  },
  "language_info": {
   "codemirror_mode": {
    "name": "ipython",
    "version": 3
   },
   "file_extension": ".py",
   "mimetype": "text/x-python",
   "name": "python",
   "nbconvert_exporter": "python",
   "pygments_lexer": "ipython3",
   "version": "3.9.7"
  }
 },
 "nbformat": 4,
 "nbformat_minor": 5
}
