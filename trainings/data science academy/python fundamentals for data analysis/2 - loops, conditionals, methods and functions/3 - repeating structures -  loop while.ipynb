{
 "cells": [
  {
   "cell_type": "markdown",
   "id": "fd6539a8",
   "metadata": {},
   "source": [
    "# Data Science Academy - Python Fundamentos - Capítulo 3\n",
    "\n",
    "## Donwload: http://github.com/dsacademybr"
   ]
  },
  {
   "cell_type": "markdown",
   "id": "9c9fb0cd",
   "metadata": {},
   "source": [
    "### While"
   ]
  },
  {
   "cell_type": "code",
   "execution_count": 3,
   "id": "b6e67dd5",
   "metadata": {},
   "outputs": [
    {
     "name": "stdout",
     "output_type": "stream",
     "text": [
      "0\n",
      "1\n",
      "2\n",
      "3\n",
      "4\n",
      "5\n",
      "6\n",
      "7\n",
      "8\n",
      "9\n"
     ]
    }
   ],
   "source": [
    "# Usando o loop while para imprimir os valores de 0 à 9\n",
    "# Notar que variável (contador) se inicia em 0\n",
    "# Notar que o primeiro método de soma comentado é o mais ágil\n",
    "# Notar que o segundo método de soma é o convencional\n",
    "\n",
    "contador = 0\n",
    "\n",
    "while contador < 10:\n",
    "    print(contador)\n",
    "    #contador += +1\n",
    "    contador = contador +1"
   ]
  },
  {
   "cell_type": "code",
   "execution_count": 5,
   "id": "f91d5110",
   "metadata": {},
   "outputs": [
    {
     "name": "stdout",
     "output_type": "stream",
     "text": [
      "0\n",
      "1\n",
      "2\n",
      "3\n",
      "4\n",
      "5\n",
      "6\n",
      "7\n",
      "8\n",
      "9\n",
      "10\n"
     ]
    }
   ],
   "source": [
    "# Usando o loop while para imprimir os valores de 0 à 9\n",
    "# Notar que variável (contador) se inicia em 0\n",
    "# Notar que o primeiro método de soma comentado é o mais ágil\n",
    "# Notar que o segundo método de soma é o convencional\n",
    "# Notar que neste caso colocamos o operador lógico (<=) que faz com que o valor (10) entre na impressão\n",
    "\n",
    "contador = 0\n",
    "\n",
    "while contador <= 10:\n",
    "    print(contador)\n",
    "    #contador += +1\n",
    "    contador = contador +1"
   ]
  },
  {
   "cell_type": "code",
   "execution_count": 10,
   "id": "353cab95",
   "metadata": {},
   "outputs": [
    {
     "name": "stdout",
     "output_type": "stream",
     "text": [
      "O valor do contador nesta interação é: 0\n",
      " Contador ainda é menor que 10, somando 1 à contador\n",
      "O valor do contador nesta interação é: 1\n",
      " Contador ainda é menor que 10, somando 1 à contador\n",
      "O valor do contador nesta interação é: 2\n",
      " Contador ainda é menor que 10, somando 1 à contador\n",
      "O valor do contador nesta interação é: 3\n",
      " Contador ainda é menor que 10, somando 1 à contador\n",
      "O valor do contador nesta interação é: 4\n",
      " Contador ainda é menor que 10, somando 1 à contador\n",
      "O valor do contador nesta interação é: 5\n",
      " Contador ainda é menor que 10, somando 1 à contador\n",
      "O valor do contador nesta interação é: 6\n",
      " Contador ainda é menor que 10, somando 1 à contador\n",
      "O valor do contador nesta interação é: 7\n",
      " Contador ainda é menor que 10, somando 1 à contador\n",
      "O valor do contador nesta interação é: 8\n",
      " Contador ainda é menor que 10, somando 1 à contador\n",
      "O valor do contador nesta interação é: 9\n",
      " Contador ainda é menor que 10, somando 1 à contador\n",
      "Loop concluído! O contador é igual a:  10\n"
     ]
    }
   ],
   "source": [
    "# Também é possível usar a cláusula (else) para encerrar o loop while\n",
    "\n",
    "contador = 0\n",
    "\n",
    "while contador < 10:\n",
    "    print('O valor do contador nesta interação é:', contador)\n",
    "    print(' Contador ainda é menor que 10, somando 1 à contador')\n",
    "    contador += 1\n",
    "    #contador = contador +1\n",
    "    \n",
    "else:\n",
    "    print('Loop concluído!', 'O contador é igual a: ', contador)"
   ]
  },
  {
   "cell_type": "code",
   "execution_count": null,
   "id": "100ed111",
   "metadata": {},
   "outputs": [],
   "source": []
  },
  {
   "cell_type": "code",
   "execution_count": null,
   "id": "72a3b936",
   "metadata": {},
   "outputs": [],
   "source": []
  },
  {
   "cell_type": "code",
   "execution_count": null,
   "id": "cd7e5c4c",
   "metadata": {},
   "outputs": [],
   "source": []
  },
  {
   "cell_type": "code",
   "execution_count": null,
   "id": "8e467b85",
   "metadata": {},
   "outputs": [],
   "source": []
  },
  {
   "cell_type": "code",
   "execution_count": null,
   "id": "d92be2fd",
   "metadata": {},
   "outputs": [],
   "source": []
  },
  {
   "cell_type": "code",
   "execution_count": null,
   "id": "a05386f9",
   "metadata": {},
   "outputs": [],
   "source": []
  },
  {
   "cell_type": "code",
   "execution_count": null,
   "id": "ff3f73bd",
   "metadata": {},
   "outputs": [],
   "source": []
  },
  {
   "cell_type": "code",
   "execution_count": null,
   "id": "0439e206",
   "metadata": {},
   "outputs": [],
   "source": []
  },
  {
   "cell_type": "code",
   "execution_count": null,
   "id": "10124709",
   "metadata": {},
   "outputs": [],
   "source": []
  },
  {
   "cell_type": "code",
   "execution_count": null,
   "id": "3759e46a",
   "metadata": {},
   "outputs": [],
   "source": []
  },
  {
   "cell_type": "code",
   "execution_count": null,
   "id": "826761b9",
   "metadata": {},
   "outputs": [],
   "source": []
  },
  {
   "cell_type": "code",
   "execution_count": null,
   "id": "70d2d513",
   "metadata": {},
   "outputs": [],
   "source": []
  },
  {
   "cell_type": "code",
   "execution_count": null,
   "id": "a8c02ccd",
   "metadata": {},
   "outputs": [],
   "source": []
  },
  {
   "cell_type": "code",
   "execution_count": null,
   "id": "62dc0a94",
   "metadata": {},
   "outputs": [],
   "source": []
  },
  {
   "cell_type": "code",
   "execution_count": null,
   "id": "4aafb308",
   "metadata": {},
   "outputs": [],
   "source": []
  },
  {
   "cell_type": "code",
   "execution_count": null,
   "id": "89482396",
   "metadata": {},
   "outputs": [],
   "source": []
  },
  {
   "cell_type": "code",
   "execution_count": null,
   "id": "e024bffa",
   "metadata": {},
   "outputs": [],
   "source": []
  },
  {
   "cell_type": "code",
   "execution_count": null,
   "id": "93652642",
   "metadata": {},
   "outputs": [],
   "source": []
  },
  {
   "cell_type": "code",
   "execution_count": null,
   "id": "1828d33e",
   "metadata": {},
   "outputs": [],
   "source": []
  },
  {
   "cell_type": "code",
   "execution_count": null,
   "id": "9d1c4090",
   "metadata": {},
   "outputs": [],
   "source": []
  },
  {
   "cell_type": "code",
   "execution_count": null,
   "id": "3beee915",
   "metadata": {},
   "outputs": [],
   "source": []
  },
  {
   "cell_type": "markdown",
   "id": "73ec22d0",
   "metadata": {},
   "source": []
  }
 ],
 "metadata": {
  "kernelspec": {
   "display_name": "Python 3 (ipykernel)",
   "language": "python",
   "name": "python3"
  },
  "language_info": {
   "codemirror_mode": {
    "name": "ipython",
    "version": 3
   },
   "file_extension": ".py",
   "mimetype": "text/x-python",
   "name": "python",
   "nbconvert_exporter": "python",
   "pygments_lexer": "ipython3",
   "version": "3.9.7"
  }
 },
 "nbformat": 4,
 "nbformat_minor": 5
}
