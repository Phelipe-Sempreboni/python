{
 "cells": [
  {
   "cell_type": "markdown",
   "id": "bce46d44",
   "metadata": {},
   "source": [
    "# Data Science Academy - Python Fundamentos - Capítulo 3\n",
    "\n",
    "## Donwload: http://github.com/dsacademybr"
   ]
  },
  {
   "cell_type": "markdown",
   "id": "6f313107",
   "metadata": {},
   "source": [
    "### Pass, Break, Continue"
   ]
  },
  {
   "cell_type": "code",
   "execution_count": 6,
   "id": "5e5eb849",
   "metadata": {},
   "outputs": [
    {
     "name": "stdout",
     "output_type": "stream",
     "text": [
      "0\n",
      "1\n",
      "2\n",
      "3\n",
      "4\n"
     ]
    }
   ],
   "source": [
    "# Utilizando o comando (break) e (pass) em um loop (while)\n",
    "# Neste caso, verificamos quando a variável (contador) irá chegar em 4.\n",
    "# Enquanto a variável (contador) não chegar em 4, o comando continuará sendo executado.\n",
    "# Quando o variável (contador) chegar em 4, então o comando (break) será ativado e loop será concluído.\n",
    "# Você pode trocar a verificação do número 4, por qualquer outro número até o limite de 100.\n",
    "# Também é possível trocar o limite de verificação de (<100) do loop while para outro valor.\n",
    "\n",
    "contador = 0\n",
    "\n",
    "while contador < 100:\n",
    "    if contador == 4:\n",
    "        break\n",
    "    else:\n",
    "        pass\n",
    "    print(contador)\n",
    "    contador += 1\n",
    "    #contador = contador +1\n",
    "    \n",
    "print(contador)"
   ]
  },
  {
   "cell_type": "code",
   "execution_count": null,
   "id": "64b1365b",
   "metadata": {},
   "outputs": [],
   "source": []
  },
  {
   "cell_type": "code",
   "execution_count": null,
   "id": "9af36410",
   "metadata": {},
   "outputs": [],
   "source": []
  },
  {
   "cell_type": "code",
   "execution_count": null,
   "id": "de62d6aa",
   "metadata": {},
   "outputs": [],
   "source": []
  },
  {
   "cell_type": "code",
   "execution_count": null,
   "id": "7aaa8582",
   "metadata": {},
   "outputs": [],
   "source": []
  },
  {
   "cell_type": "code",
   "execution_count": null,
   "id": "2e74c4cd",
   "metadata": {},
   "outputs": [],
   "source": []
  },
  {
   "cell_type": "markdown",
   "id": "f6427ea3",
   "metadata": {},
   "source": [
    "## Fim"
   ]
  },
  {
   "cell_type": "markdown",
   "id": "7ca75b68",
   "metadata": {},
   "source": [
    "### Obrigado - Data Science Academy - facebook.com/dsacademybr"
   ]
  }
 ],
 "metadata": {
  "kernelspec": {
   "display_name": "Python 3 (ipykernel)",
   "language": "python",
   "name": "python3"
  },
  "language_info": {
   "codemirror_mode": {
    "name": "ipython",
    "version": 3
   },
   "file_extension": ".py",
   "mimetype": "text/x-python",
   "name": "python",
   "nbconvert_exporter": "python",
   "pygments_lexer": "ipython3",
   "version": "3.9.7"
  }
 },
 "nbformat": 4,
 "nbformat_minor": 5
}
