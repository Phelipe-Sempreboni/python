{
 "cells": [
  {
   "cell_type": "markdown",
   "id": "8b1f5775",
   "metadata": {},
   "source": [
    "# Data Science Academy - Python Fundamentos - Capítulo 3\n",
    "\n",
    "## Donwload: http://github.com/dsacademybr"
   ]
  },
  {
   "cell_type": "markdown",
   "id": "704fba56",
   "metadata": {},
   "source": [
    "### Pass, Break, Continue"
   ]
  },
  {
   "cell_type": "code",
   "execution_count": 6,
   "id": "adccda88",
   "metadata": {},
   "outputs": [
    {
     "name": "stdout",
     "output_type": "stream",
     "text": [
      "0\n",
      "1\n",
      "2\n",
      "3\n",
      "4\n"
     ]
    }
   ],
   "source": [
    "# Utilizando o comando (break) e (pass) em um loop (while)\n",
    "# Neste caso, verificamos quando a variável (contador) irá chegar em 4.\n",
    "# Enquanto a variável (contador) não chegar em 4, o comando continuará sendo executado.\n",
    "# Quando o variável (contador) chegar em 4, então o comando (break) será ativado e loop será concluído.\n",
    "# Você pode trocar a verificação do número 4, por qualquer outro número até o limite de 100.\n",
    "# Também é possível trocar o limite de verificação de (<100) do loop while para outro valor.\n",
    "\n",
    "contador = 0\n",
    "\n",
    "while contador < 100:\n",
    "    if contador == 4:\n",
    "        break\n",
    "    else:\n",
    "        pass\n",
    "    print(contador)\n",
    "    contador += 1\n",
    "    #contador = contador +1\n",
    "    \n",
    "print(contador)"
   ]
  },
  {
   "cell_type": "code",
   "execution_count": 13,
   "id": "71edc596",
   "metadata": {},
   "outputs": [
    {
     "name": "stdout",
     "output_type": "stream",
     "text": [
      "P\n",
      "y\n",
      "t\n",
      "o\n",
      "n\n"
     ]
    }
   ],
   "source": [
    "# Neste caso conseguimos verificar se na String Python temos a letra h\n",
    "# Caso seja localizado a letra h, então essa letra é ignorada e o script continua.\n",
    "# Notar que a letra h é ignorada, ficando só Pyton\n",
    "# Este comando pode ser muito útil, até para apagar determinados arquivos de um repositório local\n",
    "# Neste caso testamos com uma string\n",
    "\n",
    "for verificador in 'Python':\n",
    "    if verificador == 'h':\n",
    "        continue\n",
    "    print(verificador)"
   ]
  },
  {
   "cell_type": "code",
   "execution_count": 17,
   "id": "f2bec4f7",
   "metadata": {},
   "outputs": [
    {
     "name": "stdout",
     "output_type": "stream",
     "text": [
      "Porta\n",
      "10.8\n",
      "900\n",
      "Asas\n",
      "Ventilador\n"
     ]
    }
   ],
   "source": [
    "# Este comando é o mesmo da célula acima, porém, com outro tipo de objeto e valores\n",
    "# Este comando pode ser muito útil, até para apagar determinados arquivos de um repositório local\n",
    "# Neste caso testamos com uma lista de valores variados\n",
    "# Experimente alterar os valores para verificar o funcionamento\n",
    "\n",
    "lista = ['Porta', 'Cadeira', 10.8, 900, 'Asas', 'Ventilador']\n",
    "\n",
    "for item in lista:\n",
    "    if item == 'Cadeira':\n",
    "        continue\n",
    "    print(item)"
   ]
  },
  {
   "cell_type": "markdown",
   "id": "87449fc9",
   "metadata": {},
   "source": [
    "### While e For juntos"
   ]
  },
  {
   "cell_type": "code",
   "execution_count": null,
   "id": "62dc7fa3",
   "metadata": {},
   "outputs": [],
   "source": []
  },
  {
   "cell_type": "markdown",
   "id": "19cc9f20",
   "metadata": {},
   "source": [
    "## Fim"
   ]
  },
  {
   "cell_type": "markdown",
   "id": "c374520b",
   "metadata": {},
   "source": [
    "### Obrigado - Data Science Academy - facebook.com/dsacademybr"
   ]
  }
 ],
 "metadata": {
  "kernelspec": {
   "display_name": "Python 3 (ipykernel)",
   "language": "python",
   "name": "python3"
  },
  "language_info": {
   "codemirror_mode": {
    "name": "ipython",
    "version": 3
   },
   "file_extension": ".py",
   "mimetype": "text/x-python",
   "name": "python",
   "nbconvert_exporter": "python",
   "pygments_lexer": "ipython3",
   "version": "3.9.7"
  }
 },
 "nbformat": 4,
 "nbformat_minor": 5
}
