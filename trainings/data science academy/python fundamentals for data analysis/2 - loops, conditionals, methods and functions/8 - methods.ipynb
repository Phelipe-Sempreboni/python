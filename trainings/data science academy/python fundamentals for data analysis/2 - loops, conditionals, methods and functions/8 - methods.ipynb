{
 "cells": [
  {
   "cell_type": "markdown",
   "id": "f4f638a1",
   "metadata": {},
   "source": [
    "## Data Science Academy - Python Fundamentos - Capítulo 3\n",
    "\n",
    "### Download: http://github.com/dsacademy"
   ]
  },
  {
   "cell_type": "markdown",
   "id": "6f3c9351",
   "metadata": {},
   "source": [
    "### Métodos"
   ]
  },
  {
   "cell_type": "code",
   "execution_count": 3,
   "id": "b2ccf37f",
   "metadata": {},
   "outputs": [],
   "source": [
    "# Criando uma lista\n",
    "\n",
    "lst = [100, -2, 12, 65, 0]"
   ]
  },
  {
   "cell_type": "code",
   "execution_count": 4,
   "id": "1872f3aa",
   "metadata": {},
   "outputs": [],
   "source": [
    "# Usando um método do objeto lista, que neste caso é o append, que serve para adicionar novos elementos na lista\n",
    "\n",
    "lst.append(10)"
   ]
  },
  {
   "cell_type": "code",
   "execution_count": 5,
   "id": "18b089f2",
   "metadata": {},
   "outputs": [
    {
     "name": "stdout",
     "output_type": "stream",
     "text": [
      "[100, -2, 12, 65, 0, 10]\n"
     ]
    }
   ],
   "source": [
    "# Imprimindo a lista\n",
    "\n",
    "print(lst)"
   ]
  },
  {
   "cell_type": "code",
   "execution_count": 7,
   "id": "7d47165e",
   "metadata": {},
   "outputs": [
    {
     "name": "stdout",
     "output_type": "stream",
     "text": [
      "Help on built-in function count:\n",
      "\n",
      "count(value, /) method of builtins.list instance\n",
      "    Return number of occurrences of value.\n",
      "\n"
     ]
    }
   ],
   "source": [
    "# A função help() explica como utilizar cada método de um objeto\n",
    "# Utilize conforme abaixo para saber a função de um determinado método\n",
    "\n",
    "help(lst.count)"
   ]
  },
  {
   "cell_type": "code",
   "execution_count": 8,
   "id": "f580143e",
   "metadata": {},
   "outputs": [
    {
     "name": "stdout",
     "output_type": "stream",
     "text": [
      "Help on built-in function append:\n",
      "\n",
      "append(object, /) method of builtins.list instance\n",
      "    Append object to the end of the list.\n",
      "\n"
     ]
    }
   ],
   "source": [
    "# Utilizando a função help() com o método do objeto lista chamado append\n",
    "\n",
    "help(lst.append)"
   ]
  },
  {
   "cell_type": "code",
   "execution_count": 9,
   "id": "c93cdbcf",
   "metadata": {},
   "outputs": [
    {
     "name": "stdout",
     "output_type": "stream",
     "text": [
      "Help on built-in function clear:\n",
      "\n",
      "clear() method of builtins.list instance\n",
      "    Remove all items from list.\n",
      "\n"
     ]
    }
   ],
   "source": [
    "# Utilizando a função help() com o método do objeto lista chamado clear\n",
    "\n",
    "help(lst.clear)"
   ]
  },
  {
   "cell_type": "code",
   "execution_count": null,
   "id": "f7e239f4",
   "metadata": {},
   "outputs": [],
   "source": []
  },
  {
   "cell_type": "code",
   "execution_count": null,
   "id": "18924ed9",
   "metadata": {},
   "outputs": [],
   "source": []
  },
  {
   "cell_type": "code",
   "execution_count": null,
   "id": "ccea386d",
   "metadata": {},
   "outputs": [],
   "source": []
  },
  {
   "cell_type": "code",
   "execution_count": null,
   "id": "6e29899b",
   "metadata": {},
   "outputs": [],
   "source": []
  },
  {
   "cell_type": "code",
   "execution_count": null,
   "id": "0da30c05",
   "metadata": {},
   "outputs": [],
   "source": []
  },
  {
   "cell_type": "code",
   "execution_count": null,
   "id": "947bdeda",
   "metadata": {},
   "outputs": [],
   "source": []
  }
 ],
 "metadata": {
  "kernelspec": {
   "display_name": "Python 3 (ipykernel)",
   "language": "python",
   "name": "python3"
  },
  "language_info": {
   "codemirror_mode": {
    "name": "ipython",
    "version": 3
   },
   "file_extension": ".py",
   "mimetype": "text/x-python",
   "name": "python",
   "nbconvert_exporter": "python",
   "pygments_lexer": "ipython3",
   "version": "3.9.7"
  }
 },
 "nbformat": 4,
 "nbformat_minor": 5
}
