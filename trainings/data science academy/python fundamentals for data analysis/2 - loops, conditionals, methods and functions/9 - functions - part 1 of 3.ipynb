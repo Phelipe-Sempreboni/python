{
 "cells": [
  {
   "cell_type": "markdown",
   "id": "8fdfc2b8",
   "metadata": {},
   "source": [
    "## Data Science Academy - Python Fundamentos - Capítulo 3\n",
    "\n",
    "### Download: http://github.com/dsacademy"
   ]
  },
  {
   "cell_type": "markdown",
   "id": "eec8560f",
   "metadata": {},
   "source": [
    "### Funções"
   ]
  },
  {
   "cell_type": "code",
   "execution_count": 3,
   "id": "f8966403",
   "metadata": {},
   "outputs": [],
   "source": [
    "# Definindo uma função\n",
    "# Essa função só irá imprimir na tela a frase Hello Word.\n",
    "\n",
    "def primeiraFunc():\n",
    "    print('Hello Word')"
   ]
  },
  {
   "cell_type": "code",
   "execution_count": 4,
   "id": "038ff8e9",
   "metadata": {},
   "outputs": [
    {
     "name": "stdout",
     "output_type": "stream",
     "text": [
      "Hello Word\n"
     ]
    }
   ],
   "source": [
    "# Executando a função primeiraFunc que irá imprimir na tela a frase Hello Word\n",
    "\n",
    "primeiraFunc()"
   ]
  },
  {
   "cell_type": "code",
   "execution_count": 14,
   "id": "4bf8bdb0",
   "metadata": {},
   "outputs": [],
   "source": [
    "# Definindo uma função com paramêtro, ou seja, necessita que seja informado um paramêtro para que a função o retorne\n",
    "# Notar que é quase a mesma função acima, porém, possuí paramêtro com um placeholder\n",
    "\n",
    "def primeiraFunc(nome):\n",
    "    print('Hello %s ' %(nome))"
   ]
  },
  {
   "cell_type": "code",
   "execution_count": 15,
   "id": "bee2be26",
   "metadata": {},
   "outputs": [
    {
     "name": "stdout",
     "output_type": "stream",
     "text": [
      "Hello Aluno \n"
     ]
    }
   ],
   "source": [
    "# Executando a função primeiraFunc que irá imprimir na tela a frase Hello + paramêtro, que neste caso é Aluno\n",
    "\n",
    "primeiraFunc('Aluno')"
   ]
  },
  {
   "cell_type": "code",
   "execution_count": 16,
   "id": "e6a3bb5e",
   "metadata": {},
   "outputs": [],
   "source": [
    "# Definindo uma função com um loop for e objeto range, de 0 a 5, que irá imprimir a frase Número + (i), ou seja, itens do loop\n",
    "\n",
    "def funcLeitura():\n",
    "    for i in range(0,5):\n",
    "        print('Número ' + str(i))"
   ]
  },
  {
   "cell_type": "code",
   "execution_count": 17,
   "id": "88f6ae25",
   "metadata": {},
   "outputs": [
    {
     "name": "stdout",
     "output_type": "stream",
     "text": [
      "Número 0\n",
      "Número 1\n",
      "Número 2\n",
      "Número 3\n",
      "Número 4\n"
     ]
    }
   ],
   "source": [
    "# Executando a função funcLeitura\n",
    "\n",
    "funcLeitura()"
   ]
  },
  {
   "cell_type": "code",
   "execution_count": null,
   "id": "421053dc",
   "metadata": {},
   "outputs": [],
   "source": []
  },
  {
   "cell_type": "code",
   "execution_count": null,
   "id": "9a2a67ed",
   "metadata": {},
   "outputs": [],
   "source": []
  },
  {
   "cell_type": "code",
   "execution_count": null,
   "id": "db828e81",
   "metadata": {},
   "outputs": [],
   "source": []
  },
  {
   "cell_type": "code",
   "execution_count": null,
   "id": "eaf0e3fd",
   "metadata": {},
   "outputs": [],
   "source": []
  }
 ],
 "metadata": {
  "kernelspec": {
   "display_name": "Python 3 (ipykernel)",
   "language": "python",
   "name": "python3"
  },
  "language_info": {
   "codemirror_mode": {
    "name": "ipython",
    "version": 3
   },
   "file_extension": ".py",
   "mimetype": "text/x-python",
   "name": "python",
   "nbconvert_exporter": "python",
   "pygments_lexer": "ipython3",
   "version": "3.9.7"
  }
 },
 "nbformat": 4,
 "nbformat_minor": 5
}
