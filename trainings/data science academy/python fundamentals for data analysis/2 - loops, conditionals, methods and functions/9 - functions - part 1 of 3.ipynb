{
 "cells": [
  {
   "cell_type": "markdown",
   "id": "04951f0b",
   "metadata": {},
   "source": [
    "## Data Science Academy - Python Fundamentos - Capítulo 3\n",
    "\n",
    "### Download: http://github.com/dsacademy"
   ]
  },
  {
   "cell_type": "markdown",
   "id": "91092011",
   "metadata": {},
   "source": [
    "### Funções"
   ]
  },
  {
   "cell_type": "code",
   "execution_count": 3,
   "id": "5864e586",
   "metadata": {},
   "outputs": [],
   "source": [
    "# Definindo uma função\n",
    "# Essa função só irá imprimir na tela a frase Hello Word.\n",
    "\n",
    "def primeiraFunc():\n",
    "    print('Hello Word')"
   ]
  },
  {
   "cell_type": "code",
   "execution_count": 4,
   "id": "13c8b4ac",
   "metadata": {},
   "outputs": [
    {
     "name": "stdout",
     "output_type": "stream",
     "text": [
      "Hello Word\n"
     ]
    }
   ],
   "source": [
    "# Executando a função primeiraFunc que irá imprimir na tela a frase Hello Word\n",
    "\n",
    "primeiraFunc()"
   ]
  },
  {
   "cell_type": "code",
   "execution_count": null,
   "id": "45da8bf3",
   "metadata": {},
   "outputs": [],
   "source": []
  },
  {
   "cell_type": "code",
   "execution_count": null,
   "id": "72cb67b0",
   "metadata": {},
   "outputs": [],
   "source": []
  },
  {
   "cell_type": "code",
   "execution_count": null,
   "id": "43e94a07",
   "metadata": {},
   "outputs": [],
   "source": []
  },
  {
   "cell_type": "code",
   "execution_count": null,
   "id": "87f637e0",
   "metadata": {},
   "outputs": [],
   "source": []
  },
  {
   "cell_type": "code",
   "execution_count": null,
   "id": "9e152603",
   "metadata": {},
   "outputs": [],
   "source": []
  },
  {
   "cell_type": "code",
   "execution_count": null,
   "id": "b16c8adb",
   "metadata": {},
   "outputs": [],
   "source": []
  },
  {
   "cell_type": "code",
   "execution_count": null,
   "id": "9119f050",
   "metadata": {},
   "outputs": [],
   "source": []
  },
  {
   "cell_type": "code",
   "execution_count": null,
   "id": "ded754c0",
   "metadata": {},
   "outputs": [],
   "source": []
  }
 ],
 "metadata": {
  "kernelspec": {
   "display_name": "Python 3 (ipykernel)",
   "language": "python",
   "name": "python3"
  },
  "language_info": {
   "codemirror_mode": {
    "name": "ipython",
    "version": 3
   },
   "file_extension": ".py",
   "mimetype": "text/x-python",
   "name": "python",
   "nbconvert_exporter": "python",
   "pygments_lexer": "ipython3",
   "version": "3.9.7"
  }
 },
 "nbformat": 4,
 "nbformat_minor": 5
}
