{
 "cells": [
  {
   "cell_type": "markdown",
   "id": "d272958f",
   "metadata": {},
   "source": [
    "## Data Science Academy - Python Fundamentos - Capítulo 3\n",
    "\n",
    "### Download: http://github.com/dsacademy"
   ]
  },
  {
   "cell_type": "markdown",
   "id": "bcb0c62d",
   "metadata": {},
   "source": [
    "### Funções"
   ]
  },
  {
   "cell_type": "code",
   "execution_count": 3,
   "id": "e80b73da",
   "metadata": {},
   "outputs": [],
   "source": [
    "# Definindo uma função\n",
    "# Essa função só irá imprimir na tela a frase Hello Word.\n",
    "\n",
    "def primeiraFunc():\n",
    "    print('Hello Word')"
   ]
  },
  {
   "cell_type": "code",
   "execution_count": 4,
   "id": "7abb3ddb",
   "metadata": {},
   "outputs": [
    {
     "name": "stdout",
     "output_type": "stream",
     "text": [
      "Hello Word\n"
     ]
    }
   ],
   "source": [
    "# Executando a função primeiraFunc que irá imprimir na tela a frase Hello Word\n",
    "\n",
    "primeiraFunc()"
   ]
  },
  {
   "cell_type": "code",
   "execution_count": 14,
   "id": "a07f8e30",
   "metadata": {},
   "outputs": [],
   "source": [
    "# Definindo uma função com paramêtro, ou seja, necessita que seja informado um paramêtro para que a função o retorne\n",
    "# Notar que é quase a mesma função acima, porém, possuí paramêtro com um placeholder\n",
    "\n",
    "def primeiraFunc(nome):\n",
    "    print('Hello %s ' %(nome))"
   ]
  },
  {
   "cell_type": "code",
   "execution_count": 15,
   "id": "9473e694",
   "metadata": {},
   "outputs": [
    {
     "name": "stdout",
     "output_type": "stream",
     "text": [
      "Hello Aluno \n"
     ]
    }
   ],
   "source": [
    "# Executando a função primeiraFunc que irá imprimir na tela a frase Hello + paramêtro, que neste caso é Aluno\n",
    "\n",
    "primeiraFunc('Aluno')"
   ]
  },
  {
   "cell_type": "code",
   "execution_count": 16,
   "id": "4925bcb9",
   "metadata": {},
   "outputs": [],
   "source": [
    "# Definindo uma função com um loop for e objeto range, de 0 a 5, que irá imprimir a frase Número + (i), ou seja, itens do loop\n",
    "\n",
    "def funcLeitura():\n",
    "    for i in range(0,5):\n",
    "        print('Número ' + str(i))"
   ]
  },
  {
   "cell_type": "code",
   "execution_count": 17,
   "id": "47c8ef4e",
   "metadata": {},
   "outputs": [
    {
     "name": "stdout",
     "output_type": "stream",
     "text": [
      "Número 0\n",
      "Número 1\n",
      "Número 2\n",
      "Número 3\n",
      "Número 4\n"
     ]
    }
   ],
   "source": [
    "# Executando a função funcLeitura\n",
    "\n",
    "funcLeitura()"
   ]
  },
  {
   "cell_type": "code",
   "execution_count": 22,
   "id": "541d2639",
   "metadata": {},
   "outputs": [],
   "source": [
    "# Função para realizar a soma de números\n",
    "\n",
    "def addNum(firstnum, secondnum):\n",
    "    print('Primeiro número: ' + str(firstnum))\n",
    "    print('Segundo número: ' + str(secondnum))\n",
    "    print('Soma: ', firstnum + secondnum)"
   ]
  },
  {
   "cell_type": "code",
   "execution_count": 24,
   "id": "602aed16",
   "metadata": {},
   "outputs": [
    {
     "name": "stdout",
     "output_type": "stream",
     "text": [
      "Primeiro número: 25\n",
      "Segundo número: 25\n",
      "Soma:  50\n"
     ]
    }
   ],
   "source": [
    "# Executando a função addNum\n",
    "\n",
    "addNum(25, 25)"
   ]
  },
  {
   "cell_type": "markdown",
   "id": "67a80daa",
   "metadata": {},
   "source": [
    "### Variáveis locais e globais"
   ]
  },
  {
   "cell_type": "code",
   "execution_count": 34,
   "id": "df2f2dab",
   "metadata": {},
   "outputs": [],
   "source": [
    "# Variável global\n",
    "# Variável global é uma variável que pode ser utilizada em qualquer parte do código, ou seja, ela não é especifica de um bloco\n",
    "# Neste caso o bloco referido é o da definição da função\n",
    "\n",
    "var_global = 10 # Essa variável é global\n",
    "\n",
    "def multiply(num1, num2):\n",
    "    var_global = num1 * num2 # Essa variável é local\n",
    "    print(var_global) # Será impresso na tela o valor da variável global"
   ]
  },
  {
   "cell_type": "code",
   "execution_count": 35,
   "id": "13a146ca",
   "metadata": {},
   "outputs": [
    {
     "name": "stdout",
     "output_type": "stream",
     "text": [
      "9\n"
     ]
    }
   ],
   "source": [
    "# Executando a função multiply\n",
    "\n",
    "multiply(3,3)"
   ]
  },
  {
   "cell_type": "code",
   "execution_count": 36,
   "id": "fcf2fa0e",
   "metadata": {},
   "outputs": [
    {
     "name": "stdout",
     "output_type": "stream",
     "text": [
      "10\n"
     ]
    }
   ],
   "source": [
    "# Notar que se executarmos a var_global, será executada que possuí o valor 10\n",
    "# Não será executado a var_global da função, pois, essa variável é local, ou seja, é somente do bloco da função\n",
    "\n",
    "print(var_global)"
   ]
  },
  {
   "cell_type": "code",
   "execution_count": 41,
   "id": "dce8e800",
   "metadata": {},
   "outputs": [],
   "source": [
    "# Variável global\n",
    "# Variável global é uma variável que pode ser utilizada em qualquer parte do código, ou seja, ela não é especifica de um bloco\n",
    "# Neste caso o bloco referido é o da definição da função\n",
    "# Neste bloco diferenciamos a var_global da var_local, logo, fica fácil saber quem é quem no bloco\n",
    "\n",
    "var_global = 10 # Essa variável é global\n",
    "\n",
    "def multiply(num1, num2):\n",
    "    var_local = num1 * num2 # Essa variável é local\n",
    "    print(var_local) # Será impresso na tela o valor da variável var_local"
   ]
  },
  {
   "cell_type": "code",
   "execution_count": 42,
   "id": "08405d41",
   "metadata": {},
   "outputs": [
    {
     "name": "stdout",
     "output_type": "stream",
     "text": [
      "12\n"
     ]
    }
   ],
   "source": [
    "# Executando a função multiply\n",
    "\n",
    "multiply(3,4)"
   ]
  },
  {
   "cell_type": "code",
   "execution_count": 43,
   "id": "af9520b9",
   "metadata": {},
   "outputs": [
    {
     "name": "stdout",
     "output_type": "stream",
     "text": [
      "10\n"
     ]
    }
   ],
   "source": [
    "# Imprimindo na tela a variável global, que possuí o valor 10\n",
    "\n",
    "print(var_global)"
   ]
  },
  {
   "cell_type": "code",
   "execution_count": 44,
   "id": "cfca7463",
   "metadata": {},
   "outputs": [
    {
     "ename": "NameError",
     "evalue": "name 'var_local' is not defined",
     "output_type": "error",
     "traceback": [
      "\u001b[1;31m---------------------------------------------------------------------------\u001b[0m",
      "\u001b[1;31mNameError\u001b[0m                                 Traceback (most recent call last)",
      "\u001b[1;32m~\\AppData\\Local\\Temp/ipykernel_10232/3836586446.py\u001b[0m in \u001b[0;36m<module>\u001b[1;34m\u001b[0m\n\u001b[0;32m      1\u001b[0m \u001b[1;31m# Imprimindo na tela a variável local, que possuí o valor da multiplicação atribuí a ela\u001b[0m\u001b[1;33m\u001b[0m\u001b[1;33m\u001b[0m\u001b[0m\n\u001b[0;32m      2\u001b[0m \u001b[1;33m\u001b[0m\u001b[0m\n\u001b[1;32m----> 3\u001b[1;33m \u001b[0mprint\u001b[0m\u001b[1;33m(\u001b[0m\u001b[0mvar_local\u001b[0m\u001b[1;33m)\u001b[0m\u001b[1;33m\u001b[0m\u001b[1;33m\u001b[0m\u001b[0m\n\u001b[0m",
      "\u001b[1;31mNameError\u001b[0m: name 'var_local' is not defined"
     ]
    }
   ],
   "source": [
    "# Imprimindo na tela a variável local, que possuí o valor da multiplicação atribuí a ela\n",
    "# Notar que irá ocorrer um ero 'name 'var_local' is not defined'\n",
    "# Esse erro ocorre pois estamos tentando executar uma variável local, que só pode ser utilizada no bloco da função\n",
    "# Dessa maneira haverá o erro que essa variável não foi declarada\n",
    "\n",
    "print(var_local)"
   ]
  },
  {
   "cell_type": "markdown",
   "id": "db84d29e",
   "metadata": {},
   "source": [
    "### Funções Built-in"
   ]
  },
  {
   "cell_type": "code",
   "execution_count": 1,
   "id": "3fb568c3",
   "metadata": {},
   "outputs": [
    {
     "data": {
      "text/plain": [
       "56"
      ]
     },
     "execution_count": 1,
     "metadata": {},
     "output_type": "execute_result"
    }
   ],
   "source": [
    "# Função abs para retornar o número absoluto\n",
    "\n",
    "abs(-56)"
   ]
  },
  {
   "cell_type": "code",
   "execution_count": 2,
   "id": "9afc268a",
   "metadata": {},
   "outputs": [
    {
     "data": {
      "text/plain": [
       "23"
      ]
     },
     "execution_count": 2,
     "metadata": {},
     "output_type": "execute_result"
    }
   ],
   "source": [
    "# Função abs para retornar o número absoluto\n",
    "\n",
    "abs(23)"
   ]
  },
  {
   "cell_type": "code",
   "execution_count": 3,
   "id": "60f096ba",
   "metadata": {},
   "outputs": [
    {
     "data": {
      "text/plain": [
       "False"
      ]
     },
     "execution_count": 3,
     "metadata": {},
     "output_type": "execute_result"
    }
   ],
   "source": [
    "# Função booleana para retorna o valor verdadeiro ou falso\n",
    "\n",
    "bool(0)"
   ]
  },
  {
   "cell_type": "code",
   "execution_count": 4,
   "id": "494f21fd",
   "metadata": {},
   "outputs": [
    {
     "data": {
      "text/plain": [
       "True"
      ]
     },
     "execution_count": 4,
     "metadata": {},
     "output_type": "execute_result"
    }
   ],
   "source": [
    "# Função booleana para retorna o valor verdadeiro ou falso\n",
    "\n",
    "bool(1)"
   ]
  },
  {
   "cell_type": "markdown",
   "id": "779a72e4",
   "metadata": {},
   "source": [
    "### Funções str, int, float"
   ]
  },
  {
   "cell_type": "code",
   "execution_count": 5,
   "id": "bb50b9ff",
   "metadata": {},
   "outputs": [
    {
     "ename": "SyntaxError",
     "evalue": "EOL while scanning string literal (Temp/ipykernel_12408/1364736647.py, line 3)",
     "output_type": "error",
     "traceback": [
      "\u001b[1;36m  File \u001b[1;32m\"C:\\Users\\pheli\\AppData\\Local\\Temp/ipykernel_12408/1364736647.py\"\u001b[1;36m, line \u001b[1;32m3\u001b[0m\n\u001b[1;33m    idade = input('Digite sua idade: '')\u001b[0m\n\u001b[1;37m                                        ^\u001b[0m\n\u001b[1;31mSyntaxError\u001b[0m\u001b[1;31m:\u001b[0m EOL while scanning string literal\n"
     ]
    }
   ],
   "source": [
    "# Aqui haverá um erro por causa da conversão\n",
    "\n",
    "idade = input('Digite sua idade: '')\n",
    "\n",
    "if idade > 13:\n",
    "    print('Você pode acessar o Facebook!')"
   ]
  },
  {
   "cell_type": "code",
   "execution_count": 7,
   "id": "13397f1e",
   "metadata": {},
   "outputs": [
    {
     "name": "stdout",
     "output_type": "stream",
     "text": [
      "Digite sua idade: 14\n",
      "Você pode acessar o Facebook!\n"
     ]
    }
   ],
   "source": [
    "# Aqui não haverá um erro por causa da conversão, pois, realizamos a conversão da entrada da variável idade\n",
    "\n",
    "idade = int(input('Digite sua idade: '))\n",
    "\n",
    "if idade > 13:\n",
    "    print('Você pode acessar o Facebook!')"
   ]
  },
  {
   "cell_type": "code",
   "execution_count": 15,
   "id": "3453a3cc",
   "metadata": {},
   "outputs": [
    {
     "data": {
      "text/plain": [
       "26"
      ]
     },
     "execution_count": 15,
     "metadata": {},
     "output_type": "execute_result"
    }
   ],
   "source": [
    "# Função int para converter o formato string para o formato de número inteiro\n",
    "\n",
    "int('26')"
   ]
  },
  {
   "cell_type": "code",
   "execution_count": 17,
   "id": "994ef309",
   "metadata": {},
   "outputs": [
    {
     "data": {
      "text/plain": [
       "123.345"
      ]
     },
     "execution_count": 17,
     "metadata": {},
     "output_type": "execute_result"
    }
   ],
   "source": [
    "# Função float para converter o formato string para o formato de número float\n",
    "\n",
    "float('123.345')"
   ]
  },
  {
   "cell_type": "code",
   "execution_count": 18,
   "id": "15f95bb8",
   "metadata": {},
   "outputs": [
    {
     "data": {
      "text/plain": [
       "'14'"
      ]
     },
     "execution_count": 18,
     "metadata": {},
     "output_type": "execute_result"
    }
   ],
   "source": [
    "# Função string para converter o formato de número para o formato de string\n",
    "\n",
    "str(14)"
   ]
  },
  {
   "cell_type": "code",
   "execution_count": 20,
   "id": "13a06b9d",
   "metadata": {},
   "outputs": [
    {
     "data": {
      "text/plain": [
       "4"
      ]
     },
     "execution_count": 20,
     "metadata": {},
     "output_type": "execute_result"
    }
   ],
   "source": [
    "# Função para contar a quantidade de elementos nessa lista\n",
    "\n",
    "len([23, 24, 45, 46])"
   ]
  },
  {
   "cell_type": "code",
   "execution_count": 21,
   "id": "761dd27d",
   "metadata": {},
   "outputs": [],
   "source": [
    "# Declarando um array\n",
    "\n",
    "array = ['a', 'b', 'c']"
   ]
  },
  {
   "cell_type": "code",
   "execution_count": 22,
   "id": "356450d6",
   "metadata": {},
   "outputs": [
    {
     "data": {
      "text/plain": [
       "'c'"
      ]
     },
     "execution_count": 22,
     "metadata": {},
     "output_type": "execute_result"
    }
   ],
   "source": [
    "# Função max para verificar o maior valor do array\n",
    "\n",
    "max(array)"
   ]
  },
  {
   "cell_type": "code",
   "execution_count": 23,
   "id": "60543d5a",
   "metadata": {},
   "outputs": [
    {
     "data": {
      "text/plain": [
       "'a'"
      ]
     },
     "execution_count": 23,
     "metadata": {},
     "output_type": "execute_result"
    }
   ],
   "source": [
    "# Função min para verificar o menor valor do array\n",
    "\n",
    "min(array)"
   ]
  },
  {
   "cell_type": "code",
   "execution_count": 24,
   "id": "d46e5375",
   "metadata": {},
   "outputs": [],
   "source": [
    "# Declarando um array\n",
    "\n",
    "array = ['a', 'b', 'c', 'd', 'A', 'B', 'C', 'D']"
   ]
  },
  {
   "cell_type": "code",
   "execution_count": 25,
   "id": "dc68bf6c",
   "metadata": {},
   "outputs": [
    {
     "name": "stdout",
     "output_type": "stream",
     "text": [
      "['a', 'b', 'c', 'd', 'A', 'B', 'C', 'D']\n"
     ]
    }
   ],
   "source": [
    "# Impressão do array\n",
    "\n",
    "print(array)"
   ]
  },
  {
   "cell_type": "code",
   "execution_count": 26,
   "id": "b9aa204b",
   "metadata": {},
   "outputs": [
    {
     "data": {
      "text/plain": [
       "'d'"
      ]
     },
     "execution_count": 26,
     "metadata": {},
     "output_type": "execute_result"
    }
   ],
   "source": [
    "# Função max para verificar o maior valor do array\n",
    "\n",
    "max(array)"
   ]
  },
  {
   "cell_type": "code",
   "execution_count": 27,
   "id": "c6eb02b0",
   "metadata": {},
   "outputs": [
    {
     "data": {
      "text/plain": [
       "'A'"
      ]
     },
     "execution_count": 27,
     "metadata": {},
     "output_type": "execute_result"
    }
   ],
   "source": [
    "# Função min para verificar o menor valor do array\n",
    "\n",
    "min(array)"
   ]
  },
  {
   "cell_type": "code",
   "execution_count": 28,
   "id": "ec849ac6",
   "metadata": {},
   "outputs": [],
   "source": [
    "# Declarando uma lista\n",
    "\n",
    "list1 = [23, 23, 34, 45]"
   ]
  },
  {
   "cell_type": "code",
   "execution_count": 29,
   "id": "0856d9df",
   "metadata": {},
   "outputs": [
    {
     "data": {
      "text/plain": [
       "125"
      ]
     },
     "execution_count": 29,
     "metadata": {},
     "output_type": "execute_result"
    }
   ],
   "source": [
    "# Função sum para somar os itens da lista\n",
    "\n",
    "sum(list1)"
   ]
  },
  {
   "cell_type": "code",
   "execution_count": null,
   "id": "10ff0dc1",
   "metadata": {},
   "outputs": [],
   "source": []
  },
  {
   "cell_type": "code",
   "execution_count": null,
   "id": "14acc136",
   "metadata": {},
   "outputs": [],
   "source": []
  },
  {
   "cell_type": "code",
   "execution_count": null,
   "id": "d5b39076",
   "metadata": {},
   "outputs": [],
   "source": []
  }
 ],
 "metadata": {
  "kernelspec": {
   "display_name": "Python 3 (ipykernel)",
   "language": "python",
   "name": "python3"
  },
  "language_info": {
   "codemirror_mode": {
    "name": "ipython",
    "version": 3
   },
   "file_extension": ".py",
   "mimetype": "text/x-python",
   "name": "python",
   "nbconvert_exporter": "python",
   "pygments_lexer": "ipython3",
   "version": "3.9.7"
  }
 },
 "nbformat": 4,
 "nbformat_minor": 5
}
