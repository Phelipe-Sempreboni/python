{
 "cells": [
  {
   "cell_type": "markdown",
   "id": "e7b52bd1",
   "metadata": {},
   "source": [
    "## Data Science Academy - Python Fundamentos - Capítulo 3\n",
    "\n",
    "### Download: http://github.com/dsacademy"
   ]
  },
  {
   "cell_type": "markdown",
   "id": "2e32158a",
   "metadata": {},
   "source": [
    "### Funções"
   ]
  },
  {
   "cell_type": "code",
   "execution_count": 3,
   "id": "e4c79032",
   "metadata": {},
   "outputs": [],
   "source": [
    "# Definindo uma função\n",
    "# Essa função só irá imprimir na tela a frase Hello Word.\n",
    "\n",
    "def primeiraFunc():\n",
    "    print('Hello Word')"
   ]
  },
  {
   "cell_type": "code",
   "execution_count": 4,
   "id": "75f87ed5",
   "metadata": {},
   "outputs": [
    {
     "name": "stdout",
     "output_type": "stream",
     "text": [
      "Hello Word\n"
     ]
    }
   ],
   "source": [
    "# Executando a função primeiraFunc que irá imprimir na tela a frase Hello Word\n",
    "\n",
    "primeiraFunc()"
   ]
  },
  {
   "cell_type": "code",
   "execution_count": 14,
   "id": "1e5a2441",
   "metadata": {},
   "outputs": [],
   "source": [
    "# Definindo uma função com paramêtro, ou seja, necessita que seja informado um paramêtro para que a função o retorne\n",
    "# Notar que é quase a mesma função acima, porém, possuí paramêtro com um placeholder\n",
    "\n",
    "def primeiraFunc(nome):\n",
    "    print('Hello %s ' %(nome))"
   ]
  },
  {
   "cell_type": "code",
   "execution_count": 15,
   "id": "919c32bb",
   "metadata": {},
   "outputs": [
    {
     "name": "stdout",
     "output_type": "stream",
     "text": [
      "Hello Aluno \n"
     ]
    }
   ],
   "source": [
    "# Executando a função primeiraFunc que irá imprimir na tela a frase Hello + paramêtro, que neste caso é Aluno\n",
    "\n",
    "primeiraFunc('Aluno')"
   ]
  },
  {
   "cell_type": "code",
   "execution_count": 16,
   "id": "391d6e94",
   "metadata": {},
   "outputs": [],
   "source": [
    "# Definindo uma função com um loop for e objeto range, de 0 a 5, que irá imprimir a frase Número + (i), ou seja, itens do loop\n",
    "\n",
    "def funcLeitura():\n",
    "    for i in range(0,5):\n",
    "        print('Número ' + str(i))"
   ]
  },
  {
   "cell_type": "code",
   "execution_count": 17,
   "id": "d3d806c2",
   "metadata": {},
   "outputs": [
    {
     "name": "stdout",
     "output_type": "stream",
     "text": [
      "Número 0\n",
      "Número 1\n",
      "Número 2\n",
      "Número 3\n",
      "Número 4\n"
     ]
    }
   ],
   "source": [
    "# Executando a função funcLeitura\n",
    "\n",
    "funcLeitura()"
   ]
  },
  {
   "cell_type": "code",
   "execution_count": 22,
   "id": "4b129704",
   "metadata": {},
   "outputs": [],
   "source": [
    "# Função para realizar a soma de números\n",
    "\n",
    "def addNum(firstnum, secondnum):\n",
    "    print('Primeiro número: ' + str(firstnum))\n",
    "    print('Segundo número: ' + str(secondnum))\n",
    "    print('Soma: ', firstnum + secondnum)"
   ]
  },
  {
   "cell_type": "code",
   "execution_count": 24,
   "id": "9e0bd5cb",
   "metadata": {},
   "outputs": [
    {
     "name": "stdout",
     "output_type": "stream",
     "text": [
      "Primeiro número: 25\n",
      "Segundo número: 25\n",
      "Soma:  50\n"
     ]
    }
   ],
   "source": [
    "# Executando a função addNum\n",
    "\n",
    "addNum(25, 25)"
   ]
  },
  {
   "cell_type": "markdown",
   "id": "935c46d0",
   "metadata": {},
   "source": [
    "### Variáveis locais e globais"
   ]
  },
  {
   "cell_type": "code",
   "execution_count": null,
   "id": "3d8029e0",
   "metadata": {},
   "outputs": [],
   "source": []
  }
 ],
 "metadata": {
  "kernelspec": {
   "display_name": "Python 3 (ipykernel)",
   "language": "python",
   "name": "python3"
  },
  "language_info": {
   "codemirror_mode": {
    "name": "ipython",
    "version": 3
   },
   "file_extension": ".py",
   "mimetype": "text/x-python",
   "name": "python",
   "nbconvert_exporter": "python",
   "pygments_lexer": "ipython3",
   "version": "3.9.7"
  }
 },
 "nbformat": 4,
 "nbformat_minor": 5
}
