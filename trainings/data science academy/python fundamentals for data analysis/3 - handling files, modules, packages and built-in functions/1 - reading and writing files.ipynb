{
 "cells": [
  {
   "cell_type": "markdown",
   "id": "32d2f87c",
   "metadata": {},
   "source": [
    "## Data Science Academy - Python Fundamentos - Capítulo 4\n",
    "\n",
    "### Download: http://github.com/dsacademybr\n",
    "\n",
    "### Arquivos\n",
    "\n",
    "Obs: Crie um arquivo txt, chamado arquivo1.txt no direótior \"arquivos\" na pasta onde está seu Jupyter Notebook, digite a frase: Python é uma linguagem poderosa! e salve o arquivo."
   ]
  },
  {
   "cell_type": "markdown",
   "id": "3f2ab4b1",
   "metadata": {},
   "source": [
    "### Lendo arquivos"
   ]
  },
  {
   "cell_type": "code",
   "execution_count": 7,
   "id": "8bacc291",
   "metadata": {},
   "outputs": [],
   "source": [
    "# Abrindoo arquivo (archive1.txt) para leitura\n",
    "# Notar que ao final do código, a parte \"r\", significa (read), ou seja, que iremos realizar somente a leitura de dados\n",
    "# Caso o arquivo esteja no mesmo repositório do notebook, então é possível inserir somente o nome do arquivo\n",
    "# Caso o arquivo não esteja no mesmo repositório do notebook, então é necessário inserir o caminho do repositório\n",
    "\n",
    "arq1 = open('archives/archive1.txt', 'r')"
   ]
  },
  {
   "cell_type": "code",
   "execution_count": 8,
   "id": "aedf85c3",
   "metadata": {},
   "outputs": [
    {
     "name": "stdout",
     "output_type": "stream",
     "text": [
      "Python Ã© uma linguagem poderosa!\n"
     ]
    }
   ],
   "source": [
    "# Lendo o arquivo\n",
    "\n",
    "print(arq1.read())"
   ]
  },
  {
   "cell_type": "code",
   "execution_count": 9,
   "id": "9162f16b",
   "metadata": {},
   "outputs": [
    {
     "name": "stdout",
     "output_type": "stream",
     "text": [
      "33\n"
     ]
    }
   ],
   "source": [
    "# Contando a quantidade de caracteres da string\n",
    "\n",
    "print(arq1.tell())"
   ]
  },
  {
   "cell_type": "code",
   "execution_count": 14,
   "id": "c9007560",
   "metadata": {},
   "outputs": [
    {
     "name": "stdout",
     "output_type": "stream",
     "text": [
      "0\n"
     ]
    }
   ],
   "source": [
    "# Retornando para inicio do arquivo\n",
    "# Notar que esta retornando o valor (0), que é onde foi indicado para o comando setar\n",
    "# Ou seja, para inicio dos caracteres do arquivo\n",
    "# Lembrando que em Python o indíce sempre se inicia em 0\n",
    "\n",
    "print(arq1.seek(0, 0))"
   ]
  },
  {
   "cell_type": "code",
   "execution_count": 15,
   "id": "2d0550f2",
   "metadata": {},
   "outputs": [
    {
     "name": "stdout",
     "output_type": "stream",
     "text": [
      "Python Ã© \n"
     ]
    }
   ],
   "source": [
    "# Lendo os 10 primeiros caracteres\n",
    "# Essa leitura irá depender de onde for setado o inicio do arquivo\n",
    "# Neste caso, o inicio foi setado em (0) pela linha de comando acima, com a função (seek)\n",
    "\n",
    "print(arq1.read(10))"
   ]
  },
  {
   "cell_type": "markdown",
   "id": "c1a63c53",
   "metadata": {},
   "source": [
    "### Gravando Arquivos"
   ]
  },
  {
   "cell_type": "code",
   "execution_count": 17,
   "id": "04d5901c",
   "metadata": {},
   "outputs": [],
   "source": [
    "# Abrindoo arquivo (archive1.txt) para gravação\n",
    "# Notar que ao final do código, a parte \"w\", significa (write), ou seja, que iremos realizar somente a gravação de dados\n",
    "# Caso o arquivo esteja no mesmo repositório do notebook, então é possível inserir somente o nome do arquivo\n",
    "# Caso o arquivo não esteja no mesmo repositório do notebook, então é necessário inserir o caminho do repositório\n",
    "\n",
    "arq2 = open('archives/archive1.txt', 'w')"
   ]
  },
  {
   "cell_type": "code",
   "execution_count": 18,
   "id": "2e688bac",
   "metadata": {},
   "outputs": [
    {
     "ename": "UnsupportedOperation",
     "evalue": "not readable",
     "output_type": "error",
     "traceback": [
      "\u001b[1;31m---------------------------------------------------------------------------\u001b[0m",
      "\u001b[1;31mUnsupportedOperation\u001b[0m                      Traceback (most recent call last)",
      "\u001b[1;32m~\\AppData\\Local\\Temp/ipykernel_9456/3454594831.py\u001b[0m in \u001b[0;36m<module>\u001b[1;34m\u001b[0m\n\u001b[1;32m----> 1\u001b[1;33m \u001b[0mprint\u001b[0m\u001b[1;33m(\u001b[0m\u001b[0marq2\u001b[0m\u001b[1;33m.\u001b[0m\u001b[0mread\u001b[0m\u001b[1;33m(\u001b[0m\u001b[1;33m)\u001b[0m\u001b[1;33m)\u001b[0m\u001b[1;33m\u001b[0m\u001b[1;33m\u001b[0m\u001b[0m\n\u001b[0m",
      "\u001b[1;31mUnsupportedOperation\u001b[0m: not readable"
     ]
    }
   ],
   "source": [
    "# Como utilizando o comando (w) para gravação de dados, não é possível utilizar comando para leitura, no caso, o (r)\n",
    "# Notar que haverá um erro abaixo\n",
    "\n",
    "print(arq2.read())"
   ]
  },
  {
   "cell_type": "code",
   "execution_count": 19,
   "id": "7148fe5a",
   "metadata": {},
   "outputs": [
    {
     "data": {
      "text/plain": [
       "57"
      ]
     },
     "execution_count": 19,
     "metadata": {},
     "output_type": "execute_result"
    }
   ],
   "source": [
    "# Gravando dados no arquivo\n",
    "# Notar que quando gravarmos esses dados de string no arquivo, o mesmo será subscrito\n",
    "\n",
    "arq2.write('Testando a gravacao de arquivos no Python em formato .txt')"
   ]
  },
  {
   "cell_type": "code",
   "execution_count": 20,
   "id": "43b4dda6",
   "metadata": {},
   "outputs": [],
   "source": [
    "# Fechando a conexão com o arquivo\n",
    "\n",
    "arq2.close()"
   ]
  },
  {
   "cell_type": "code",
   "execution_count": 26,
   "id": "ab8f3416",
   "metadata": {},
   "outputs": [],
   "source": [
    "# Lendo o arquivo gravado\n",
    "# Notar que estamos declarando novamente a variável arq2, mas neste caso, somente para leitura de dados\n",
    "\n",
    "arq2 = open('archives/archive1.txt', 'r')"
   ]
  },
  {
   "cell_type": "code",
   "execution_count": 27,
   "id": "ee0918f8",
   "metadata": {},
   "outputs": [
    {
     "name": "stdout",
     "output_type": "stream",
     "text": [
      "Testando a gravacao de arquivos no Python em formato .txt\n"
     ]
    }
   ],
   "source": [
    "# Imprimindo na tela os dados do arquivo\n",
    "\n",
    "print(arq2.read())"
   ]
  },
  {
   "cell_type": "code",
   "execution_count": null,
   "id": "4ead8e51",
   "metadata": {},
   "outputs": [],
   "source": []
  },
  {
   "cell_type": "code",
   "execution_count": null,
   "id": "916942c5",
   "metadata": {},
   "outputs": [],
   "source": []
  },
  {
   "cell_type": "code",
   "execution_count": null,
   "id": "9d161e0a",
   "metadata": {},
   "outputs": [],
   "source": []
  },
  {
   "cell_type": "code",
   "execution_count": null,
   "id": "5f5d7f71",
   "metadata": {},
   "outputs": [],
   "source": []
  }
 ],
 "metadata": {
  "kernelspec": {
   "display_name": "Python 3 (ipykernel)",
   "language": "python",
   "name": "python3"
  },
  "language_info": {
   "codemirror_mode": {
    "name": "ipython",
    "version": 3
   },
   "file_extension": ".py",
   "mimetype": "text/x-python",
   "name": "python",
   "nbconvert_exporter": "python",
   "pygments_lexer": "ipython3",
   "version": "3.9.7"
  }
 },
 "nbformat": 4,
 "nbformat_minor": 5
}
