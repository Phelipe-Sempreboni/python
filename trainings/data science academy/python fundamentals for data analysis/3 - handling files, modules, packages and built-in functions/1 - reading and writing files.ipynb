{
 "cells": [
  {
   "cell_type": "markdown",
   "id": "32d2f87c",
   "metadata": {},
   "source": [
    "## Data Science Academy - Python Fundamentos - Capítulo 4\n",
    "\n",
    "### Download: http://github.com/dsacademybr\n",
    "\n",
    "### Arquivos\n",
    "\n",
    "Obs: Crie um arquivo txt, chamado arquivo1.txt no direótior \"arquivos\" na pasta onde está seu Jupyter Notebook, digite a frase: Python é uma linguagem poderosa! e salve o arquivo."
   ]
  },
  {
   "cell_type": "markdown",
   "id": "3f2ab4b1",
   "metadata": {},
   "source": [
    "### Lendo arquivos"
   ]
  },
  {
   "cell_type": "code",
   "execution_count": 7,
   "id": "8bacc291",
   "metadata": {},
   "outputs": [],
   "source": [
    "# Abrindoo arquivo (archive1.txt) para leitura.\n",
    "# Notar que ao final do código, a parte \"r\", significa (read), ou seja, que iremos realizar somente a leitura.\n",
    "# Caso o arquivo esteja no mesmo repositório do notebook, então é possível inserir somente o nome do arquivo.\n",
    "# Caso o arquivo não esteja no mesmo repositório do notebook, então é necessário inserir o caminho do repositório.\n",
    "\n",
    "arq1 = open('archives/archive1.txt', 'r')"
   ]
  },
  {
   "cell_type": "code",
   "execution_count": 8,
   "id": "aedf85c3",
   "metadata": {},
   "outputs": [
    {
     "name": "stdout",
     "output_type": "stream",
     "text": [
      "Python Ã© uma linguagem poderosa!\n"
     ]
    }
   ],
   "source": [
    "# Lendo o arquivo\n",
    "\n",
    "print(arq1.read())"
   ]
  },
  {
   "cell_type": "code",
   "execution_count": 9,
   "id": "9162f16b",
   "metadata": {},
   "outputs": [
    {
     "name": "stdout",
     "output_type": "stream",
     "text": [
      "33\n"
     ]
    }
   ],
   "source": [
    "# Contando a quantidade de caracteres da string\n",
    "\n",
    "print(arq1.tell())"
   ]
  },
  {
   "cell_type": "code",
   "execution_count": 11,
   "id": "c9007560",
   "metadata": {},
   "outputs": [
    {
     "name": "stdout",
     "output_type": "stream",
     "text": [
      "0\n"
     ]
    }
   ],
   "source": [
    "# Retornando para inicio do arquivo\n",
    "# Notar que esta retornando o valor (0), que é onde foi indicado para o comando setar\n",
    "# Ou seja, para inicio dos caracteres do arquivo\n",
    "# Lembrando que em Python o indíce sempre se inicia em 0\n",
    "\n",
    "print(arq1.seek(0, 0))"
   ]
  },
  {
   "cell_type": "code",
   "execution_count": 12,
   "id": "2d0550f2",
   "metadata": {},
   "outputs": [
    {
     "name": "stdout",
     "output_type": "stream",
     "text": [
      "Python Ã© \n"
     ]
    }
   ],
   "source": [
    "# Lendo os 10 primeiros caracteres\n",
    "\n",
    "\n",
    "print(arq1.read(10))"
   ]
  }
 ],
 "metadata": {
  "kernelspec": {
   "display_name": "Python 3 (ipykernel)",
   "language": "python",
   "name": "python3"
  },
  "language_info": {
   "codemirror_mode": {
    "name": "ipython",
    "version": 3
   },
   "file_extension": ".py",
   "mimetype": "text/x-python",
   "name": "python",
   "nbconvert_exporter": "python",
   "pygments_lexer": "ipython3",
   "version": "3.9.7"
  }
 },
 "nbformat": 4,
 "nbformat_minor": 5
}
