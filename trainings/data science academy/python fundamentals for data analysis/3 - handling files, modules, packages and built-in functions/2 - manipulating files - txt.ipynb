{
 "cells": [
  {
   "cell_type": "markdown",
   "id": "720645b7",
   "metadata": {},
   "source": [
    "## Data Science Academy - Python Fundamentos - Capítulo 4\n",
    "\n",
    "### Download: http://github.com/dsacademybr"
   ]
  },
  {
   "cell_type": "markdown",
   "id": "616821c9",
   "metadata": {},
   "source": [
    "### Manipulação de arquivos\n",
    "\n",
    "* Arquivo TXT"
   ]
  },
  {
   "cell_type": "markdown",
   "id": "f11258dc",
   "metadata": {},
   "source": [
    "### Manipulando Arquivos - TXT"
   ]
  },
  {
   "cell_type": "code",
   "execution_count": 29,
   "id": "ce35858d",
   "metadata": {},
   "outputs": [],
   "source": [
    "# Declarando a variável texto e utilizando a variável uma na sequência da outra\n",
    "\n",
    "texto = 'Cientista de Dados é a profissão que mais tem crescido em todo o mundo.\\n'\n",
    "texto = texto + 'Esses profissionais precisam se especializar em Programação, Estatística e Machine Learning.\\n'\n",
    "texto += 'E claro, em Big Data'"
   ]
  },
  {
   "cell_type": "code",
   "execution_count": 30,
   "id": "eb91454f",
   "metadata": {},
   "outputs": [
    {
     "name": "stdout",
     "output_type": "stream",
     "text": [
      "Cientista de Dados é a profissão que mais tem crescido em todo o mundo.\n",
      "Esses profissionais precisam se especializar em Programação, Estatística e Machine Learning.\n",
      "E claro, em Big Data\n"
     ]
    }
   ],
   "source": [
    "# Imprimindo mensagem na tela\n",
    "\n",
    "print(texto)"
   ]
  },
  {
   "cell_type": "code",
   "execution_count": 31,
   "id": "132bef0d",
   "metadata": {},
   "outputs": [],
   "source": [
    "# Importando a biblioteca os\n",
    "# Essa biblioteca é para realizar manipulações no sistema operacional\n",
    "# Essa biblioteca é muito útil\n",
    "\n",
    "import os"
   ]
  },
  {
   "cell_type": "code",
   "execution_count": 32,
   "id": "9bcecec3",
   "metadata": {},
   "outputs": [],
   "source": [
    "# Criando um arquivo chamado (scientist.txt)\n",
    "# Se o arquivo não existir no repositório, com o comando (w - write) será criado\n",
    "# Caso o arquivo exista no repositório, então será subscrito\n",
    "\n",
    "arquivo = open(os.path.join('archives/scientist.txt'), 'w')"
   ]
  },
  {
   "cell_type": "code",
   "execution_count": 33,
   "id": "3e863c3f",
   "metadata": {},
   "outputs": [],
   "source": [
    "# Gravando os dados no arquivo\n",
    "# Utilizando o loop for para realizar a tarefa\n",
    "# O comando (split - divisão) realiza a separação de string\n",
    "# Se nada for declarado como parametro no (split - divisão), então irá separa separa a string por espaço em branco\n",
    "# Logo, para cada palabra que o loop for encontrar, será gravado essa palavra com o espaço em branco para separar as palavras\n",
    "\n",
    "for palavra in text.split():\n",
    "    arquivo.write(palavra + ' ')"
   ]
  },
  {
   "cell_type": "code",
   "execution_count": 34,
   "id": "fcaad899",
   "metadata": {},
   "outputs": [],
   "source": [
    "# Fechando o arquivo\n",
    "\n",
    "arquivo.close()"
   ]
  },
  {
   "cell_type": "code",
   "execution_count": 37,
   "id": "36877b5f",
   "metadata": {},
   "outputs": [
    {
     "name": "stdout",
     "output_type": "stream",
     "text": [
      "Cientista de Dados é a profissão que mais tem crescido em todo o mundo. Esses profissionais precisam se especializar em Programação, Estatística e Machine Learning. \n"
     ]
    }
   ],
   "source": [
    "# Abrindo o arquivo\n",
    "# Lendo o arquivo\n",
    "# Fechando o arquivo\n",
    "# Immprimindo na tela a mensagem\n",
    "\n",
    "arquivo = open('archives/scientist.txt', 'r')\n",
    "conteudo = arquivo.read()\n",
    "arquivo.close()\n",
    "print(conteudo)"
   ]
  },
  {
   "cell_type": "markdown",
   "id": "b0da1d67",
   "metadata": {},
   "source": [
    "### Usando a expressão with\n",
    "\n",
    "O método close() é executado automaticamente nesta expressão"
   ]
  },
  {
   "cell_type": "code",
   "execution_count": null,
   "id": "e3df1c15",
   "metadata": {},
   "outputs": [],
   "source": []
  },
  {
   "cell_type": "code",
   "execution_count": null,
   "id": "d1e3a660",
   "metadata": {},
   "outputs": [],
   "source": []
  },
  {
   "cell_type": "code",
   "execution_count": null,
   "id": "d2b8c83a",
   "metadata": {},
   "outputs": [],
   "source": []
  }
 ],
 "metadata": {
  "kernelspec": {
   "display_name": "Python 3 (ipykernel)",
   "language": "python",
   "name": "python3"
  },
  "language_info": {
   "codemirror_mode": {
    "name": "ipython",
    "version": 3
   },
   "file_extension": ".py",
   "mimetype": "text/x-python",
   "name": "python",
   "nbconvert_exporter": "python",
   "pygments_lexer": "ipython3",
   "version": "3.9.7"
  }
 },
 "nbformat": 4,
 "nbformat_minor": 5
}
