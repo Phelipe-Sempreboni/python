{
 "cells": [
  {
   "cell_type": "markdown",
   "id": "51055022",
   "metadata": {},
   "source": [
    "## Data Science Academy - Python Fundamentos - Capítulo 4\n",
    "\n",
    "### Download: http://github.com/dsacademybr"
   ]
  },
  {
   "cell_type": "markdown",
   "id": "119ca2de",
   "metadata": {},
   "source": [
    "### Manipulação de arquivos\n",
    "\n",
    "* Arquivo CSV"
   ]
  },
  {
   "cell_type": "markdown",
   "id": "ecbc2fe4",
   "metadata": {},
   "source": [
    "### Manipulando Arquivos CSV (comma-separated values ou arquivos separados por vírgulas)"
   ]
  },
  {
   "cell_type": "code",
   "execution_count": null,
   "id": "d627be74",
   "metadata": {},
   "outputs": [],
   "source": [
    "# Importando a biblioteca csv\n",
    "\n",
    "import csv"
   ]
  },
  {
   "cell_type": "code",
   "execution_count": null,
   "id": "fb1b9a9a",
   "metadata": {},
   "outputs": [],
   "source": [
    "# Criando um arquivo chamado numeros.csv\n",
    "\n",
    "with open('archives/numbers.csv'), 'w') as arquivo:\n",
    "    \n",
    "    # Declarando a variável (writer) e atribuindo o comando para escrita de arquivos\n",
    "    writer = csv.writer(arquivo)\n",
    "    \n",
    "    # Utilizando a variável declarada com o comando (writerow) para escrever no arquivo criado\n",
    "    writer.writerow(('primeira', 'segunda', 'terceira'))\n",
    "    \n",
    "    # Utilizando a variável declarada com o comando (writerow) para escrever no arquivo criado\n",
    "    writer.writerow((55, 93, 76))\n",
    "    \n",
    "    # Utilizando a variável declarada com o comando (writerow) para escrever no arquivo criado\n",
    "    writer.writerow((62, 14, 86))"
   ]
  },
  {
   "cell_type": "code",
   "execution_count": null,
   "id": "882a4665",
   "metadata": {},
   "outputs": [],
   "source": [
    "# Lendo o arquivo csv\n",
    "\n",
    "with open('archives/numbers.csv', 'r') as arquivo:\n",
    "    \n",
    "    # Criando a variável (leitor) e atribuindo o comando para leitura do arquivo\n",
    "    leitor = csv.reader(arquivo)\n",
    "    \n",
    "    "
   ]
  },
  {
   "cell_type": "code",
   "execution_count": null,
   "id": "7f7dc15f",
   "metadata": {},
   "outputs": [],
   "source": []
  },
  {
   "cell_type": "code",
   "execution_count": null,
   "id": "07848f5f",
   "metadata": {},
   "outputs": [],
   "source": []
  },
  {
   "cell_type": "code",
   "execution_count": null,
   "id": "012e6107",
   "metadata": {},
   "outputs": [],
   "source": []
  },
  {
   "cell_type": "code",
   "execution_count": null,
   "id": "a0b82479",
   "metadata": {},
   "outputs": [],
   "source": []
  },
  {
   "cell_type": "code",
   "execution_count": null,
   "id": "35d60c48",
   "metadata": {},
   "outputs": [],
   "source": []
  }
 ],
 "metadata": {
  "kernelspec": {
   "display_name": "Python 3 (ipykernel)",
   "language": "python",
   "name": "python3"
  },
  "language_info": {
   "codemirror_mode": {
    "name": "ipython",
    "version": 3
   },
   "file_extension": ".py",
   "mimetype": "text/x-python",
   "name": "python",
   "nbconvert_exporter": "python",
   "pygments_lexer": "ipython3",
   "version": "3.9.7"
  }
 },
 "nbformat": 4,
 "nbformat_minor": 5
}
