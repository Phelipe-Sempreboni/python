{
 "cells": [
  {
   "cell_type": "markdown",
   "id": "c42685d1",
   "metadata": {},
   "source": [
    "### Desenvolvimento da calculadora"
   ]
  },
  {
   "cell_type": "code",
   "execution_count": 48,
   "id": "5040095a",
   "metadata": {},
   "outputs": [
    {
     "name": "stdout",
     "output_type": "stream",
     "text": [
      "****************************** Python Calculator ******************************\n",
      "\n",
      "Selecione o número da opção desejada:\n",
      "\n",
      "1 - Soma\n",
      "2 - Subtração\n",
      "3 - Multiplicação\n",
      "4 - Divisão\n",
      "\n",
      "\n"
     ]
    }
   ],
   "source": [
    "# 1 - Primeiro iremos criar as mensagens que serão exibidas na tela do programa\n",
    "\n",
    "message_sum = '1 - Soma'\n",
    "message_subtraction = '2 - Subtração'\n",
    "message_multiplication = '3 - Multiplicação'\n",
    "message_division = '4 - Divisão'\n",
    "\n",
    "print('****************************** Python Calculator ******************************\\n')\n",
    "\n",
    "print('Selecione o número da opção desejada:\\n')\n",
    "\n",
    "print(message_sum)\n",
    "print(message_subtraction)\n",
    "print(message_multiplication)\n",
    "print(message_division)\n",
    "print('\\n')"
   ]
  },
  {
   "cell_type": "code",
   "execution_count": 54,
   "id": "933e3dbc",
   "metadata": {},
   "outputs": [
    {
     "name": "stdout",
     "output_type": "stream",
     "text": [
      "Digite sua opção (1/2/3/4): 4\n",
      "Ele selecionou a opção 4\n"
     ]
    }
   ],
   "source": [
    "# 2 - Construir uma pré estrutura de teste para verificar se a lógica está correta e podemos começar a substituir alguns\n",
    "# pontos deste script\n",
    "\n",
    "message = int(input('Digite sua opção (1/2/3/4): '))\n",
    "\n",
    "if message == 1:\n",
    "    print('Ele selecionou a opção %s' %(message))\n",
    "    \n",
    "elif message == 2:\n",
    "    print('Ele selecionou a opção %s' %(message))\n",
    "    \n",
    "elif message == 3:\n",
    "    print('Ele selecionou a opção %s' %(message))\n",
    "    \n",
    "elif message == 4:\n",
    "    print('Ele selecionou a opção %s' %(message))"
   ]
  },
  {
   "cell_type": "code",
   "execution_count": 55,
   "id": "e699364d",
   "metadata": {},
   "outputs": [
    {
     "name": "stdout",
     "output_type": "stream",
     "text": [
      "Digite sua opção (1/2/3/4): 1\n",
      "Digite o primeiro número: 45\n",
      "Digite o segundo número: 1000\n",
      "45  +  1000  =  1045\n"
     ]
    }
   ],
   "source": [
    "# 3 - Criando uma função simples de soma e testando se funciona dentro do if\n",
    "\n",
    "message = int(input('Digite sua opção (1/2/3/4): '))\n",
    "\n",
    "if message == 1:\n",
    "    \n",
    "    a = int(input('Digite o primeiro número: '))\n",
    "    b = int(input('Digite o segundo número: '))\n",
    "    \n",
    "    soma = a + b\n",
    "    \n",
    "    print(a, ' + ', b, ' = ', soma)"
   ]
  },
  {
   "cell_type": "code",
   "execution_count": 61,
   "id": "4751891e",
   "metadata": {},
   "outputs": [
    {
     "name": "stdout",
     "output_type": "stream",
     "text": [
      "Digite sua opção (1/2/3/4): 2\n",
      "Digite o primeiro número: 100\n",
      "Digite o segundo número: 50\n",
      "100  -  50  =  50\n"
     ]
    }
   ],
   "source": [
    "# 4 - Criando uma função simples de subtração e testando se funciona dentro do if\n",
    "\n",
    "message = int(input('Digite sua opção (1/2/3/4): '))\n",
    "\n",
    "if message == 2:\n",
    "    \n",
    "    c = int(input('Digite o primeiro número: '))\n",
    "    d = int(input('Digite o segundo número: '))\n",
    "    \n",
    "    subtracao = c - d\n",
    "    \n",
    "    print(c, ' - ', d, ' = ', subtracao)"
   ]
  },
  {
   "cell_type": "code",
   "execution_count": 64,
   "id": "765a9f88",
   "metadata": {},
   "outputs": [
    {
     "name": "stdout",
     "output_type": "stream",
     "text": [
      "Digite sua opção (1/2/3/4): 3\n",
      "Digite o primeiro número: 10\n",
      "Digite o segundo número: 3\n",
      "10  *  3  =  30\n"
     ]
    }
   ],
   "source": [
    "# 5 - Criando uma função simples de multiplicação e testando se funciona dentro do if\n",
    "\n",
    "message = int(input('Digite sua opção (1/2/3/4): '))\n",
    "\n",
    "if message == 3:\n",
    "    \n",
    "    e = int(input('Digite o primeiro número: '))\n",
    "    f = int(input('Digite o segundo número: '))\n",
    "    \n",
    "    multiplicacao = e * f\n",
    "    \n",
    "    print(e, ' * ', f, ' = ', multiplicacao)"
   ]
  },
  {
   "cell_type": "code",
   "execution_count": null,
   "id": "d715a76d",
   "metadata": {},
   "outputs": [],
   "source": [
    "# 6 - Criando uma função simples de divisão e testando se funciona dentro do if\n",
    "\n",
    "message = int(input('Digite sua opção (1/2/3/4): '))\n",
    "\n",
    "if message == 4:\n",
    "    \n",
    "    g = int(input('Digite o primeiro número: '))\n",
    "    h = int(input('Digite o segundo número: '))\n",
    "    \n",
    "    divisao = g / h\n",
    "    \n",
    "    print(g, ' / ', h, ' = ', divisao)"
   ]
  },
  {
   "cell_type": "code",
   "execution_count": 13,
   "id": "152b224d",
   "metadata": {},
   "outputs": [
    {
     "name": "stdout",
     "output_type": "stream",
     "text": [
      "****************************** Python Calculator ******************************\n",
      "\n",
      "Selecione o número da opção desejada:\n",
      "\n",
      "1 - Soma\n",
      "2 - Subtração\n",
      "3 - Multiplicação\n",
      "4 - Divisão\n",
      "\n",
      "\n",
      "Digite sua opção (1/2/3/4): 4\n",
      "\n",
      "\n",
      "Digite o primeiro número: 10\n",
      "\n",
      "\n",
      "Digite o segundo número: 5\n",
      "\n",
      "\n",
      "10  /  5  =  2.0\n"
     ]
    }
   ],
   "source": [
    "# Unificando os blocos desenvolvidos e testando\n",
    "# Teste finalizado e calculadora sendo executada com sucesso\n",
    "\n",
    "message_sum = '1 - Soma'\n",
    "message_subtraction = '2 - Subtração'\n",
    "message_multiplication = '3 - Multiplicação'\n",
    "message_division = '4 - Divisão'\n",
    "\n",
    "print('****************************** Python Calculator ******************************\\n')\n",
    "\n",
    "print('Selecione o número da opção desejada:\\n')\n",
    "\n",
    "print(message_sum)\n",
    "print(message_subtraction)\n",
    "print(message_multiplication)\n",
    "print(message_division)\n",
    "print('\\n')\n",
    "\n",
    "message = int(input('Digite sua opção (1/2/3/4): '))\n",
    "print('\\n')\n",
    "\n",
    "if message == 1:\n",
    "    \n",
    "    a = int(input('Digite o primeiro número: '))\n",
    "    print('\\n')\n",
    "    b = int(input('Digite o segundo número: '))\n",
    "    print('\\n')\n",
    "    \n",
    "    soma = a + b\n",
    "    \n",
    "    print(a, ' + ', b, ' = ', soma)\n",
    "    \n",
    "elif message == 2:\n",
    "    \n",
    "    c = int(input('Digite o primeiro número: '))\n",
    "    print('\\n')\n",
    "    d = int(input('Digite o segundo número: '))\n",
    "    print('\\n')\n",
    "    \n",
    "    subtracao = c - d\n",
    "    \n",
    "    print(c, ' - ', d, ' = ', subtracao)\n",
    "    \n",
    "elif message == 3:\n",
    "    \n",
    "    e = int(input('Digite o primeiro número: '))\n",
    "    print('\\n')\n",
    "    f = int(input('Digite o segundo número: '))\n",
    "    print('\\n')\n",
    "    \n",
    "    multiplicacao = e * f\n",
    "    \n",
    "    print(e, ' * ', f, ' = ', multiplicacao)\n",
    "    \n",
    "elif message == 4:\n",
    "    \n",
    "    g = int(input('Digite o primeiro número: '))\n",
    "    print('\\n')\n",
    "    h = int(input('Digite o segundo número: '))\n",
    "    print('\\n')\n",
    "    \n",
    "    divisao = g / h\n",
    "    \n",
    "    print(g, ' / ', h, ' = ', divisao)\n",
    "    \n",
    "else:\n",
    "    \n",
    "    print('\\n')\n",
    "    print('Opção inválida!')"
   ]
  }
 ],
 "metadata": {
  "kernelspec": {
   "display_name": "Python 3 (ipykernel)",
   "language": "python",
   "name": "python3"
  },
  "language_info": {
   "codemirror_mode": {
    "name": "ipython",
    "version": 3
   },
   "file_extension": ".py",
   "mimetype": "text/x-python",
   "name": "python",
   "nbconvert_exporter": "python",
   "pygments_lexer": "ipython3",
   "version": "3.9.7"
  }
 },
 "nbformat": 4,
 "nbformat_minor": 5
}
