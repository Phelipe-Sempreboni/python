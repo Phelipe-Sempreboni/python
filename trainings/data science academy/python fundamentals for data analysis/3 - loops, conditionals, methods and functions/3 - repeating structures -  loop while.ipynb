{
 "cells": [
  {
   "cell_type": "markdown",
   "id": "eccd7095",
   "metadata": {},
   "source": [
    "# Data Science Academy - Python Fundamentos - Capítulo 3\n",
    "\n",
    "## Donwload: http://github.com/dsacademybr"
   ]
  },
  {
   "cell_type": "markdown",
   "id": "cb05d134",
   "metadata": {},
   "source": [
    "### While"
   ]
  },
  {
   "cell_type": "code",
   "execution_count": 3,
   "id": "554bb368",
   "metadata": {},
   "outputs": [
    {
     "name": "stdout",
     "output_type": "stream",
     "text": [
      "0\n",
      "1\n",
      "2\n",
      "3\n",
      "4\n",
      "5\n",
      "6\n",
      "7\n",
      "8\n",
      "9\n"
     ]
    }
   ],
   "source": [
    "# Usando o loop while para imprimir os valores de 0 à 9\n",
    "# Notar que variável (contador) se inicia em 0\n",
    "# Notar que o primeiro método de soma comentado é o mais ágil\n",
    "# Notar que o segundo método de soma é o convencional\n",
    "\n",
    "contador = 0\n",
    "\n",
    "while contador < 10:\n",
    "    print(contador)\n",
    "    #contador += +1\n",
    "    contador = contador +1"
   ]
  },
  {
   "cell_type": "code",
   "execution_count": 5,
   "id": "519daa3c",
   "metadata": {},
   "outputs": [
    {
     "name": "stdout",
     "output_type": "stream",
     "text": [
      "0\n",
      "1\n",
      "2\n",
      "3\n",
      "4\n",
      "5\n",
      "6\n",
      "7\n",
      "8\n",
      "9\n",
      "10\n"
     ]
    }
   ],
   "source": [
    "# Usando o loop while para imprimir os valores de 0 à 9\n",
    "# Notar que variável (contador) se inicia em 0\n",
    "# Notar que o primeiro método de soma comentado é o mais ágil\n",
    "# Notar que o segundo método de soma é o convencional\n",
    "# Notar que neste caso colocamos o operador lógico (<=) que faz com que o valor (10) entre na impressão\n",
    "\n",
    "contador = 0\n",
    "\n",
    "while contador <= 10:\n",
    "    print(contador)\n",
    "    #contador += +1\n",
    "    contador = contador +1"
   ]
  },
  {
   "cell_type": "code",
   "execution_count": 10,
   "id": "6777c7f9",
   "metadata": {},
   "outputs": [
    {
     "name": "stdout",
     "output_type": "stream",
     "text": [
      "O valor do contador nesta interação é: 0\n",
      " Contador ainda é menor que 10, somando 1 à contador\n",
      "O valor do contador nesta interação é: 1\n",
      " Contador ainda é menor que 10, somando 1 à contador\n",
      "O valor do contador nesta interação é: 2\n",
      " Contador ainda é menor que 10, somando 1 à contador\n",
      "O valor do contador nesta interação é: 3\n",
      " Contador ainda é menor que 10, somando 1 à contador\n",
      "O valor do contador nesta interação é: 4\n",
      " Contador ainda é menor que 10, somando 1 à contador\n",
      "O valor do contador nesta interação é: 5\n",
      " Contador ainda é menor que 10, somando 1 à contador\n",
      "O valor do contador nesta interação é: 6\n",
      " Contador ainda é menor que 10, somando 1 à contador\n",
      "O valor do contador nesta interação é: 7\n",
      " Contador ainda é menor que 10, somando 1 à contador\n",
      "O valor do contador nesta interação é: 8\n",
      " Contador ainda é menor que 10, somando 1 à contador\n",
      "O valor do contador nesta interação é: 9\n",
      " Contador ainda é menor que 10, somando 1 à contador\n",
      "Loop concluído! O contador é igual a:  10\n"
     ]
    }
   ],
   "source": [
    "# Também é possível usar a cláusula (else) para encerrar o loop while\n",
    "\n",
    "contador = 0\n",
    "\n",
    "while contador < 10:\n",
    "    print('O valor do contador nesta interação é:', contador)\n",
    "    print(' Contador ainda é menor que 10, somando 1 à contador')\n",
    "    contador += 1\n",
    "    #contador = contador +1\n",
    "    \n",
    "else:\n",
    "    print('Loop concluído!', 'O contador é igual a: ', contador)"
   ]
  },
  {
   "cell_type": "markdown",
   "id": "46daef2e",
   "metadata": {},
   "source": [
    "## Fim"
   ]
  },
  {
   "cell_type": "markdown",
   "id": "28549c38",
   "metadata": {},
   "source": [
    "### Obrigado - Data Science Academy - facebook.com/dsacademybr"
   ]
  }
 ],
 "metadata": {
  "kernelspec": {
   "display_name": "Python 3 (ipykernel)",
   "language": "python",
   "name": "python3"
  },
  "language_info": {
   "codemirror_mode": {
    "name": "ipython",
    "version": 3
   },
   "file_extension": ".py",
   "mimetype": "text/x-python",
   "name": "python",
   "nbconvert_exporter": "python",
   "pygments_lexer": "ipython3",
   "version": "3.9.7"
  }
 },
 "nbformat": 4,
 "nbformat_minor": 5
}
