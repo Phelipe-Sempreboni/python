{
 "cells": [
  {
   "cell_type": "markdown",
   "id": "ff2ae9f3",
   "metadata": {},
   "source": [
    "# <font color='blue'>Data Science Academy - Python Fundamentos - Capítulo 4</font>\n",
    "\n",
    "## Download: http://github.com/dsacademybr"
   ]
  },
  {
   "cell_type": "markdown",
   "id": "aee1e99f",
   "metadata": {},
   "source": [
    "### Função Zip"
   ]
  },
  {
   "cell_type": "code",
   "execution_count": 4,
   "id": "5b623662",
   "metadata": {},
   "outputs": [],
   "source": [
    "# Aqui iremos criar duas listas para teste.\n",
    "\n",
    "x = [1, 2, 3]\n",
    "y = [4, 5, 6]"
   ]
  },
  {
   "cell_type": "code",
   "execution_count": 5,
   "id": "86a21e66",
   "metadata": {},
   "outputs": [
    {
     "data": {
      "text/plain": [
       "<zip at 0x275c873ed80>"
      ]
     },
     "execution_count": 5,
     "metadata": {},
     "output_type": "execute_result"
    }
   ],
   "source": [
    "# Aqui iremos unir as listas com a função zip.\n",
    "# Notar que em Python 3 irá retornar um iterator, onde teremos que inserir em uma lista para visualizar o resultado\n",
    "\n",
    "zip(x, y)"
   ]
  },
  {
   "cell_type": "code",
   "execution_count": 7,
   "id": "b2ce1e21",
   "metadata": {},
   "outputs": [
    {
     "data": {
      "text/plain": [
       "[(1, 4), (2, 5), (3, 6)]"
      ]
     },
     "execution_count": 7,
     "metadata": {},
     "output_type": "execute_result"
    }
   ],
   "source": [
    "# Inserindo a função zip em uma lista.\n",
    "# Notar que agora conseguimos visualizar o resultado.\n",
    "# Vale notar que a função zip unifica as listas e sempre a lista de menor valor. Teremos exemplos abaixo.\n",
    "# Notar que foi unificado o \"1 e 4\", \"2 e 5\", \"3,6\", logo houve unificação em paralelo.\n",
    "\n",
    "list(zip(x, y))"
   ]
  },
  {
   "cell_type": "code",
   "execution_count": 11,
   "id": "fe73bf13",
   "metadata": {},
   "outputs": [],
   "source": [
    "# Criando duas novas listas para teste.\n",
    "\n",
    "a = ['A','B', 'C', 'D']\n",
    "b = ['X', 'Y']"
   ]
  },
  {
   "cell_type": "code",
   "execution_count": 12,
   "id": "b8db1234",
   "metadata": {},
   "outputs": [
    {
     "data": {
      "text/plain": [
       "<zip at 0x275ca241400>"
      ]
     },
     "execution_count": 12,
     "metadata": {},
     "output_type": "execute_result"
    }
   ],
   "source": [
    "# Aqui iremos unir as listas com a função zip.\n",
    "# Notar que em Python 3 irá retornar um iterator, onde teremos que inserir em uma lista para visualizar o resultado.\n",
    "\n",
    "zip(a, b)"
   ]
  },
  {
   "cell_type": "code",
   "execution_count": 13,
   "id": "0770f9a3",
   "metadata": {},
   "outputs": [
    {
     "data": {
      "text/plain": [
       "[('A', 'X'), ('B', 'Y')]"
      ]
     },
     "execution_count": 13,
     "metadata": {},
     "output_type": "execute_result"
    }
   ],
   "source": [
    "# Inserindo a função zip em uma lista.\n",
    "# Notar que agora conseguimos visualizar o resultado.\n",
    "# Vale notar que a função zip unifica as listas e sempre a lista de menor valor.\n",
    "# Aqui notar que a unificação só foi até a unificação \"B e Y\", pois é a lista de menor valor.\n",
    "\n",
    "list(zip(a, b))"
   ]
  },
  {
   "cell_type": "code",
   "execution_count": 15,
   "id": "ad83b104",
   "metadata": {},
   "outputs": [
    {
     "data": {
      "text/plain": [
       "[('A', 'X'), ('B', 'Y')]"
      ]
     },
     "execution_count": 15,
     "metadata": {},
     "output_type": "execute_result"
    }
   ],
   "source": [
    "# Também podemos criar a mesma lista acima da maneira abaixo.\n",
    "# Aqui teremos que ter um pouco mais de conhecimento e prática para criar diretamente.\n",
    "\n",
    "list(zip('ABCD', 'XY'))"
   ]
  },
  {
   "cell_type": "code",
   "execution_count": 16,
   "id": "a51c274f",
   "metadata": {},
   "outputs": [],
   "source": [
    "# Criando duas novas listas para teste.\n",
    "\n",
    "c = [1, 2, 3]\n",
    "d = [4, 5, 6, 7, 8]"
   ]
  },
  {
   "cell_type": "code",
   "execution_count": 17,
   "id": "f1d91ff1",
   "metadata": {},
   "outputs": [
    {
     "data": {
      "text/plain": [
       "<zip at 0x275ca241480>"
      ]
     },
     "execution_count": 17,
     "metadata": {},
     "output_type": "execute_result"
    }
   ],
   "source": [
    "# Aqui iremos unir as listas com a função zip.\n",
    "# Notar que em Python 3 irá retornar um iterator, onde teremos que inserir em uma lista para visualizar o resultado.\n",
    "\n",
    "zip(c, d)"
   ]
  },
  {
   "cell_type": "code",
   "execution_count": 19,
   "id": "faa1c80e",
   "metadata": {},
   "outputs": [
    {
     "data": {
      "text/plain": [
       "[(1, 4), (2, 5), (3, 6)]"
      ]
     },
     "execution_count": 19,
     "metadata": {},
     "output_type": "execute_result"
    }
   ],
   "source": [
    "# Inserindo a função zip em uma lista.\n",
    "# Notar que agora conseguimos visualizar o resultado.\n",
    "# Vale notar que a função zip unifica as listas e sempre a lista de menor valor.\n",
    "# Aqui notar que a unificação só foi até a unificação \"3 e 6\", pois é a lista de menor valor.\n",
    "\n",
    "list(zip(c, d))"
   ]
  },
  {
   "cell_type": "code",
   "execution_count": 20,
   "id": "2c42c415",
   "metadata": {},
   "outputs": [],
   "source": [
    "# Criando duas novas listas para teste.\n",
    "# Notar que dessa vez estamos criando dicionários.\n",
    "\n",
    "d1 = {'a': 1, 'b': 2}\n",
    "d2 = {'c': 4, 'd': 5}"
   ]
  },
  {
   "cell_type": "code",
   "execution_count": 21,
   "id": "cec77dfe",
   "metadata": {},
   "outputs": [
    {
     "data": {
      "text/plain": [
       "<zip at 0x275ca21df80>"
      ]
     },
     "execution_count": 21,
     "metadata": {},
     "output_type": "execute_result"
    }
   ],
   "source": [
    "# Aqui iremos unir as listas com a função zip.\n",
    "# Notar que em Python 3 irá retornar um iterator, onde teremos que inserir em uma lista para visualizar o resultado.\n",
    "\n",
    "zip(d1, d2)"
   ]
  },
  {
   "cell_type": "code",
   "execution_count": 24,
   "id": "cc479f00",
   "metadata": {},
   "outputs": [
    {
     "data": {
      "text/plain": [
       "[('a', 'c'), ('b', 'd')]"
      ]
     },
     "execution_count": 24,
     "metadata": {},
     "output_type": "execute_result"
    }
   ],
   "source": [
    "# Inserindo a função zip em uma lista.\n",
    "# Notar que agora conseguimos visualizar o resultado.\n",
    "# Notar que no caso do dicionário, retorna somente a chave e não retorna o valor.\n",
    "# Lembrando que um dicionário é formado de \"chave e valor\".\n",
    "# Como podemos ver os valores ? Veremos abaixo.\n",
    "\n",
    "list(zip(d1, d2))"
   ]
  },
  {
   "cell_type": "code",
   "execution_count": null,
   "id": "ed027f06",
   "metadata": {},
   "outputs": [],
   "source": []
  },
  {
   "cell_type": "code",
   "execution_count": null,
   "id": "e18c504b",
   "metadata": {},
   "outputs": [],
   "source": []
  },
  {
   "cell_type": "code",
   "execution_count": null,
   "id": "78443171",
   "metadata": {},
   "outputs": [],
   "source": []
  },
  {
   "cell_type": "code",
   "execution_count": null,
   "id": "ddb0b9e9",
   "metadata": {},
   "outputs": [],
   "source": []
  },
  {
   "cell_type": "code",
   "execution_count": null,
   "id": "9152cf2a",
   "metadata": {},
   "outputs": [],
   "source": []
  },
  {
   "cell_type": "code",
   "execution_count": null,
   "id": "2509a392",
   "metadata": {},
   "outputs": [],
   "source": []
  },
  {
   "cell_type": "code",
   "execution_count": null,
   "id": "b9d952fe",
   "metadata": {},
   "outputs": [],
   "source": []
  },
  {
   "cell_type": "markdown",
   "id": "37b3cf99",
   "metadata": {},
   "source": [
    "# Fim"
   ]
  },
  {
   "cell_type": "markdown",
   "id": "1b2dd37b",
   "metadata": {},
   "source": [
    "### Obrigado\n",
    "\n",
    "### Visite o Blog da Data Science Academy - <a href=\"http://blog.dsacademy.com.br\">Blog DSA</a>"
   ]
  }
 ],
 "metadata": {
  "kernelspec": {
   "display_name": "Python 3 (ipykernel)",
   "language": "python",
   "name": "python3"
  },
  "language_info": {
   "codemirror_mode": {
    "name": "ipython",
    "version": 3
   },
   "file_extension": ".py",
   "mimetype": "text/x-python",
   "name": "python",
   "nbconvert_exporter": "python",
   "pygments_lexer": "ipython3",
   "version": "3.9.12"
  }
 },
 "nbformat": 4,
 "nbformat_minor": 5
}
