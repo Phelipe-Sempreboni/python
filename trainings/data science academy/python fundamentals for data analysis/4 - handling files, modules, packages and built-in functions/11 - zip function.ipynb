{
 "cells": [
  {
   "cell_type": "markdown",
   "id": "54bdc5ee",
   "metadata": {},
   "source": [
    "# <font color='blue'>Data Science Academy - Python Fundamentos - Capítulo 4</font>\n",
    "\n",
    "## Download: http://github.com/dsacademybr"
   ]
  },
  {
   "cell_type": "markdown",
   "id": "08f928b5",
   "metadata": {},
   "source": [
    "### Função Zip"
   ]
  },
  {
   "cell_type": "code",
   "execution_count": 4,
   "id": "782d986e",
   "metadata": {},
   "outputs": [],
   "source": [
    "# Aqui iremos criar duas listas para teste.\n",
    "\n",
    "x = [1, 2, 3]\n",
    "y = [4, 5, 6]"
   ]
  },
  {
   "cell_type": "code",
   "execution_count": 5,
   "id": "6d1f6723",
   "metadata": {},
   "outputs": [
    {
     "data": {
      "text/plain": [
       "<zip at 0x275c873ed80>"
      ]
     },
     "execution_count": 5,
     "metadata": {},
     "output_type": "execute_result"
    }
   ],
   "source": [
    "# Aqui iremos unir as listas com a função zip.\n",
    "# Notar que em Python 3 irá retornar um iterator, onde teremos que inserir em uma lista para visualizar o resultado\n",
    "\n",
    "zip(x, y)"
   ]
  },
  {
   "cell_type": "code",
   "execution_count": 7,
   "id": "62f5408e",
   "metadata": {},
   "outputs": [
    {
     "data": {
      "text/plain": [
       "[(1, 4), (2, 5), (3, 6)]"
      ]
     },
     "execution_count": 7,
     "metadata": {},
     "output_type": "execute_result"
    }
   ],
   "source": [
    "# Inserindo a função zip em uma lista.\n",
    "# Notar que agora conseguimos visualizar o resultado.\n",
    "# Vale notar que a função zip unifica as listas e sempre a lista de menor valor. Teremos exemplos abaixo.\n",
    "# Notar que foi unificado o \"1 e 4\", \"2 e 5\", \"3,6\", logo houve unificação em paralelo.\n",
    "\n",
    "list(zip(x, y))"
   ]
  },
  {
   "cell_type": "code",
   "execution_count": 11,
   "id": "0005cdf1",
   "metadata": {},
   "outputs": [],
   "source": [
    "# Criando duas novas listas para teste.\n",
    "\n",
    "a = ['A','B', 'C', 'D']\n",
    "b = ['X', 'Y']"
   ]
  },
  {
   "cell_type": "code",
   "execution_count": 12,
   "id": "55d705b1",
   "metadata": {},
   "outputs": [
    {
     "data": {
      "text/plain": [
       "<zip at 0x275ca241400>"
      ]
     },
     "execution_count": 12,
     "metadata": {},
     "output_type": "execute_result"
    }
   ],
   "source": [
    "# Aqui iremos unir as listas com a função zip.\n",
    "# Notar que em Python 3 irá retornar um iterator, onde teremos que inserir em uma lista para visualizar o resultado.\n",
    "\n",
    "zip(a, b)"
   ]
  },
  {
   "cell_type": "code",
   "execution_count": 13,
   "id": "d575be46",
   "metadata": {},
   "outputs": [
    {
     "data": {
      "text/plain": [
       "[('A', 'X'), ('B', 'Y')]"
      ]
     },
     "execution_count": 13,
     "metadata": {},
     "output_type": "execute_result"
    }
   ],
   "source": [
    "# Inserindo a função zip em uma lista.\n",
    "# Notar que agora conseguimos visualizar o resultado.\n",
    "# Vale notar que a função zip unifica as listas e sempre a lista de menor valor.\n",
    "# Aqui notar que a unificação só foi até a unificação \"B e Y\", pois é a lista de menor valor.\n",
    "\n",
    "list(zip(a, b))"
   ]
  },
  {
   "cell_type": "code",
   "execution_count": 15,
   "id": "222b8f09",
   "metadata": {},
   "outputs": [
    {
     "data": {
      "text/plain": [
       "[('A', 'X'), ('B', 'Y')]"
      ]
     },
     "execution_count": 15,
     "metadata": {},
     "output_type": "execute_result"
    }
   ],
   "source": [
    "# Também podemos criar a mesma lista acima da maneira abaixo.\n",
    "# Aqui teremos que ter um pouco mais de conhecimento e prática para criar diretamente.\n",
    "\n",
    "list(zip('ABCD', 'XY'))"
   ]
  },
  {
   "cell_type": "code",
   "execution_count": 16,
   "id": "255721b3",
   "metadata": {},
   "outputs": [],
   "source": [
    "# Criando duas novas listas para teste.\n",
    "\n",
    "c = [1, 2, 3]\n",
    "d = [4, 5, 6, 7, 8]"
   ]
  },
  {
   "cell_type": "code",
   "execution_count": 17,
   "id": "6865a536",
   "metadata": {},
   "outputs": [
    {
     "data": {
      "text/plain": [
       "<zip at 0x275ca241480>"
      ]
     },
     "execution_count": 17,
     "metadata": {},
     "output_type": "execute_result"
    }
   ],
   "source": [
    "# Aqui iremos unir as listas com a função zip.\n",
    "# Notar que em Python 3 irá retornar um iterator, onde teremos que inserir em uma lista para visualizar o resultado.\n",
    "\n",
    "zip(c, d)"
   ]
  },
  {
   "cell_type": "code",
   "execution_count": 19,
   "id": "dd478a8a",
   "metadata": {},
   "outputs": [
    {
     "data": {
      "text/plain": [
       "[(1, 4), (2, 5), (3, 6)]"
      ]
     },
     "execution_count": 19,
     "metadata": {},
     "output_type": "execute_result"
    }
   ],
   "source": [
    "# Inserindo a função zip em uma lista.\n",
    "# Notar que agora conseguimos visualizar o resultado.\n",
    "# Vale notar que a função zip unifica as listas e sempre a lista de menor valor.\n",
    "# Aqui notar que a unificação só foi até a unificação \"3 e 6\", pois é a lista de menor valor.\n",
    "\n",
    "list(zip(c, d))"
   ]
  },
  {
   "cell_type": "code",
   "execution_count": null,
   "id": "46c295e0",
   "metadata": {},
   "outputs": [],
   "source": []
  },
  {
   "cell_type": "code",
   "execution_count": null,
   "id": "610ede0e",
   "metadata": {},
   "outputs": [],
   "source": []
  },
  {
   "cell_type": "code",
   "execution_count": null,
   "id": "27641b49",
   "metadata": {},
   "outputs": [],
   "source": []
  },
  {
   "cell_type": "code",
   "execution_count": null,
   "id": "96421341",
   "metadata": {},
   "outputs": [],
   "source": []
  },
  {
   "cell_type": "markdown",
   "id": "5d9f759a",
   "metadata": {},
   "source": [
    "# Fim"
   ]
  },
  {
   "cell_type": "markdown",
   "id": "4721eeef",
   "metadata": {},
   "source": [
    "### Obrigado\n",
    "\n",
    "### Visite o Blog da Data Science Academy - <a href=\"http://blog.dsacademy.com.br\">Blog DSA</a>"
   ]
  }
 ],
 "metadata": {
  "kernelspec": {
   "display_name": "Python 3 (ipykernel)",
   "language": "python",
   "name": "python3"
  },
  "language_info": {
   "codemirror_mode": {
    "name": "ipython",
    "version": 3
   },
   "file_extension": ".py",
   "mimetype": "text/x-python",
   "name": "python",
   "nbconvert_exporter": "python",
   "pygments_lexer": "ipython3",
   "version": "3.9.12"
  }
 },
 "nbformat": 4,
 "nbformat_minor": 5
}
