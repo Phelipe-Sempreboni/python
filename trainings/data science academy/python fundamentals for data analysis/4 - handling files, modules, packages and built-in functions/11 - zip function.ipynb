{
 "cells": [
  {
   "cell_type": "markdown",
   "id": "c83ad6b9",
   "metadata": {},
   "source": [
    "# <font color='blue'>Data Science Academy - Python Fundamentos - Capítulo 4</font>\n",
    "\n",
    "## Download: http://github.com/dsacademybr"
   ]
  },
  {
   "cell_type": "markdown",
   "id": "380fc89a",
   "metadata": {},
   "source": [
    "### Função Zip"
   ]
  },
  {
   "cell_type": "code",
   "execution_count": 4,
   "id": "5411491e",
   "metadata": {},
   "outputs": [],
   "source": [
    "# Aqui iremos criar duas listas para teste.\n",
    "\n",
    "x = [1, 2, 3]\n",
    "y = [4, 5, 6]"
   ]
  },
  {
   "cell_type": "code",
   "execution_count": 5,
   "id": "c5ad535c",
   "metadata": {},
   "outputs": [
    {
     "data": {
      "text/plain": [
       "<zip at 0x275c873ed80>"
      ]
     },
     "execution_count": 5,
     "metadata": {},
     "output_type": "execute_result"
    }
   ],
   "source": [
    "# Aqui iremos unir as listas com a função zip.\n",
    "# Notar que em Python 3 irá retornar um iterator, onde teremos que inserir em uma lista para visualizar o resultado\n",
    "\n",
    "zip(x, y)"
   ]
  },
  {
   "cell_type": "code",
   "execution_count": 7,
   "id": "4aa27889",
   "metadata": {},
   "outputs": [
    {
     "data": {
      "text/plain": [
       "[(1, 4), (2, 5), (3, 6)]"
      ]
     },
     "execution_count": 7,
     "metadata": {},
     "output_type": "execute_result"
    }
   ],
   "source": [
    "# Inserindo a função zip em uma lista.\n",
    "# Notar que agora conseguimos visualizar o resultado.\n",
    "# Vale notar que a função zip unifica as listas e sempre a lista de menor valor. Teremos exemplos abaixo.\n",
    "# Notar que foi unificado o \"1 e 4\", \"2 e 5\", \"3,6\", logo houve unificação em paralelo.\n",
    "\n",
    "list(zip(x, y))"
   ]
  },
  {
   "cell_type": "code",
   "execution_count": 11,
   "id": "734f4e00",
   "metadata": {},
   "outputs": [],
   "source": [
    "# Criando duas novas listas para teste.\n",
    "\n",
    "a = ['A','B', 'C', 'D']\n",
    "b = ['X', 'Y']"
   ]
  },
  {
   "cell_type": "code",
   "execution_count": 12,
   "id": "0fed2fd3",
   "metadata": {},
   "outputs": [
    {
     "data": {
      "text/plain": [
       "<zip at 0x275ca241400>"
      ]
     },
     "execution_count": 12,
     "metadata": {},
     "output_type": "execute_result"
    }
   ],
   "source": [
    "# Aqui iremos unir as listas com a função zip.\n",
    "# Notar que em Python 3 irá retornar um iterator, onde teremos que inserir em uma lista para visualizar o resultado.\n",
    "\n",
    "zip(a, b)"
   ]
  },
  {
   "cell_type": "code",
   "execution_count": 13,
   "id": "c6b7c3dd",
   "metadata": {},
   "outputs": [
    {
     "data": {
      "text/plain": [
       "[('A', 'X'), ('B', 'Y')]"
      ]
     },
     "execution_count": 13,
     "metadata": {},
     "output_type": "execute_result"
    }
   ],
   "source": [
    "# Inserindo a função zip em uma lista.\n",
    "# Notar que agora conseguimos visualizar o resultado.\n",
    "# Vale notar que a função zip unifica as listas e sempre a lista de menor valor.\n",
    "# Aqui notar que a unificação só foi até a unificação \"B e Y\", pois é a lista de menor valor.\n",
    "\n",
    "list(zip(a, b))"
   ]
  },
  {
   "cell_type": "code",
   "execution_count": 15,
   "id": "84b217b2",
   "metadata": {},
   "outputs": [
    {
     "data": {
      "text/plain": [
       "[('A', 'X'), ('B', 'Y')]"
      ]
     },
     "execution_count": 15,
     "metadata": {},
     "output_type": "execute_result"
    }
   ],
   "source": [
    "# Também podemos criar a mesma lista acima da maneira abaixo.\n",
    "# Aqui teremos que ter um pouco mais de conhecimento e prática para criar diretamente.\n",
    "\n",
    "list(zip('ABCD', 'XY'))"
   ]
  },
  {
   "cell_type": "code",
   "execution_count": 16,
   "id": "2deabbc4",
   "metadata": {},
   "outputs": [],
   "source": [
    "# Criando duas novas listas para teste.\n",
    "\n",
    "c = [1, 2, 3]\n",
    "d = [4, 5, 6, 7, 8]"
   ]
  },
  {
   "cell_type": "code",
   "execution_count": 17,
   "id": "866de581",
   "metadata": {},
   "outputs": [
    {
     "data": {
      "text/plain": [
       "<zip at 0x275ca241480>"
      ]
     },
     "execution_count": 17,
     "metadata": {},
     "output_type": "execute_result"
    }
   ],
   "source": [
    "# Aqui iremos unir as listas com a função zip.\n",
    "# Notar que em Python 3 irá retornar um iterator, onde teremos que inserir em uma lista para visualizar o resultado.\n",
    "\n",
    "zip(c, d)"
   ]
  },
  {
   "cell_type": "code",
   "execution_count": 19,
   "id": "9dfb7449",
   "metadata": {},
   "outputs": [
    {
     "data": {
      "text/plain": [
       "[(1, 4), (2, 5), (3, 6)]"
      ]
     },
     "execution_count": 19,
     "metadata": {},
     "output_type": "execute_result"
    }
   ],
   "source": [
    "# Inserindo a função zip em uma lista.\n",
    "# Notar que agora conseguimos visualizar o resultado.\n",
    "# Vale notar que a função zip unifica as listas e sempre a lista de menor valor.\n",
    "# Aqui notar que a unificação só foi até a unificação \"3 e 6\", pois é a lista de menor valor.\n",
    "\n",
    "list(zip(c, d))"
   ]
  },
  {
   "cell_type": "code",
   "execution_count": 20,
   "id": "3d8df731",
   "metadata": {},
   "outputs": [],
   "source": [
    "# Criando duas novas listas para teste.\n",
    "# Notar que dessa vez estamos criando dicionários.\n",
    "\n",
    "d1 = {'a': 1, 'b': 2}\n",
    "d2 = {'c': 4, 'd': 5}"
   ]
  },
  {
   "cell_type": "code",
   "execution_count": 21,
   "id": "e99bcc30",
   "metadata": {},
   "outputs": [
    {
     "data": {
      "text/plain": [
       "<zip at 0x275ca21df80>"
      ]
     },
     "execution_count": 21,
     "metadata": {},
     "output_type": "execute_result"
    }
   ],
   "source": [
    "# Aqui iremos unir as listas com a função zip.\n",
    "# Notar que em Python 3 irá retornar um iterator, onde teremos que inserir em uma lista para visualizar o resultado.\n",
    "\n",
    "zip(d1, d2)"
   ]
  },
  {
   "cell_type": "code",
   "execution_count": 24,
   "id": "0e45a778",
   "metadata": {},
   "outputs": [
    {
     "data": {
      "text/plain": [
       "[('a', 'c'), ('b', 'd')]"
      ]
     },
     "execution_count": 24,
     "metadata": {},
     "output_type": "execute_result"
    }
   ],
   "source": [
    "# Inserindo a função zip em uma lista.\n",
    "# Notar que agora conseguimos visualizar o resultado.\n",
    "# Notar que no caso do dicionário, retorna somente a chave e não retorna o valor.\n",
    "# Lembrando que um dicionário é formado de \"chave e valor\".\n",
    "# Como podemos ver os valores ? Veremos abaixo.\n",
    "\n",
    "list(zip(d1, d2))"
   ]
  },
  {
   "cell_type": "code",
   "execution_count": 25,
   "id": "8d0af0d5",
   "metadata": {},
   "outputs": [
    {
     "data": {
      "text/plain": [
       "[('a', 4), ('b', 5)]"
      ]
     },
     "execution_count": 25,
     "metadata": {},
     "output_type": "execute_result"
    }
   ],
   "source": [
    "# Notar que inserimos o métodos \"values\" no dicionário da variável \"d2\", logo conseguimos enxergar o valor.\n",
    "\n",
    "list(zip(d1, d2.values()))"
   ]
  },
  {
   "cell_type": "code",
   "execution_count": 30,
   "id": "7ce0a2cf",
   "metadata": {},
   "outputs": [
    {
     "data": {
      "text/plain": [
       "[(1, 'c'), (2, 'd')]"
      ]
     },
     "execution_count": 30,
     "metadata": {},
     "output_type": "execute_result"
    }
   ],
   "source": [
    "# Notar que inserimos o métodos \"values\" no dicionário da variável \"d1\", logo conseguimos enxergar o valor.\n",
    "\n",
    "list(zip(d1.values(), d2))"
   ]
  },
  {
   "cell_type": "code",
   "execution_count": 31,
   "id": "76ad8e9d",
   "metadata": {},
   "outputs": [
    {
     "data": {
      "text/plain": [
       "[(1, 4), (2, 5)]"
      ]
     },
     "execution_count": 31,
     "metadata": {},
     "output_type": "execute_result"
    }
   ],
   "source": [
    "# Notar que inserimos o métodos \"values\" no dicionário da variável \"d1\" e da \"d2\", logo conseguimos enxergar o valor.\n",
    "\n",
    "list(zip(d1.values(), d2.values()))"
   ]
  },
  {
   "cell_type": "code",
   "execution_count": null,
   "id": "9c83002a",
   "metadata": {},
   "outputs": [],
   "source": []
  },
  {
   "cell_type": "code",
   "execution_count": null,
   "id": "de51b22c",
   "metadata": {},
   "outputs": [],
   "source": []
  },
  {
   "cell_type": "code",
   "execution_count": null,
   "id": "14c8d700",
   "metadata": {},
   "outputs": [],
   "source": []
  },
  {
   "cell_type": "code",
   "execution_count": null,
   "id": "ad18ae57",
   "metadata": {},
   "outputs": [],
   "source": []
  },
  {
   "cell_type": "markdown",
   "id": "47ca4d1b",
   "metadata": {},
   "source": [
    "# Fim"
   ]
  },
  {
   "cell_type": "markdown",
   "id": "a3880ef4",
   "metadata": {},
   "source": [
    "### Obrigado\n",
    "\n",
    "### Visite o Blog da Data Science Academy - <a href=\"http://blog.dsacademy.com.br\">Blog DSA</a>"
   ]
  }
 ],
 "metadata": {
  "kernelspec": {
   "display_name": "Python 3 (ipykernel)",
   "language": "python",
   "name": "python3"
  },
  "language_info": {
   "codemirror_mode": {
    "name": "ipython",
    "version": 3
   },
   "file_extension": ".py",
   "mimetype": "text/x-python",
   "name": "python",
   "nbconvert_exporter": "python",
   "pygments_lexer": "ipython3",
   "version": "3.9.12"
  }
 },
 "nbformat": 4,
 "nbformat_minor": 5
}
