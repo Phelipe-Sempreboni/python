{
 "cells": [
  {
   "cell_type": "markdown",
   "id": "478ba019",
   "metadata": {},
   "source": [
    "# <font color='blue'>Data Science Academy - Python Fundamentos - Capítulo 4</font>\n",
    "\n",
    "## Download: http://github.com/dsacademybr"
   ]
  },
  {
   "cell_type": "markdown",
   "id": "00e1f8b2",
   "metadata": {},
   "source": [
    "### Função Zip"
   ]
  },
  {
   "cell_type": "code",
   "execution_count": 4,
   "id": "96778113",
   "metadata": {},
   "outputs": [],
   "source": [
    "# Aqui iremos criar duas listas para teste.\n",
    "\n",
    "x = [1, 2, 3]\n",
    "y = [4, 5, 6]"
   ]
  },
  {
   "cell_type": "code",
   "execution_count": 5,
   "id": "cb793120",
   "metadata": {},
   "outputs": [
    {
     "data": {
      "text/plain": [
       "<zip at 0x275c873ed80>"
      ]
     },
     "execution_count": 5,
     "metadata": {},
     "output_type": "execute_result"
    }
   ],
   "source": [
    "# Aqui iremos unir as listas com a função zip.\n",
    "# Notar que em Python 3 irá retornar um iterator, onde teremos que inserir em uma lista para visualizar o resultado\n",
    "\n",
    "zip(x, y)"
   ]
  },
  {
   "cell_type": "code",
   "execution_count": 7,
   "id": "3cf26a87",
   "metadata": {},
   "outputs": [
    {
     "data": {
      "text/plain": [
       "[(1, 4), (2, 5), (3, 6)]"
      ]
     },
     "execution_count": 7,
     "metadata": {},
     "output_type": "execute_result"
    }
   ],
   "source": [
    "# Inserindo a função zip em uma lista.\n",
    "# Notar que agora conseguimos visualizar o resultado.\n",
    "# Vale notar que a função zip unifica as listas e sempre a lista de menor valor. Teremos exemplos abaixo.\n",
    "# Notar que foi unificado o \"1 e 4\", \"2 e 5\", \"3,6\", logo houve unificação em paralelo.\n",
    "\n",
    "list(zip(x, y))"
   ]
  },
  {
   "cell_type": "code",
   "execution_count": 11,
   "id": "002c29d9",
   "metadata": {},
   "outputs": [],
   "source": [
    "# Criando duas novas listas para teste.\n",
    "\n",
    "a = ['A','B', 'C', 'D']\n",
    "b = ['X', 'Y']"
   ]
  },
  {
   "cell_type": "code",
   "execution_count": 12,
   "id": "1ef5f43d",
   "metadata": {},
   "outputs": [
    {
     "data": {
      "text/plain": [
       "<zip at 0x275ca241400>"
      ]
     },
     "execution_count": 12,
     "metadata": {},
     "output_type": "execute_result"
    }
   ],
   "source": [
    "# Aqui iremos unir as listas com a função zip.\n",
    "# Notar que em Python 3 irá retornar um iterator, onde teremos que inserir em uma lista para visualizar o resultado\n",
    "\n",
    "zip(a, b)"
   ]
  },
  {
   "cell_type": "code",
   "execution_count": 13,
   "id": "c05f7201",
   "metadata": {},
   "outputs": [
    {
     "data": {
      "text/plain": [
       "[('A', 'X'), ('B', 'Y')]"
      ]
     },
     "execution_count": 13,
     "metadata": {},
     "output_type": "execute_result"
    }
   ],
   "source": [
    "# Inserindo a função zip em uma lista.\n",
    "# Notar que agora conseguimos visualizar o resultado.\n",
    "# Vale notar que a função zip unifica as listas e sempre a lista de menor valor.\n",
    "# Aqui notar que a unificação só foi até a unificação \"B e Y\", pois é a lista de menor valor.\n",
    "\n",
    "list(zip(a, b))"
   ]
  },
  {
   "cell_type": "code",
   "execution_count": 15,
   "id": "124aed31",
   "metadata": {},
   "outputs": [
    {
     "data": {
      "text/plain": [
       "[('A', 'X'), ('B', 'Y')]"
      ]
     },
     "execution_count": 15,
     "metadata": {},
     "output_type": "execute_result"
    }
   ],
   "source": [
    "# Também podemos criar a mesma lista acima da maneira abaixo.\n",
    "# Aqui teremos que ter um pouco mais de conhecimento e prática para criar diretamente.\n",
    "\n",
    "list(zip('ABCD', 'XY'))"
   ]
  },
  {
   "cell_type": "code",
   "execution_count": null,
   "id": "31525200",
   "metadata": {},
   "outputs": [],
   "source": [
    "# Criando duas novas listas para teste.\n",
    "\n"
   ]
  },
  {
   "cell_type": "code",
   "execution_count": null,
   "id": "2c97d7de",
   "metadata": {},
   "outputs": [],
   "source": []
  },
  {
   "cell_type": "code",
   "execution_count": null,
   "id": "e7a7eee3",
   "metadata": {},
   "outputs": [],
   "source": []
  },
  {
   "cell_type": "code",
   "execution_count": null,
   "id": "249bc8d1",
   "metadata": {},
   "outputs": [],
   "source": []
  },
  {
   "cell_type": "code",
   "execution_count": null,
   "id": "d5d1563d",
   "metadata": {},
   "outputs": [],
   "source": []
  },
  {
   "cell_type": "code",
   "execution_count": null,
   "id": "7fc4acec",
   "metadata": {},
   "outputs": [],
   "source": []
  },
  {
   "cell_type": "code",
   "execution_count": null,
   "id": "a37d4424",
   "metadata": {},
   "outputs": [],
   "source": []
  },
  {
   "cell_type": "markdown",
   "id": "94c47e3e",
   "metadata": {},
   "source": [
    "# Fim"
   ]
  },
  {
   "cell_type": "markdown",
   "id": "9d0450cd",
   "metadata": {},
   "source": [
    "### Obrigado\n",
    "\n",
    "### Visite o Blog da Data Science Academy - <a href=\"http://blog.dsacademy.com.br\">Blog DSA</a>"
   ]
  }
 ],
 "metadata": {
  "kernelspec": {
   "display_name": "Python 3 (ipykernel)",
   "language": "python",
   "name": "python3"
  },
  "language_info": {
   "codemirror_mode": {
    "name": "ipython",
    "version": 3
   },
   "file_extension": ".py",
   "mimetype": "text/x-python",
   "name": "python",
   "nbconvert_exporter": "python",
   "pygments_lexer": "ipython3",
   "version": "3.9.12"
  }
 },
 "nbformat": 4,
 "nbformat_minor": 5
}
