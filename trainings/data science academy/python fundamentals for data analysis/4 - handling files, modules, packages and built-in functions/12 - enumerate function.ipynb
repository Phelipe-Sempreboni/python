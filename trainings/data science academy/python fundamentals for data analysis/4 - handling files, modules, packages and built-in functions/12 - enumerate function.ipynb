{
 "cells": [
  {
   "cell_type": "markdown",
   "id": "dc9f20c3",
   "metadata": {},
   "source": [
    "# <font color='blue'>Data Science Academy - Python Fundamentos - Capítulo 4</font>\n",
    "\n",
    "## Download: http://github.com/dsacademybr"
   ]
  },
  {
   "cell_type": "markdown",
   "id": "bdb98eb7",
   "metadata": {},
   "source": [
    "### Função Enumerate\n",
    "\n",
    "Com a função enumerate conseguimos retorno o índice e valor, onde é muito útil para manipulação de tuplas e listas."
   ]
  },
  {
   "cell_type": "code",
   "execution_count": 6,
   "id": "8655ecc8",
   "metadata": {},
   "outputs": [],
   "source": [
    "# Vamos primeiramente criar uma lista.\n",
    "\n",
    "lista_1 = ['a', 'b', 'c', 'd', 'e', 'f','g']"
   ]
  },
  {
   "cell_type": "code",
   "execution_count": 7,
   "id": "d30d4619",
   "metadata": {},
   "outputs": [
    {
     "name": "stdout",
     "output_type": "stream",
     "text": [
      "<enumerate object at 0x000002647B6C6B80>\n"
     ]
    }
   ],
   "source": [
    "# Agora iremos inserir essa lista na função enumerate.\n",
    "# Notar que não conseguiremos visualizar o resultado, pois temos que incluir essa função em uma lista.\n",
    "\n",
    "print(enumerate(lista_1))"
   ]
  },
  {
   "cell_type": "code",
   "execution_count": 10,
   "id": "71e0984f",
   "metadata": {},
   "outputs": [
    {
     "name": "stdout",
     "output_type": "stream",
     "text": [
      "[(0, 'a'), (1, 'b'), (2, 'c'), (3, 'd'), (4, 'e'), (5, 'f'), (6, 'g')]\n"
     ]
    }
   ],
   "source": [
    "# Agora iremos inserir essa lista na função enumerate.\n",
    "# Iremos inserir a função enumerate em uma lista.\n",
    "# Notar que agora iremos conseguir visualizar o resultado corretamente.\n",
    "# Observe que o resultado exibido é o índice e valor da lista, muito útil para saber a posição de determinados valores.\n",
    "\n",
    "print(list(enumerate(lista_1)))"
   ]
  },
  {
   "cell_type": "code",
   "execution_count": null,
   "id": "83dd76ce",
   "metadata": {},
   "outputs": [],
   "source": []
  },
  {
   "cell_type": "code",
   "execution_count": null,
   "id": "eb762e83",
   "metadata": {},
   "outputs": [],
   "source": []
  },
  {
   "cell_type": "code",
   "execution_count": null,
   "id": "1a0d422e",
   "metadata": {},
   "outputs": [],
   "source": []
  },
  {
   "cell_type": "code",
   "execution_count": null,
   "id": "dea45540",
   "metadata": {},
   "outputs": [],
   "source": []
  },
  {
   "cell_type": "code",
   "execution_count": null,
   "id": "1c30dd8a",
   "metadata": {},
   "outputs": [],
   "source": []
  },
  {
   "cell_type": "code",
   "execution_count": null,
   "id": "46daab46",
   "metadata": {},
   "outputs": [],
   "source": []
  },
  {
   "cell_type": "code",
   "execution_count": null,
   "id": "d1f462d0",
   "metadata": {},
   "outputs": [],
   "source": []
  },
  {
   "cell_type": "code",
   "execution_count": null,
   "id": "8c828785",
   "metadata": {},
   "outputs": [],
   "source": []
  },
  {
   "cell_type": "code",
   "execution_count": null,
   "id": "1702730a",
   "metadata": {},
   "outputs": [],
   "source": []
  },
  {
   "cell_type": "code",
   "execution_count": null,
   "id": "26f6dd2b",
   "metadata": {},
   "outputs": [],
   "source": []
  },
  {
   "cell_type": "code",
   "execution_count": null,
   "id": "d165e32a",
   "metadata": {},
   "outputs": [],
   "source": []
  },
  {
   "cell_type": "code",
   "execution_count": null,
   "id": "e338e667",
   "metadata": {},
   "outputs": [],
   "source": []
  },
  {
   "cell_type": "code",
   "execution_count": null,
   "id": "f0160bf3",
   "metadata": {},
   "outputs": [],
   "source": []
  },
  {
   "cell_type": "code",
   "execution_count": null,
   "id": "75ec4098",
   "metadata": {},
   "outputs": [],
   "source": []
  },
  {
   "cell_type": "code",
   "execution_count": null,
   "id": "e988eb14",
   "metadata": {},
   "outputs": [],
   "source": []
  },
  {
   "cell_type": "markdown",
   "id": "905d2662",
   "metadata": {},
   "source": [
    "# Fim"
   ]
  },
  {
   "cell_type": "markdown",
   "id": "7e2949c2",
   "metadata": {},
   "source": [
    "### Obrigado\n",
    "\n",
    "### Visite o Blog da Data Science Academy - <a href=\"http://blog.dsacademy.com.br\">Blog DSA</a>"
   ]
  }
 ],
 "metadata": {
  "kernelspec": {
   "display_name": "Python 3 (ipykernel)",
   "language": "python",
   "name": "python3"
  },
  "language_info": {
   "codemirror_mode": {
    "name": "ipython",
    "version": 3
   },
   "file_extension": ".py",
   "mimetype": "text/x-python",
   "name": "python",
   "nbconvert_exporter": "python",
   "pygments_lexer": "ipython3",
   "version": "3.9.12"
  }
 },
 "nbformat": 4,
 "nbformat_minor": 5
}
