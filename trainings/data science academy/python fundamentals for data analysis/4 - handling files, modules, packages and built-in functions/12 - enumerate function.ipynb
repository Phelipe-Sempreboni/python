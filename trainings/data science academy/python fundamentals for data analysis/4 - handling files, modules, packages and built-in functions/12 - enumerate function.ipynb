{
 "cells": [
  {
   "cell_type": "markdown",
   "id": "5c9f2e6e",
   "metadata": {},
   "source": [
    "# <font color='blue'>Data Science Academy - Python Fundamentos - Capítulo 4</font>\n",
    "\n",
    "## Download: http://github.com/dsacademybr"
   ]
  },
  {
   "cell_type": "markdown",
   "id": "2ad64305",
   "metadata": {},
   "source": [
    "### Função Enumerate\n",
    "\n",
    "Com a função enumerate conseguimos retorno o índice e valor, onde é muito útil para manipulação de tuplas e listas."
   ]
  },
  {
   "cell_type": "code",
   "execution_count": 6,
   "id": "4c768a71",
   "metadata": {},
   "outputs": [],
   "source": [
    "# Vamos primeiramente criar uma lista.\n",
    "\n",
    "lista_1 = ['a', 'b', 'c', 'd', 'e', 'f','g']"
   ]
  },
  {
   "cell_type": "code",
   "execution_count": 7,
   "id": "487e1572",
   "metadata": {},
   "outputs": [
    {
     "name": "stdout",
     "output_type": "stream",
     "text": [
      "<enumerate object at 0x000002647B6C6B80>\n"
     ]
    }
   ],
   "source": [
    "# Agora iremos inserir essa lista na função enumerate.\n",
    "# Notar que não conseguiremos visualizar o resultado, pois temos que incluir essa função em uma lista.\n",
    "\n",
    "print(enumerate(lista_1))"
   ]
  },
  {
   "cell_type": "code",
   "execution_count": 10,
   "id": "44648114",
   "metadata": {},
   "outputs": [
    {
     "name": "stdout",
     "output_type": "stream",
     "text": [
      "[(0, 'a'), (1, 'b'), (2, 'c'), (3, 'd'), (4, 'e'), (5, 'f'), (6, 'g')]\n"
     ]
    }
   ],
   "source": [
    "# Agora iremos inserir essa lista na função enumerate.\n",
    "# Iremos inserir a função enumerate em uma lista.\n",
    "# Notar que agora iremos conseguir visualizar o resultado corretamente.\n",
    "# Observe que o resultado exibido é o índice e valor da lista, muito útil para saber a posição de determinados valores.\n",
    "\n",
    "print(list(enumerate(lista_1)))"
   ]
  },
  {
   "cell_type": "code",
   "execution_count": 13,
   "id": "776849dc",
   "metadata": {},
   "outputs": [
    {
     "name": "stdout",
     "output_type": "stream",
     "text": [
      "0 a\n",
      "1 b\n",
      "2 c\n",
      "3 d\n",
      "4 e\n",
      "5 f\n",
      "6 g\n"
     ]
    }
   ],
   "source": [
    "# Agora iremos utilizar um loop for com a função enumerate, onde visualizaremos o resultado de outra maneira.\n",
    "# Notar que o resultado é exibido um abaixo do outro, mais parecido com o formato de uma tabela.\n",
    "\n",
    "for indice, valor in enumerate(lista_1):\n",
    "    print(indice, valor)"
   ]
  },
  {
   "cell_type": "code",
   "execution_count": null,
   "id": "537b7523",
   "metadata": {},
   "outputs": [],
   "source": []
  },
  {
   "cell_type": "code",
   "execution_count": null,
   "id": "38b8b540",
   "metadata": {},
   "outputs": [],
   "source": []
  },
  {
   "cell_type": "code",
   "execution_count": null,
   "id": "adb6bfc1",
   "metadata": {},
   "outputs": [],
   "source": []
  },
  {
   "cell_type": "code",
   "execution_count": null,
   "id": "1a298689",
   "metadata": {},
   "outputs": [],
   "source": []
  },
  {
   "cell_type": "code",
   "execution_count": null,
   "id": "070aae3f",
   "metadata": {},
   "outputs": [],
   "source": []
  },
  {
   "cell_type": "code",
   "execution_count": null,
   "id": "76a72ef9",
   "metadata": {},
   "outputs": [],
   "source": []
  },
  {
   "cell_type": "code",
   "execution_count": null,
   "id": "f3add263",
   "metadata": {},
   "outputs": [],
   "source": []
  },
  {
   "cell_type": "code",
   "execution_count": null,
   "id": "35cb0dcd",
   "metadata": {},
   "outputs": [],
   "source": []
  },
  {
   "cell_type": "code",
   "execution_count": null,
   "id": "0fc930d2",
   "metadata": {},
   "outputs": [],
   "source": []
  },
  {
   "cell_type": "code",
   "execution_count": null,
   "id": "57db7d5d",
   "metadata": {},
   "outputs": [],
   "source": []
  },
  {
   "cell_type": "code",
   "execution_count": null,
   "id": "c9f6f489",
   "metadata": {},
   "outputs": [],
   "source": []
  },
  {
   "cell_type": "code",
   "execution_count": null,
   "id": "add85abe",
   "metadata": {},
   "outputs": [],
   "source": []
  },
  {
   "cell_type": "code",
   "execution_count": null,
   "id": "00cd3aa8",
   "metadata": {},
   "outputs": [],
   "source": []
  },
  {
   "cell_type": "code",
   "execution_count": null,
   "id": "a9c8fde8",
   "metadata": {},
   "outputs": [],
   "source": []
  },
  {
   "cell_type": "markdown",
   "id": "8dfeb5be",
   "metadata": {},
   "source": [
    "# Fim"
   ]
  },
  {
   "cell_type": "markdown",
   "id": "6945fad9",
   "metadata": {},
   "source": [
    "### Obrigado\n",
    "\n",
    "### Visite o Blog da Data Science Academy - <a href=\"http://blog.dsacademy.com.br\">Blog DSA</a>"
   ]
  }
 ],
 "metadata": {
  "kernelspec": {
   "display_name": "Python 3 (ipykernel)",
   "language": "python",
   "name": "python3"
  },
  "language_info": {
   "codemirror_mode": {
    "name": "ipython",
    "version": 3
   },
   "file_extension": ".py",
   "mimetype": "text/x-python",
   "name": "python",
   "nbconvert_exporter": "python",
   "pygments_lexer": "ipython3",
   "version": "3.9.12"
  }
 },
 "nbformat": 4,
 "nbformat_minor": 5
}
