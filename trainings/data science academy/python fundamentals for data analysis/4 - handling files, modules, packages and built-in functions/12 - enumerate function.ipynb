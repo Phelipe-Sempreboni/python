{
 "cells": [
  {
   "cell_type": "markdown",
   "id": "66896b77",
   "metadata": {},
   "source": [
    "# <font color='blue'>Data Science Academy - Python Fundamentos - Capítulo 4</font>\n",
    "\n",
    "## Download: http://github.com/dsacademybr"
   ]
  },
  {
   "cell_type": "markdown",
   "id": "33da7a4a",
   "metadata": {},
   "source": [
    "### Função Enumerate\n",
    "\n",
    "Com a função enumerate conseguimos retorno o índice e valor, onde é muito útil para manipulação de tuplas e listas."
   ]
  },
  {
   "cell_type": "code",
   "execution_count": 6,
   "id": "9d5d3a7c",
   "metadata": {},
   "outputs": [],
   "source": [
    "# Vamos primeiramente criar uma lista.\n",
    "\n",
    "lista_1 = ['a', 'b', 'c', 'd', 'e', 'f','g']"
   ]
  },
  {
   "cell_type": "code",
   "execution_count": 7,
   "id": "fab87f7a",
   "metadata": {},
   "outputs": [
    {
     "name": "stdout",
     "output_type": "stream",
     "text": [
      "<enumerate object at 0x000002647B6C6B80>\n"
     ]
    }
   ],
   "source": [
    "# Agora iremos inserir essa lista na função enumerate.\n",
    "# Notar que não conseguiremos visualizar o resultado, pois temos que incluir essa função em uma lista.\n",
    "\n",
    "print(enumerate(lista_1))"
   ]
  },
  {
   "cell_type": "code",
   "execution_count": 10,
   "id": "75f81fc3",
   "metadata": {},
   "outputs": [
    {
     "name": "stdout",
     "output_type": "stream",
     "text": [
      "[(0, 'a'), (1, 'b'), (2, 'c'), (3, 'd'), (4, 'e'), (5, 'f'), (6, 'g')]\n"
     ]
    }
   ],
   "source": [
    "# Agora iremos inserir essa lista na função enumerate.\n",
    "# Iremos inserir a função enumerate em uma lista.\n",
    "# Notar que agora iremos conseguir visualizar o resultado corretamente.\n",
    "# Observe que o resultado exibido é o índice e valor da lista, muito útil para saber a posição de determinados valores.\n",
    "\n",
    "print(list(enumerate(lista_1)))"
   ]
  },
  {
   "cell_type": "code",
   "execution_count": 13,
   "id": "5a00cece",
   "metadata": {},
   "outputs": [
    {
     "name": "stdout",
     "output_type": "stream",
     "text": [
      "0 a\n",
      "1 b\n",
      "2 c\n",
      "3 d\n",
      "4 e\n",
      "5 f\n",
      "6 g\n"
     ]
    }
   ],
   "source": [
    "# Agora iremos utilizar um loop for com a função enumerate, onde visualizaremos o resultado de outra maneira.\n",
    "# Notar que o resultado é exibido um abaixo do outro, mais parecido com o formato de uma tabela.\n",
    "\n",
    "for indice, valor in enumerate(lista_1):\n",
    "    print(indice, valor)"
   ]
  },
  {
   "cell_type": "code",
   "execution_count": 16,
   "id": "328a30c6",
   "metadata": {},
   "outputs": [
    {
     "name": "stdout",
     "output_type": "stream",
     "text": [
      "0 a\n",
      "1 b\n",
      "2 c\n",
      "3 d\n"
     ]
    }
   ],
   "source": [
    "# Também podemos utilizar a função enumerate com loop for e a função break.\n",
    "# Este tipo de situação pode ocorrer quando não queremos percorrer toda a lista com os resultados.\n",
    "# Notar que diferente do resultado acima, só fomos até o \"3 e d\" e não percorremos a lista inteira.\n",
    "\n",
    "for indice, valor in enumerate(lista_1):\n",
    "    if indice >= 4:\n",
    "        break\n",
    "    else:\n",
    "        print(indice, valor)"
   ]
  },
  {
   "cell_type": "code",
   "execution_count": 18,
   "id": "3dd37e0c",
   "metadata": {},
   "outputs": [],
   "source": [
    "# Agora vamos criar outra lista.\n",
    "\n",
    "lista_2 = ['Tecnologia', 'Marketing', 'Business', 'Infraestrutura']"
   ]
  },
  {
   "cell_type": "code",
   "execution_count": 19,
   "id": "99d1d9e5",
   "metadata": {},
   "outputs": [
    {
     "name": "stdout",
     "output_type": "stream",
     "text": [
      "0 Tecnologia\n",
      "1 Marketing\n",
      "2 Business\n",
      "3 Infraestrutura\n"
     ]
    }
   ],
   "source": [
    "# Agora iremos utilizar um loop for com a função enumerate, onde visualizaremos o resultado de outra maneira.\n",
    "# Notar que o resultado é exibido um abaixo do outro, mais parecido com o formato de uma tabela.\n",
    "\n",
    "for indice, valor in enumerate(lista_2):\n",
    "    print(indice, valor)"
   ]
  },
  {
   "cell_type": "code",
   "execution_count": 20,
   "id": "809fb024",
   "metadata": {},
   "outputs": [
    {
     "name": "stdout",
     "output_type": "stream",
     "text": [
      "0 I\n",
      "1 s\n",
      "2 s\n",
      "3 o\n",
      "4  \n",
      "5 é\n",
      "6  \n",
      "7 u\n",
      "8 m\n",
      "9 a\n",
      "10  \n",
      "11 s\n",
      "12 t\n",
      "13 r\n",
      "14 i\n",
      "15 n\n",
      "16 g\n"
     ]
    }
   ],
   "source": [
    "# Agora iremos utilizar um loop for com a função enumerate, onde visualizaremos o resultado de outra maneira.\n",
    "# Notar que o resultado é exibido um abaixo do outro, mais parecido com o formato de uma tabela.\n",
    "# Neste caso iremos utilizar uma string dentro da função enumerate.\n",
    "\n",
    "for indice, valor in enumerate('Isso é uma string'):\n",
    "    print(indice, valor)"
   ]
  },
  {
   "cell_type": "code",
   "execution_count": 21,
   "id": "08e23617",
   "metadata": {},
   "outputs": [
    {
     "name": "stdout",
     "output_type": "stream",
     "text": [
      "0 0\n",
      "1 1\n",
      "2 2\n",
      "3 3\n",
      "4 4\n",
      "5 5\n",
      "6 6\n",
      "7 7\n",
      "8 8\n",
      "9 9\n",
      "10 10\n"
     ]
    }
   ],
   "source": [
    "# Agora iremos utilizar um loop for com a função enumerate, onde visualizaremos o resultado de outra maneira.\n",
    "# Notar que o resultado é exibido um abaixo do outro, mais parecido com o formato de uma tabela.\n",
    "# Neste caso iremos utilizar um intervalor de valores dentro da função enumerate.\n",
    "\n",
    "for indice, valor in enumerate(range(11)):\n",
    "    print(indice, valor)"
   ]
  },
  {
   "cell_type": "markdown",
   "id": "e559b3e6",
   "metadata": {},
   "source": [
    "# Fim"
   ]
  },
  {
   "cell_type": "markdown",
   "id": "cd1cd893",
   "metadata": {},
   "source": [
    "### Obrigado\n",
    "\n",
    "### Visite o Blog da Data Science Academy - <a href=\"http://blog.dsacademy.com.br\">Blog DSA</a>"
   ]
  }
 ],
 "metadata": {
  "kernelspec": {
   "display_name": "Python 3 (ipykernel)",
   "language": "python",
   "name": "python3"
  },
  "language_info": {
   "codemirror_mode": {
    "name": "ipython",
    "version": 3
   },
   "file_extension": ".py",
   "mimetype": "text/x-python",
   "name": "python",
   "nbconvert_exporter": "python",
   "pygments_lexer": "ipython3",
   "version": "3.9.12"
  }
 },
 "nbformat": 4,
 "nbformat_minor": 5
}
