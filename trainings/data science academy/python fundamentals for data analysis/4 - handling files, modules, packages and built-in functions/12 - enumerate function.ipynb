{
 "cells": [
  {
   "cell_type": "markdown",
   "id": "d83e8e8f",
   "metadata": {},
   "source": [
    "# <font color='blue'>Data Science Academy - Python Fundamentos - Capítulo 4</font>\n",
    "\n",
    "## Download: http://github.com/dsacademybr"
   ]
  },
  {
   "cell_type": "markdown",
   "id": "535d631d",
   "metadata": {},
   "source": [
    "### Função Enumerate\n",
    "\n",
    "Com a função enumerate conseguimos retorno o índice e valor, onde é muito útil para manipulação de tuplas e listas."
   ]
  },
  {
   "cell_type": "code",
   "execution_count": 6,
   "id": "4da2bb8d",
   "metadata": {},
   "outputs": [],
   "source": [
    "# Vamos primeiramente criar uma lista.\n",
    "\n",
    "lista_1 = ['a', 'b', 'c', 'd', 'e', 'f','g']"
   ]
  },
  {
   "cell_type": "code",
   "execution_count": 7,
   "id": "b1eee983",
   "metadata": {},
   "outputs": [
    {
     "name": "stdout",
     "output_type": "stream",
     "text": [
      "<enumerate object at 0x000002647B6C6B80>\n"
     ]
    }
   ],
   "source": [
    "# Agora iremos inserir essa lista na função enumerate.\n",
    "# Notar que não conseguiremos visualizar o resultado, pois temos que incluir essa função em uma lista.\n",
    "\n",
    "print(enumerate(lista_1))"
   ]
  },
  {
   "cell_type": "code",
   "execution_count": 10,
   "id": "d86fa295",
   "metadata": {},
   "outputs": [
    {
     "name": "stdout",
     "output_type": "stream",
     "text": [
      "[(0, 'a'), (1, 'b'), (2, 'c'), (3, 'd'), (4, 'e'), (5, 'f'), (6, 'g')]\n"
     ]
    }
   ],
   "source": [
    "# Agora iremos inserir essa lista na função enumerate.\n",
    "# Iremos inserir a função enumerate em uma lista.\n",
    "# Notar que agora iremos conseguir visualizar o resultado corretamente.\n",
    "# Observe que o resultado exibido é o índice e valor da lista, muito útil para saber a posição de determinados valores.\n",
    "\n",
    "print(list(enumerate(lista_1)))"
   ]
  },
  {
   "cell_type": "code",
   "execution_count": 13,
   "id": "8970ea13",
   "metadata": {},
   "outputs": [
    {
     "name": "stdout",
     "output_type": "stream",
     "text": [
      "0 a\n",
      "1 b\n",
      "2 c\n",
      "3 d\n",
      "4 e\n",
      "5 f\n",
      "6 g\n"
     ]
    }
   ],
   "source": [
    "# Agora iremos utilizar um loop for com a função enumerate, onde visualizaremos o resultado de outra maneira.\n",
    "# Notar que o resultado é exibido um abaixo do outro, mais parecido com o formato de uma tabela.\n",
    "\n",
    "for indice, valor in enumerate(lista_1):\n",
    "    print(indice, valor)"
   ]
  },
  {
   "cell_type": "code",
   "execution_count": 16,
   "id": "1bddf21a",
   "metadata": {},
   "outputs": [
    {
     "name": "stdout",
     "output_type": "stream",
     "text": [
      "0 a\n",
      "1 b\n",
      "2 c\n",
      "3 d\n"
     ]
    }
   ],
   "source": [
    "# Também podemos utilizar a função enumerate com loop for e a função break.\n",
    "# Este tipo de situação pode ocorrer quando não queremos percorrer toda a lista com os resultados.\n",
    "# Notar que diferente do resultado acima, só fomos até o \"3 e d\" e não percorremos a lista inteira.\n",
    "\n",
    "for indice, valor in enumerate(lista_1):\n",
    "    if indice >= 4:\n",
    "        break\n",
    "    else:\n",
    "        print(indice, valor)"
   ]
  },
  {
   "cell_type": "code",
   "execution_count": null,
   "id": "e5db0a6f",
   "metadata": {},
   "outputs": [],
   "source": []
  },
  {
   "cell_type": "code",
   "execution_count": null,
   "id": "a8bbfe4b",
   "metadata": {},
   "outputs": [],
   "source": []
  },
  {
   "cell_type": "code",
   "execution_count": null,
   "id": "a4b4fb88",
   "metadata": {},
   "outputs": [],
   "source": []
  },
  {
   "cell_type": "code",
   "execution_count": null,
   "id": "9f968fcc",
   "metadata": {},
   "outputs": [],
   "source": []
  },
  {
   "cell_type": "code",
   "execution_count": null,
   "id": "60308a3b",
   "metadata": {},
   "outputs": [],
   "source": []
  },
  {
   "cell_type": "code",
   "execution_count": null,
   "id": "fe60a9e0",
   "metadata": {},
   "outputs": [],
   "source": []
  },
  {
   "cell_type": "code",
   "execution_count": null,
   "id": "fefcfaec",
   "metadata": {},
   "outputs": [],
   "source": []
  },
  {
   "cell_type": "code",
   "execution_count": null,
   "id": "a06ee7bf",
   "metadata": {},
   "outputs": [],
   "source": []
  },
  {
   "cell_type": "code",
   "execution_count": null,
   "id": "6d5bab17",
   "metadata": {},
   "outputs": [],
   "source": []
  },
  {
   "cell_type": "code",
   "execution_count": null,
   "id": "5e716d1d",
   "metadata": {},
   "outputs": [],
   "source": []
  },
  {
   "cell_type": "code",
   "execution_count": null,
   "id": "08b34a0d",
   "metadata": {},
   "outputs": [],
   "source": []
  },
  {
   "cell_type": "code",
   "execution_count": null,
   "id": "3ba3e1f8",
   "metadata": {},
   "outputs": [],
   "source": []
  },
  {
   "cell_type": "code",
   "execution_count": null,
   "id": "9e8022c2",
   "metadata": {},
   "outputs": [],
   "source": []
  },
  {
   "cell_type": "markdown",
   "id": "0a933795",
   "metadata": {},
   "source": [
    "# Fim"
   ]
  },
  {
   "cell_type": "markdown",
   "id": "2c7a2952",
   "metadata": {},
   "source": [
    "### Obrigado\n",
    "\n",
    "### Visite o Blog da Data Science Academy - <a href=\"http://blog.dsacademy.com.br\">Blog DSA</a>"
   ]
  }
 ],
 "metadata": {
  "kernelspec": {
   "display_name": "Python 3 (ipykernel)",
   "language": "python",
   "name": "python3"
  },
  "language_info": {
   "codemirror_mode": {
    "name": "ipython",
    "version": 3
   },
   "file_extension": ".py",
   "mimetype": "text/x-python",
   "name": "python",
   "nbconvert_exporter": "python",
   "pygments_lexer": "ipython3",
   "version": "3.9.12"
  }
 },
 "nbformat": 4,
 "nbformat_minor": 5
}
