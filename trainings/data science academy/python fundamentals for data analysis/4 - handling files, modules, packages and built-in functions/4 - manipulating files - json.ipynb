{
 "cells": [
  {
   "cell_type": "markdown",
   "id": "7d7a4833",
   "metadata": {},
   "source": [
    "## Data Science Academy - Python Fundamentos - Capítulo 4\n",
    "\n",
    "### Download: http://github.com/dsacademybr"
   ]
  },
  {
   "cell_type": "markdown",
   "id": "42e00725",
   "metadata": {},
   "source": [
    "### Manipulação de arquivos\n",
    "\n",
    "* Arquivo JSON"
   ]
  },
  {
   "cell_type": "markdown",
   "id": "c066f439",
   "metadata": {},
   "source": [
    "### Manipulando Arquivos JSON (Java Script Object Notation)\n",
    "\n",
    "JSON (Java Script Object Notation) é uma maneira de armazenar informações de forma organizada e de fácil acesso. Em poucas palavras, ele nos dá uma coleção legível de dados que podem ser acessados de forma muito lógica. Pode ser uma fonta de Big Data."
   ]
  },
  {
   "cell_type": "code",
   "execution_count": 15,
   "id": "debbd75b",
   "metadata": {},
   "outputs": [],
   "source": [
    "# Criando um dicionário\n",
    "\n",
    "dict = {\n",
    "     'Nome:': 'Guido Vam Russoum',\n",
    "     'Linguagem:': 'Python',\n",
    "     'Similar:': ['C', 'Modula-3', 'lisp'],\n",
    "     'Users:': 1000000\n",
    "        }"
   ]
  },
  {
   "cell_type": "code",
   "execution_count": 16,
   "id": "fa4ddf35",
   "metadata": {},
   "outputs": [
    {
     "name": "stdout",
     "output_type": "stream",
     "text": [
      "Nome: Guido Vam Russoum\n",
      "Linguagem: Python\n",
      "Similar: ['C', 'Modula-3', 'lisp']\n",
      "Users: 1000000\n"
     ]
    }
   ],
   "source": [
    "for k,v in dict.items():\n",
    "    print(k,v)"
   ]
  },
  {
   "cell_type": "code",
   "execution_count": 17,
   "id": "53784ed4",
   "metadata": {},
   "outputs": [],
   "source": [
    "# Importando a biblioteca do JSON\n",
    "\n",
    "import json"
   ]
  },
  {
   "cell_type": "code",
   "execution_count": 18,
   "id": "3f47a82e",
   "metadata": {},
   "outputs": [
    {
     "data": {
      "text/plain": [
       "'{\"Nome:\": \"Guido Vam Russoum\", \"Linguagem:\": \"Python\", \"Similar:\": [\"C\", \"Modula-3\", \"lisp\"], \"Users:\": 1000000}'"
      ]
     },
     "execution_count": 18,
     "metadata": {},
     "output_type": "execute_result"
    }
   ],
   "source": [
    "# Convertendo o dicionário criado acima para um objeto em formato JSON\n",
    "\n",
    "json.dumps(dict)"
   ]
  },
  {
   "cell_type": "code",
   "execution_count": 19,
   "id": "9a875152",
   "metadata": {},
   "outputs": [],
   "source": [
    "# Criando um arquivo JSON\n",
    "# Notar que o conteúdo que será escrito neste arquivo JSON criado é o mesmo do dicionário criado acima anteriormente.\n",
    "\n",
    "with open('archives/data.json', 'w') as arquivo:\n",
    "    arquivo.write(json.dumps(dict))"
   ]
  },
  {
   "cell_type": "code",
   "execution_count": 20,
   "id": "244fdbcc",
   "metadata": {},
   "outputs": [],
   "source": [
    "# Lendo um arquivo JSON\n",
    "# Notar que realizaremos a leitura do conteúdo do arquivo que foi criado no bloco logo acima\n",
    "\n",
    "with open('archives/data.json', 'r') as arquivo:\n",
    "    texto = arquivo.read()\n",
    "    data = json.loads(texto)"
   ]
  },
  {
   "cell_type": "code",
   "execution_count": 21,
   "id": "b7b3a549",
   "metadata": {},
   "outputs": [
    {
     "name": "stdout",
     "output_type": "stream",
     "text": [
      "{'Nome:': 'Guido Vam Russoum', 'Linguagem:': 'Python', 'Similar:': ['C', 'Modula-3', 'lisp'], 'Users:': 1000000}\n"
     ]
    }
   ],
   "source": [
    "print(data)"
   ]
  },
  {
   "cell_type": "code",
   "execution_count": null,
   "id": "b8c27616",
   "metadata": {},
   "outputs": [],
   "source": [
    "# Imprimindo um arquivo JSON copiado diretamente da internet\n",
    "\n"
   ]
  },
  {
   "cell_type": "code",
   "execution_count": null,
   "id": "9f55a0a2",
   "metadata": {},
   "outputs": [],
   "source": []
  },
  {
   "cell_type": "code",
   "execution_count": null,
   "id": "10486e17",
   "metadata": {},
   "outputs": [],
   "source": []
  },
  {
   "cell_type": "code",
   "execution_count": null,
   "id": "128acd4b",
   "metadata": {},
   "outputs": [],
   "source": []
  },
  {
   "cell_type": "code",
   "execution_count": null,
   "id": "2a2e7bfb",
   "metadata": {},
   "outputs": [],
   "source": []
  },
  {
   "cell_type": "code",
   "execution_count": null,
   "id": "7ebaad56",
   "metadata": {},
   "outputs": [],
   "source": []
  }
 ],
 "metadata": {
  "kernelspec": {
   "display_name": "Python 3 (ipykernel)",
   "language": "python",
   "name": "python3"
  },
  "language_info": {
   "codemirror_mode": {
    "name": "ipython",
    "version": 3
   },
   "file_extension": ".py",
   "mimetype": "text/x-python",
   "name": "python",
   "nbconvert_exporter": "python",
   "pygments_lexer": "ipython3",
   "version": "3.9.12"
  }
 },
 "nbformat": 4,
 "nbformat_minor": 5
}
