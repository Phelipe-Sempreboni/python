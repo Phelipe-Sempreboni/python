{
 "cells": [
  {
   "cell_type": "markdown",
   "id": "0c2e4076",
   "metadata": {},
   "source": [
    "## Data Science Academy - Python Fundamentos - Capítulo 4\n",
    "\n",
    "### Download: http://github.com/dsacademybr"
   ]
  },
  {
   "cell_type": "markdown",
   "id": "9a701cdd",
   "metadata": {},
   "source": [
    "### Manipulação de arquivos\n",
    "\n",
    "* Arquivo JSON"
   ]
  },
  {
   "cell_type": "markdown",
   "id": "d39920c3",
   "metadata": {},
   "source": [
    "### Manipulando Arquivos JSON (Java Script Object Notation)\n",
    "\n",
    "JSON (Java Script Object Notation) é uma maneira de armazenar informações de forma organizada e de fácil acesso. Em poucas palavras, ele nos dá uma coleção legível de dados que podem ser acessados de forma muito lógica. Pode ser uma fonta de Big Data."
   ]
  },
  {
   "cell_type": "code",
   "execution_count": 15,
   "id": "329b4b2f",
   "metadata": {},
   "outputs": [],
   "source": [
    "# Criando um dicionário\n",
    "\n",
    "dict = {\n",
    "     'Nome:': 'Guido Vam Russoum',\n",
    "     'Linguagem:': 'Python',\n",
    "     'Similar:': ['C', 'Modula-3', 'lisp'],\n",
    "     'Users:': 1000000\n",
    "        }"
   ]
  },
  {
   "cell_type": "code",
   "execution_count": 16,
   "id": "37cdd03a",
   "metadata": {},
   "outputs": [
    {
     "name": "stdout",
     "output_type": "stream",
     "text": [
      "Nome: Guido Vam Russoum\n",
      "Linguagem: Python\n",
      "Similar: ['C', 'Modula-3', 'lisp']\n",
      "Users: 1000000\n"
     ]
    }
   ],
   "source": [
    "for k,v in dict.items():\n",
    "    print(k,v)"
   ]
  },
  {
   "cell_type": "code",
   "execution_count": 17,
   "id": "e2e628b1",
   "metadata": {},
   "outputs": [],
   "source": [
    "# Importando a biblioteca do JSON\n",
    "\n",
    "import json"
   ]
  },
  {
   "cell_type": "code",
   "execution_count": 18,
   "id": "5a640db5",
   "metadata": {},
   "outputs": [
    {
     "data": {
      "text/plain": [
       "'{\"Nome:\": \"Guido Vam Russoum\", \"Linguagem:\": \"Python\", \"Similar:\": [\"C\", \"Modula-3\", \"lisp\"], \"Users:\": 1000000}'"
      ]
     },
     "execution_count": 18,
     "metadata": {},
     "output_type": "execute_result"
    }
   ],
   "source": [
    "# Convertendo o dicionário criado acima para um objeto em formato JSON\n",
    "\n",
    "json.dumps(dict)"
   ]
  },
  {
   "cell_type": "code",
   "execution_count": null,
   "id": "b4c60aae",
   "metadata": {},
   "outputs": [],
   "source": [
    "# Criando um arquivo JSON\n",
    "\n",
    "with open('archives/data.json', 'w') as arquivo:\n",
    "    arquivo.write()"
   ]
  },
  {
   "cell_type": "code",
   "execution_count": null,
   "id": "4a866df9",
   "metadata": {},
   "outputs": [],
   "source": []
  },
  {
   "cell_type": "code",
   "execution_count": null,
   "id": "dcaa4e78",
   "metadata": {},
   "outputs": [],
   "source": []
  },
  {
   "cell_type": "code",
   "execution_count": null,
   "id": "a5e9afde",
   "metadata": {},
   "outputs": [],
   "source": []
  }
 ],
 "metadata": {
  "kernelspec": {
   "display_name": "Python 3 (ipykernel)",
   "language": "python",
   "name": "python3"
  },
  "language_info": {
   "codemirror_mode": {
    "name": "ipython",
    "version": 3
   },
   "file_extension": ".py",
   "mimetype": "text/x-python",
   "name": "python",
   "nbconvert_exporter": "python",
   "pygments_lexer": "ipython3",
   "version": "3.9.12"
  }
 },
 "nbformat": 4,
 "nbformat_minor": 5
}
