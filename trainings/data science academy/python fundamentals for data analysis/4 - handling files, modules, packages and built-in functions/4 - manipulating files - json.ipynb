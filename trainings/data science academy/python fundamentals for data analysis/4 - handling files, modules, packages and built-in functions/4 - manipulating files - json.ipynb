{
 "cells": [
  {
   "cell_type": "markdown",
   "id": "f05e0c88",
   "metadata": {},
   "source": [
    "## Data Science Academy - Python Fundamentos - Capítulo 4\n",
    "\n",
    "### Download: http://github.com/dsacademybr"
   ]
  },
  {
   "cell_type": "markdown",
   "id": "c705de8f",
   "metadata": {},
   "source": [
    "### Manipulação de arquivos\n",
    "\n",
    "* Arquivo JSON"
   ]
  },
  {
   "cell_type": "markdown",
   "id": "9f17e439",
   "metadata": {},
   "source": [
    "### Manipulando Arquivos JSON (Java Script Object Notation)\n",
    "\n",
    "JSON (Java Script Object Notation) é uma maneira de armazenar informações de forma organizada e de fácil acesso. Em poucas palavras, ele nos dá uma coleção legível de dados que podem ser acessados de forma muito lógica. Pode ser uma fonta de Big Data."
   ]
  },
  {
   "cell_type": "code",
   "execution_count": 15,
   "id": "a6987beb",
   "metadata": {},
   "outputs": [],
   "source": [
    "# Criando um dicionário\n",
    "\n",
    "dict = {\n",
    "     'Nome:': 'Guido Vam Russoum',\n",
    "     'Linguagem:': 'Python',\n",
    "     'Similar:': ['C', 'Modula-3', 'lisp'],\n",
    "     'Users:': 1000000\n",
    "        }"
   ]
  },
  {
   "cell_type": "code",
   "execution_count": 16,
   "id": "16138209",
   "metadata": {},
   "outputs": [
    {
     "name": "stdout",
     "output_type": "stream",
     "text": [
      "Nome: Guido Vam Russoum\n",
      "Linguagem: Python\n",
      "Similar: ['C', 'Modula-3', 'lisp']\n",
      "Users: 1000000\n"
     ]
    }
   ],
   "source": [
    "for k,v in dict.items():\n",
    "    print(k,v)"
   ]
  },
  {
   "cell_type": "code",
   "execution_count": null,
   "id": "948b7f30",
   "metadata": {},
   "outputs": [],
   "source": []
  },
  {
   "cell_type": "code",
   "execution_count": null,
   "id": "226f2ade",
   "metadata": {},
   "outputs": [],
   "source": []
  },
  {
   "cell_type": "code",
   "execution_count": null,
   "id": "af020b6e",
   "metadata": {},
   "outputs": [],
   "source": []
  },
  {
   "cell_type": "code",
   "execution_count": null,
   "id": "acf581ca",
   "metadata": {},
   "outputs": [],
   "source": []
  },
  {
   "cell_type": "code",
   "execution_count": null,
   "id": "c1393223",
   "metadata": {},
   "outputs": [],
   "source": []
  },
  {
   "cell_type": "code",
   "execution_count": null,
   "id": "aa862e78",
   "metadata": {},
   "outputs": [],
   "source": []
  }
 ],
 "metadata": {
  "kernelspec": {
   "display_name": "Python 3 (ipykernel)",
   "language": "python",
   "name": "python3"
  },
  "language_info": {
   "codemirror_mode": {
    "name": "ipython",
    "version": 3
   },
   "file_extension": ".py",
   "mimetype": "text/x-python",
   "name": "python",
   "nbconvert_exporter": "python",
   "pygments_lexer": "ipython3",
   "version": "3.9.12"
  }
 },
 "nbformat": 4,
 "nbformat_minor": 5
}
