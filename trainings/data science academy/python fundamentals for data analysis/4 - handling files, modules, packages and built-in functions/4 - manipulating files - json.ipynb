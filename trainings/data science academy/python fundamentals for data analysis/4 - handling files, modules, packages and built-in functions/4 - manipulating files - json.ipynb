{
 "cells": [
  {
   "cell_type": "markdown",
   "id": "87abf35c",
   "metadata": {},
   "source": [
    "## Data Science Academy - Python Fundamentos - Capítulo 4\n",
    "\n",
    "### Download: http://github.com/dsacademybr"
   ]
  },
  {
   "cell_type": "markdown",
   "id": "d91dabe4",
   "metadata": {},
   "source": [
    "### Manipulação de arquivos\n",
    "\n",
    "* Arquivo JSON"
   ]
  },
  {
   "cell_type": "markdown",
   "id": "8374d256",
   "metadata": {},
   "source": [
    "### Manipulando Arquivos JSON (Java Script Object Notation)\n",
    "\n",
    "JSON (Java Script Object Notation) é uma maneira de armazenar informações de forma organizada e de fácil acesso. Em poucas palavras, ele nos dá uma coleção legível de dados que podem ser acessados de forma muito lógica. Pode ser uma fonta de Big Data."
   ]
  },
  {
   "cell_type": "code",
   "execution_count": 15,
   "id": "4610ff95",
   "metadata": {},
   "outputs": [],
   "source": [
    "# Criando um dicionário.\n",
    "\n",
    "dict = {\n",
    "     'Nome:': 'Guido Vam Russoum',\n",
    "     'Linguagem:': 'Python',\n",
    "     'Similar:': ['C', 'Modula-3', 'lisp'],\n",
    "     'Users:': 1000000\n",
    "        }"
   ]
  },
  {
   "cell_type": "code",
   "execution_count": 16,
   "id": "fb78b8e3",
   "metadata": {},
   "outputs": [
    {
     "name": "stdout",
     "output_type": "stream",
     "text": [
      "Nome: Guido Vam Russoum\n",
      "Linguagem: Python\n",
      "Similar: ['C', 'Modula-3', 'lisp']\n",
      "Users: 1000000\n"
     ]
    }
   ],
   "source": [
    "for k,v in dict.items():\n",
    "    print(k,v)"
   ]
  },
  {
   "cell_type": "code",
   "execution_count": 17,
   "id": "2d8a889a",
   "metadata": {},
   "outputs": [],
   "source": [
    "# Importando a biblioteca do JSON.\n",
    "\n",
    "import json"
   ]
  },
  {
   "cell_type": "code",
   "execution_count": 18,
   "id": "7465557a",
   "metadata": {},
   "outputs": [
    {
     "data": {
      "text/plain": [
       "'{\"Nome:\": \"Guido Vam Russoum\", \"Linguagem:\": \"Python\", \"Similar:\": [\"C\", \"Modula-3\", \"lisp\"], \"Users:\": 1000000}'"
      ]
     },
     "execution_count": 18,
     "metadata": {},
     "output_type": "execute_result"
    }
   ],
   "source": [
    "# Convertendo o dicionário criado acima para um objeto em formato JSON.\n",
    "\n",
    "json.dumps(dict)"
   ]
  },
  {
   "cell_type": "code",
   "execution_count": 19,
   "id": "e6ab9c7e",
   "metadata": {},
   "outputs": [],
   "source": [
    "# Criando um arquivo JSON.\n",
    "# Notar que o conteúdo que será escrito neste arquivo JSON criado é o mesmo do dicionário criado acima anteriormente.\n",
    "\n",
    "with open('archives/data.json', 'w') as arquivo:\n",
    "    arquivo.write(json.dumps(dict))"
   ]
  },
  {
   "cell_type": "code",
   "execution_count": 20,
   "id": "f8b86002",
   "metadata": {},
   "outputs": [],
   "source": [
    "# Lendo um arquivo JSON.\n",
    "# Notar que realizaremos a leitura do conteúdo do arquivo que foi criado no bloco logo acima.\n",
    "\n",
    "with open('archives/data.json', 'r') as arquivo:\n",
    "    texto = arquivo.read()\n",
    "    data = json.loads(texto)"
   ]
  },
  {
   "cell_type": "code",
   "execution_count": 21,
   "id": "07d3d1fb",
   "metadata": {},
   "outputs": [
    {
     "name": "stdout",
     "output_type": "stream",
     "text": [
      "{'Nome:': 'Guido Vam Russoum', 'Linguagem:': 'Python', 'Similar:': ['C', 'Modula-3', 'lisp'], 'Users:': 1000000}\n"
     ]
    }
   ],
   "source": [
    "print(data)"
   ]
  },
  {
   "cell_type": "code",
   "execution_count": 30,
   "id": "2f908b24",
   "metadata": {},
   "outputs": [],
   "source": [
    "# Imprimindo um arquivo JSON copiado diretamente da internet.\n",
    "\n",
    "from urllib.request import urlopen\n",
    "\n",
    "response = urlopen('http://vimeo.com/api/v2/video/57733101.json').read().decode('utf8')\n",
    "data = json.loads(response)[0]"
   ]
  },
  {
   "cell_type": "code",
   "execution_count": 35,
   "id": "41c12bbc",
   "metadata": {},
   "outputs": [
    {
     "name": "stdout",
     "output_type": "stream",
     "text": [
      "Título: The Good Man trailer\n",
      "URL: https://vimeo.com/57733101\n",
      "Duração: 143\n",
      "Número de visualizações: 6469\n"
     ]
    }
   ],
   "source": [
    "# Imprimindo os valores do arquivo JSON por chave e valor.\n",
    "\n",
    "print('Título:', data['title'])\n",
    "print('URL:', data['url'])\n",
    "print('Duração:', data['duration'])\n",
    "print('Número de visualizações:', data['stats_number_of_plays'])"
   ]
  },
  {
   "cell_type": "code",
   "execution_count": 36,
   "id": "a9c3b56b",
   "metadata": {},
   "outputs": [],
   "source": [
    "# Copiando o conteúdo de um arquivo para outro.\n",
    "# Neste caso estamos copiando o conteúdo de um arquivo JSON para um arquivo TXT.\n",
    "\n",
    "import os\n",
    "\n",
    "arquivo_fonte = 'archives/data.json'\n",
    "arquivo_destino = 'archives/archive4.txt'"
   ]
  },
  {
   "cell_type": "code",
   "execution_count": 33,
   "id": "6504bb05",
   "metadata": {},
   "outputs": [],
   "source": [
    "# Método 1 para copiar o conteúdo de um arquivo para o outro.\n",
    "\n",
    "with open(arquivo_fonte, 'r') as infile:\n",
    "    text = infile.read()\n",
    "    \n",
    "    with open(arquivo_destino, 'w') as outfile:\n",
    "        outfile.write(text)"
   ]
  },
  {
   "cell_type": "code",
   "execution_count": 37,
   "id": "42d7292f",
   "metadata": {},
   "outputs": [
    {
     "data": {
      "text/plain": [
       "112"
      ]
     },
     "execution_count": 37,
     "metadata": {},
     "output_type": "execute_result"
    }
   ],
   "source": [
    "# Método 2 para copiar o conteúdo de um arquivo para o outro.\n",
    "\n",
    "# Primeiramente abrimos o arquivo destino em modo de escrita, pois este arquivo irá receber os valores.\n",
    "# Posteriormente abrimos o arquivo fonte em modelo de leitura, onde este conteúdo será escrito no arquivo destino.\n",
    "# Este comando fica parecido com um comando de lambda.\n",
    "\n",
    "open(arquivo_destino, 'w').write(open(arquivo_fonte, 'r').read())"
   ]
  },
  {
   "cell_type": "code",
   "execution_count": null,
   "id": "4c4a4048",
   "metadata": {},
   "outputs": [],
   "source": []
  },
  {
   "cell_type": "code",
   "execution_count": null,
   "id": "e4fcee28",
   "metadata": {},
   "outputs": [],
   "source": []
  },
  {
   "cell_type": "code",
   "execution_count": null,
   "id": "30cc6acb",
   "metadata": {},
   "outputs": [],
   "source": []
  },
  {
   "cell_type": "code",
   "execution_count": null,
   "id": "00564f20",
   "metadata": {},
   "outputs": [],
   "source": []
  },
  {
   "cell_type": "code",
   "execution_count": null,
   "id": "d6ebe78e",
   "metadata": {},
   "outputs": [],
   "source": []
  }
 ],
 "metadata": {
  "kernelspec": {
   "display_name": "Python 3 (ipykernel)",
   "language": "python",
   "name": "python3"
  },
  "language_info": {
   "codemirror_mode": {
    "name": "ipython",
    "version": 3
   },
   "file_extension": ".py",
   "mimetype": "text/x-python",
   "name": "python",
   "nbconvert_exporter": "python",
   "pygments_lexer": "ipython3",
   "version": "3.9.12"
  }
 },
 "nbformat": 4,
 "nbformat_minor": 5
}
