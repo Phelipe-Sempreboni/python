{
 "cells": [
  {
   "cell_type": "markdown",
   "id": "022d3881",
   "metadata": {},
   "source": [
    "## Data Science Academy - Python Fundamentos - Capítulo 4\n",
    "\n",
    "### Download: http://github.com/dsacademybr"
   ]
  },
  {
   "cell_type": "markdown",
   "id": "fee15df3",
   "metadata": {},
   "source": [
    "### Manipulação de arquivos\n",
    "\n",
    "* Arquivo JSON"
   ]
  },
  {
   "cell_type": "markdown",
   "id": "a33c6d4c",
   "metadata": {},
   "source": [
    "### Manipulando Arquivos JSON (Java Script Object Notation)\n",
    "\n",
    "JSON (Java Script Object Notation) é uma maneira de armazenar informações de forma organizada e de fácil acesso. Em poucas palavras, ele nos dá uma coleção legível de dados que podem ser acessados de forma muito lógica. Pode ser uma fonta de Big Data."
   ]
  },
  {
   "cell_type": "code",
   "execution_count": 15,
   "id": "a02bdf37",
   "metadata": {},
   "outputs": [],
   "source": [
    "# Criando um dicionário\n",
    "\n",
    "dict = {\n",
    "     'Nome:': 'Guido Vam Russoum',\n",
    "     'Linguagem:': 'Python',\n",
    "     'Similar:': ['C', 'Modula-3', 'lisp'],\n",
    "     'Users:': 1000000\n",
    "        }"
   ]
  },
  {
   "cell_type": "code",
   "execution_count": 16,
   "id": "9c4fc113",
   "metadata": {},
   "outputs": [
    {
     "name": "stdout",
     "output_type": "stream",
     "text": [
      "Nome: Guido Vam Russoum\n",
      "Linguagem: Python\n",
      "Similar: ['C', 'Modula-3', 'lisp']\n",
      "Users: 1000000\n"
     ]
    }
   ],
   "source": [
    "for k,v in dict.items():\n",
    "    print(k,v)"
   ]
  },
  {
   "cell_type": "code",
   "execution_count": 17,
   "id": "3476bec3",
   "metadata": {},
   "outputs": [],
   "source": [
    "# Importando a biblioteca do JSON\n",
    "\n",
    "import json"
   ]
  },
  {
   "cell_type": "code",
   "execution_count": 18,
   "id": "f9349934",
   "metadata": {},
   "outputs": [
    {
     "data": {
      "text/plain": [
       "'{\"Nome:\": \"Guido Vam Russoum\", \"Linguagem:\": \"Python\", \"Similar:\": [\"C\", \"Modula-3\", \"lisp\"], \"Users:\": 1000000}'"
      ]
     },
     "execution_count": 18,
     "metadata": {},
     "output_type": "execute_result"
    }
   ],
   "source": [
    "# Convertendo o dicionário criado acima para um objeto em formato JSON\n",
    "\n",
    "json.dumps(dict)"
   ]
  },
  {
   "cell_type": "code",
   "execution_count": 19,
   "id": "b8402271",
   "metadata": {},
   "outputs": [],
   "source": [
    "# Criando um arquivo JSON\n",
    "# Notar que o conteúdo que será escrito neste arquivo JSON criado é o mesmo do dicionário criado acima anteriormente.\n",
    "\n",
    "with open('archives/data.json', 'w') as arquivo:\n",
    "    arquivo.write(json.dumps(dict))"
   ]
  },
  {
   "cell_type": "code",
   "execution_count": 20,
   "id": "03db68a2",
   "metadata": {},
   "outputs": [],
   "source": [
    "# Lendo um arquivo JSON\n",
    "# Notar que realizaremos a leitura do conteúdo do arquivo que foi criado no bloco logo acima\n",
    "\n",
    "with open('archives/data.json', 'r') as arquivo:\n",
    "    texto = arquivo.read()\n",
    "    data = json.loads(texto)"
   ]
  },
  {
   "cell_type": "code",
   "execution_count": 21,
   "id": "972e83d7",
   "metadata": {},
   "outputs": [
    {
     "name": "stdout",
     "output_type": "stream",
     "text": [
      "{'Nome:': 'Guido Vam Russoum', 'Linguagem:': 'Python', 'Similar:': ['C', 'Modula-3', 'lisp'], 'Users:': 1000000}\n"
     ]
    }
   ],
   "source": [
    "print(data)"
   ]
  },
  {
   "cell_type": "code",
   "execution_count": 27,
   "id": "99cee9fa",
   "metadata": {},
   "outputs": [],
   "source": [
    "# Imprimindo um arquivo JSON copiado diretamente da internet\n",
    "\n",
    "from urllib.request import urlopen\n",
    "\n",
    "response = urlopen('http://vimeo.com/api/v2/video/57733101.json').read().decode('utf8')\n",
    "data = json.loads(response)[0]"
   ]
  },
  {
   "cell_type": "code",
   "execution_count": 28,
   "id": "6fcc1982",
   "metadata": {},
   "outputs": [
    {
     "name": "stdout",
     "output_type": "stream",
     "text": [
      "Título: The Good Man trailer\n",
      "URL: https://vimeo.com/57733101\n",
      "Duração: 143\n",
      "Número de visualizações: 6469\n"
     ]
    }
   ],
   "source": [
    "# Imprimindo os valores do arquivo JSON por chave e valor.\n",
    "\n",
    "print('Título:', data['title'])\n",
    "print('URL:', data['url'])\n",
    "print('Duração:', data['duration'])\n",
    "print('Número de visualizações:', data['stats_number_of_plays'])"
   ]
  },
  {
   "cell_type": "code",
   "execution_count": null,
   "id": "b6a73808",
   "metadata": {},
   "outputs": [],
   "source": []
  },
  {
   "cell_type": "code",
   "execution_count": null,
   "id": "addd4eb5",
   "metadata": {},
   "outputs": [],
   "source": []
  },
  {
   "cell_type": "code",
   "execution_count": null,
   "id": "b3208288",
   "metadata": {},
   "outputs": [],
   "source": []
  },
  {
   "cell_type": "code",
   "execution_count": null,
   "id": "d9c0c81a",
   "metadata": {},
   "outputs": [],
   "source": []
  }
 ],
 "metadata": {
  "kernelspec": {
   "display_name": "Python 3 (ipykernel)",
   "language": "python",
   "name": "python3"
  },
  "language_info": {
   "codemirror_mode": {
    "name": "ipython",
    "version": 3
   },
   "file_extension": ".py",
   "mimetype": "text/x-python",
   "name": "python",
   "nbconvert_exporter": "python",
   "pygments_lexer": "ipython3",
   "version": "3.9.12"
  }
 },
 "nbformat": 4,
 "nbformat_minor": 5
}
