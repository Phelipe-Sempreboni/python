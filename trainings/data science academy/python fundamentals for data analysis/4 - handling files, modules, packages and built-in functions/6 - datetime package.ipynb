{
 "cells": [
  {
   "cell_type": "markdown",
   "id": "226aa4b9",
   "metadata": {},
   "source": [
    "# <font color='blue'>Data Science Academy - Python Fundamentos - Capítulo 4</font>\n",
    "\n",
    "## Download: http://github.com/dsacademybr"
   ]
  },
  {
   "cell_type": "markdown",
   "id": "22844b33",
   "metadata": {},
   "source": [
    "## Datetime\n",
    "\n",
    "Esse módulo permite a manipulação de datas em Python."
   ]
  },
  {
   "cell_type": "code",
   "execution_count": 7,
   "id": "40513bb7",
   "metadata": {},
   "outputs": [],
   "source": [
    "# Importando o pacote\n",
    "\n",
    "import datetime"
   ]
  },
  {
   "cell_type": "code",
   "execution_count": 45,
   "id": "dc853b43",
   "metadata": {},
   "outputs": [],
   "source": [
    "# Atribuindo valor na variável \"agora\" com o módulo \"datetime\".\n",
    "\n",
    "agora = datetime.datetime.now()"
   ]
  },
  {
   "cell_type": "code",
   "execution_count": 46,
   "id": "f11dc1e6",
   "metadata": {},
   "outputs": [
    {
     "data": {
      "text/plain": [
       "datetime.datetime(2022, 8, 10, 21, 42, 7, 611666)"
      ]
     },
     "execution_count": 46,
     "metadata": {},
     "output_type": "execute_result"
    }
   ],
   "source": [
    "# Imprimindo a variável \"agora\" sem a utilização de print().\n",
    "\n",
    "agora"
   ]
  },
  {
   "cell_type": "code",
   "execution_count": 47,
   "id": "3b7d40c0",
   "metadata": {},
   "outputs": [
    {
     "name": "stdout",
     "output_type": "stream",
     "text": [
      "2022-08-10 21:42:07.611666\n"
     ]
    }
   ],
   "source": [
    "# Imprimindo a variável \"agora\" com a utilização de print().\n",
    "\n",
    "print(agora)"
   ]
  },
  {
   "cell_type": "code",
   "execution_count": 49,
   "id": "36effaf4",
   "metadata": {},
   "outputs": [],
   "source": [
    "# Atribuindo valor na variável \"t\" com o módulo \"datetime\".\n",
    "\n",
    "t = datetime.time(7, 43, 28)"
   ]
  },
  {
   "cell_type": "code",
   "execution_count": 13,
   "id": "d655d144",
   "metadata": {},
   "outputs": [
    {
     "data": {
      "text/plain": [
       "datetime.time(7, 43, 28)"
      ]
     },
     "execution_count": 13,
     "metadata": {},
     "output_type": "execute_result"
    }
   ],
   "source": [
    "# Imprimindo a variável \"t\" sem a utilização de print().\n",
    "\n",
    "t"
   ]
  },
  {
   "cell_type": "code",
   "execution_count": 14,
   "id": "97aa3200",
   "metadata": {},
   "outputs": [
    {
     "name": "stdout",
     "output_type": "stream",
     "text": [
      "07:43:28\n"
     ]
    }
   ],
   "source": [
    "# Imprimindo a variável \"agora\" com a utilização de print().\n",
    "\n",
    "print(t)"
   ]
  },
  {
   "cell_type": "code",
   "execution_count": 50,
   "id": "7227aece",
   "metadata": {},
   "outputs": [
    {
     "name": "stdout",
     "output_type": "stream",
     "text": [
      "Hora: 7\n",
      "Minuto: 43\n",
      "Segundo: 28\n",
      "Microsegundo: 0\n"
     ]
    }
   ],
   "source": [
    "# Atribuindo nas variáveis abaixo e imprimindo a hora, minuto, segundo e microsegundo\n",
    "\n",
    "print('Hora:', t.hour)\n",
    "print('Minuto:', t.minute)\n",
    "print('Segundo:', t.second)\n",
    "print('Microsegundo:', t.microsecond)"
   ]
  },
  {
   "cell_type": "code",
   "execution_count": 51,
   "id": "0f6ed6c5",
   "metadata": {},
   "outputs": [
    {
     "name": "stdout",
     "output_type": "stream",
     "text": [
      "00:00:00\n"
     ]
    }
   ],
   "source": [
    "# Imprimindo os minutos\n",
    "\n",
    "print(datetime.time.min)"
   ]
  },
  {
   "cell_type": "code",
   "execution_count": 18,
   "id": "fb8353d9",
   "metadata": {},
   "outputs": [],
   "source": [
    "# Atribuindo valor na variável \"hoje\" com o módulo \"datetime\".\n",
    "\n",
    "hoje = datetime.date.today()"
   ]
  },
  {
   "cell_type": "code",
   "execution_count": 19,
   "id": "6cc9f293",
   "metadata": {},
   "outputs": [
    {
     "data": {
      "text/plain": [
       "datetime.date(2022, 8, 10)"
      ]
     },
     "execution_count": 19,
     "metadata": {},
     "output_type": "execute_result"
    }
   ],
   "source": [
    "# Imprimindo a variável \"hoje\" sem a utilização de print().\n",
    "\n",
    "hoje"
   ]
  },
  {
   "cell_type": "code",
   "execution_count": 52,
   "id": "80b80bb3",
   "metadata": {},
   "outputs": [
    {
     "name": "stdout",
     "output_type": "stream",
     "text": [
      "2022-08-10\n"
     ]
    }
   ],
   "source": [
    "# Imprimindo a variável \"hoje\" com a utilização de print().\n",
    "\n",
    "print(hoje)"
   ]
  },
  {
   "cell_type": "code",
   "execution_count": 40,
   "id": "46c03188",
   "metadata": {},
   "outputs": [
    {
     "name": "stdout",
     "output_type": "stream",
     "text": [
      "2022-08-10\n",
      "ctime:  Wed Aug 10 00:00:00 2022\n",
      "Ano:  2022\n",
      "Mês:  8\n",
      "Dia:  10\n"
     ]
    }
   ],
   "source": [
    "print(hoje)\n",
    "print('ctime: ', hoje.ctime())\n",
    "print('Ano: ', hoje.year)\n",
    "print('Mês: ', hoje.month)\n",
    "print('Dia: ', hoje.day)"
   ]
  },
  {
   "cell_type": "code",
   "execution_count": 37,
   "id": "895e12a0",
   "metadata": {},
   "outputs": [
    {
     "data": {
      "text/plain": [
       "['__add__',\n",
       " '__class__',\n",
       " '__delattr__',\n",
       " '__dir__',\n",
       " '__doc__',\n",
       " '__eq__',\n",
       " '__format__',\n",
       " '__ge__',\n",
       " '__getattribute__',\n",
       " '__gt__',\n",
       " '__hash__',\n",
       " '__init__',\n",
       " '__init_subclass__',\n",
       " '__le__',\n",
       " '__lt__',\n",
       " '__ne__',\n",
       " '__new__',\n",
       " '__radd__',\n",
       " '__reduce__',\n",
       " '__reduce_ex__',\n",
       " '__repr__',\n",
       " '__rsub__',\n",
       " '__setattr__',\n",
       " '__sizeof__',\n",
       " '__str__',\n",
       " '__sub__',\n",
       " '__subclasshook__',\n",
       " 'astimezone',\n",
       " 'combine',\n",
       " 'ctime',\n",
       " 'date',\n",
       " 'day',\n",
       " 'dst',\n",
       " 'fold',\n",
       " 'fromisocalendar',\n",
       " 'fromisoformat',\n",
       " 'fromordinal',\n",
       " 'fromtimestamp',\n",
       " 'hour',\n",
       " 'isocalendar',\n",
       " 'isoformat',\n",
       " 'isoweekday',\n",
       " 'max',\n",
       " 'microsecond',\n",
       " 'min',\n",
       " 'minute',\n",
       " 'month',\n",
       " 'now',\n",
       " 'replace',\n",
       " 'resolution',\n",
       " 'second',\n",
       " 'strftime',\n",
       " 'strptime',\n",
       " 'time',\n",
       " 'timestamp',\n",
       " 'timetuple',\n",
       " 'timetz',\n",
       " 'today',\n",
       " 'toordinal',\n",
       " 'tzinfo',\n",
       " 'tzname',\n",
       " 'utcfromtimestamp',\n",
       " 'utcnow',\n",
       " 'utcoffset',\n",
       " 'utctimetuple',\n",
       " 'weekday',\n",
       " 'year']"
      ]
     },
     "execution_count": 37,
     "metadata": {},
     "output_type": "execute_result"
    }
   ],
   "source": [
    "dir(datetime.datetime)"
   ]
  },
  {
   "cell_type": "code",
   "execution_count": 41,
   "id": "82686a21",
   "metadata": {},
   "outputs": [
    {
     "name": "stdout",
     "output_type": "stream",
     "text": [
      "d1:  2015-04-28\n"
     ]
    }
   ],
   "source": [
    "d1 = datetime.date(2015, 4, 28)\n",
    "print('d1: ', d1)"
   ]
  },
  {
   "cell_type": "code",
   "execution_count": 42,
   "id": "f3a497a1",
   "metadata": {},
   "outputs": [
    {
     "name": "stdout",
     "output_type": "stream",
     "text": [
      "d2:  2016-04-28\n"
     ]
    }
   ],
   "source": [
    "d2 = d1.replace(year=2016)\n",
    "print('d2: ', d2)"
   ]
  },
  {
   "cell_type": "code",
   "execution_count": 43,
   "id": "007c63a1",
   "metadata": {},
   "outputs": [
    {
     "data": {
      "text/plain": [
       "datetime.timedelta(days=366)"
      ]
     },
     "execution_count": 43,
     "metadata": {},
     "output_type": "execute_result"
    }
   ],
   "source": [
    "# Diferença entre datas sem utilização do print().\n",
    "d2-d1"
   ]
  },
  {
   "cell_type": "code",
   "execution_count": 44,
   "id": "d0e60080",
   "metadata": {},
   "outputs": [
    {
     "name": "stdout",
     "output_type": "stream",
     "text": [
      "366 days, 0:00:00\n"
     ]
    }
   ],
   "source": [
    "# Diferença entre datas com utilização do print().\n",
    "print(d2-d1)"
   ]
  },
  {
   "cell_type": "code",
   "execution_count": null,
   "id": "ef6d5231",
   "metadata": {},
   "outputs": [],
   "source": []
  },
  {
   "cell_type": "code",
   "execution_count": null,
   "id": "d1abc366",
   "metadata": {},
   "outputs": [],
   "source": []
  },
  {
   "cell_type": "code",
   "execution_count": null,
   "id": "51a37b8c",
   "metadata": {},
   "outputs": [],
   "source": []
  },
  {
   "cell_type": "code",
   "execution_count": null,
   "id": "4e72b189",
   "metadata": {},
   "outputs": [],
   "source": []
  },
  {
   "cell_type": "code",
   "execution_count": null,
   "id": "5f7fdb0f",
   "metadata": {},
   "outputs": [],
   "source": []
  },
  {
   "cell_type": "code",
   "execution_count": null,
   "id": "61492bb1",
   "metadata": {},
   "outputs": [],
   "source": []
  },
  {
   "cell_type": "code",
   "execution_count": null,
   "id": "b817d5fb",
   "metadata": {},
   "outputs": [],
   "source": []
  }
 ],
 "metadata": {
  "kernelspec": {
   "display_name": "Python 3 (ipykernel)",
   "language": "python",
   "name": "python3"
  },
  "language_info": {
   "codemirror_mode": {
    "name": "ipython",
    "version": 3
   },
   "file_extension": ".py",
   "mimetype": "text/x-python",
   "name": "python",
   "nbconvert_exporter": "python",
   "pygments_lexer": "ipython3",
   "version": "3.9.12"
  }
 },
 "nbformat": 4,
 "nbformat_minor": 5
}
