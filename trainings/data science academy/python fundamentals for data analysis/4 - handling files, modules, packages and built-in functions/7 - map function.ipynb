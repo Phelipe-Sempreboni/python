{
 "cells": [
  {
   "cell_type": "markdown",
   "id": "b08371fc",
   "metadata": {},
   "source": [
    "# <font color='blue'>Data Science Academy - Python Fundamentos - Capítulo 4</font>\n",
    "\n",
    "## Download: http://github.com/dsacademybr"
   ]
  },
  {
   "cell_type": "markdown",
   "id": "49beea8c",
   "metadata": {},
   "source": [
    "### Função Map"
   ]
  },
  {
   "cell_type": "code",
   "execution_count": 17,
   "id": "093d8542",
   "metadata": {},
   "outputs": [],
   "source": [
    "# Criando duas funções, onde essas funções irão servir de exemplos para utilização de funções lambda.\n",
    "\n",
    "# Uma função será para calcular uma temperatura em Fahreheit.\n",
    "# Uma função será para calcular uma temperatura em Celsius.\n",
    "\n",
    "# Função 1 - Recebe uma temperatura como parâmetro e retorna a temperatura em Fahreheit.\n",
    "def fahreheit(T):\n",
    "    return ((float(9)/5)*T + 32)\n",
    "\n",
    "\n",
    "# Função 1 - Recebe uma temperatura como parâmetro e retorna a temperatura em Celsius.\n",
    "def celsius(T):\n",
    "    return ((float(9)/5)*T - 32)"
   ]
  },
  {
   "cell_type": "code",
   "execution_count": 18,
   "id": "0d3378b8",
   "metadata": {},
   "outputs": [],
   "source": [
    "# Criando uma lista de temperaturas, que serão utilizadas para os testes\n",
    "temperaturas = [0, 22.5, 40, 100]"
   ]
  },
  {
   "cell_type": "code",
   "execution_count": 19,
   "id": "92244836",
   "metadata": {},
   "outputs": [
    {
     "ename": "TypeError",
     "evalue": "can't multiply sequence by non-int of type 'float'",
     "output_type": "error",
     "traceback": [
      "\u001b[1;31m---------------------------------------------------------------------------\u001b[0m",
      "\u001b[1;31mTypeError\u001b[0m                                 Traceback (most recent call last)",
      "Input \u001b[1;32mIn [19]\u001b[0m, in \u001b[0;36m<cell line: 4>\u001b[1;34m()\u001b[0m\n\u001b[0;32m      1\u001b[0m \u001b[38;5;66;03m# Aqui tentamos imprimir os valores calculados da variável \"temperaturas\" com a função \"fahreheit\".\u001b[39;00m\n\u001b[0;32m      2\u001b[0m \u001b[38;5;66;03m# Notar que irá ocorrer um erro, pois não é possível imprimir uma sequência de valores dessa maneira.\u001b[39;00m\n\u001b[1;32m----> 4\u001b[0m \u001b[38;5;28mprint\u001b[39m(\u001b[43mfahreheit\u001b[49m\u001b[43m(\u001b[49m\u001b[43mtemperaturas\u001b[49m\u001b[43m)\u001b[49m)\n",
      "Input \u001b[1;32mIn [17]\u001b[0m, in \u001b[0;36mfahreheit\u001b[1;34m(T)\u001b[0m\n\u001b[0;32m      7\u001b[0m \u001b[38;5;28;01mdef\u001b[39;00m \u001b[38;5;21mfahreheit\u001b[39m(T):\n\u001b[1;32m----> 8\u001b[0m     \u001b[38;5;28;01mreturn\u001b[39;00m (\u001b[43m(\u001b[49m\u001b[38;5;28;43mfloat\u001b[39;49m\u001b[43m(\u001b[49m\u001b[38;5;241;43m9\u001b[39;49m\u001b[43m)\u001b[49m\u001b[38;5;241;43m/\u001b[39;49m\u001b[38;5;241;43m5\u001b[39;49m\u001b[43m)\u001b[49m\u001b[38;5;241;43m*\u001b[39;49m\u001b[43mT\u001b[49m \u001b[38;5;241m+\u001b[39m \u001b[38;5;241m32\u001b[39m)\n",
      "\u001b[1;31mTypeError\u001b[0m: can't multiply sequence by non-int of type 'float'"
     ]
    }
   ],
   "source": [
    "# Aqui tentamos imprimir os valores calculados da variável \"temperaturas\" com a função \"fahreheit\".\n",
    "# Notar que irá ocorrer um erro, pois não é possível imprimir uma sequência de valores dessa maneira.\n",
    "\n",
    "print(fahreheit(temperaturas))"
   ]
  },
  {
   "cell_type": "code",
   "execution_count": 20,
   "id": "55a07b77",
   "metadata": {},
   "outputs": [
    {
     "name": "stdout",
     "output_type": "stream",
     "text": [
      "72.5\n"
     ]
    }
   ],
   "source": [
    "# Aqui tentamos imprimir o valor isolado de \"22.5\" com a função \"fahreheit\".\n",
    "# Neste caso será possível realizar o cálculo, porém somente de um valor e não com a variável \"temperaturas\".\n",
    "# Logo abaixo veremos onde a função \"map\" consegue lidar com este tipo de situação.\n",
    "\n",
    "print(fahreheit(22.5))"
   ]
  },
  {
   "cell_type": "code",
   "execution_count": 25,
   "id": "3f538c12",
   "metadata": {},
   "outputs": [
    {
     "data": {
      "text/plain": [
       "<map at 0x2139e5d4070>"
      ]
     },
     "execution_count": 25,
     "metadata": {},
     "output_type": "execute_result"
    }
   ],
   "source": [
    "# Aqui tentamos imprimir os valores calculados da variável \"temperaturas\" com a função \"fahreheit\", utilizando \"map\".\n",
    "# Aplicamos a função \"map\" a cada elemento da lista de temperaturas.\n",
    "# Em Python 3, a função \"map\" retorna um interator.\n",
    "# Notar que não ocorrerá erros, onde a função \"map\" consegue realizar o cálculo da lista de valores \"temperaturas\".\n",
    "# Abaixo vamos converter o resultado para uma lista, onde conseguiremos enxergar o resultado em forma normal.\n",
    "\n",
    "map(fahreheit, temperaturas)"
   ]
  },
  {
   "cell_type": "code",
   "execution_count": 28,
   "id": "69974c82",
   "metadata": {},
   "outputs": [
    {
     "data": {
      "text/plain": [
       "[32.0, 72.5, 104.0, 212.0]"
      ]
     },
     "execution_count": 28,
     "metadata": {},
     "output_type": "execute_result"
    }
   ],
   "source": [
    "# Convertendo o resultado acima em uma lista, para conseguirmos enxergar os valores corretamente.\n",
    "# Notar que agora conseguiremos enxergar o resultado e sem erros também.\n",
    "# Aqui conseguimos enxergar o quão útil é a função \"map\".\n",
    "# Notar que abaixo iremos realizar a função com um loop for, mas note que não é necessário neste caso.\n",
    "# A única coisa é que o loop for irá informar um número abaixo do outro, mas com os mesmos resultados.\n",
    "\n",
    "(list(map(fahreheit, temperaturas)))"
   ]
  },
  {
   "cell_type": "code",
   "execution_count": 29,
   "id": "d2e3adb3",
   "metadata": {},
   "outputs": [
    {
     "name": "stdout",
     "output_type": "stream",
     "text": [
      "32.0\n",
      "72.5\n",
      "104.0\n",
      "212.0\n"
     ]
    }
   ],
   "source": [
    "# Utilizando um loop for para imprimir o resultado da função \"map\".\n",
    "# Vale mas notar que não é necessário neste caso utilizar um loop for, mas sim, pode ser utilizado.\n",
    "# A única coisa é que o loop for irá informar um número abaixo do outro, mas com os mesmos resultados.\n",
    "\n",
    "for temps in map(fahreheit, temperaturas):\n",
    "    print(temps)"
   ]
  },
  {
   "cell_type": "code",
   "execution_count": 31,
   "id": "8be97d20",
   "metadata": {},
   "outputs": [
    {
     "data": {
      "text/plain": [
       "<map at 0x2139f6ba970>"
      ]
     },
     "execution_count": 31,
     "metadata": {},
     "output_type": "execute_result"
    }
   ],
   "source": [
    "# Aqui tentamos imprimir os valores calculados da variável \"temperaturas\" com a função \"celsius\", utilizando \"map\".\n",
    "# Aplicamos a função \"map\" a cada elemento da lista de temperaturas.\n",
    "# Em Python 3, a função \"map\" retorna um interator.\n",
    "# Notar que não ocorrerá erros, onde a função \"map\" consegue realizar o cálculo da lista de valores \"temperaturas\".\n",
    "# Abaixo vamos converter o resultado para uma lista, onde conseguiremos enxergar o resultado em forma normal.\n",
    "\n",
    "map(celsius, temperaturas)"
   ]
  },
  {
   "cell_type": "code",
   "execution_count": 32,
   "id": "233d0bb2",
   "metadata": {},
   "outputs": [
    {
     "data": {
      "text/plain": [
       "[-32.0, 8.5, 40.0, 148.0]"
      ]
     },
     "execution_count": 32,
     "metadata": {},
     "output_type": "execute_result"
    }
   ],
   "source": [
    "# Convertendo o resultado acima em uma lista, para conseguirmos enxergar os valores corretamente.\n",
    "# Notar que agora conseguiremos enxergar o resultado e sem erros também.\n",
    "# Aqui conseguimos enxergar o quão útil é a função \"map\".\n",
    "# Notar que abaixo iremos realizar a função com um loop for, mas note que não é necessário neste caso.\n",
    "# A única coisa é que o loop for irá informar um número abaixo do outro, mas com os mesmos resultados.\n",
    "\n",
    "list(map(celsius, temperaturas))"
   ]
  },
  {
   "cell_type": "code",
   "execution_count": 33,
   "id": "4e3ae566",
   "metadata": {},
   "outputs": [
    {
     "name": "stdout",
     "output_type": "stream",
     "text": [
      "-32.0\n",
      "8.5\n",
      "40.0\n",
      "148.0\n"
     ]
    }
   ],
   "source": [
    "# Utilizando um loop for para imprimir o resultado da função \"map\".\n",
    "# Vale mas notar que não é necessário neste caso utilizar um loop for, mas sim, pode ser utilizado.\n",
    "# A única coisa é que o loop for irá informar um número abaixo do outro, mas com os mesmos resultados.\n",
    "\n",
    "for temps in map(celsius, temperaturas):\n",
    "    print(temps)"
   ]
  },
  {
   "cell_type": "code",
   "execution_count": 40,
   "id": "1f025176",
   "metadata": {},
   "outputs": [],
   "source": [
    "# Aqui iremos utilizar a função lambda para substituir a função nomeada como \"fahreheit\".\n",
    "\n",
    "# Abaixo relembrando a função \"fahreheit\".\n",
    "\n",
    "# Função 1 - Recebe uma temperatura como parâmetro e retorna a temperatura em Fahreheit.\n",
    "def fahreheit(T):\n",
    "    return ((float(9)/5)*T + 32)\n",
    "\n",
    "# Primeiro simplificando a função \"fahreheit\".\n",
    "def fahreheit(T): return ((float(9)/5)*T + 32)\n",
    "\n",
    "# Agora transformando a função \"fahreheit\" em função lambda.\n",
    "lambda x: (5.0/9)*(x-32)\n",
    "\n",
    "# Atribuindo a função lambda criada em uma variável chamada \"calculo_temp\".\n",
    "calculo_temp = lambda x: (5.0/9)*(x+32)"
   ]
  },
  {
   "cell_type": "code",
   "execution_count": 42,
   "id": "1a48b9f9",
   "metadata": {},
   "outputs": [
    {
     "name": "stdout",
     "output_type": "stream",
     "text": [
      "30.27777777777778\n"
     ]
    }
   ],
   "source": [
    "# Utilizando a função lambda que foi atribuída na variável \"calculo_temp\" com o valor \"22.5\".\n",
    "\n",
    "print(calculo_temp(22.5))"
   ]
  },
  {
   "cell_type": "code",
   "execution_count": 44,
   "id": "a23306cf",
   "metadata": {},
   "outputs": [
    {
     "ename": "TypeError",
     "evalue": "can only concatenate list (not \"int\") to list",
     "output_type": "error",
     "traceback": [
      "\u001b[1;31m---------------------------------------------------------------------------\u001b[0m",
      "\u001b[1;31mTypeError\u001b[0m                                 Traceback (most recent call last)",
      "Input \u001b[1;32mIn [44]\u001b[0m, in \u001b[0;36m<cell line: 4>\u001b[1;34m()\u001b[0m\n\u001b[0;32m      1\u001b[0m \u001b[38;5;66;03m# Aqui tentamos imprimir os valores calculados da variável \"temperaturas\" com a função \"fahreheit\" em lambda.\u001b[39;00m\n\u001b[0;32m      2\u001b[0m \u001b[38;5;66;03m# Notar que irá ocorrer um erro, pois não é possível imprimir uma sequência de valores dessa maneira.\u001b[39;00m\n\u001b[1;32m----> 4\u001b[0m \u001b[38;5;28mprint\u001b[39m(\u001b[43mcalculo_temp\u001b[49m\u001b[43m(\u001b[49m\u001b[43mtemperaturas\u001b[49m\u001b[43m)\u001b[49m)\n",
      "Input \u001b[1;32mIn [40]\u001b[0m, in \u001b[0;36m<lambda>\u001b[1;34m(x)\u001b[0m\n\u001b[0;32m     13\u001b[0m \u001b[38;5;28;01mlambda\u001b[39;00m x: (\u001b[38;5;241m5.0\u001b[39m\u001b[38;5;241m/\u001b[39m\u001b[38;5;241m9\u001b[39m)\u001b[38;5;241m*\u001b[39m(x\u001b[38;5;241m-\u001b[39m\u001b[38;5;241m32\u001b[39m)\n\u001b[0;32m     15\u001b[0m \u001b[38;5;66;03m# Atribuindo a função lambda criada em uma variável chamada \"calculo_temp\".\u001b[39;00m\n\u001b[1;32m---> 16\u001b[0m calculo_temp \u001b[38;5;241m=\u001b[39m \u001b[38;5;28;01mlambda\u001b[39;00m x: (\u001b[38;5;241m5.0\u001b[39m\u001b[38;5;241m/\u001b[39m\u001b[38;5;241m9\u001b[39m)\u001b[38;5;241m*\u001b[39m(\u001b[43mx\u001b[49m\u001b[38;5;241;43m+\u001b[39;49m\u001b[38;5;241;43m32\u001b[39;49m)\n",
      "\u001b[1;31mTypeError\u001b[0m: can only concatenate list (not \"int\") to list"
     ]
    }
   ],
   "source": [
    "# Aqui tentamos imprimir os valores calculados da variável \"temperaturas\" com a função \"fahreheit\" em lambda.\n",
    "# Notar que irá ocorrer um erro, pois não é possível imprimir uma sequência de valores dessa maneira.\n",
    "\n",
    "print(calculo_temp(temperaturas))"
   ]
  },
  {
   "cell_type": "code",
   "execution_count": 45,
   "id": "8207f213",
   "metadata": {},
   "outputs": [
    {
     "data": {
      "text/plain": [
       "<function __main__.<lambda>(x)>"
      ]
     },
     "execution_count": 45,
     "metadata": {},
     "output_type": "execute_result"
    }
   ],
   "source": [
    "# Agora iremos utilizar a função \"map\" com a função lambda acima, onde será possível a impressão dos valores.\n",
    "# Com a utilização da maneira abaixo é possível imprimir os valores da variável \"temperaturas\".\n",
    "# Vamos por partes\n",
    "\n",
    "# Primeiro a declaração lambda para simular a função noemado no inicio do arquivo como \"fahreheit\".\n",
    "lambda x: (5.0/9)*(x-32)\n",
    "\n"
   ]
  },
  {
   "cell_type": "code",
   "execution_count": null,
   "id": "e6c6f627",
   "metadata": {},
   "outputs": [],
   "source": []
  },
  {
   "cell_type": "code",
   "execution_count": null,
   "id": "458cfeb8",
   "metadata": {},
   "outputs": [],
   "source": []
  },
  {
   "cell_type": "code",
   "execution_count": null,
   "id": "2851903f",
   "metadata": {},
   "outputs": [],
   "source": []
  },
  {
   "cell_type": "code",
   "execution_count": null,
   "id": "005b8b71",
   "metadata": {},
   "outputs": [],
   "source": []
  }
 ],
 "metadata": {
  "kernelspec": {
   "display_name": "Python 3 (ipykernel)",
   "language": "python",
   "name": "python3"
  },
  "language_info": {
   "codemirror_mode": {
    "name": "ipython",
    "version": 3
   },
   "file_extension": ".py",
   "mimetype": "text/x-python",
   "name": "python",
   "nbconvert_exporter": "python",
   "pygments_lexer": "ipython3",
   "version": "3.9.12"
  }
 },
 "nbformat": 4,
 "nbformat_minor": 5
}
