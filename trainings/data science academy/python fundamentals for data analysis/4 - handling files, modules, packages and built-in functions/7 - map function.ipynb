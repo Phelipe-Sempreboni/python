{
 "cells": [
  {
   "cell_type": "markdown",
   "id": "c35698ff",
   "metadata": {},
   "source": [
    "# <font color='blue'>Data Science Academy - Python Fundamentos - Capítulo 4</font>\n",
    "\n",
    "## Download: http://github.com/dsacademybr"
   ]
  },
  {
   "cell_type": "markdown",
   "id": "f09e20e4",
   "metadata": {},
   "source": [
    "### Função Map"
   ]
  },
  {
   "cell_type": "code",
   "execution_count": 17,
   "id": "2aecbde9",
   "metadata": {},
   "outputs": [],
   "source": [
    "# Criando duas funções, onde essas funções irão servir de exemplos para utilização de funções lambda.\n",
    "\n",
    "# Uma função será para calcular uma temperatura em Fahreheit.\n",
    "# Uma função será para calcular uma temperatura em Celsius.\n",
    "\n",
    "# Função 1 - Recebe uma temperatura como parâmetro e retorna a temperatura em Fahreheit.\n",
    "def fahreheit(T):\n",
    "    return ((float(9)/5)*T + 32)\n",
    "\n",
    "\n",
    "# Função 1 - Recebe uma temperatura como parâmetro e retorna a temperatura em Celsius.\n",
    "def celsius(T):\n",
    "    return ((float(9)/5)*T - 32)"
   ]
  },
  {
   "cell_type": "code",
   "execution_count": 18,
   "id": "3bc4a05a",
   "metadata": {},
   "outputs": [],
   "source": [
    "# Criando uma lista de temperaturas, que serão utilizadas para os testes\n",
    "temperaturas = [0, 22.5, 40, 100]"
   ]
  },
  {
   "cell_type": "code",
   "execution_count": 19,
   "id": "f9db1250",
   "metadata": {},
   "outputs": [
    {
     "ename": "TypeError",
     "evalue": "can't multiply sequence by non-int of type 'float'",
     "output_type": "error",
     "traceback": [
      "\u001b[1;31m---------------------------------------------------------------------------\u001b[0m",
      "\u001b[1;31mTypeError\u001b[0m                                 Traceback (most recent call last)",
      "Input \u001b[1;32mIn [19]\u001b[0m, in \u001b[0;36m<cell line: 4>\u001b[1;34m()\u001b[0m\n\u001b[0;32m      1\u001b[0m \u001b[38;5;66;03m# Aqui tentamos imprimir os valores calculados da variável \"temperaturas\" com a função \"fahreheit\".\u001b[39;00m\n\u001b[0;32m      2\u001b[0m \u001b[38;5;66;03m# Notar que irá ocorrer um erro, pois não é possível imprimir uma sequência de valores dessa maneira.\u001b[39;00m\n\u001b[1;32m----> 4\u001b[0m \u001b[38;5;28mprint\u001b[39m(\u001b[43mfahreheit\u001b[49m\u001b[43m(\u001b[49m\u001b[43mtemperaturas\u001b[49m\u001b[43m)\u001b[49m)\n",
      "Input \u001b[1;32mIn [17]\u001b[0m, in \u001b[0;36mfahreheit\u001b[1;34m(T)\u001b[0m\n\u001b[0;32m      7\u001b[0m \u001b[38;5;28;01mdef\u001b[39;00m \u001b[38;5;21mfahreheit\u001b[39m(T):\n\u001b[1;32m----> 8\u001b[0m     \u001b[38;5;28;01mreturn\u001b[39;00m (\u001b[43m(\u001b[49m\u001b[38;5;28;43mfloat\u001b[39;49m\u001b[43m(\u001b[49m\u001b[38;5;241;43m9\u001b[39;49m\u001b[43m)\u001b[49m\u001b[38;5;241;43m/\u001b[39;49m\u001b[38;5;241;43m5\u001b[39;49m\u001b[43m)\u001b[49m\u001b[38;5;241;43m*\u001b[39;49m\u001b[43mT\u001b[49m \u001b[38;5;241m+\u001b[39m \u001b[38;5;241m32\u001b[39m)\n",
      "\u001b[1;31mTypeError\u001b[0m: can't multiply sequence by non-int of type 'float'"
     ]
    }
   ],
   "source": [
    "# Aqui tentamos imprimir os valores calculados da variável \"temperaturas\" com a função \"fahreheit\".\n",
    "# Notar que irá ocorrer um erro, pois não é possível imprimir uma sequência de valores dessa maneira.\n",
    "\n",
    "print(fahreheit(temperaturas))"
   ]
  },
  {
   "cell_type": "code",
   "execution_count": 20,
   "id": "45ff8dba",
   "metadata": {},
   "outputs": [
    {
     "name": "stdout",
     "output_type": "stream",
     "text": [
      "72.5\n"
     ]
    }
   ],
   "source": [
    "# Aqui tentamos imprimir o valor isolado de \"22.5\" com a função \"fahreheit\".\n",
    "# Neste caso será possível realizar o cálculo, porém somente de um valor e não com a variável \"temperaturas\".\n",
    "# Logo abaixo veremos onde a função \"map\" consegue lidar com este tipo de situação.\n",
    "\n",
    "print(fahreheit(22.5))"
   ]
  },
  {
   "cell_type": "code",
   "execution_count": null,
   "id": "73683073",
   "metadata": {},
   "outputs": [],
   "source": []
  },
  {
   "cell_type": "code",
   "execution_count": null,
   "id": "4850f0e6",
   "metadata": {},
   "outputs": [],
   "source": []
  },
  {
   "cell_type": "code",
   "execution_count": null,
   "id": "505ee5a7",
   "metadata": {},
   "outputs": [],
   "source": []
  },
  {
   "cell_type": "code",
   "execution_count": null,
   "id": "c65963b7",
   "metadata": {},
   "outputs": [],
   "source": []
  },
  {
   "cell_type": "code",
   "execution_count": null,
   "id": "2944d488",
   "metadata": {},
   "outputs": [],
   "source": []
  },
  {
   "cell_type": "code",
   "execution_count": null,
   "id": "fab905f3",
   "metadata": {},
   "outputs": [],
   "source": []
  },
  {
   "cell_type": "code",
   "execution_count": null,
   "id": "2f8704e7",
   "metadata": {},
   "outputs": [],
   "source": []
  },
  {
   "cell_type": "code",
   "execution_count": null,
   "id": "e651ab92",
   "metadata": {},
   "outputs": [],
   "source": []
  },
  {
   "cell_type": "code",
   "execution_count": null,
   "id": "815919de",
   "metadata": {},
   "outputs": [],
   "source": []
  },
  {
   "cell_type": "code",
   "execution_count": null,
   "id": "e2b75818",
   "metadata": {},
   "outputs": [],
   "source": []
  },
  {
   "cell_type": "code",
   "execution_count": null,
   "id": "edddfa51",
   "metadata": {},
   "outputs": [],
   "source": []
  },
  {
   "cell_type": "code",
   "execution_count": null,
   "id": "1e66d4b4",
   "metadata": {},
   "outputs": [],
   "source": []
  },
  {
   "cell_type": "code",
   "execution_count": null,
   "id": "6ac39b5d",
   "metadata": {},
   "outputs": [],
   "source": []
  },
  {
   "cell_type": "code",
   "execution_count": null,
   "id": "414a9b45",
   "metadata": {},
   "outputs": [],
   "source": []
  }
 ],
 "metadata": {
  "kernelspec": {
   "display_name": "Python 3 (ipykernel)",
   "language": "python",
   "name": "python3"
  },
  "language_info": {
   "codemirror_mode": {
    "name": "ipython",
    "version": 3
   },
   "file_extension": ".py",
   "mimetype": "text/x-python",
   "name": "python",
   "nbconvert_exporter": "python",
   "pygments_lexer": "ipython3",
   "version": "3.9.12"
  }
 },
 "nbformat": 4,
 "nbformat_minor": 5
}
