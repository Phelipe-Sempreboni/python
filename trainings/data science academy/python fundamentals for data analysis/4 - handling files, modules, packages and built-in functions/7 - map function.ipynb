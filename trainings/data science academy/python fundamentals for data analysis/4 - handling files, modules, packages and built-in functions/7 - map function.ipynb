{
 "cells": [
  {
   "cell_type": "markdown",
   "id": "816e9ac0",
   "metadata": {},
   "source": [
    "# <font color='blue'>Data Science Academy - Python Fundamentos - Capítulo 4</font>\n",
    "\n",
    "## Download: http://github.com/dsacademybr"
   ]
  },
  {
   "cell_type": "markdown",
   "id": "58ab7f6f",
   "metadata": {},
   "source": [
    "### Função Map"
   ]
  },
  {
   "cell_type": "code",
   "execution_count": 48,
   "id": "4aaa5c20",
   "metadata": {},
   "outputs": [],
   "source": [
    "# Criando duas funções, onde essas funções irão servir de exemplos para utilização de funções lambda.\n",
    "\n",
    "# Uma função será para calcular uma temperatura em Fahreheit.\n",
    "# Uma função será para calcular uma temperatura em Celsius.\n",
    "\n",
    "# Função 1 - Recebe uma temperatura como parâmetro e retorna a temperatura em Fahreheit.\n",
    "def fahreheit(T):\n",
    "    return ((float(9)/5)*T + 32)\n",
    "\n",
    "\n",
    "# Função 1 - Recebe uma temperatura como parâmetro e retorna a temperatura em Celsius.\n",
    "def celsius(T):\n",
    "    return ((float(9)/5)*T - 32)"
   ]
  },
  {
   "cell_type": "code",
   "execution_count": 49,
   "id": "3e7d6fc7",
   "metadata": {},
   "outputs": [],
   "source": [
    "# Criando uma lista de temperaturas, que serão utilizadas para os testes\n",
    "temperaturas = [0, 22.5, 40, 100]"
   ]
  },
  {
   "cell_type": "code",
   "execution_count": 50,
   "id": "f006b70d",
   "metadata": {},
   "outputs": [
    {
     "ename": "TypeError",
     "evalue": "can't multiply sequence by non-int of type 'float'",
     "output_type": "error",
     "traceback": [
      "\u001b[1;31m---------------------------------------------------------------------------\u001b[0m",
      "\u001b[1;31mTypeError\u001b[0m                                 Traceback (most recent call last)",
      "Input \u001b[1;32mIn [50]\u001b[0m, in \u001b[0;36m<cell line: 4>\u001b[1;34m()\u001b[0m\n\u001b[0;32m      1\u001b[0m \u001b[38;5;66;03m# Aqui tentamos imprimir os valores calculados da variável \"temperaturas\" com a função \"fahreheit\".\u001b[39;00m\n\u001b[0;32m      2\u001b[0m \u001b[38;5;66;03m# Notar que irá ocorrer um erro, pois não é possível imprimir uma sequência de valores dessa maneira.\u001b[39;00m\n\u001b[1;32m----> 4\u001b[0m \u001b[38;5;28mprint\u001b[39m(\u001b[43mfahreheit\u001b[49m\u001b[43m(\u001b[49m\u001b[43mtemperaturas\u001b[49m\u001b[43m)\u001b[49m)\n",
      "Input \u001b[1;32mIn [48]\u001b[0m, in \u001b[0;36mfahreheit\u001b[1;34m(T)\u001b[0m\n\u001b[0;32m      7\u001b[0m \u001b[38;5;28;01mdef\u001b[39;00m \u001b[38;5;21mfahreheit\u001b[39m(T):\n\u001b[1;32m----> 8\u001b[0m     \u001b[38;5;28;01mreturn\u001b[39;00m (\u001b[43m(\u001b[49m\u001b[38;5;28;43mfloat\u001b[39;49m\u001b[43m(\u001b[49m\u001b[38;5;241;43m9\u001b[39;49m\u001b[43m)\u001b[49m\u001b[38;5;241;43m/\u001b[39;49m\u001b[38;5;241;43m5\u001b[39;49m\u001b[43m)\u001b[49m\u001b[38;5;241;43m*\u001b[39;49m\u001b[43mT\u001b[49m \u001b[38;5;241m+\u001b[39m \u001b[38;5;241m32\u001b[39m)\n",
      "\u001b[1;31mTypeError\u001b[0m: can't multiply sequence by non-int of type 'float'"
     ]
    }
   ],
   "source": [
    "# Aqui tentamos imprimir os valores calculados da variável \"temperaturas\" com a função \"fahreheit\".\n",
    "# Notar que irá ocorrer um erro, pois não é possível imprimir uma sequência de valores dessa maneira.\n",
    "\n",
    "print(fahreheit(temperaturas))"
   ]
  },
  {
   "cell_type": "code",
   "execution_count": 51,
   "id": "111ae1bf",
   "metadata": {},
   "outputs": [
    {
     "name": "stdout",
     "output_type": "stream",
     "text": [
      "72.5\n"
     ]
    }
   ],
   "source": [
    "# Aqui tentamos imprimir o valor isolado de \"22.5\" com a função \"fahreheit\".\n",
    "# Neste caso será possível realizar o cálculo, porém somente de um valor e não com a variável \"temperaturas\".\n",
    "# Logo abaixo veremos onde a função \"map\" consegue lidar com este tipo de situação.\n",
    "\n",
    "print(fahreheit(22.5))"
   ]
  },
  {
   "cell_type": "code",
   "execution_count": 52,
   "id": "f2afbe70",
   "metadata": {},
   "outputs": [
    {
     "data": {
      "text/plain": [
       "<map at 0x2139fc45790>"
      ]
     },
     "execution_count": 52,
     "metadata": {},
     "output_type": "execute_result"
    }
   ],
   "source": [
    "# Aqui tentamos imprimir os valores calculados da variável \"temperaturas\" com a função \"fahreheit\", utilizando \"map\".\n",
    "# Aplicamos a função \"map\" a cada elemento da lista de temperaturas.\n",
    "# Em Python 3, a função \"map\" retorna um interator.\n",
    "# Notar que não ocorrerá erros, onde a função \"map\" consegue realizar o cálculo da lista de valores \"temperaturas\".\n",
    "# Abaixo vamos converter o resultado para uma lista, onde conseguiremos enxergar o resultado em forma normal.\n",
    "\n",
    "map(fahreheit, temperaturas)"
   ]
  },
  {
   "cell_type": "code",
   "execution_count": 53,
   "id": "0adf1a30",
   "metadata": {},
   "outputs": [
    {
     "data": {
      "text/plain": [
       "[32.0, 72.5, 104.0, 212.0]"
      ]
     },
     "execution_count": 53,
     "metadata": {},
     "output_type": "execute_result"
    }
   ],
   "source": [
    "# Convertendo o resultado acima em uma lista, para conseguirmos enxergar os valores corretamente.\n",
    "# Notar que agora conseguiremos enxergar o resultado e sem erros também.\n",
    "# Aqui conseguimos enxergar o quão útil é a função \"map\".\n",
    "# Notar que abaixo iremos realizar a função com um loop for, mas note que não é necessário neste caso.\n",
    "# A única coisa é que o loop for irá informar um número abaixo do outro, mas com os mesmos resultados.\n",
    "\n",
    "(list(map(fahreheit, temperaturas)))"
   ]
  },
  {
   "cell_type": "code",
   "execution_count": 54,
   "id": "992a5440",
   "metadata": {},
   "outputs": [
    {
     "name": "stdout",
     "output_type": "stream",
     "text": [
      "32.0\n",
      "72.5\n",
      "104.0\n",
      "212.0\n"
     ]
    }
   ],
   "source": [
    "# Utilizando um loop for para imprimir o resultado da função \"map\".\n",
    "# Vale mas notar que não é necessário neste caso utilizar um loop for, mas sim, pode ser utilizado.\n",
    "# A única coisa é que o loop for irá informar um número abaixo do outro, mas com os mesmos resultados.\n",
    "\n",
    "for temps in map(fahreheit, temperaturas):\n",
    "    print(temps)"
   ]
  },
  {
   "cell_type": "code",
   "execution_count": 55,
   "id": "a8261283",
   "metadata": {},
   "outputs": [
    {
     "data": {
      "text/plain": [
       "<map at 0x2139fb9ef40>"
      ]
     },
     "execution_count": 55,
     "metadata": {},
     "output_type": "execute_result"
    }
   ],
   "source": [
    "# Aqui tentamos imprimir os valores calculados da variável \"temperaturas\" com a função \"celsius\", utilizando \"map\".\n",
    "# Aplicamos a função \"map\" a cada elemento da lista de temperaturas.\n",
    "# Em Python 3, a função \"map\" retorna um interator.\n",
    "# Notar que não ocorrerá erros, onde a função \"map\" consegue realizar o cálculo da lista de valores \"temperaturas\".\n",
    "# Abaixo vamos converter o resultado para uma lista, onde conseguiremos enxergar o resultado em forma normal.\n",
    "\n",
    "map(celsius, temperaturas)"
   ]
  },
  {
   "cell_type": "code",
   "execution_count": 56,
   "id": "bf16e528",
   "metadata": {},
   "outputs": [
    {
     "data": {
      "text/plain": [
       "[-32.0, 8.5, 40.0, 148.0]"
      ]
     },
     "execution_count": 56,
     "metadata": {},
     "output_type": "execute_result"
    }
   ],
   "source": [
    "# Convertendo o resultado acima em uma lista, para conseguirmos enxergar os valores corretamente.\n",
    "# Notar que agora conseguiremos enxergar o resultado e sem erros também.\n",
    "# Aqui conseguimos enxergar o quão útil é a função \"map\".\n",
    "# Notar que abaixo iremos realizar a função com um loop for, mas note que não é necessário neste caso.\n",
    "# A única coisa é que o loop for irá informar um número abaixo do outro, mas com os mesmos resultados.\n",
    "\n",
    "list(map(celsius, temperaturas))"
   ]
  },
  {
   "cell_type": "code",
   "execution_count": 57,
   "id": "574ebc8f",
   "metadata": {},
   "outputs": [
    {
     "name": "stdout",
     "output_type": "stream",
     "text": [
      "-32.0\n",
      "8.5\n",
      "40.0\n",
      "148.0\n"
     ]
    }
   ],
   "source": [
    "# Utilizando um loop for para imprimir o resultado da função \"map\".\n",
    "# Vale mas notar que não é necessário neste caso utilizar um loop for, mas sim, pode ser utilizado.\n",
    "# A única coisa é que o loop for irá informar um número abaixo do outro, mas com os mesmos resultados.\n",
    "\n",
    "for temps in map(celsius, temperaturas):\n",
    "    print(temps)"
   ]
  },
  {
   "cell_type": "code",
   "execution_count": 58,
   "id": "edaa930e",
   "metadata": {},
   "outputs": [],
   "source": [
    "# Aqui iremos utilizar a função lambda para substituir a função nomeada como \"fahreheit\".\n",
    "\n",
    "# Abaixo relembrando a função \"fahreheit\".\n",
    "\n",
    "# Função 1 - Recebe uma temperatura como parâmetro e retorna a temperatura em Fahreheit.\n",
    "def fahreheit(T):\n",
    "    return ((float(9)/5)*T + 32)\n",
    "\n",
    "# Primeiro simplificando a função \"fahreheit\".\n",
    "def fahreheit(T): return ((float(9)/5)*T + 32)\n",
    "\n",
    "# Agora transformando a função \"fahreheit\" em função lambda.\n",
    "lambda x: (5.0/9)*(x+32)\n",
    "\n",
    "# Atribuindo a função lambda criada em uma variável chamada \"calculo_temp\".\n",
    "calculo_temp = lambda x: (5.0/9)*(x+32)"
   ]
  },
  {
   "cell_type": "code",
   "execution_count": 59,
   "id": "b04b0a54",
   "metadata": {},
   "outputs": [
    {
     "name": "stdout",
     "output_type": "stream",
     "text": [
      "30.27777777777778\n"
     ]
    }
   ],
   "source": [
    "# Utilizando a função lambda que foi atribuída na variável \"calculo_temp\" com o valor \"22.5\".\n",
    "\n",
    "print(calculo_temp(22.5))"
   ]
  },
  {
   "cell_type": "code",
   "execution_count": 60,
   "id": "f63659d3",
   "metadata": {},
   "outputs": [
    {
     "ename": "TypeError",
     "evalue": "can only concatenate list (not \"int\") to list",
     "output_type": "error",
     "traceback": [
      "\u001b[1;31m---------------------------------------------------------------------------\u001b[0m",
      "\u001b[1;31mTypeError\u001b[0m                                 Traceback (most recent call last)",
      "Input \u001b[1;32mIn [60]\u001b[0m, in \u001b[0;36m<cell line: 4>\u001b[1;34m()\u001b[0m\n\u001b[0;32m      1\u001b[0m \u001b[38;5;66;03m# Aqui tentamos imprimir os valores calculados da variável \"temperaturas\" com a função \"fahreheit\" em lambda.\u001b[39;00m\n\u001b[0;32m      2\u001b[0m \u001b[38;5;66;03m# Notar que irá ocorrer um erro, pois não é possível imprimir uma sequência de valores dessa maneira.\u001b[39;00m\n\u001b[1;32m----> 4\u001b[0m \u001b[38;5;28mprint\u001b[39m(\u001b[43mcalculo_temp\u001b[49m\u001b[43m(\u001b[49m\u001b[43mtemperaturas\u001b[49m\u001b[43m)\u001b[49m)\n",
      "Input \u001b[1;32mIn [58]\u001b[0m, in \u001b[0;36m<lambda>\u001b[1;34m(x)\u001b[0m\n\u001b[0;32m     13\u001b[0m \u001b[38;5;28;01mlambda\u001b[39;00m x: (\u001b[38;5;241m5.0\u001b[39m\u001b[38;5;241m/\u001b[39m\u001b[38;5;241m9\u001b[39m)\u001b[38;5;241m*\u001b[39m(x\u001b[38;5;241m+\u001b[39m\u001b[38;5;241m32\u001b[39m)\n\u001b[0;32m     15\u001b[0m \u001b[38;5;66;03m# Atribuindo a função lambda criada em uma variável chamada \"calculo_temp\".\u001b[39;00m\n\u001b[1;32m---> 16\u001b[0m calculo_temp \u001b[38;5;241m=\u001b[39m \u001b[38;5;28;01mlambda\u001b[39;00m x: (\u001b[38;5;241m5.0\u001b[39m\u001b[38;5;241m/\u001b[39m\u001b[38;5;241m9\u001b[39m)\u001b[38;5;241m*\u001b[39m(\u001b[43mx\u001b[49m\u001b[38;5;241;43m+\u001b[39;49m\u001b[38;5;241;43m32\u001b[39;49m)\n",
      "\u001b[1;31mTypeError\u001b[0m: can only concatenate list (not \"int\") to list"
     ]
    }
   ],
   "source": [
    "# Aqui tentamos imprimir os valores calculados da variável \"temperaturas\" com a função \"fahreheit\" em lambda.\n",
    "# Notar que irá ocorrer um erro, pois não é possível imprimir uma sequência de valores dessa maneira.\n",
    "\n",
    "print(calculo_temp(temperaturas))"
   ]
  },
  {
   "cell_type": "code",
   "execution_count": 62,
   "id": "722053da",
   "metadata": {},
   "outputs": [
    {
     "data": {
      "text/plain": [
       "<map at 0x2139fb75580>"
      ]
     },
     "execution_count": 62,
     "metadata": {},
     "output_type": "execute_result"
    }
   ],
   "source": [
    "# Agora iremos utilizar a função \"map\" com a função lambda acima, onde será possível a impressão dos valores.\n",
    "# Com a utilização da maneira abaixo é possível imprimir os valores da variável \"temperaturas\".\n",
    "# Vamos por partes\n",
    "\n",
    "# Primeiro a declaração lambda para simular a função noemado no inicio do arquivo como \"fahreheit\".\n",
    "lambda x: (5.0/9)*(x+32)\n",
    "\n",
    "# Agora iremos inserir a função lambda dentro da função \"map\".\n",
    "# Iremos fazer isso para conseguir calcular todos os valores da lista da variável \"temperaturas\".\n",
    "# Lembrando que a função \"map\" recebe a \"função\" e \"sequência\".\n",
    "# Em Python 3, a função \"map\" retorna um interator.\n",
    "# Notar que não ocorrerá erros, onde a função \"map\" consegue realizar o cálculo da lista de valores \"temperaturas\".\n",
    "# Abaixo vamos converter o resultado para uma lista, onde conseguiremos enxergar o resultado em forma normal.\n",
    "\n",
    "map(lambda x: (5.0/9)*(x+32), temperaturas)"
   ]
  },
  {
   "cell_type": "code",
   "execution_count": 64,
   "id": "9931ffff",
   "metadata": {},
   "outputs": [
    {
     "data": {
      "text/plain": [
       "[17.77777777777778, 30.27777777777778, 40.0, 73.33333333333334]"
      ]
     },
     "execution_count": 64,
     "metadata": {},
     "output_type": "execute_result"
    }
   ],
   "source": [
    "# Convertendo o resultado acima em uma lista, para conseguirmos enxergar os valores corretamente.\n",
    "# Notar que agora conseguiremos enxergar o resultado e sem erros também.\n",
    "# Aqui conseguimos enxergar o quão útil é a função \"map\".\n",
    "# Notar que em vez de utilizarmos como \"função\" a função nomeada como \"fahreheit\", utilizamos uma função lambda.\n",
    "# Notar também que utilizamos os valores da variável \"temperaturas\"\n",
    "\n",
    "list(map(lambda x: (5.0/9)*(x+32), temperaturas))"
   ]
  },
  {
   "cell_type": "code",
   "execution_count": 67,
   "id": "4769e9a1",
   "metadata": {},
   "outputs": [],
   "source": [
    "# Iremos somar os elementos e/ou valores de 2 listas distintas com a função lambda e map.\n",
    "# Abaiao estamos atribuindo valores as listas das variáveis \"a\" e \"b\".\n",
    "\n",
    "a = [1, 2, 3, 4]\n",
    "b = [5, 6, 7, 8]"
   ]
  },
  {
   "cell_type": "code",
   "execution_count": 71,
   "id": "e102639d",
   "metadata": {},
   "outputs": [
    {
     "data": {
      "text/plain": [
       "[6, 8, 10, 12]"
      ]
     },
     "execution_count": 71,
     "metadata": {},
     "output_type": "execute_result"
    }
   ],
   "source": [
    "# Somando os valores das listas \"a\" e \"b\" com as funções lambda e map.\n",
    "\n",
    "# Primeiros declamoros a função lambda que utilizamores para realizar a soma.\n",
    "lambda x, y: x+y\n",
    "\n",
    "# Agora aitrbuímos a função lambda dentro da função map.\n",
    "map(lambda x, y: x+y, a, b)\n",
    "\n",
    "# Agora atribuímos a função map com lambda dentro de uma lista.\n",
    "list(map(lambda x,y: x+y, a,b))\n",
    "\n",
    "# Notar que o resultado será a soma das listas \"a\" e \"b\" em parelelo, ou seja, 1+5, 2+6, 3+7 e 4+8.\n",
    "# Isso pode ser muito útil em vários cenários de cálculos."
   ]
  },
  {
   "cell_type": "code",
   "execution_count": null,
   "id": "b9ce7920",
   "metadata": {},
   "outputs": [],
   "source": []
  }
 ],
 "metadata": {
  "kernelspec": {
   "display_name": "Python 3 (ipykernel)",
   "language": "python",
   "name": "python3"
  },
  "language_info": {
   "codemirror_mode": {
    "name": "ipython",
    "version": 3
   },
   "file_extension": ".py",
   "mimetype": "text/x-python",
   "name": "python",
   "nbconvert_exporter": "python",
   "pygments_lexer": "ipython3",
   "version": "3.9.12"
  }
 },
 "nbformat": 4,
 "nbformat_minor": 5
}
