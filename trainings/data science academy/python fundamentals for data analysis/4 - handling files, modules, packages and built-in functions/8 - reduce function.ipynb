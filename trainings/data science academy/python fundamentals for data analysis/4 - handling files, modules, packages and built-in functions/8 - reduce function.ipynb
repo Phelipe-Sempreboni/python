{
 "cells": [
  {
   "cell_type": "markdown",
   "id": "b2e32347",
   "metadata": {},
   "source": [
    "# <font color='blue'>Data Science Academy - Python Fundamentos - Capítulo 4</font>\n",
    "\n",
    "## Download: http://github.com/dsacademybr"
   ]
  },
  {
   "cell_type": "markdown",
   "id": "bd4c9650",
   "metadata": {},
   "source": [
    "### Função Reduce"
   ]
  },
  {
   "cell_type": "code",
   "execution_count": 62,
   "id": "67e2f7dd",
   "metadata": {},
   "outputs": [],
   "source": [
    "# Diferente da função \"map\" e mesmo sendo uma função (built-in) no Python, é preciso importar a função \"reduce\".\n",
    "# Importando a função \"reduce\" do pacote e/ou biblioteca \"functools\".\n",
    "\n",
    "from functools import reduce"
   ]
  },
  {
   "cell_type": "code",
   "execution_count": 63,
   "id": "3d73d41a",
   "metadata": {},
   "outputs": [],
   "source": [
    "# Iremos criar uma lista com valores\n",
    "\n",
    "lista_1 = [47, 11, 42, 13]"
   ]
  },
  {
   "cell_type": "code",
   "execution_count": 64,
   "id": "32faa10d",
   "metadata": {},
   "outputs": [
    {
     "name": "stdout",
     "output_type": "stream",
     "text": [
      "[47, 11, 42, 13]\n"
     ]
    }
   ],
   "source": [
    "# Imprimindo a lista para verificar os valores\n",
    "\n",
    "print(lista_1)"
   ]
  },
  {
   "cell_type": "code",
   "execution_count": 65,
   "id": "d753e406",
   "metadata": {},
   "outputs": [],
   "source": [
    "# Iremos criar uma função que realiza a soma entre dois valores.\n",
    "# Notar que essa função está sendo criada com uma palavra reservada nomeada como \"soma\".\n",
    "\n",
    "def soma(a, b):\n",
    "    x = a + b\n",
    "    return x"
   ]
  },
  {
   "cell_type": "code",
   "execution_count": 66,
   "id": "0577780d",
   "metadata": {},
   "outputs": [
    {
     "name": "stdout",
     "output_type": "stream",
     "text": [
      "70\n"
     ]
    }
   ],
   "source": [
    "# Aqui iremos testar o funcionamento dessa função nomeada como \"soma\".\n",
    "\n",
    "print(soma(40,30))"
   ]
  },
  {
   "cell_type": "code",
   "execution_count": 67,
   "id": "2a1ce31f",
   "metadata": {},
   "outputs": [],
   "source": [
    "# Aqui iremos simplificar a função acima nomeada como \"soma\".\n",
    "# Notar que retiramos a linha \"x = a + b\" e simplificamos a operação.\n",
    "\n",
    "def soma(a, b):\n",
    "    return a + b"
   ]
  },
  {
   "cell_type": "code",
   "execution_count": 68,
   "id": "c78112ec",
   "metadata": {},
   "outputs": [
    {
     "name": "stdout",
     "output_type": "stream",
     "text": [
      "70\n"
     ]
    }
   ],
   "source": [
    "# Aqui iremos testar o funcionamento dessa função nomeada como \"soma\".\n",
    "# Notar que funciona perfeitamente igual a forma acima.\n",
    "\n",
    "print(soma(40,30))"
   ]
  },
  {
   "cell_type": "code",
   "execution_count": 69,
   "id": "a46fa4b2",
   "metadata": {},
   "outputs": [],
   "source": [
    "# Aqui iremos simplificar novamente a função acima nomeada como \"soma\".\n",
    "# Notar que agora conseguimos deixar a função somente em uma linha, mas ainda é uma função com a palavra reservada \"soma\".\n",
    "\n",
    "def soma(a, b): return a + b"
   ]
  },
  {
   "cell_type": "code",
   "execution_count": 70,
   "id": "cd82c348",
   "metadata": {},
   "outputs": [
    {
     "name": "stdout",
     "output_type": "stream",
     "text": [
      "70\n"
     ]
    }
   ],
   "source": [
    "# Aqui iremos testar o funcionamento dessa função nomeada como \"soma\".\n",
    "# Notar que funciona perfeitamente igual a forma acima.\n",
    "\n",
    "print(soma(40,30))"
   ]
  },
  {
   "cell_type": "code",
   "execution_count": 71,
   "id": "775da950",
   "metadata": {},
   "outputs": [],
   "source": [
    "# Notar que agora iremos transformar a função com palavra reservada em uma função lambda.\n",
    "\n",
    "# Função com palavra reservada.\n",
    "def soma(a, b): return a + b\n",
    "\n",
    "# Função lambda.\n",
    "lambda a, b: a + b\n",
    "\n",
    "# Inserindo a função lambda em uma variável para testar sua utilização\n",
    "soma_lambda = lambda a, b: a + b"
   ]
  },
  {
   "cell_type": "code",
   "execution_count": 72,
   "id": "881a7afe",
   "metadata": {},
   "outputs": [
    {
     "name": "stdout",
     "output_type": "stream",
     "text": [
      "5\n"
     ]
    }
   ],
   "source": [
    "# Aqui iremos testar o funcionamento dessa função nomeada como \"soma_lambda\".\n",
    "# Notar que funciona perfeitamente igual a forma acima.\n",
    "\n",
    "print(soma_lambda(3,2))"
   ]
  },
  {
   "cell_type": "code",
   "execution_count": 73,
   "id": "481a8ab8",
   "metadata": {},
   "outputs": [
    {
     "data": {
      "text/plain": [
       "113"
      ]
     },
     "execution_count": 73,
     "metadata": {},
     "output_type": "execute_result"
    }
   ],
   "source": [
    "# Agora iremos utilizar a função \"reduce\" com a função da palavra reservada \"soma\".\n",
    "# Lembrando que a função \"reduce\" recebe uma função e uma sequência.\n",
    "# Notar que neste caso a função \"reduce\" irá retornar o maior valor, ou seja, a soma dos valores da variável \"lista_1\".\n",
    "\n",
    "reduce(soma, lista_1)"
   ]
  },
  {
   "cell_type": "code",
   "execution_count": 74,
   "id": "240afdc9",
   "metadata": {},
   "outputs": [],
   "source": [
    "# Agora iremos criar outra lista com valores atribuídos\n",
    "\n",
    "lista_2 = [47, 11, 42, 13, 55]"
   ]
  },
  {
   "cell_type": "code",
   "execution_count": 75,
   "id": "0c3ce20d",
   "metadata": {},
   "outputs": [
    {
     "name": "stdout",
     "output_type": "stream",
     "text": [
      "168\n"
     ]
    }
   ],
   "source": [
    "# Agora iremos utilizar a função \"reduce\" com a função lambda que criamos um pouco mais pra cima.\n",
    "\n",
    "# Para nos lembrarmos da função.\n",
    "lambda a, b: a + b\n",
    "\n",
    "# Aqui estamos utilizando a função lambda como parâmetro de \"função\" e a \"lista_2\" como parâmetro de \"sequência\".\n",
    "reduce(lambda a, b: a + b, lista_2)\n",
    "\n",
    "# Agora iremos imprimir o resultado na tela\n",
    "print(reduce(lambda a, b: a + b, lista_2))"
   ]
  },
  {
   "cell_type": "code",
   "execution_count": 93,
   "id": "eb9bd0d2",
   "metadata": {},
   "outputs": [],
   "source": [
    "# Aqui iremos atribuir a função lambda à uma variável.\n",
    "# Essa função que será atribuída nessa variável terá a função de localizar o maior valor em uma lista de valores.\n",
    "# Antes vamos criar uma lista de valores.\n",
    "\n",
    "lista_3 = [84, 9, 110, 813, 87, 2, 1, 84, 53, 900]"
   ]
  },
  {
   "cell_type": "code",
   "execution_count": 90,
   "id": "82179aef",
   "metadata": {},
   "outputs": [
    {
     "data": {
      "text/plain": [
       "2143"
      ]
     },
     "execution_count": 90,
     "metadata": {},
     "output_type": "execute_result"
    }
   ],
   "source": [
    "# Criando uma função reduce aplicando uma função lambda dentro da reduce\n",
    "# Notar que esse função lambda é para realizar a soma de dois valores\n",
    "# Lembrar que a função reduce recebe dois parâmetros, que é a \"função\" e a \"sequência\".\n",
    "# Aqui a \"função\" é o lambda e a \"sequência\" é a variável que contém valores, que é a \"lista_3\".\n",
    "\n",
    "reduce(lambda x, y: x + y, lista_3)"
   ]
  },
  {
   "cell_type": "code",
   "execution_count": 91,
   "id": "c8c526f9",
   "metadata": {},
   "outputs": [],
   "source": [
    "valor_maximo = lambda x, y: x if (x > y) else y"
   ]
  },
  {
   "cell_type": "code",
   "execution_count": 92,
   "id": "abd3145a",
   "metadata": {},
   "outputs": [
    {
     "data": {
      "text/plain": [
       "900"
      ]
     },
     "execution_count": 92,
     "metadata": {},
     "output_type": "execute_result"
    }
   ],
   "source": [
    "reduce(valor_maximo, lista_3)"
   ]
  },
  {
   "cell_type": "code",
   "execution_count": null,
   "id": "f30f9063",
   "metadata": {},
   "outputs": [],
   "source": []
  },
  {
   "cell_type": "code",
   "execution_count": null,
   "id": "22375c07",
   "metadata": {},
   "outputs": [],
   "source": []
  },
  {
   "cell_type": "code",
   "execution_count": null,
   "id": "e83bcfea",
   "metadata": {},
   "outputs": [],
   "source": []
  },
  {
   "cell_type": "code",
   "execution_count": null,
   "id": "8a45bc25",
   "metadata": {},
   "outputs": [],
   "source": []
  },
  {
   "cell_type": "code",
   "execution_count": null,
   "id": "76e12e51",
   "metadata": {},
   "outputs": [],
   "source": []
  },
  {
   "cell_type": "code",
   "execution_count": null,
   "id": "e13e5e83",
   "metadata": {},
   "outputs": [],
   "source": []
  },
  {
   "cell_type": "code",
   "execution_count": null,
   "id": "b11f164b",
   "metadata": {},
   "outputs": [],
   "source": []
  },
  {
   "cell_type": "code",
   "execution_count": null,
   "id": "5c0c6e64",
   "metadata": {},
   "outputs": [],
   "source": []
  },
  {
   "cell_type": "code",
   "execution_count": null,
   "id": "f7d168a0",
   "metadata": {},
   "outputs": [],
   "source": []
  },
  {
   "cell_type": "code",
   "execution_count": null,
   "id": "d38dccba",
   "metadata": {},
   "outputs": [],
   "source": []
  },
  {
   "cell_type": "markdown",
   "id": "5a684bb9",
   "metadata": {},
   "source": [
    "# Fim"
   ]
  },
  {
   "cell_type": "markdown",
   "id": "2287a52f",
   "metadata": {},
   "source": [
    "### Obrigado\n",
    "\n",
    "### Visite o Blog da Data Science Academy - <a href=\"http://blog.dsacademy.com.br\">Blog DSA</a>"
   ]
  }
 ],
 "metadata": {
  "kernelspec": {
   "display_name": "Python 3 (ipykernel)",
   "language": "python",
   "name": "python3"
  },
  "language_info": {
   "codemirror_mode": {
    "name": "ipython",
    "version": 3
   },
   "file_extension": ".py",
   "mimetype": "text/x-python",
   "name": "python",
   "nbconvert_exporter": "python",
   "pygments_lexer": "ipython3",
   "version": "3.9.12"
  }
 },
 "nbformat": 4,
 "nbformat_minor": 5
}
