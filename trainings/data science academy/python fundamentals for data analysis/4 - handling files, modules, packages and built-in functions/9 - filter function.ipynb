{
 "cells": [
  {
   "cell_type": "markdown",
   "id": "7e9ab0d5",
   "metadata": {},
   "source": [
    "# <font color='blue'>Data Science Academy - Python Fundamentos - Capítulo 4</font>\n",
    "\n",
    "## Download: http://github.com/dsacademybr"
   ]
  },
  {
   "cell_type": "markdown",
   "id": "3694d802",
   "metadata": {},
   "source": [
    "### Função Filter"
   ]
  },
  {
   "cell_type": "code",
   "execution_count": 5,
   "id": "b211c780",
   "metadata": {},
   "outputs": [],
   "source": [
    "# Iremos criar uma função que realiza a divisão entre dois valores e retorna o módulo.\n",
    "# Notar que essa função está sendo criada com uma palavra reservada nomeada como \"verificarPar\".\n",
    "\n",
    "def verificaPar(num):\n",
    "    if num % 2 == 0:\n",
    "        return True\n",
    "    else:\n",
    "        return False"
   ]
  },
  {
   "cell_type": "code",
   "execution_count": 6,
   "id": "0281b3b2",
   "metadata": {},
   "outputs": [
    {
     "name": "stdout",
     "output_type": "stream",
     "text": [
      "False\n"
     ]
    }
   ],
   "source": [
    "# Aqui iremos testar se a função está funcionando corretamente.\n",
    "# Se o retorno da impressão for \"True\" ou \"False\", então a função está funcionando corretamente.\n",
    "# Neste caso será \"False\".\n",
    "\n",
    "print(verificaPar(35))"
   ]
  },
  {
   "cell_type": "code",
   "execution_count": 8,
   "id": "d48e11fc",
   "metadata": {},
   "outputs": [
    {
     "name": "stdout",
     "output_type": "stream",
     "text": [
      "True\n"
     ]
    }
   ],
   "source": [
    "# Aqui iremos testar se a função está funcionando corretamente.\n",
    "# Se o retorno da impressão for \"True\" ou \"False\", então a função está funcionando corretamente.\n",
    "# Neste caso será \"True\".\n",
    "\n",
    "print(verificaPar(28))"
   ]
  },
  {
   "cell_type": "code",
   "execution_count": 9,
   "id": "85cef579",
   "metadata": {},
   "outputs": [],
   "source": [
    "# Agora iremos criar uma lista com vários valores atribuídos.\n",
    "\n",
    "lista_1 = [0, 1, 2, 3, 4, 5, 6, 7, 8, 9, 10, 11, 12, 13, 14, 15, 16, 17, 18, 19, 20]"
   ]
  },
  {
   "cell_type": "code",
   "execution_count": 10,
   "id": "41f572cc",
   "metadata": {},
   "outputs": [
    {
     "name": "stdout",
     "output_type": "stream",
     "text": [
      "[0, 1, 2, 3, 4, 5, 6, 7, 8, 9, 10, 11, 12, 13, 14, 15, 16, 17, 18, 19, 20]\n"
     ]
    }
   ],
   "source": [
    "# Iremos testar se a lista está funcionando e vamos imprimir os valores na tela.\n",
    "\n",
    "print(lista_1)"
   ]
  },
  {
   "cell_type": "code",
   "execution_count": null,
   "id": "d276cb3f",
   "metadata": {},
   "outputs": [],
   "source": []
  },
  {
   "cell_type": "code",
   "execution_count": null,
   "id": "b7d84764",
   "metadata": {},
   "outputs": [],
   "source": []
  },
  {
   "cell_type": "code",
   "execution_count": null,
   "id": "885dcac7",
   "metadata": {},
   "outputs": [],
   "source": []
  },
  {
   "cell_type": "code",
   "execution_count": null,
   "id": "c6bae0b6",
   "metadata": {},
   "outputs": [],
   "source": []
  },
  {
   "cell_type": "code",
   "execution_count": null,
   "id": "30ca43b8",
   "metadata": {},
   "outputs": [],
   "source": []
  },
  {
   "cell_type": "code",
   "execution_count": null,
   "id": "054e4331",
   "metadata": {},
   "outputs": [],
   "source": []
  },
  {
   "cell_type": "code",
   "execution_count": null,
   "id": "9c19557b",
   "metadata": {},
   "outputs": [],
   "source": []
  },
  {
   "cell_type": "code",
   "execution_count": null,
   "id": "466c9e4e",
   "metadata": {},
   "outputs": [],
   "source": []
  },
  {
   "cell_type": "code",
   "execution_count": null,
   "id": "5b87641c",
   "metadata": {},
   "outputs": [],
   "source": []
  }
 ],
 "metadata": {
  "kernelspec": {
   "display_name": "Python 3 (ipykernel)",
   "language": "python",
   "name": "python3"
  },
  "language_info": {
   "codemirror_mode": {
    "name": "ipython",
    "version": 3
   },
   "file_extension": ".py",
   "mimetype": "text/x-python",
   "name": "python",
   "nbconvert_exporter": "python",
   "pygments_lexer": "ipython3",
   "version": "3.9.12"
  }
 },
 "nbformat": 4,
 "nbformat_minor": 5
}
