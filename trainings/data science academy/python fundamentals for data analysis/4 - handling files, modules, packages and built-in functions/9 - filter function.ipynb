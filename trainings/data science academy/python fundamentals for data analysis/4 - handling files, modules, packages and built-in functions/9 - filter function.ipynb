{
 "cells": [
  {
   "cell_type": "markdown",
   "id": "2aea6514",
   "metadata": {},
   "source": [
    "# <font color='blue'>Data Science Academy - Python Fundamentos - Capítulo 4</font>\n",
    "\n",
    "## Download: http://github.com/dsacademybr"
   ]
  },
  {
   "cell_type": "markdown",
   "id": "c1aa3d23",
   "metadata": {},
   "source": [
    "### Função Filter"
   ]
  },
  {
   "cell_type": "code",
   "execution_count": 5,
   "id": "3f14af7d",
   "metadata": {},
   "outputs": [],
   "source": [
    "# Iremos criar uma função que realiza a divisão entre dois valores e retorna o módulo.\n",
    "# Notar que essa função está sendo criada com uma palavra reservada nomeada como \"verificarPar\".\n",
    "\n",
    "def verificaPar(num):\n",
    "    if num % 2 == 0:\n",
    "        return True\n",
    "    else:\n",
    "        return False"
   ]
  },
  {
   "cell_type": "code",
   "execution_count": 6,
   "id": "51ee55d7",
   "metadata": {},
   "outputs": [
    {
     "name": "stdout",
     "output_type": "stream",
     "text": [
      "False\n"
     ]
    }
   ],
   "source": [
    "# Aqui iremos testar se a função está funcionando corretamente.\n",
    "# Se o retorno da impressão for \"True\" ou \"False\", então a função está funcionando corretamente.\n",
    "# Neste caso será \"False\".\n",
    "\n",
    "print(verificaPar(35))"
   ]
  },
  {
   "cell_type": "code",
   "execution_count": 8,
   "id": "82dc8098",
   "metadata": {},
   "outputs": [
    {
     "name": "stdout",
     "output_type": "stream",
     "text": [
      "True\n"
     ]
    }
   ],
   "source": [
    "# Aqui iremos testar se a função está funcionando corretamente.\n",
    "# Se o retorno da impressão for \"True\" ou \"False\", então a função está funcionando corretamente.\n",
    "# Neste caso será \"True\".\n",
    "\n",
    "print(verificaPar(28))"
   ]
  },
  {
   "cell_type": "code",
   "execution_count": null,
   "id": "3aaca940",
   "metadata": {},
   "outputs": [],
   "source": []
  },
  {
   "cell_type": "code",
   "execution_count": null,
   "id": "143d66a9",
   "metadata": {},
   "outputs": [],
   "source": []
  },
  {
   "cell_type": "code",
   "execution_count": null,
   "id": "3f00dadc",
   "metadata": {},
   "outputs": [],
   "source": []
  },
  {
   "cell_type": "code",
   "execution_count": null,
   "id": "27c680a6",
   "metadata": {},
   "outputs": [],
   "source": []
  },
  {
   "cell_type": "code",
   "execution_count": null,
   "id": "31d8f176",
   "metadata": {},
   "outputs": [],
   "source": []
  },
  {
   "cell_type": "code",
   "execution_count": null,
   "id": "1e9419e9",
   "metadata": {},
   "outputs": [],
   "source": []
  },
  {
   "cell_type": "code",
   "execution_count": null,
   "id": "f1294b94",
   "metadata": {},
   "outputs": [],
   "source": []
  },
  {
   "cell_type": "code",
   "execution_count": null,
   "id": "7c00ffe4",
   "metadata": {},
   "outputs": [],
   "source": []
  },
  {
   "cell_type": "code",
   "execution_count": null,
   "id": "2df14373",
   "metadata": {},
   "outputs": [],
   "source": []
  },
  {
   "cell_type": "code",
   "execution_count": null,
   "id": "4f85cdcf",
   "metadata": {},
   "outputs": [],
   "source": []
  },
  {
   "cell_type": "code",
   "execution_count": null,
   "id": "bc8edccd",
   "metadata": {},
   "outputs": [],
   "source": []
  }
 ],
 "metadata": {
  "kernelspec": {
   "display_name": "Python 3 (ipykernel)",
   "language": "python",
   "name": "python3"
  },
  "language_info": {
   "codemirror_mode": {
    "name": "ipython",
    "version": 3
   },
   "file_extension": ".py",
   "mimetype": "text/x-python",
   "name": "python",
   "nbconvert_exporter": "python",
   "pygments_lexer": "ipython3",
   "version": "3.9.12"
  }
 },
 "nbformat": 4,
 "nbformat_minor": 5
}
