{
 "cells": [
  {
   "cell_type": "markdown",
   "id": "bfa83820",
   "metadata": {},
   "source": [
    "# <font color='blue'>Data Science Academy - Python Fundamentos - Capítulo 4</font>\n",
    "\n",
    "## Download: http://github.com/dsacademybr"
   ]
  },
  {
   "cell_type": "markdown",
   "id": "2b33f384",
   "metadata": {},
   "source": [
    "### List Comprehension"
   ]
  },
  {
   "cell_type": "code",
   "execution_count": 1,
   "id": "34fa7d94",
   "metadata": {},
   "outputs": [],
   "source": [
    "# Vamos começar criando uma list comprehension com o comando abaixo.\n",
    "# Notar que este tipo de utilização é um loop for em uma única linha de comando.\n",
    "\n",
    "# O que significa esse comando abaixo ?\n",
    "# Quer dizer que para cada \"x\" na string \"python\", comando irá retornar um \"x\".\n",
    "# Isso quer dizer que irá retornar cada string separada, ou seja, somente letras realmente.\n",
    "lista_1 = [x for x in 'python']"
   ]
  },
  {
   "cell_type": "code",
   "execution_count": 3,
   "id": "adeda90f",
   "metadata": {},
   "outputs": [
    {
     "name": "stdout",
     "output_type": "stream",
     "text": [
      "['p', 'y', 't', 'h', 'o', 'n']\n"
     ]
    }
   ],
   "source": [
    "# Agora iremos testar a list comprehension.\n",
    "# Notar que retornamos somente as letras.\n",
    "# Notar que é um loop for em uma única linha de comando.\n",
    "\n",
    "print(lista_1)"
   ]
  },
  {
   "cell_type": "code",
   "execution_count": 8,
   "id": "f19f4b0c",
   "metadata": {},
   "outputs": [],
   "source": [
    "# Agora vamos criar outra lista comprehension.\n",
    "# Neste caso iremos calcular a potência de um valor em um determinado intervalo de valores.\n",
    "# Notar que aqui iremos utilizar mais alguns conceitos para gerar essa list comprehension\n",
    "\n",
    "\n",
    "# O que significa esse comando abaixo ?\n",
    "# Quer dizer que para cada valor no intervalo \"range\" entre \"0 e 12\" será calculado a potência desse valor.\n",
    "# Vale lembrar que o intervalor \"range(0, 13)\" vai até o 12, pois o valor 13 é excluir no intervalo.\n",
    "# Ou seja, o valor 13 não aparece no cálculo.\n",
    "lista_2 = [x ** 2 for x in range(0, 13)]"
   ]
  },
  {
   "cell_type": "code",
   "execution_count": 9,
   "id": "0419f9db",
   "metadata": {},
   "outputs": [
    {
     "name": "stdout",
     "output_type": "stream",
     "text": [
      "[0, 1, 4, 9, 16, 25, 36, 49, 64, 81, 100, 121, 144]\n"
     ]
    }
   ],
   "source": [
    "# Agora iremos testar a list comprehension.\n",
    "\n",
    "print(lista_2)"
   ]
  },
  {
   "cell_type": "code",
   "execution_count": null,
   "id": "679e5bf9",
   "metadata": {},
   "outputs": [],
   "source": []
  },
  {
   "cell_type": "code",
   "execution_count": null,
   "id": "b644eb0c",
   "metadata": {},
   "outputs": [],
   "source": []
  },
  {
   "cell_type": "code",
   "execution_count": null,
   "id": "cdba6001",
   "metadata": {},
   "outputs": [],
   "source": []
  },
  {
   "cell_type": "code",
   "execution_count": null,
   "id": "69f4f60f",
   "metadata": {},
   "outputs": [],
   "source": []
  },
  {
   "cell_type": "code",
   "execution_count": null,
   "id": "904a75fc",
   "metadata": {},
   "outputs": [],
   "source": []
  },
  {
   "cell_type": "code",
   "execution_count": null,
   "id": "b2192eef",
   "metadata": {},
   "outputs": [],
   "source": []
  },
  {
   "cell_type": "code",
   "execution_count": null,
   "id": "4b310ea9",
   "metadata": {},
   "outputs": [],
   "source": []
  },
  {
   "cell_type": "code",
   "execution_count": null,
   "id": "5576bd37",
   "metadata": {},
   "outputs": [],
   "source": []
  },
  {
   "cell_type": "code",
   "execution_count": null,
   "id": "37195589",
   "metadata": {},
   "outputs": [],
   "source": []
  },
  {
   "cell_type": "markdown",
   "id": "d8d62933",
   "metadata": {},
   "source": [
    "# Fim"
   ]
  },
  {
   "cell_type": "markdown",
   "id": "378568f8",
   "metadata": {},
   "source": [
    "### Obrigado\n",
    "\n",
    "### Visite o Blog da Data Science Academy - <a href=\"http://blog.dsacademy.com.br\">Blog DSA</a>"
   ]
  }
 ],
 "metadata": {
  "kernelspec": {
   "display_name": "Python 3 (ipykernel)",
   "language": "python",
   "name": "python3"
  },
  "language_info": {
   "codemirror_mode": {
    "name": "ipython",
    "version": 3
   },
   "file_extension": ".py",
   "mimetype": "text/x-python",
   "name": "python",
   "nbconvert_exporter": "python",
   "pygments_lexer": "ipython3",
   "version": "3.9.12"
  }
 },
 "nbformat": 4,
 "nbformat_minor": 5
}
