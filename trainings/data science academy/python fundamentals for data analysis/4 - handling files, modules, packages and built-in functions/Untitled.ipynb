{
 "cells": [
  {
   "cell_type": "markdown",
   "id": "a620b8bb",
   "metadata": {},
   "source": [
    "# <font color='blue'>Data Science Academy - Python Fundamentos - Capítulo 4</font>\n",
    "\n",
    "## Download: http://github.com/dsacademybr"
   ]
  },
  {
   "cell_type": "markdown",
   "id": "b7bffe85",
   "metadata": {},
   "source": [
    "### List Comprehension"
   ]
  },
  {
   "cell_type": "code",
   "execution_count": 10,
   "id": "4e97d93c",
   "metadata": {},
   "outputs": [],
   "source": [
    "# Vamos começar criando uma list comprehension com o comando abaixo.\n",
    "# Notar que este tipo de utilização é um loop for em uma única linha de comando.\n",
    "\n",
    "# O que significa esse comando abaixo ?\n",
    "# Quer dizer que para cada \"x\" na string \"python\", comando irá retornar um \"x\".\n",
    "# Isso quer dizer que irá retornar cada string separada, ou seja, somente letras realmente.\n",
    "list_comprehension_1 = [x for x in 'python']"
   ]
  },
  {
   "cell_type": "code",
   "execution_count": 11,
   "id": "dde4c2ac",
   "metadata": {},
   "outputs": [
    {
     "name": "stdout",
     "output_type": "stream",
     "text": [
      "['p', 'y', 't', 'h', 'o', 'n']\n"
     ]
    }
   ],
   "source": [
    "# Agora iremos testar a list comprehension.\n",
    "# Notar que retornamos somente as letras.\n",
    "# Notar que é um loop for em uma única linha de comando.\n",
    "\n",
    "print(list_comprehension_1)"
   ]
  },
  {
   "cell_type": "code",
   "execution_count": 12,
   "id": "79d9d30f",
   "metadata": {},
   "outputs": [],
   "source": [
    "# Agora vamos criar outra lista comprehension.\n",
    "# Neste caso iremos calcular a potência de um valor em um determinado intervalo de valores.\n",
    "# Notar que aqui iremos utilizar mais alguns conceitos para gerar essa list comprehension\n",
    "\n",
    "\n",
    "# O que significa esse comando abaixo ?\n",
    "# Quer dizer que para cada valor no intervalo \"range\" entre \"0 e 12\" será calculado a potência desse valor.\n",
    "# Vale lembrar que o intervalor \"range(0, 13)\" vai até o 12, pois o valor 13 é excluir no intervalo.\n",
    "# Ou seja, o valor 13 não aparece no cálculo.\n",
    "list_comprehension_2 = [x ** 2 for x in range(0, 13)]"
   ]
  },
  {
   "cell_type": "code",
   "execution_count": 14,
   "id": "dfa10fde",
   "metadata": {},
   "outputs": [
    {
     "name": "stdout",
     "output_type": "stream",
     "text": [
      "[0, 1, 4, 9, 16, 25, 36, 49, 64, 81, 100, 121, 144]\n"
     ]
    }
   ],
   "source": [
    "# Agora iremos testar a list comprehension.\n",
    "\n",
    "print(list_comprehension_2)"
   ]
  },
  {
   "cell_type": "code",
   "execution_count": 19,
   "id": "efc793d4",
   "metadata": {},
   "outputs": [],
   "source": [
    "# Agora vamos criar outra lista comprehension um pouco mais complexa.\n",
    "# Vamos verificar os números pares em um intervalo \"range\" de valores.\n",
    "\n",
    "# O que significa esse comando abaixo \n",
    "# Quer dizer que para valor no intervalo \"range\" de 12 e se a divisão resultar \"módulo\" em 0, então o valor é impresso.\n",
    "# Notar que se o resultado for 0, então indica também que um número é par.\n",
    "# Essa é uma maneira de verificar se um número é par.\n",
    "list_comprehension_3 = [x for x in range(12) if x % 2 == 0] "
   ]
  },
  {
   "cell_type": "code",
   "execution_count": 20,
   "id": "773ba8e2",
   "metadata": {},
   "outputs": [
    {
     "name": "stdout",
     "output_type": "stream",
     "text": [
      "[0, 2, 4, 6, 8, 10]\n"
     ]
    }
   ],
   "source": [
    "# Agora iremos testar a list comprehension.\n",
    "\n",
    "print(list_comprehension_3)"
   ]
  },
  {
   "cell_type": "code",
   "execution_count": null,
   "id": "7ae02818",
   "metadata": {},
   "outputs": [],
   "source": []
  },
  {
   "cell_type": "code",
   "execution_count": null,
   "id": "72e13820",
   "metadata": {},
   "outputs": [],
   "source": []
  },
  {
   "cell_type": "code",
   "execution_count": null,
   "id": "6c2cdc00",
   "metadata": {},
   "outputs": [],
   "source": []
  },
  {
   "cell_type": "code",
   "execution_count": null,
   "id": "c1c0f3fb",
   "metadata": {},
   "outputs": [],
   "source": []
  },
  {
   "cell_type": "code",
   "execution_count": null,
   "id": "5b84e9fe",
   "metadata": {},
   "outputs": [],
   "source": []
  },
  {
   "cell_type": "code",
   "execution_count": null,
   "id": "6a9f4288",
   "metadata": {},
   "outputs": [],
   "source": []
  },
  {
   "cell_type": "code",
   "execution_count": null,
   "id": "2e64c59b",
   "metadata": {},
   "outputs": [],
   "source": []
  },
  {
   "cell_type": "markdown",
   "id": "2b19000f",
   "metadata": {},
   "source": [
    "# Fim"
   ]
  },
  {
   "cell_type": "markdown",
   "id": "7ee3afe9",
   "metadata": {},
   "source": [
    "### Obrigado\n",
    "\n",
    "### Visite o Blog da Data Science Academy - <a href=\"http://blog.dsacademy.com.br\">Blog DSA</a>"
   ]
  }
 ],
 "metadata": {
  "kernelspec": {
   "display_name": "Python 3 (ipykernel)",
   "language": "python",
   "name": "python3"
  },
  "language_info": {
   "codemirror_mode": {
    "name": "ipython",
    "version": 3
   },
   "file_extension": ".py",
   "mimetype": "text/x-python",
   "name": "python",
   "nbconvert_exporter": "python",
   "pygments_lexer": "ipython3",
   "version": "3.9.12"
  }
 },
 "nbformat": 4,
 "nbformat_minor": 5
}
