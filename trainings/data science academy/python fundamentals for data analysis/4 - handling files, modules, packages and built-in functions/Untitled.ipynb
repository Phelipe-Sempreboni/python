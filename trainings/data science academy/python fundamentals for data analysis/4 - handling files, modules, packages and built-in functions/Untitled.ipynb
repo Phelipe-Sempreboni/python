{
 "cells": [
  {
   "cell_type": "markdown",
   "id": "3836f0c7",
   "metadata": {},
   "source": [
    "# <font color='blue'>Data Science Academy - Python Fundamentos - Capítulo 4</font>\n",
    "\n",
    "## Download: http://github.com/dsacademybr"
   ]
  },
  {
   "cell_type": "markdown",
   "id": "5c59854e",
   "metadata": {},
   "source": [
    "### List Comprehension"
   ]
  },
  {
   "cell_type": "code",
   "execution_count": 10,
   "id": "714659b9",
   "metadata": {},
   "outputs": [],
   "source": [
    "# Vamos começar criando uma list comprehension com o comando abaixo.\n",
    "# Notar que este tipo de utilização é um loop for em uma única linha de comando.\n",
    "\n",
    "# O que significa esse comando abaixo ?\n",
    "# Quer dizer que para cada \"x\" na string \"python\", comando irá retornar um \"x\".\n",
    "# Isso quer dizer que irá retornar cada string separada, ou seja, somente letras realmente.\n",
    "list_comprehension_1 = [x for x in 'python']"
   ]
  },
  {
   "cell_type": "code",
   "execution_count": 11,
   "id": "1516c30b",
   "metadata": {},
   "outputs": [
    {
     "name": "stdout",
     "output_type": "stream",
     "text": [
      "['p', 'y', 't', 'h', 'o', 'n']\n"
     ]
    }
   ],
   "source": [
    "# Agora iremos testar a list comprehension.\n",
    "# Notar que retornamos somente as letras.\n",
    "# Notar que é um loop for em uma única linha de comando.\n",
    "\n",
    "print(list_comprehension_1)"
   ]
  },
  {
   "cell_type": "code",
   "execution_count": 12,
   "id": "88b194b2",
   "metadata": {},
   "outputs": [],
   "source": [
    "# Agora vamos criar outra list comprehension.\n",
    "# Neste caso iremos calcular a potência de um valor em um determinado intervalo de valores.\n",
    "# Notar que aqui iremos utilizar mais alguns conceitos para gerar essa list comprehension\n",
    "\n",
    "\n",
    "# O que significa esse comando abaixo ?\n",
    "# Quer dizer que para cada valor no intervalo \"range\" entre \"0 e 12\" será calculado a potência desse valor.\n",
    "# Vale lembrar que o intervalor \"range(0, 13)\" vai até o 12, pois o valor 13 é excluir no intervalo.\n",
    "# Ou seja, o valor 13 não aparece no cálculo.\n",
    "list_comprehension_2 = [x ** 2 for x in range(0, 13)]"
   ]
  },
  {
   "cell_type": "code",
   "execution_count": 14,
   "id": "9034d4cc",
   "metadata": {},
   "outputs": [
    {
     "name": "stdout",
     "output_type": "stream",
     "text": [
      "[0, 1, 4, 9, 16, 25, 36, 49, 64, 81, 100, 121, 144]\n"
     ]
    }
   ],
   "source": [
    "# Agora iremos testar a list comprehension\n",
    "\n",
    "print(list_comprehension_2)"
   ]
  },
  {
   "cell_type": "code",
   "execution_count": 19,
   "id": "1eddc656",
   "metadata": {},
   "outputs": [],
   "source": [
    "# Agora vamos criar outra list comprehension um pouco mais complexa.\n",
    "# Vamos verificar os números pares em um intervalo \"range\" de valores.\n",
    "\n",
    "# O que significa esse comando abaixo ?\n",
    "# Quer dizer que para valor no intervalo \"range\" de 12 e se a divisão resultar \"módulo\" em 0, então o valor é impresso.\n",
    "# Notar que se o resultado for 0, então indica também que um número é par.\n",
    "# Essa é uma maneira de verificar se um número é par.\n",
    "list_comprehension_3 = [x for x in range(12) if x % 2 == 0] "
   ]
  },
  {
   "cell_type": "code",
   "execution_count": 20,
   "id": "38749001",
   "metadata": {},
   "outputs": [
    {
     "name": "stdout",
     "output_type": "stream",
     "text": [
      "[0, 2, 4, 6, 8, 10]\n"
     ]
    }
   ],
   "source": [
    "# Agora iremos testar a list comprehension.\n",
    "\n",
    "print(list_comprehension_3)"
   ]
  },
  {
   "cell_type": "code",
   "execution_count": 26,
   "id": "b132da7e",
   "metadata": {},
   "outputs": [],
   "source": [
    "# Agora iremos criar outra list comprehension um pouco mais complexa.\n",
    "# Essa irá realizar a conversão de graus Celsius para Fahreneit.\n",
    "\n",
    "# Primeiro iremos criar uma lista com valores de graus Celsius.\n",
    "lista_celsius = [0, 10, 20.1, 34.]\n",
    "\n",
    "# Agora iremos criar uma list comprehension para realizar esse cálculo.\n",
    "\n",
    "# O que significa esse comando abaixo ?\n",
    "# Quer dizer que para cada temp \"temperatura\" localizada na variável \"lista_celsius\" será feita conversão para Fahreneit.\n",
    "list_comprehension_4 = [ ((float(9)/5) * temp + 32) for temp in lista_celsius ]\n",
    "\n",
    "# Vale notar que quanto mais você treinar este comando e suas variáveis de utilização, mais ficará familiar."
   ]
  },
  {
   "cell_type": "code",
   "execution_count": 27,
   "id": "dee181cd",
   "metadata": {},
   "outputs": [
    {
     "name": "stdout",
     "output_type": "stream",
     "text": [
      "[32.0, 50.0, 68.18, 93.2]\n"
     ]
    }
   ],
   "source": [
    "# Agora iremos testar a list comprehension.\n",
    "\n",
    "print(list_comprehension_4)"
   ]
  },
  {
   "cell_type": "code",
   "execution_count": 28,
   "id": "009173fd",
   "metadata": {},
   "outputs": [],
   "source": [
    "# Agora iremos criar outra list comprehension.\n",
    "# Essa irá realizar operações com números, mas de uma forma um pouco mais complexa.\n",
    "\n",
    "# O que significa esse comando abaixo ?\n",
    "list_comprehension_5 = [x ** 2 for x in [x ** 2 for x in range(13)]]"
   ]
  },
  {
   "cell_type": "code",
   "execution_count": null,
   "id": "880af56e",
   "metadata": {},
   "outputs": [],
   "source": []
  },
  {
   "cell_type": "code",
   "execution_count": null,
   "id": "006f5065",
   "metadata": {},
   "outputs": [],
   "source": []
  },
  {
   "cell_type": "markdown",
   "id": "e8015579",
   "metadata": {},
   "source": [
    "# Fim"
   ]
  },
  {
   "cell_type": "markdown",
   "id": "5ccbcf49",
   "metadata": {},
   "source": [
    "### Obrigado\n",
    "\n",
    "### Visite o Blog da Data Science Academy - <a href=\"http://blog.dsacademy.com.br\">Blog DSA</a>"
   ]
  }
 ],
 "metadata": {
  "kernelspec": {
   "display_name": "Python 3 (ipykernel)",
   "language": "python",
   "name": "python3"
  },
  "language_info": {
   "codemirror_mode": {
    "name": "ipython",
    "version": 3
   },
   "file_extension": ".py",
   "mimetype": "text/x-python",
   "name": "python",
   "nbconvert_exporter": "python",
   "pygments_lexer": "ipython3",
   "version": "3.9.12"
  }
 },
 "nbformat": 4,
 "nbformat_minor": 5
}
