{
 "cells": [
  {
   "cell_type": "markdown",
   "id": "058232a7",
   "metadata": {},
   "source": [
    "# Data Science Academy - Python Fundamentos - Capítulo 2\n",
    "\n",
    "## Download: http://github.com/dsacademybr"
   ]
  },
  {
   "cell_type": "markdown",
   "id": "7d069300",
   "metadata": {},
   "source": [
    "## Números e Operações matemáticas\n",
    "\n",
    "## Pressione as teclas shift e enter para executar o código em uma célula ou pressione o botão run no menu superior."
   ]
  },
  {
   "cell_type": "markdown",
   "id": "da2e20ad",
   "metadata": {},
   "source": [
    "#### Operações matemáticas convencionais"
   ]
  },
  {
   "cell_type": "code",
   "execution_count": 1,
   "id": "76cb67fe",
   "metadata": {},
   "outputs": [
    {
     "data": {
      "text/plain": [
       "8"
      ]
     },
     "execution_count": 1,
     "metadata": {},
     "output_type": "execute_result"
    }
   ],
   "source": [
    "# soma\n",
    "\n",
    "4 + 4"
   ]
  },
  {
   "cell_type": "code",
   "execution_count": 2,
   "id": "7ba85f6e",
   "metadata": {},
   "outputs": [
    {
     "data": {
      "text/plain": [
       "1"
      ]
     },
     "execution_count": 2,
     "metadata": {},
     "output_type": "execute_result"
    }
   ],
   "source": [
    "# Subtração\n",
    "\n",
    "4 - 3"
   ]
  },
  {
   "cell_type": "code",
   "execution_count": 3,
   "id": "123d0215",
   "metadata": {},
   "outputs": [
    {
     "data": {
      "text/plain": [
       "9"
      ]
     },
     "execution_count": 3,
     "metadata": {},
     "output_type": "execute_result"
    }
   ],
   "source": [
    "# Multiplicação\n",
    "\n",
    "3 * 3"
   ]
  },
  {
   "cell_type": "code",
   "execution_count": 4,
   "id": "068f4017",
   "metadata": {},
   "outputs": [
    {
     "data": {
      "text/plain": [
       "1.5"
      ]
     },
     "execution_count": 4,
     "metadata": {},
     "output_type": "execute_result"
    }
   ],
   "source": [
    "# Divisão\n",
    "\n",
    "3 / 2"
   ]
  },
  {
   "cell_type": "code",
   "execution_count": 5,
   "id": "899c6da0",
   "metadata": {},
   "outputs": [
    {
     "data": {
      "text/plain": [
       "16"
      ]
     },
     "execution_count": 5,
     "metadata": {},
     "output_type": "execute_result"
    }
   ],
   "source": [
    "# Potência\n",
    "\n",
    "4 ** 2"
   ]
  },
  {
   "cell_type": "code",
   "execution_count": 7,
   "id": "fe0f962a",
   "metadata": {},
   "outputs": [
    {
     "data": {
      "text/plain": [
       "1"
      ]
     },
     "execution_count": 7,
     "metadata": {},
     "output_type": "execute_result"
    }
   ],
   "source": [
    "# Módulo\n",
    "\n",
    "10 % 3"
   ]
  },
  {
   "cell_type": "markdown",
   "id": "a3487d14",
   "metadata": {},
   "source": [
    "#### Função Type"
   ]
  },
  {
   "cell_type": "code",
   "execution_count": 9,
   "id": "cfc7199c",
   "metadata": {},
   "outputs": [
    {
     "data": {
      "text/plain": [
       "int"
      ]
     },
     "execution_count": 9,
     "metadata": {},
     "output_type": "execute_result"
    }
   ],
   "source": [
    "type(5)"
   ]
  },
  {
   "cell_type": "code",
   "execution_count": 10,
   "id": "4dd7c43b",
   "metadata": {},
   "outputs": [
    {
     "data": {
      "text/plain": [
       "float"
      ]
     },
     "execution_count": 10,
     "metadata": {},
     "output_type": "execute_result"
    }
   ],
   "source": [
    "type(5.0)"
   ]
  },
  {
   "cell_type": "code",
   "execution_count": 11,
   "id": "8c9cd190",
   "metadata": {},
   "outputs": [
    {
     "data": {
      "text/plain": [
       "str"
      ]
     },
     "execution_count": 11,
     "metadata": {},
     "output_type": "execute_result"
    }
   ],
   "source": [
    "a = 'Eu sou uma string'\n",
    "\n",
    "type(a)"
   ]
  },
  {
   "cell_type": "markdown",
   "id": "33901f5b",
   "metadata": {},
   "source": [
    "#### Operações com números float"
   ]
  },
  {
   "cell_type": "code",
   "execution_count": 12,
   "id": "fe5882a5",
   "metadata": {},
   "outputs": [
    {
     "data": {
      "text/plain": [
       "9.5"
      ]
     },
     "execution_count": 12,
     "metadata": {},
     "output_type": "execute_result"
    }
   ],
   "source": [
    "3.1 + 6.4"
   ]
  },
  {
   "cell_type": "code",
   "execution_count": 13,
   "id": "992a0f19",
   "metadata": {},
   "outputs": [
    {
     "data": {
      "text/plain": [
       "8.0"
      ]
     },
     "execution_count": 13,
     "metadata": {},
     "output_type": "execute_result"
    }
   ],
   "source": [
    "4 + 4.0"
   ]
  },
  {
   "cell_type": "code",
   "execution_count": 14,
   "id": "a1e36d25",
   "metadata": {},
   "outputs": [
    {
     "data": {
      "text/plain": [
       "8"
      ]
     },
     "execution_count": 14,
     "metadata": {},
     "output_type": "execute_result"
    }
   ],
   "source": [
    "4 + 4"
   ]
  },
  {
   "cell_type": "code",
   "execution_count": 15,
   "id": "aa5befd0",
   "metadata": {},
   "outputs": [
    {
     "data": {
      "text/plain": [
       "2.0"
      ]
     },
     "execution_count": 15,
     "metadata": {},
     "output_type": "execute_result"
    }
   ],
   "source": [
    "# Resultado é um número float\n",
    "\n",
    "4 / 2"
   ]
  },
  {
   "cell_type": "code",
   "execution_count": 16,
   "id": "3263b046",
   "metadata": {},
   "outputs": [
    {
     "data": {
      "text/plain": [
       "2"
      ]
     },
     "execution_count": 16,
     "metadata": {},
     "output_type": "execute_result"
    }
   ],
   "source": [
    "# Resultado é um número inteiro\n",
    "\n",
    "4 // 2"
   ]
  },
  {
   "cell_type": "code",
   "execution_count": 17,
   "id": "0656deb0",
   "metadata": {},
   "outputs": [
    {
     "data": {
      "text/plain": [
       "1.3333333333333333"
      ]
     },
     "execution_count": 17,
     "metadata": {},
     "output_type": "execute_result"
    }
   ],
   "source": [
    "4 / 3.0"
   ]
  },
  {
   "cell_type": "code",
   "execution_count": 18,
   "id": "a7e299c0",
   "metadata": {},
   "outputs": [
    {
     "data": {
      "text/plain": [
       "1.0"
      ]
     },
     "execution_count": 18,
     "metadata": {},
     "output_type": "execute_result"
    }
   ],
   "source": [
    "4 // 3.0"
   ]
  },
  {
   "cell_type": "markdown",
   "id": "b53700e9",
   "metadata": {},
   "source": [
    "#### Conversão"
   ]
  },
  {
   "cell_type": "code",
   "execution_count": 19,
   "id": "e9335dda",
   "metadata": {},
   "outputs": [
    {
     "data": {
      "text/plain": [
       "9.0"
      ]
     },
     "execution_count": 19,
     "metadata": {},
     "output_type": "execute_result"
    }
   ],
   "source": [
    "float(9)"
   ]
  },
  {
   "cell_type": "code",
   "execution_count": 20,
   "id": "d9f3208b",
   "metadata": {},
   "outputs": [
    {
     "data": {
      "text/plain": [
       "6"
      ]
     },
     "execution_count": 20,
     "metadata": {},
     "output_type": "execute_result"
    }
   ],
   "source": [
    "int(6.0)"
   ]
  },
  {
   "cell_type": "code",
   "execution_count": 21,
   "id": "84b29d81",
   "metadata": {},
   "outputs": [
    {
     "data": {
      "text/plain": [
       "6"
      ]
     },
     "execution_count": 21,
     "metadata": {},
     "output_type": "execute_result"
    }
   ],
   "source": [
    "int(6.5)"
   ]
  },
  {
   "cell_type": "markdown",
   "id": "dde0cdd4",
   "metadata": {},
   "source": [
    "#### Hexadecimal e Binário"
   ]
  },
  {
   "cell_type": "code",
   "execution_count": 22,
   "id": "a091a2a6",
   "metadata": {},
   "outputs": [
    {
     "data": {
      "text/plain": [
       "8"
      ]
     },
     "execution_count": 22,
     "metadata": {},
     "output_type": "execute_result"
    }
   ],
   "source": [
    "# Retorna o valor absoluto\n",
    "\n",
    "abs(-8)"
   ]
  },
  {
   "cell_type": "code",
   "execution_count": 23,
   "id": "2ad9bbd6",
   "metadata": {},
   "outputs": [
    {
     "data": {
      "text/plain": [
       "8"
      ]
     },
     "execution_count": 23,
     "metadata": {},
     "output_type": "execute_result"
    }
   ],
   "source": [
    "# Retorna o valor absoluto\n",
    "\n",
    "abs(8)"
   ]
  },
  {
   "cell_type": "code",
   "execution_count": 24,
   "id": "a57c1e13",
   "metadata": {},
   "outputs": [
    {
     "data": {
      "text/plain": [
       "3.14"
      ]
     },
     "execution_count": 24,
     "metadata": {},
     "output_type": "execute_result"
    }
   ],
   "source": [
    "# Retorna o valor com arredondamento\n",
    "\n",
    "round(3.14151922,2)"
   ]
  },
  {
   "cell_type": "code",
   "execution_count": 25,
   "id": "ca9a7a55",
   "metadata": {},
   "outputs": [
    {
     "data": {
      "text/plain": [
       "16"
      ]
     },
     "execution_count": 25,
     "metadata": {},
     "output_type": "execute_result"
    }
   ],
   "source": [
    "# Potência\n",
    "\n",
    "pow(4,2)"
   ]
  },
  {
   "cell_type": "code",
   "execution_count": 26,
   "id": "985f2435",
   "metadata": {},
   "outputs": [
    {
     "data": {
      "text/plain": [
       "125"
      ]
     },
     "execution_count": 26,
     "metadata": {},
     "output_type": "execute_result"
    }
   ],
   "source": [
    "# Potência\n",
    "\n",
    "pow(5,3)"
   ]
  },
  {
   "cell_type": "markdown",
   "id": "ed47ad9f",
   "metadata": {},
   "source": [
    "## Fim\n",
    "\n",
    "### Obrigado  - Data Science Academy - facebook.com/dsacademybr"
   ]
  }
 ],
 "metadata": {
  "kernelspec": {
   "display_name": "Python 3 (ipykernel)",
   "language": "python",
   "name": "python3"
  },
  "language_info": {
   "codemirror_mode": {
    "name": "ipython",
    "version": 3
   },
   "file_extension": ".py",
   "mimetype": "text/x-python",
   "name": "python",
   "nbconvert_exporter": "python",
   "pygments_lexer": "ipython3",
   "version": "3.9.7"
  }
 },
 "nbformat": 4,
 "nbformat_minor": 5
}
