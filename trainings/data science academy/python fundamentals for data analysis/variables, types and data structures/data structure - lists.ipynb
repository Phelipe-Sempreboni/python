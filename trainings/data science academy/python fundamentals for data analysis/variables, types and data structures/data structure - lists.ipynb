{
 "cells": [
  {
   "cell_type": "markdown",
   "id": "f6356c82",
   "metadata": {},
   "source": [
    "# Data Science Academy - Python Fundamentos - Capítulo 2\n",
    "\n",
    "## Download: http://github.com/dsacademybr"
   ]
  },
  {
   "cell_type": "markdown",
   "id": "65da5675",
   "metadata": {},
   "source": [
    "### Listas"
   ]
  },
  {
   "cell_type": "code",
   "execution_count": 1,
   "id": "9fbfd111",
   "metadata": {},
   "outputs": [],
   "source": [
    "# Criando uma lista\n",
    "listamercado = ['ovos, farinha, leite, maçãs']"
   ]
  },
  {
   "cell_type": "code",
   "execution_count": 2,
   "id": "300e65d7",
   "metadata": {},
   "outputs": [
    {
     "data": {
      "text/plain": [
       "['ovos, farinha, leite, maçãs']"
      ]
     },
     "execution_count": 2,
     "metadata": {},
     "output_type": "execute_result"
    }
   ],
   "source": [
    "# Imprimindo a lista\n",
    "listamercado"
   ]
  },
  {
   "cell_type": "code",
   "execution_count": 14,
   "id": "e753bb17",
   "metadata": {},
   "outputs": [],
   "source": [
    "# Criando uma lista\n",
    "listamercado2 = ['ovos', 'farinha', 'leite', 'maças']"
   ]
  },
  {
   "cell_type": "code",
   "execution_count": 4,
   "id": "b8daa26f",
   "metadata": {},
   "outputs": [
    {
     "data": {
      "text/plain": [
       "['ovos', 'farinha', 'leite', 'maças']"
      ]
     },
     "execution_count": 4,
     "metadata": {},
     "output_type": "execute_result"
    }
   ],
   "source": [
    "# Imprimindo a lista\n",
    "listamercado2"
   ]
  },
  {
   "cell_type": "code",
   "execution_count": 5,
   "id": "5333801b",
   "metadata": {},
   "outputs": [
    {
     "data": {
      "text/plain": [
       "'ovos, farinha, leite, maçãs'"
      ]
     },
     "execution_count": 5,
     "metadata": {},
     "output_type": "execute_result"
    }
   ],
   "source": [
    "# Imprimindo o elemento do índice 0 da listamercado.\n",
    "listamercado[0]"
   ]
  },
  {
   "cell_type": "code",
   "execution_count": 6,
   "id": "06af0fbb",
   "metadata": {},
   "outputs": [
    {
     "data": {
      "text/plain": [
       "'ovos'"
      ]
     },
     "execution_count": 6,
     "metadata": {},
     "output_type": "execute_result"
    }
   ],
   "source": [
    "# Imprimindo o elemento do índice 0 da listamercado2.\n",
    "listamercado2[0]"
   ]
  },
  {
   "cell_type": "code",
   "execution_count": 7,
   "id": "b29ee103",
   "metadata": {},
   "outputs": [],
   "source": [
    "# Criando uma lista\n",
    "lista3 = [12, 100, 'Universidade']"
   ]
  },
  {
   "cell_type": "code",
   "execution_count": 8,
   "id": "b779c417",
   "metadata": {},
   "outputs": [
    {
     "name": "stdout",
     "output_type": "stream",
     "text": [
      "[12, 100, 'Universidade']\n"
     ]
    }
   ],
   "source": [
    "# Imprimindo a lista3\n",
    "print(lista3)"
   ]
  },
  {
   "cell_type": "code",
   "execution_count": 9,
   "id": "6a671526",
   "metadata": {},
   "outputs": [],
   "source": [
    "# Atribuindo cada valor da lista3 a uma variável\n",
    "item1 = lista3[0]\n",
    "item2 = lista3[1]\n",
    "item3 = lista3[2]"
   ]
  },
  {
   "cell_type": "code",
   "execution_count": 10,
   "id": "758c433a",
   "metadata": {},
   "outputs": [
    {
     "name": "stdout",
     "output_type": "stream",
     "text": [
      "12 100 Universidade\n"
     ]
    }
   ],
   "source": [
    "# Imprimindo as variáveis da lista\n",
    "print(item1, item2, item3)"
   ]
  },
  {
   "cell_type": "markdown",
   "id": "a8c84536",
   "metadata": {},
   "source": [
    "### Atualizando um item da lista"
   ]
  },
  {
   "cell_type": "code",
   "execution_count": 15,
   "id": "9b29276f",
   "metadata": {},
   "outputs": [
    {
     "data": {
      "text/plain": [
       "'leite'"
      ]
     },
     "execution_count": 15,
     "metadata": {},
     "output_type": "execute_result"
    }
   ],
   "source": [
    "# Imprimindo um item da lista\n",
    "listamercado2[2]"
   ]
  },
  {
   "cell_type": "code",
   "execution_count": 16,
   "id": "4e6a3e5a",
   "metadata": {},
   "outputs": [],
   "source": [
    "# Atualizando um item da lista\n",
    "listamercado2[2] = 'chocolate'"
   ]
  },
  {
   "cell_type": "code",
   "execution_count": 17,
   "id": "c6e089b7",
   "metadata": {},
   "outputs": [
    {
     "data": {
      "text/plain": [
       "['ovos', 'farinha', 'chocolate', 'maças']"
      ]
     },
     "execution_count": 17,
     "metadata": {},
     "output_type": "execute_result"
    }
   ],
   "source": [
    "# Imprimindo a lista com a alteração\n",
    "listamercado2"
   ]
  },
  {
   "cell_type": "markdown",
   "id": "fa39c07a",
   "metadata": {},
   "source": [
    "### Deletando um item da lista"
   ]
  },
  {
   "cell_type": "code",
   "execution_count": 18,
   "id": "e55283cd",
   "metadata": {},
   "outputs": [
    {
     "ename": "IndexError",
     "evalue": "list assignment index out of range",
     "output_type": "error",
     "traceback": [
      "\u001b[1;31m---------------------------------------------------------------------------\u001b[0m",
      "\u001b[1;31mIndexError\u001b[0m                                Traceback (most recent call last)",
      "\u001b[1;32m~\\AppData\\Local\\Temp/ipykernel_452/40770432.py\u001b[0m in \u001b[0;36m<module>\u001b[1;34m\u001b[0m\n\u001b[0;32m      1\u001b[0m \u001b[1;31m# Caso com erro: 'Out of index'. Não é possível deletar um item que não existe na lista\u001b[0m\u001b[1;33m\u001b[0m\u001b[1;33m\u001b[0m\u001b[0m\n\u001b[1;32m----> 2\u001b[1;33m \u001b[1;32mdel\u001b[0m \u001b[0mlistamercado\u001b[0m\u001b[1;33m[\u001b[0m\u001b[1;36m4\u001b[0m\u001b[1;33m]\u001b[0m\u001b[1;33m\u001b[0m\u001b[1;33m\u001b[0m\u001b[0m\n\u001b[0m",
      "\u001b[1;31mIndexError\u001b[0m: list assignment index out of range"
     ]
    }
   ],
   "source": [
    "# Caso com erro: 'Out of index'. Não é possível deletar um item que não existe na lista\n",
    "del listamercado[4]"
   ]
  },
  {
   "cell_type": "code",
   "execution_count": 19,
   "id": "670519b6",
   "metadata": {},
   "outputs": [],
   "source": [
    "# Deletando um item especifico da lista\n",
    "del listamercado2[3]"
   ]
  },
  {
   "cell_type": "code",
   "execution_count": 21,
   "id": "126401ab",
   "metadata": {},
   "outputs": [
    {
     "data": {
      "text/plain": [
       "['ovos', 'farinha', 'chocolate']"
      ]
     },
     "execution_count": 21,
     "metadata": {},
     "output_type": "execute_result"
    }
   ],
   "source": [
    "# Imprimindo a lista com o item deletado, que no caso, o item deletado foi 'maçãs'\n",
    "listamercado2"
   ]
  },
  {
   "cell_type": "markdown",
   "id": "36cc51ed",
   "metadata": {},
   "source": [
    "### Listas de listas (Listas aninhadas)\n",
    "\n",
    "#### Listas de listas são matrizes em Python"
   ]
  },
  {
   "cell_type": "code",
   "execution_count": 1,
   "id": "358f3bb1",
   "metadata": {},
   "outputs": [],
   "source": [
    "# Criando uma lista de listas\n",
    "listas = [[1,2,3], [10,15,14], [10.1,8.7,2.3]]"
   ]
  },
  {
   "cell_type": "code",
   "execution_count": 2,
   "id": "3e55e273",
   "metadata": {},
   "outputs": [
    {
     "data": {
      "text/plain": [
       "[[1, 2, 3], [10, 15, 14], [10.1, 8.7, 2.3]]"
      ]
     },
     "execution_count": 2,
     "metadata": {},
     "output_type": "execute_result"
    }
   ],
   "source": [
    "# Imprimindo a lista\n",
    "listas"
   ]
  },
  {
   "cell_type": "code",
   "execution_count": 9,
   "id": "7ed66bea",
   "metadata": {},
   "outputs": [],
   "source": [
    "# Atribuindo um item da lista a uma variável, no caso, o índice 0, que neste caso será a primeira lista dentro da lista\n",
    "a = listas[0]"
   ]
  },
  {
   "cell_type": "code",
   "execution_count": 10,
   "id": "0f27362a",
   "metadata": {},
   "outputs": [
    {
     "data": {
      "text/plain": [
       "[1, 2, 3]"
      ]
     },
     "execution_count": 10,
     "metadata": {},
     "output_type": "execute_result"
    }
   ],
   "source": [
    "# Imprimindo a variável a\n",
    "a"
   ]
  },
  {
   "cell_type": "code",
   "execution_count": 16,
   "id": "e4ab85cb",
   "metadata": {},
   "outputs": [],
   "source": [
    "# Atribuindo um item da lista a uma variável, que no caso, está recebendo os valores da variável a.\n",
    "# Está sendo feito um slicing, ou seja, conseguindo dividir elementos da lista geral, em listas menores, até valores unitários\n",
    "b = a[0]"
   ]
  },
  {
   "cell_type": "code",
   "execution_count": 17,
   "id": "20ec6d35",
   "metadata": {},
   "outputs": [
    {
     "data": {
      "text/plain": [
       "1"
      ]
     },
     "execution_count": 17,
     "metadata": {},
     "output_type": "execute_result"
    }
   ],
   "source": [
    "# Imprimindo a variável b\n",
    "b"
   ]
  },
  {
   "cell_type": "code",
   "execution_count": 20,
   "id": "d2eac137",
   "metadata": {},
   "outputs": [],
   "source": [
    "# Atribuindo um item da lista a uma variável, onde esse item, é a o índice 1 da lista geral\n",
    "list1 = listas[1]"
   ]
  },
  {
   "cell_type": "code",
   "execution_count": 21,
   "id": "1c576b74",
   "metadata": {},
   "outputs": [
    {
     "data": {
      "text/plain": [
       "[10, 15, 14]"
      ]
     },
     "execution_count": 21,
     "metadata": {},
     "output_type": "execute_result"
    }
   ],
   "source": [
    "# Imprimindo a lista\n",
    "list1"
   ]
  },
  {
   "cell_type": "code",
   "execution_count": 24,
   "id": "2d877d85",
   "metadata": {},
   "outputs": [],
   "source": [
    "# Atribuindo um item a uma variável, onde esse item, é a do índice 0 da variável list1\n",
    "valor_1_0 = list1[0]"
   ]
  },
  {
   "cell_type": "code",
   "execution_count": 26,
   "id": "faa5e0a9",
   "metadata": {},
   "outputs": [
    {
     "data": {
      "text/plain": [
       "10"
      ]
     },
     "execution_count": 26,
     "metadata": {},
     "output_type": "execute_result"
    }
   ],
   "source": [
    "# Imprimindo a lista\n",
    "valor_1_0"
   ]
  },
  {
   "cell_type": "code",
   "execution_count": 29,
   "id": "4e6ff6d8",
   "metadata": {},
   "outputs": [],
   "source": [
    "# Atribuindo um item a uma variável, onde esse item, é a do índice 2 da variável list1\n",
    "valor_1_2 = list1[2]"
   ]
  },
  {
   "cell_type": "code",
   "execution_count": 30,
   "id": "44488a3b",
   "metadata": {},
   "outputs": [
    {
     "data": {
      "text/plain": [
       "14"
      ]
     },
     "execution_count": 30,
     "metadata": {},
     "output_type": "execute_result"
    }
   ],
   "source": [
    "# Imprimindo a lista\n",
    "valor_1_2"
   ]
  },
  {
   "cell_type": "code",
   "execution_count": 31,
   "id": "d13a2b85",
   "metadata": {},
   "outputs": [],
   "source": [
    "# Atribuindo um item da lista a uma variável, onde esse item, é a o índice 2 da lista geral\n",
    "list2 = listas[2]"
   ]
  },
  {
   "cell_type": "code",
   "execution_count": 33,
   "id": "82815029",
   "metadata": {},
   "outputs": [
    {
     "data": {
      "text/plain": [
       "[10.1, 8.7, 2.3]"
      ]
     },
     "execution_count": 33,
     "metadata": {},
     "output_type": "execute_result"
    }
   ],
   "source": [
    "# Imprimindo a lista\n",
    "list2"
   ]
  },
  {
   "cell_type": "code",
   "execution_count": 36,
   "id": "3e82e1ed",
   "metadata": {},
   "outputs": [],
   "source": [
    "# Atribuindo um item a uma variável, onde esse item, é a do índice 0 da variável list2\n",
    "valor_2_o = list2[0]"
   ]
  },
  {
   "cell_type": "code",
   "execution_count": 37,
   "id": "62a1a573",
   "metadata": {},
   "outputs": [
    {
     "data": {
      "text/plain": [
       "10.1"
      ]
     },
     "execution_count": 37,
     "metadata": {},
     "output_type": "execute_result"
    }
   ],
   "source": [
    "# Imprimindo a lista\n",
    "valor_2_o"
   ]
  },
  {
   "cell_type": "markdown",
   "id": "70c6b233",
   "metadata": {},
   "source": [
    "### Operações com listas"
   ]
  },
  {
   "cell_type": "code",
   "execution_count": null,
   "id": "7edf2972",
   "metadata": {},
   "outputs": [],
   "source": []
  },
  {
   "cell_type": "code",
   "execution_count": null,
   "id": "d16c1a3e",
   "metadata": {},
   "outputs": [],
   "source": []
  },
  {
   "cell_type": "code",
   "execution_count": null,
   "id": "b55acebc",
   "metadata": {},
   "outputs": [],
   "source": []
  },
  {
   "cell_type": "code",
   "execution_count": null,
   "id": "08d2acce",
   "metadata": {},
   "outputs": [],
   "source": []
  },
  {
   "cell_type": "code",
   "execution_count": null,
   "id": "0d2db80f",
   "metadata": {},
   "outputs": [],
   "source": []
  },
  {
   "cell_type": "code",
   "execution_count": null,
   "id": "3ad3e843",
   "metadata": {},
   "outputs": [],
   "source": []
  },
  {
   "cell_type": "code",
   "execution_count": null,
   "id": "a73437cf",
   "metadata": {},
   "outputs": [],
   "source": []
  },
  {
   "cell_type": "code",
   "execution_count": null,
   "id": "320e557c",
   "metadata": {},
   "outputs": [],
   "source": []
  },
  {
   "cell_type": "code",
   "execution_count": null,
   "id": "f84d8801",
   "metadata": {},
   "outputs": [],
   "source": []
  },
  {
   "cell_type": "code",
   "execution_count": null,
   "id": "7ccf8dde",
   "metadata": {},
   "outputs": [],
   "source": []
  },
  {
   "cell_type": "code",
   "execution_count": null,
   "id": "435e52a1",
   "metadata": {},
   "outputs": [],
   "source": []
  },
  {
   "cell_type": "code",
   "execution_count": null,
   "id": "47f3d0ed",
   "metadata": {},
   "outputs": [],
   "source": []
  },
  {
   "cell_type": "code",
   "execution_count": null,
   "id": "c992af0b",
   "metadata": {},
   "outputs": [],
   "source": []
  }
 ],
 "metadata": {
  "kernelspec": {
   "display_name": "Python 3 (ipykernel)",
   "language": "python",
   "name": "python3"
  },
  "language_info": {
   "codemirror_mode": {
    "name": "ipython",
    "version": 3
   },
   "file_extension": ".py",
   "mimetype": "text/x-python",
   "name": "python",
   "nbconvert_exporter": "python",
   "pygments_lexer": "ipython3",
   "version": "3.9.7"
  }
 },
 "nbformat": 4,
 "nbformat_minor": 5
}
