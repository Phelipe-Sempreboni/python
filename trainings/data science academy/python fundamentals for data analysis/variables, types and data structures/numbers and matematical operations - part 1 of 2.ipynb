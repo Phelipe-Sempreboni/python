{
 "cells": [
  {
   "cell_type": "markdown",
   "id": "058232a7",
   "metadata": {},
   "source": [
    "# Data Science Academy - Python Fundamentos - Capítulo 2\n",
    "\n",
    "## Download: http://github.com/dsacademybr"
   ]
  },
  {
   "cell_type": "markdown",
   "id": "7d069300",
   "metadata": {},
   "source": [
    "## Números e Operações matemáticas\n",
    "\n",
    "## Pressione as teclas shift e enter para executar o código em uma célula ou pressione o botão run no menu superior."
   ]
  },
  {
   "cell_type": "code",
   "execution_count": null,
   "id": "b28352e4",
   "metadata": {},
   "outputs": [],
   "source": []
  }
 ],
 "metadata": {
  "kernelspec": {
   "display_name": "Python 3 (ipykernel)",
   "language": "python",
   "name": "python3"
  },
  "language_info": {
   "codemirror_mode": {
    "name": "ipython",
    "version": 3
   },
   "file_extension": ".py",
   "mimetype": "text/x-python",
   "name": "python",
   "nbconvert_exporter": "python",
   "pygments_lexer": "ipython3",
   "version": "3.9.7"
  }
 },
 "nbformat": 4,
 "nbformat_minor": 5
}
